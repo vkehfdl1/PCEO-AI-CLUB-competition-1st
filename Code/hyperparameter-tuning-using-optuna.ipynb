{
 "cells": [
  {
   "cell_type": "markdown",
   "id": "0e25d984",
   "metadata": {
    "papermill": {
     "duration": 0.019749,
     "end_time": "2021-08-31T12:52:15.795890",
     "exception": false,
     "start_time": "2021-08-31T12:52:15.776141",
     "status": "completed"
    },
    "tags": []
   },
   "source": [
    "# Hyperparameter Tuning using Optuna\n",
    "\n",
    "optuna라는 라이브러리를 이용하여 손쉽게 Hyperparameter를 최적화 할 수 있습니다. objective 함수에서 모델과 그 모델에 맞는 하이퍼 파라미터만 수정해주면 Xgboost가 아닌 다른 모델들도 실험해 볼 수 있습니다. "
   ]
  },
  {
   "cell_type": "markdown",
   "id": "6785ac78",
   "metadata": {
    "papermill": {
     "duration": 0.018442,
     "end_time": "2021-08-31T12:52:15.833309",
     "exception": false,
     "start_time": "2021-08-31T12:52:15.814867",
     "status": "completed"
    },
    "tags": []
   },
   "source": [
    "### 데이터 및 라이브러리 로드"
   ]
  },
  {
   "cell_type": "code",
   "execution_count": 1,
   "id": "1851961e",
   "metadata": {
    "_cell_guid": "b1076dfc-b9ad-4769-8c92-a6c4dae69d19",
    "_uuid": "8f2839f25d086af736a60e9eeb907d3b93b6e0e5",
    "execution": {
     "iopub.execute_input": "2021-08-31T12:52:15.883094Z",
     "iopub.status.busy": "2021-08-31T12:52:15.882516Z",
     "iopub.status.idle": "2021-08-31T12:52:19.005383Z",
     "shell.execute_reply": "2021-08-31T12:52:19.004458Z",
     "shell.execute_reply.started": "2021-08-31T12:41:54.631546Z"
    },
    "papermill": {
     "duration": 3.153318,
     "end_time": "2021-08-31T12:52:19.005540",
     "exception": false,
     "start_time": "2021-08-31T12:52:15.852222",
     "status": "completed"
    },
    "tags": []
   },
   "outputs": [
    {
     "data": {
      "text/html": [
       "<style type='text/css'>\n",
       ".datatable table.frame { margin-bottom: 0; }\n",
       ".datatable table.frame thead { border-bottom: none; }\n",
       ".datatable table.frame tr.coltypes td {  color: #FFFFFF;  line-height: 6px;  padding: 0 0.5em;}\n",
       ".datatable .bool    { background: #DDDD99; }\n",
       ".datatable .object  { background: #565656; }\n",
       ".datatable .int     { background: #5D9E5D; }\n",
       ".datatable .float   { background: #4040CC; }\n",
       ".datatable .str     { background: #CC4040; }\n",
       ".datatable .time    { background: #40CC40; }\n",
       ".datatable .row_index {  background: var(--jp-border-color3);  border-right: 1px solid var(--jp-border-color0);  color: var(--jp-ui-font-color3);  font-size: 9px;}\n",
       ".datatable .frame tbody td { text-align: left; }\n",
       ".datatable .frame tr.coltypes .row_index {  background: var(--jp-border-color0);}\n",
       ".datatable th:nth-child(2) { padding-left: 12px; }\n",
       ".datatable .hellipsis {  color: var(--jp-cell-editor-border-color);}\n",
       ".datatable .vellipsis {  background: var(--jp-layout-color0);  color: var(--jp-cell-editor-border-color);}\n",
       ".datatable .na {  color: var(--jp-cell-editor-border-color);  font-size: 80%;}\n",
       ".datatable .sp {  opacity: 0.25;}\n",
       ".datatable .footer { font-size: 9px; }\n",
       ".datatable .frame_dimensions {  background: var(--jp-border-color3);  border-top: 1px solid var(--jp-border-color0);  color: var(--jp-ui-font-color3);  display: inline-block;  opacity: 0.6;  padding: 1px 10px 1px 5px;}\n",
       "</style>\n"
      ],
      "text/plain": [
       "<IPython.core.display.HTML object>"
      ]
     },
     "metadata": {},
     "output_type": "display_data"
    }
   ],
   "source": [
    "import numpy as np # linear algebra\n",
    "import pandas as pd # data processing, CSV file I/O (e.g. pd.read_csv)\n",
    "import os\n",
    "from sklearn.model_selection import train_test_split\n",
    "from sklearn.ensemble import RandomForestRegressor\n",
    "from sklearn.preprocessing import OrdinalEncoder\n",
    "from sklearn.metrics import mean_absolute_error\n",
    "import optuna\n",
    "from optuna import Trial\n",
    "from sklearn import preprocessing\n",
    "from sklearn.model_selection import KFold\n",
    "from xgboost import XGBRegressor\n",
    "from lightgbm import LGBMRegressor\n",
    "from catboost import CatBoostRegressor"
   ]
  },
  {
   "cell_type": "code",
   "execution_count": 2,
   "id": "01d77884",
   "metadata": {
    "execution": {
     "iopub.execute_input": "2021-08-31T12:52:19.049515Z",
     "iopub.status.busy": "2021-08-31T12:52:19.048932Z",
     "iopub.status.idle": "2021-08-31T12:52:19.091237Z",
     "shell.execute_reply": "2021-08-31T12:52:19.090745Z",
     "shell.execute_reply.started": "2021-08-31T12:27:16.147008Z"
    },
    "papermill": {
     "duration": 0.065435,
     "end_time": "2021-08-31T12:52:19.091349",
     "exception": false,
     "start_time": "2021-08-31T12:52:19.025914",
     "status": "completed"
    },
    "tags": []
   },
   "outputs": [],
   "source": [
    "train = pd.read_csv('../input/pceo-ai-club1/train.csv', index_col=\"student_id\") #반드시 index_col을 student_id로 설정해주세요\n",
    "test = pd.read_csv('../input/pceo-ai-club1/test.csv', index_col=\"student_id\")\n",
    "sample_submission = pd.read_csv('../input/pceo-ai-club1/sample_submission.csv', index_col=\"student_id\")"
   ]
  },
  {
   "cell_type": "markdown",
   "id": "3a9de237",
   "metadata": {
    "papermill": {
     "duration": 0.019946,
     "end_time": "2021-08-31T12:52:19.132630",
     "exception": false,
     "start_time": "2021-08-31T12:52:19.112684",
     "status": "completed"
    },
    "tags": []
   },
   "source": [
    "### Super Simple EDA"
   ]
  },
  {
   "cell_type": "code",
   "execution_count": 3,
   "id": "157c80f2",
   "metadata": {
    "execution": {
     "iopub.execute_input": "2021-08-31T12:52:19.175180Z",
     "iopub.status.busy": "2021-08-31T12:52:19.174639Z",
     "iopub.status.idle": "2021-08-31T12:52:19.194989Z",
     "shell.execute_reply": "2021-08-31T12:52:19.194567Z",
     "shell.execute_reply.started": "2021-08-31T12:27:16.186611Z"
    },
    "papermill": {
     "duration": 0.043165,
     "end_time": "2021-08-31T12:52:19.195096",
     "exception": false,
     "start_time": "2021-08-31T12:52:19.151931",
     "status": "completed"
    },
    "tags": []
   },
   "outputs": [
    {
     "data": {
      "text/html": [
       "<div>\n",
       "<style scoped>\n",
       "    .dataframe tbody tr th:only-of-type {\n",
       "        vertical-align: middle;\n",
       "    }\n",
       "\n",
       "    .dataframe tbody tr th {\n",
       "        vertical-align: top;\n",
       "    }\n",
       "\n",
       "    .dataframe thead th {\n",
       "        text-align: right;\n",
       "    }\n",
       "</style>\n",
       "<table border=\"1\" class=\"dataframe\">\n",
       "  <thead>\n",
       "    <tr style=\"text-align: right;\">\n",
       "      <th></th>\n",
       "      <th>school</th>\n",
       "      <th>school_setting</th>\n",
       "      <th>school_type</th>\n",
       "      <th>classroom</th>\n",
       "      <th>teaching_method</th>\n",
       "      <th>n_student</th>\n",
       "      <th>gender</th>\n",
       "      <th>lunch</th>\n",
       "      <th>pretest</th>\n",
       "    </tr>\n",
       "    <tr>\n",
       "      <th>student_id</th>\n",
       "      <th></th>\n",
       "      <th></th>\n",
       "      <th></th>\n",
       "      <th></th>\n",
       "      <th></th>\n",
       "      <th></th>\n",
       "      <th></th>\n",
       "      <th></th>\n",
       "      <th></th>\n",
       "    </tr>\n",
       "  </thead>\n",
       "  <tbody>\n",
       "    <tr>\n",
       "      <th>W20C6</th>\n",
       "      <td>GOOBU</td>\n",
       "      <td>Urban</td>\n",
       "      <td>Public</td>\n",
       "      <td>HKF</td>\n",
       "      <td>Standard</td>\n",
       "      <td>28.0</td>\n",
       "      <td>Female</td>\n",
       "      <td>Qualifies for reduced/free lunch</td>\n",
       "      <td>34.0</td>\n",
       "    </tr>\n",
       "    <tr>\n",
       "      <th>A3JJP</th>\n",
       "      <td>GOOBU</td>\n",
       "      <td>Urban</td>\n",
       "      <td>Public</td>\n",
       "      <td>W8A</td>\n",
       "      <td>Experimental</td>\n",
       "      <td>26.0</td>\n",
       "      <td>Female</td>\n",
       "      <td>Qualifies for reduced/free lunch</td>\n",
       "      <td>36.0</td>\n",
       "    </tr>\n",
       "    <tr>\n",
       "      <th>UBDCF</th>\n",
       "      <td>DNQDD</td>\n",
       "      <td>Suburban</td>\n",
       "      <td>Public</td>\n",
       "      <td>PW5</td>\n",
       "      <td>Experimental</td>\n",
       "      <td>20.0</td>\n",
       "      <td>Male</td>\n",
       "      <td>Qualifies for reduced/free lunch</td>\n",
       "      <td>42.0</td>\n",
       "    </tr>\n",
       "    <tr>\n",
       "      <th>QQJEC</th>\n",
       "      <td>GOOBU</td>\n",
       "      <td>Urban</td>\n",
       "      <td>Public</td>\n",
       "      <td>W8A</td>\n",
       "      <td>Experimental</td>\n",
       "      <td>26.0</td>\n",
       "      <td>Female</td>\n",
       "      <td>Qualifies for reduced/free lunch</td>\n",
       "      <td>36.0</td>\n",
       "    </tr>\n",
       "    <tr>\n",
       "      <th>3SWL5</th>\n",
       "      <td>UUUQX</td>\n",
       "      <td>Suburban</td>\n",
       "      <td>Non-public</td>\n",
       "      <td>SSP</td>\n",
       "      <td>Standard</td>\n",
       "      <td>15.0</td>\n",
       "      <td>Female</td>\n",
       "      <td>Does not qualify</td>\n",
       "      <td>66.0</td>\n",
       "    </tr>\n",
       "  </tbody>\n",
       "</table>\n",
       "</div>"
      ],
      "text/plain": [
       "           school school_setting school_type classroom teaching_method  \\\n",
       "student_id                                                               \n",
       "W20C6       GOOBU          Urban      Public       HKF        Standard   \n",
       "A3JJP       GOOBU          Urban      Public       W8A    Experimental   \n",
       "UBDCF       DNQDD       Suburban      Public       PW5    Experimental   \n",
       "QQJEC       GOOBU          Urban      Public       W8A    Experimental   \n",
       "3SWL5       UUUQX       Suburban  Non-public       SSP        Standard   \n",
       "\n",
       "            n_student  gender                             lunch  pretest  \n",
       "student_id                                                                \n",
       "W20C6            28.0  Female  Qualifies for reduced/free lunch     34.0  \n",
       "A3JJP            26.0  Female  Qualifies for reduced/free lunch     36.0  \n",
       "UBDCF            20.0    Male  Qualifies for reduced/free lunch     42.0  \n",
       "QQJEC            26.0  Female  Qualifies for reduced/free lunch     36.0  \n",
       "3SWL5            15.0  Female                  Does not qualify     66.0  "
      ]
     },
     "execution_count": 3,
     "metadata": {},
     "output_type": "execute_result"
    }
   ],
   "source": [
    "train.head()"
   ]
  },
  {
   "cell_type": "markdown",
   "id": "70cb11bc",
   "metadata": {
    "papermill": {
     "duration": 0.032888,
     "end_time": "2021-08-31T12:52:19.251257",
     "exception": false,
     "start_time": "2021-08-31T12:52:19.218369",
     "status": "completed"
    },
    "tags": []
   },
   "source": [
    "pretest 값이 우리가 예측해야 하는 시험 점수입니다."
   ]
  },
  {
   "cell_type": "code",
   "execution_count": 4,
   "id": "e4f9c2e6",
   "metadata": {
    "execution": {
     "iopub.execute_input": "2021-08-31T12:52:19.343573Z",
     "iopub.status.busy": "2021-08-31T12:52:19.342664Z",
     "iopub.status.idle": "2021-08-31T12:52:19.350871Z",
     "shell.execute_reply": "2021-08-31T12:52:19.352215Z",
     "shell.execute_reply.started": "2021-08-31T12:27:16.211824Z"
    },
    "papermill": {
     "duration": 0.064415,
     "end_time": "2021-08-31T12:52:19.352410",
     "exception": false,
     "start_time": "2021-08-31T12:52:19.287995",
     "status": "completed"
    },
    "tags": []
   },
   "outputs": [
    {
     "data": {
      "text/html": [
       "<div>\n",
       "<style scoped>\n",
       "    .dataframe tbody tr th:only-of-type {\n",
       "        vertical-align: middle;\n",
       "    }\n",
       "\n",
       "    .dataframe tbody tr th {\n",
       "        vertical-align: top;\n",
       "    }\n",
       "\n",
       "    .dataframe thead th {\n",
       "        text-align: right;\n",
       "    }\n",
       "</style>\n",
       "<table border=\"1\" class=\"dataframe\">\n",
       "  <thead>\n",
       "    <tr style=\"text-align: right;\">\n",
       "      <th></th>\n",
       "      <th>school</th>\n",
       "      <th>school_setting</th>\n",
       "      <th>school_type</th>\n",
       "      <th>classroom</th>\n",
       "      <th>teaching_method</th>\n",
       "      <th>n_student</th>\n",
       "      <th>gender</th>\n",
       "      <th>lunch</th>\n",
       "    </tr>\n",
       "    <tr>\n",
       "      <th>student_id</th>\n",
       "      <th></th>\n",
       "      <th></th>\n",
       "      <th></th>\n",
       "      <th></th>\n",
       "      <th></th>\n",
       "      <th></th>\n",
       "      <th></th>\n",
       "      <th></th>\n",
       "    </tr>\n",
       "  </thead>\n",
       "  <tbody>\n",
       "    <tr>\n",
       "      <th>MNVG5</th>\n",
       "      <td>VHDHF</td>\n",
       "      <td>Rural</td>\n",
       "      <td>Non-public</td>\n",
       "      <td>KR1</td>\n",
       "      <td>Experimental</td>\n",
       "      <td>15.0</td>\n",
       "      <td>Female</td>\n",
       "      <td>Qualifies for reduced/free lunch</td>\n",
       "    </tr>\n",
       "    <tr>\n",
       "      <th>LB2TH</th>\n",
       "      <td>GJJHK</td>\n",
       "      <td>Suburban</td>\n",
       "      <td>Public</td>\n",
       "      <td>ZDT</td>\n",
       "      <td>Standard</td>\n",
       "      <td>27.0</td>\n",
       "      <td>Male</td>\n",
       "      <td>Qualifies for reduced/free lunch</td>\n",
       "    </tr>\n",
       "    <tr>\n",
       "      <th>ETDRG</th>\n",
       "      <td>CIMBB</td>\n",
       "      <td>Urban</td>\n",
       "      <td>Non-public</td>\n",
       "      <td>PC6</td>\n",
       "      <td>Standard</td>\n",
       "      <td>17.0</td>\n",
       "      <td>Female</td>\n",
       "      <td>Does not qualify</td>\n",
       "    </tr>\n",
       "    <tr>\n",
       "      <th>TME5H</th>\n",
       "      <td>GOKXL</td>\n",
       "      <td>Rural</td>\n",
       "      <td>Public</td>\n",
       "      <td>VA6</td>\n",
       "      <td>Standard</td>\n",
       "      <td>19.0</td>\n",
       "      <td>Female</td>\n",
       "      <td>Qualifies for reduced/free lunch</td>\n",
       "    </tr>\n",
       "    <tr>\n",
       "      <th>G8C0U</th>\n",
       "      <td>QOQTS</td>\n",
       "      <td>Urban</td>\n",
       "      <td>Public</td>\n",
       "      <td>3XJ</td>\n",
       "      <td>Standard</td>\n",
       "      <td>24.0</td>\n",
       "      <td>Female</td>\n",
       "      <td>Does not qualify</td>\n",
       "    </tr>\n",
       "  </tbody>\n",
       "</table>\n",
       "</div>"
      ],
      "text/plain": [
       "           school school_setting school_type classroom teaching_method  \\\n",
       "student_id                                                               \n",
       "MNVG5       VHDHF          Rural  Non-public       KR1    Experimental   \n",
       "LB2TH       GJJHK       Suburban      Public       ZDT        Standard   \n",
       "ETDRG       CIMBB          Urban  Non-public       PC6        Standard   \n",
       "TME5H       GOKXL          Rural      Public       VA6        Standard   \n",
       "G8C0U       QOQTS          Urban      Public       3XJ        Standard   \n",
       "\n",
       "            n_student  gender                             lunch  \n",
       "student_id                                                       \n",
       "MNVG5            15.0  Female  Qualifies for reduced/free lunch  \n",
       "LB2TH            27.0    Male  Qualifies for reduced/free lunch  \n",
       "ETDRG            17.0  Female                  Does not qualify  \n",
       "TME5H            19.0  Female  Qualifies for reduced/free lunch  \n",
       "G8C0U            24.0  Female                  Does not qualify  "
      ]
     },
     "execution_count": 4,
     "metadata": {},
     "output_type": "execute_result"
    }
   ],
   "source": [
    "test.head()"
   ]
  },
  {
   "cell_type": "code",
   "execution_count": 5,
   "id": "d3ebbe91",
   "metadata": {
    "execution": {
     "iopub.execute_input": "2021-08-31T12:52:19.432180Z",
     "iopub.status.busy": "2021-08-31T12:52:19.431345Z",
     "iopub.status.idle": "2021-08-31T12:52:19.438757Z",
     "shell.execute_reply": "2021-08-31T12:52:19.440163Z",
     "shell.execute_reply.started": "2021-08-31T12:27:16.228557Z"
    },
    "papermill": {
     "duration": 0.055261,
     "end_time": "2021-08-31T12:52:19.440444",
     "exception": false,
     "start_time": "2021-08-31T12:52:19.385183",
     "status": "completed"
    },
    "tags": []
   },
   "outputs": [
    {
     "data": {
      "text/plain": [
       "school             False\n",
       "school_setting     False\n",
       "school_type        False\n",
       "classroom          False\n",
       "teaching_method    False\n",
       "n_student          False\n",
       "gender             False\n",
       "lunch              False\n",
       "pretest            False\n",
       "dtype: bool"
      ]
     },
     "execution_count": 5,
     "metadata": {},
     "output_type": "execute_result"
    }
   ],
   "source": [
    "train.isnull().any()"
   ]
  },
  {
   "cell_type": "markdown",
   "id": "0762faae",
   "metadata": {
    "papermill": {
     "duration": 0.037859,
     "end_time": "2021-08-31T12:52:19.521478",
     "exception": false,
     "start_time": "2021-08-31T12:52:19.483619",
     "status": "completed"
    },
    "tags": []
   },
   "source": [
    "위에서 보다시피 데이터에 null 값은 없습니다."
   ]
  },
  {
   "cell_type": "markdown",
   "id": "a0ddf831",
   "metadata": {
    "papermill": {
     "duration": 0.035939,
     "end_time": "2021-08-31T12:52:19.594465",
     "exception": false,
     "start_time": "2021-08-31T12:52:19.558526",
     "status": "completed"
    },
    "tags": []
   },
   "source": [
    "### Data Preprocessing"
   ]
  },
  {
   "cell_type": "code",
   "execution_count": 6,
   "id": "1ed87992",
   "metadata": {
    "execution": {
     "iopub.execute_input": "2021-08-31T12:52:19.674556Z",
     "iopub.status.busy": "2021-08-31T12:52:19.673720Z",
     "iopub.status.idle": "2021-08-31T12:52:19.676050Z",
     "shell.execute_reply": "2021-08-31T12:52:19.675262Z",
     "shell.execute_reply.started": "2021-08-31T12:27:16.241971Z"
    },
    "papermill": {
     "duration": 0.045918,
     "end_time": "2021-08-31T12:52:19.676212",
     "exception": false,
     "start_time": "2021-08-31T12:52:19.630294",
     "status": "completed"
    },
    "tags": []
   },
   "outputs": [],
   "source": [
    "y = train.pretest\n",
    "X = train.drop([\"pretest\"], axis=1)"
   ]
  },
  {
   "cell_type": "code",
   "execution_count": 7,
   "id": "c45096f3",
   "metadata": {
    "execution": {
     "iopub.execute_input": "2021-08-31T12:52:19.756631Z",
     "iopub.status.busy": "2021-08-31T12:52:19.754181Z",
     "iopub.status.idle": "2021-08-31T12:52:19.759531Z",
     "shell.execute_reply": "2021-08-31T12:52:19.757614Z",
     "shell.execute_reply.started": "2021-08-31T12:27:16.251602Z"
    },
    "papermill": {
     "duration": 0.048243,
     "end_time": "2021-08-31T12:52:19.759670",
     "exception": false,
     "start_time": "2021-08-31T12:52:19.711427",
     "status": "completed"
    },
    "tags": []
   },
   "outputs": [
    {
     "data": {
      "text/plain": [
       "['school',\n",
       " 'school_setting',\n",
       " 'school_type',\n",
       " 'classroom',\n",
       " 'teaching_method',\n",
       " 'gender',\n",
       " 'lunch']"
      ]
     },
     "execution_count": 7,
     "metadata": {},
     "output_type": "execute_result"
    }
   ],
   "source": [
    "s = (X.dtypes == 'object')\n",
    "object_cols = list(s[s].index)\n",
    "object_cols"
   ]
  },
  {
   "cell_type": "markdown",
   "id": "feedd3f0",
   "metadata": {
    "papermill": {
     "duration": 0.025262,
     "end_time": "2021-08-31T12:52:19.821777",
     "exception": false,
     "start_time": "2021-08-31T12:52:19.796515",
     "status": "completed"
    },
    "tags": []
   },
   "source": [
    "n_students 이외의 feature들은 모두 categorical입니다. (cateogical => 문자 형태)"
   ]
  },
  {
   "cell_type": "code",
   "execution_count": 8,
   "id": "83502b3e",
   "metadata": {
    "execution": {
     "iopub.execute_input": "2021-08-31T12:52:19.875511Z",
     "iopub.status.busy": "2021-08-31T12:52:19.874267Z",
     "iopub.status.idle": "2021-08-31T12:52:19.889044Z",
     "shell.execute_reply": "2021-08-31T12:52:19.889407Z",
     "shell.execute_reply.started": "2021-08-31T12:27:16.263888Z"
    },
    "papermill": {
     "duration": 0.047093,
     "end_time": "2021-08-31T12:52:19.889522",
     "exception": false,
     "start_time": "2021-08-31T12:52:19.842429",
     "status": "completed"
    },
    "tags": []
   },
   "outputs": [],
   "source": [
    "label_X = X.copy()\n",
    "label_test = test.copy()\n",
    "\n",
    "ordinal_encoder = OrdinalEncoder()\n",
    "label_X[object_cols] = ordinal_encoder.fit_transform(X[object_cols])\n",
    "label_test[object_cols] = ordinal_encoder.transform(test[object_cols])"
   ]
  },
  {
   "cell_type": "code",
   "execution_count": 9,
   "id": "5091dad7",
   "metadata": {
    "execution": {
     "iopub.execute_input": "2021-08-31T12:52:19.945356Z",
     "iopub.status.busy": "2021-08-31T12:52:19.944623Z",
     "iopub.status.idle": "2021-08-31T12:52:19.948844Z",
     "shell.execute_reply": "2021-08-31T12:52:19.949251Z",
     "shell.execute_reply.started": "2021-08-31T12:27:16.293040Z"
    },
    "papermill": {
     "duration": 0.039398,
     "end_time": "2021-08-31T12:52:19.949365",
     "exception": false,
     "start_time": "2021-08-31T12:52:19.909967",
     "status": "completed"
    },
    "tags": []
   },
   "outputs": [
    {
     "data": {
      "text/html": [
       "<div>\n",
       "<style scoped>\n",
       "    .dataframe tbody tr th:only-of-type {\n",
       "        vertical-align: middle;\n",
       "    }\n",
       "\n",
       "    .dataframe tbody tr th {\n",
       "        vertical-align: top;\n",
       "    }\n",
       "\n",
       "    .dataframe thead th {\n",
       "        text-align: right;\n",
       "    }\n",
       "</style>\n",
       "<table border=\"1\" class=\"dataframe\">\n",
       "  <thead>\n",
       "    <tr style=\"text-align: right;\">\n",
       "      <th></th>\n",
       "      <th>school</th>\n",
       "      <th>school_setting</th>\n",
       "      <th>school_type</th>\n",
       "      <th>classroom</th>\n",
       "      <th>teaching_method</th>\n",
       "      <th>n_student</th>\n",
       "      <th>gender</th>\n",
       "      <th>lunch</th>\n",
       "    </tr>\n",
       "    <tr>\n",
       "      <th>student_id</th>\n",
       "      <th></th>\n",
       "      <th></th>\n",
       "      <th></th>\n",
       "      <th></th>\n",
       "      <th></th>\n",
       "      <th></th>\n",
       "      <th></th>\n",
       "      <th></th>\n",
       "    </tr>\n",
       "  </thead>\n",
       "  <tbody>\n",
       "    <tr>\n",
       "      <th>W20C6</th>\n",
       "      <td>8.0</td>\n",
       "      <td>2.0</td>\n",
       "      <td>1.0</td>\n",
       "      <td>45.0</td>\n",
       "      <td>1.0</td>\n",
       "      <td>28.0</td>\n",
       "      <td>0.0</td>\n",
       "      <td>1.0</td>\n",
       "    </tr>\n",
       "    <tr>\n",
       "      <th>A3JJP</th>\n",
       "      <td>8.0</td>\n",
       "      <td>2.0</td>\n",
       "      <td>1.0</td>\n",
       "      <td>83.0</td>\n",
       "      <td>0.0</td>\n",
       "      <td>26.0</td>\n",
       "      <td>0.0</td>\n",
       "      <td>1.0</td>\n",
       "    </tr>\n",
       "    <tr>\n",
       "      <th>UBDCF</th>\n",
       "      <td>4.0</td>\n",
       "      <td>1.0</td>\n",
       "      <td>1.0</td>\n",
       "      <td>65.0</td>\n",
       "      <td>0.0</td>\n",
       "      <td>20.0</td>\n",
       "      <td>1.0</td>\n",
       "      <td>1.0</td>\n",
       "    </tr>\n",
       "    <tr>\n",
       "      <th>QQJEC</th>\n",
       "      <td>8.0</td>\n",
       "      <td>2.0</td>\n",
       "      <td>1.0</td>\n",
       "      <td>83.0</td>\n",
       "      <td>0.0</td>\n",
       "      <td>26.0</td>\n",
       "      <td>0.0</td>\n",
       "      <td>1.0</td>\n",
       "    </tr>\n",
       "    <tr>\n",
       "      <th>3SWL5</th>\n",
       "      <td>17.0</td>\n",
       "      <td>1.0</td>\n",
       "      <td>0.0</td>\n",
       "      <td>73.0</td>\n",
       "      <td>1.0</td>\n",
       "      <td>15.0</td>\n",
       "      <td>0.0</td>\n",
       "      <td>0.0</td>\n",
       "    </tr>\n",
       "  </tbody>\n",
       "</table>\n",
       "</div>"
      ],
      "text/plain": [
       "            school  school_setting  school_type  classroom  teaching_method  \\\n",
       "student_id                                                                    \n",
       "W20C6          8.0             2.0          1.0       45.0              1.0   \n",
       "A3JJP          8.0             2.0          1.0       83.0              0.0   \n",
       "UBDCF          4.0             1.0          1.0       65.0              0.0   \n",
       "QQJEC          8.0             2.0          1.0       83.0              0.0   \n",
       "3SWL5         17.0             1.0          0.0       73.0              1.0   \n",
       "\n",
       "            n_student  gender  lunch  \n",
       "student_id                            \n",
       "W20C6            28.0     0.0    1.0  \n",
       "A3JJP            26.0     0.0    1.0  \n",
       "UBDCF            20.0     1.0    1.0  \n",
       "QQJEC            26.0     0.0    1.0  \n",
       "3SWL5            15.0     0.0    0.0  "
      ]
     },
     "execution_count": 9,
     "metadata": {},
     "output_type": "execute_result"
    }
   ],
   "source": [
    "label_X.head()"
   ]
  },
  {
   "cell_type": "code",
   "execution_count": 10,
   "id": "4647b5a2",
   "metadata": {
    "execution": {
     "iopub.execute_input": "2021-08-31T12:52:20.006768Z",
     "iopub.status.busy": "2021-08-31T12:52:20.005974Z",
     "iopub.status.idle": "2021-08-31T12:52:20.010206Z",
     "shell.execute_reply": "2021-08-31T12:52:20.009694Z",
     "shell.execute_reply.started": "2021-08-31T12:27:16.312021Z"
    },
    "papermill": {
     "duration": 0.039448,
     "end_time": "2021-08-31T12:52:20.010325",
     "exception": false,
     "start_time": "2021-08-31T12:52:19.970877",
     "status": "completed"
    },
    "tags": []
   },
   "outputs": [
    {
     "data": {
      "text/html": [
       "<div>\n",
       "<style scoped>\n",
       "    .dataframe tbody tr th:only-of-type {\n",
       "        vertical-align: middle;\n",
       "    }\n",
       "\n",
       "    .dataframe tbody tr th {\n",
       "        vertical-align: top;\n",
       "    }\n",
       "\n",
       "    .dataframe thead th {\n",
       "        text-align: right;\n",
       "    }\n",
       "</style>\n",
       "<table border=\"1\" class=\"dataframe\">\n",
       "  <thead>\n",
       "    <tr style=\"text-align: right;\">\n",
       "      <th></th>\n",
       "      <th>school</th>\n",
       "      <th>school_setting</th>\n",
       "      <th>school_type</th>\n",
       "      <th>classroom</th>\n",
       "      <th>teaching_method</th>\n",
       "      <th>n_student</th>\n",
       "      <th>gender</th>\n",
       "      <th>lunch</th>\n",
       "    </tr>\n",
       "    <tr>\n",
       "      <th>student_id</th>\n",
       "      <th></th>\n",
       "      <th></th>\n",
       "      <th></th>\n",
       "      <th></th>\n",
       "      <th></th>\n",
       "      <th></th>\n",
       "      <th></th>\n",
       "      <th></th>\n",
       "    </tr>\n",
       "  </thead>\n",
       "  <tbody>\n",
       "    <tr>\n",
       "      <th>MNVG5</th>\n",
       "      <td>18.0</td>\n",
       "      <td>0.0</td>\n",
       "      <td>0.0</td>\n",
       "      <td>53.0</td>\n",
       "      <td>0.0</td>\n",
       "      <td>15.0</td>\n",
       "      <td>0.0</td>\n",
       "      <td>1.0</td>\n",
       "    </tr>\n",
       "    <tr>\n",
       "      <th>LB2TH</th>\n",
       "      <td>6.0</td>\n",
       "      <td>1.0</td>\n",
       "      <td>1.0</td>\n",
       "      <td>95.0</td>\n",
       "      <td>1.0</td>\n",
       "      <td>27.0</td>\n",
       "      <td>1.0</td>\n",
       "      <td>1.0</td>\n",
       "    </tr>\n",
       "    <tr>\n",
       "      <th>ETDRG</th>\n",
       "      <td>2.0</td>\n",
       "      <td>2.0</td>\n",
       "      <td>0.0</td>\n",
       "      <td>62.0</td>\n",
       "      <td>1.0</td>\n",
       "      <td>17.0</td>\n",
       "      <td>0.0</td>\n",
       "      <td>0.0</td>\n",
       "    </tr>\n",
       "    <tr>\n",
       "      <th>TME5H</th>\n",
       "      <td>7.0</td>\n",
       "      <td>0.0</td>\n",
       "      <td>1.0</td>\n",
       "      <td>82.0</td>\n",
       "      <td>1.0</td>\n",
       "      <td>19.0</td>\n",
       "      <td>0.0</td>\n",
       "      <td>1.0</td>\n",
       "    </tr>\n",
       "    <tr>\n",
       "      <th>G8C0U</th>\n",
       "      <td>14.0</td>\n",
       "      <td>2.0</td>\n",
       "      <td>1.0</td>\n",
       "      <td>15.0</td>\n",
       "      <td>1.0</td>\n",
       "      <td>24.0</td>\n",
       "      <td>0.0</td>\n",
       "      <td>0.0</td>\n",
       "    </tr>\n",
       "  </tbody>\n",
       "</table>\n",
       "</div>"
      ],
      "text/plain": [
       "            school  school_setting  school_type  classroom  teaching_method  \\\n",
       "student_id                                                                    \n",
       "MNVG5         18.0             0.0          0.0       53.0              0.0   \n",
       "LB2TH          6.0             1.0          1.0       95.0              1.0   \n",
       "ETDRG          2.0             2.0          0.0       62.0              1.0   \n",
       "TME5H          7.0             0.0          1.0       82.0              1.0   \n",
       "G8C0U         14.0             2.0          1.0       15.0              1.0   \n",
       "\n",
       "            n_student  gender  lunch  \n",
       "student_id                            \n",
       "MNVG5            15.0     0.0    1.0  \n",
       "LB2TH            27.0     1.0    1.0  \n",
       "ETDRG            17.0     0.0    0.0  \n",
       "TME5H            19.0     0.0    1.0  \n",
       "G8C0U            24.0     0.0    0.0  "
      ]
     },
     "execution_count": 10,
     "metadata": {},
     "output_type": "execute_result"
    }
   ],
   "source": [
    "label_test.head()"
   ]
  },
  {
   "cell_type": "markdown",
   "id": "006e1db7",
   "metadata": {
    "papermill": {
     "duration": 0.021912,
     "end_time": "2021-08-31T12:52:20.054384",
     "exception": false,
     "start_time": "2021-08-31T12:52:20.032472",
     "status": "completed"
    },
    "tags": []
   },
   "source": [
    "categorical variable을 숫자로 잘 바꾸어 주었습니다. Ordinal Encoder에 대해 잊어버린 분들은 [kaggle course](https://www.kaggle.com/alexisbcook/categorical-variables)를 참고하세요."
   ]
  },
  {
   "cell_type": "code",
   "execution_count": 11,
   "id": "92fa1fea",
   "metadata": {
    "execution": {
     "iopub.execute_input": "2021-08-31T12:52:20.102521Z",
     "iopub.status.busy": "2021-08-31T12:52:20.102007Z",
     "iopub.status.idle": "2021-08-31T12:52:20.106491Z",
     "shell.execute_reply": "2021-08-31T12:52:20.106883Z",
     "shell.execute_reply.started": "2021-08-31T12:27:16.332671Z"
    },
    "papermill": {
     "duration": 0.031122,
     "end_time": "2021-08-31T12:52:20.107001",
     "exception": false,
     "start_time": "2021-08-31T12:52:20.075879",
     "status": "completed"
    },
    "tags": []
   },
   "outputs": [],
   "source": [
    "X_train, X_val, y_train, y_val = train_test_split(label_X, y, test_size=0.2, random_state=3)"
   ]
  },
  {
   "cell_type": "markdown",
   "id": "4f1194dc",
   "metadata": {
    "papermill": {
     "duration": 0.02135,
     "end_time": "2021-08-31T12:52:20.150551",
     "exception": false,
     "start_time": "2021-08-31T12:52:20.129201",
     "status": "completed"
    },
    "tags": []
   },
   "source": [
    "### Model train"
   ]
  },
  {
   "cell_type": "code",
   "execution_count": 12,
   "id": "00636851",
   "metadata": {
    "execution": {
     "iopub.execute_input": "2021-08-31T12:52:20.202269Z",
     "iopub.status.busy": "2021-08-31T12:52:20.201530Z",
     "iopub.status.idle": "2021-08-31T12:52:20.203736Z",
     "shell.execute_reply": "2021-08-31T12:52:20.204118Z",
     "shell.execute_reply.started": "2021-08-31T12:27:16.344551Z"
    },
    "papermill": {
     "duration": 0.031832,
     "end_time": "2021-08-31T12:52:20.204230",
     "exception": false,
     "start_time": "2021-08-31T12:52:20.172398",
     "status": "completed"
    },
    "tags": []
   },
   "outputs": [],
   "source": [
    "def objective(trial):\n",
    "    # To select which parameters to optimize, please look at the XGBoost documentation:\n",
    "    # https://xgboost.readthedocs.io/en/latest/parameter.html\n",
    "    param = {\n",
    "        'tree_method':'gpu_hist',  # Use GPU acceleration\n",
    "        'lambda': trial.suggest_loguniform(\n",
    "            'lambda', 1e-3, 10.0\n",
    "        ),\n",
    "        'alpha': trial.suggest_loguniform(\n",
    "            'alpha', 1e-3, 10.0\n",
    "        ),\n",
    "        'colsample_bytree': trial.suggest_categorical(\n",
    "            'colsample_bytree', [0.5,0.6,0.7,0.8,0.9,1.0]\n",
    "        ),\n",
    "        'subsample': trial.suggest_categorical(\n",
    "            'subsample', [0.6,0.7,0.8,1.0]\n",
    "        ),\n",
    "        'learning_rate': trial.suggest_categorical(\n",
    "            'learning_rate', [0.008,0.009,0.01,0.012,0.014,0.016,0.018, 0.02]\n",
    "        ),\n",
    "        'n_estimators': trial.suggest_categorical(\n",
    "            \"n_estimators\", [150, 200, 300, 3000]\n",
    "        ),\n",
    "        'max_depth': trial.suggest_categorical(\n",
    "            'max_depth', [4,5,7,9,11,13,15,17]\n",
    "        ),\n",
    "        'random_state': 42,\n",
    "        'min_child_weight': trial.suggest_int(\n",
    "            'min_child_weight', 1, 300\n",
    "        ),\n",
    "    }\n",
    "    model = XGBRegressor(**param)  \n",
    "    \n",
    "    model.fit(X_train,y_train,eval_set=[(X_val,y_val)],early_stopping_rounds=100,verbose=False)\n",
    "    \n",
    "    preds = model.predict(X_val)\n",
    "    \n",
    "    mae = mean_absolute_error(y_val, preds)\n",
    "    \n",
    "    return mae"
   ]
  },
  {
   "cell_type": "code",
   "execution_count": 13,
   "id": "0bb9931c",
   "metadata": {
    "execution": {
     "iopub.execute_input": "2021-08-31T12:52:20.251761Z",
     "iopub.status.busy": "2021-08-31T12:52:20.250942Z",
     "iopub.status.idle": "2021-08-31T13:06:58.605833Z",
     "shell.execute_reply": "2021-08-31T13:06:58.605297Z",
     "shell.execute_reply.started": "2021-08-30T14:00:33.631222Z"
    },
    "papermill": {
     "duration": 878.380319,
     "end_time": "2021-08-31T13:06:58.605995",
     "exception": false,
     "start_time": "2021-08-31T12:52:20.225676",
     "status": "completed"
    },
    "tags": []
   },
   "outputs": [
    {
     "name": "stderr",
     "output_type": "stream",
     "text": [
      "\u001b[32m[I 2021-08-31 12:52:20,249]\u001b[0m A new study created in memory with name: no-name-1cba9e61-ded8-4668-b6bc-7f051239198d\u001b[0m\n",
      "\u001b[32m[I 2021-08-31 12:52:21,274]\u001b[0m Trial 0 finished with value: 14.664788603085524 and parameters: {'lambda': 0.1349057779749931, 'alpha': 0.1587853100528135, 'colsample_bytree': 0.7, 'subsample': 0.7, 'learning_rate': 0.009, 'n_estimators': 150, 'max_depth': 17, 'min_child_weight': 140}. Best is trial 0 with value: 14.664788603085524.\u001b[0m\n",
      "\u001b[32m[I 2021-08-31 12:52:21,489]\u001b[0m Trial 1 finished with value: 11.339020143475448 and parameters: {'lambda': 0.03454243008365202, 'alpha': 0.049348395396790944, 'colsample_bytree': 1.0, 'subsample': 0.6, 'learning_rate': 0.009, 'n_estimators': 200, 'max_depth': 11, 'min_child_weight': 236}. Best is trial 1 with value: 11.339020143475448.\u001b[0m\n",
      "\u001b[32m[I 2021-08-31 12:52:26,151]\u001b[0m Trial 2 finished with value: 4.286704280920196 and parameters: {'lambda': 0.007430692042043475, 'alpha': 0.004352470294815615, 'colsample_bytree': 0.9, 'subsample': 0.6, 'learning_rate': 0.018, 'n_estimators': 3000, 'max_depth': 15, 'min_child_weight': 96}. Best is trial 2 with value: 4.286704280920196.\u001b[0m\n",
      "\u001b[32m[I 2021-08-31 12:52:26,657]\u001b[0m Trial 3 finished with value: 5.137506406906753 and parameters: {'lambda': 2.9177332362519786, 'alpha': 1.1583908249445027, 'colsample_bytree': 1.0, 'subsample': 1.0, 'learning_rate': 0.014, 'n_estimators': 200, 'max_depth': 13, 'min_child_weight': 33}. Best is trial 2 with value: 4.286704280920196.\u001b[0m\n",
      "\u001b[32m[I 2021-08-31 12:52:26,871]\u001b[0m Trial 4 finished with value: 7.934201067651224 and parameters: {'lambda': 0.006338293143680887, 'alpha': 0.7640702569134744, 'colsample_bytree': 0.6, 'subsample': 0.7, 'learning_rate': 0.018, 'n_estimators': 150, 'max_depth': 15, 'min_child_weight': 220}. Best is trial 2 with value: 4.286704280920196.\u001b[0m\n",
      "\u001b[32m[I 2021-08-31 12:52:27,083]\u001b[0m Trial 5 finished with value: 11.643918199148791 and parameters: {'lambda': 9.699192337207311, 'alpha': 0.002037636124129377, 'colsample_bytree': 0.7, 'subsample': 0.7, 'learning_rate': 0.009, 'n_estimators': 200, 'max_depth': 4, 'min_child_weight': 298}. Best is trial 2 with value: 4.286704280920196.\u001b[0m\n",
      "\u001b[32m[I 2021-08-31 12:52:27,381]\u001b[0m Trial 6 finished with value: 9.013212025514123 and parameters: {'lambda': 0.10671412872092409, 'alpha': 0.35859375215197836, 'colsample_bytree': 0.7, 'subsample': 0.7, 'learning_rate': 0.01, 'n_estimators': 200, 'max_depth': 5, 'min_child_weight': 97}. Best is trial 2 with value: 4.286704280920196.\u001b[0m\n",
      "\u001b[32m[I 2021-08-31 12:52:27,694]\u001b[0m Trial 7 finished with value: 6.37794996562757 and parameters: {'lambda': 0.00133195610641229, 'alpha': 0.0011272610091484126, 'colsample_bytree': 0.8, 'subsample': 0.6, 'learning_rate': 0.014, 'n_estimators': 200, 'max_depth': 11, 'min_child_weight': 80}. Best is trial 2 with value: 4.286704280920196.\u001b[0m\n",
      "\u001b[32m[I 2021-08-31 12:52:27,990]\u001b[0m Trial 8 finished with value: 8.047901142410367 and parameters: {'lambda': 0.45263529933431634, 'alpha': 0.967124782721184, 'colsample_bytree': 0.8, 'subsample': 1.0, 'learning_rate': 0.014, 'n_estimators': 150, 'max_depth': 15, 'min_child_weight': 84}. Best is trial 2 with value: 4.286704280920196.\u001b[0m\n",
      "\u001b[32m[I 2021-08-31 12:52:28,166]\u001b[0m Trial 9 finished with value: 7.711884392632379 and parameters: {'lambda': 0.7916917466084163, 'alpha': 0.043482647122373146, 'colsample_bytree': 0.9, 'subsample': 0.7, 'learning_rate': 0.018, 'n_estimators': 150, 'max_depth': 9, 'min_child_weight': 220}. Best is trial 2 with value: 4.286704280920196.\u001b[0m\n",
      "\u001b[32m[I 2021-08-31 12:52:31,432]\u001b[0m Trial 10 finished with value: 2.6416844373558 and parameters: {'lambda': 0.0010992801750586286, 'alpha': 0.006759716827747065, 'colsample_bytree': 0.5, 'subsample': 0.8, 'learning_rate': 0.02, 'n_estimators': 3000, 'max_depth': 7, 'min_child_weight': 12}. Best is trial 10 with value: 2.6416844373558.\u001b[0m\n",
      "\u001b[32m[I 2021-08-31 12:52:33,810]\u001b[0m Trial 11 finished with value: 2.635848937675967 and parameters: {'lambda': 0.001399530002003007, 'alpha': 0.009041428039775166, 'colsample_bytree': 0.5, 'subsample': 0.8, 'learning_rate': 0.02, 'n_estimators': 3000, 'max_depth': 7, 'min_child_weight': 1}. Best is trial 11 with value: 2.635848937675967.\u001b[0m\n",
      "\u001b[32m[I 2021-08-31 12:52:36,104]\u001b[0m Trial 12 finished with value: 2.631790506909465 and parameters: {'lambda': 0.0010436817641863863, 'alpha': 0.015105067233892405, 'colsample_bytree': 0.5, 'subsample': 0.8, 'learning_rate': 0.02, 'n_estimators': 3000, 'max_depth': 7, 'min_child_weight': 2}. Best is trial 12 with value: 2.631790506909465.\u001b[0m\n",
      "\u001b[32m[I 2021-08-31 12:52:37,037]\u001b[0m Trial 13 finished with value: 2.7729944820292514 and parameters: {'lambda': 0.005057968552229413, 'alpha': 0.016203599941140113, 'colsample_bytree': 0.5, 'subsample': 0.8, 'learning_rate': 0.02, 'n_estimators': 300, 'max_depth': 7, 'min_child_weight': 12}. Best is trial 12 with value: 2.631790506909465.\u001b[0m\n",
      "\u001b[32m[I 2021-08-31 12:52:42,290]\u001b[0m Trial 14 finished with value: 2.621031197888112 and parameters: {'lambda': 0.0013949729305374732, 'alpha': 0.014188350566478455, 'colsample_bytree': 0.5, 'subsample': 0.8, 'learning_rate': 0.016, 'n_estimators': 3000, 'max_depth': 7, 'min_child_weight': 41}. Best is trial 14 with value: 2.621031197888112.\u001b[0m\n",
      "\u001b[32m[I 2021-08-31 12:52:47,584]\u001b[0m Trial 15 finished with value: 2.6184630254555863 and parameters: {'lambda': 0.026315968049317445, 'alpha': 4.6060376853105005, 'colsample_bytree': 0.5, 'subsample': 0.8, 'learning_rate': 0.016, 'n_estimators': 3000, 'max_depth': 7, 'min_child_weight': 46}. Best is trial 15 with value: 2.6184630254555863.\u001b[0m\n",
      "\u001b[32m[I 2021-08-31 12:52:51,959]\u001b[0m Trial 16 finished with value: 2.8866748196339747 and parameters: {'lambda': 0.025954373492258653, 'alpha': 7.479535477936068, 'colsample_bytree': 0.5, 'subsample': 0.8, 'learning_rate': 0.016, 'n_estimators': 3000, 'max_depth': 7, 'min_child_weight': 57}. Best is trial 15 with value: 2.6184630254555863.\u001b[0m\n",
      "\u001b[32m[I 2021-08-31 12:52:52,444]\u001b[0m Trial 17 finished with value: 5.7154954051413736 and parameters: {'lambda': 0.015342949762016542, 'alpha': 9.576103698429078, 'colsample_bytree': 0.5, 'subsample': 0.8, 'learning_rate': 0.016, 'n_estimators': 300, 'max_depth': 9, 'min_child_weight': 135}. Best is trial 15 with value: 2.6184630254555863.\u001b[0m\n",
      "\u001b[32m[I 2021-08-31 12:52:57,133]\u001b[0m Trial 18 finished with value: 2.9700801247044613 and parameters: {'lambda': 0.003188858041764017, 'alpha': 3.1425385913258213, 'colsample_bytree': 0.6, 'subsample': 0.8, 'learning_rate': 0.008, 'n_estimators': 3000, 'max_depth': 5, 'min_child_weight': 49}. Best is trial 15 with value: 2.6184630254555863.\u001b[0m\n",
      "\u001b[32m[I 2021-08-31 12:53:00,598]\u001b[0m Trial 19 finished with value: 5.435033407824778 and parameters: {'lambda': 0.053255578436425505, 'alpha': 0.0917286549561089, 'colsample_bytree': 0.5, 'subsample': 0.8, 'learning_rate': 0.012, 'n_estimators': 3000, 'max_depth': 4, 'min_child_weight': 184}. Best is trial 15 with value: 2.6184630254555863.\u001b[0m\n",
      "\u001b[32m[I 2021-08-31 12:53:05,065]\u001b[0m Trial 20 finished with value: 4.596512220059222 and parameters: {'lambda': 0.34097589419980323, 'alpha': 3.3382118299397447, 'colsample_bytree': 0.5, 'subsample': 1.0, 'learning_rate': 0.016, 'n_estimators': 3000, 'max_depth': 13, 'min_child_weight': 121}. Best is trial 15 with value: 2.6184630254555863.\u001b[0m\n",
      "\u001b[32m[I 2021-08-31 12:53:10,045]\u001b[0m Trial 21 finished with value: 2.6127319670560065 and parameters: {'lambda': 0.002153083586723614, 'alpha': 0.02093145145648747, 'colsample_bytree': 0.5, 'subsample': 0.8, 'learning_rate': 0.016, 'n_estimators': 3000, 'max_depth': 7, 'min_child_weight': 37}. Best is trial 21 with value: 2.6127319670560065.\u001b[0m\n",
      "\u001b[32m[I 2021-08-31 12:53:15,509]\u001b[0m Trial 22 finished with value: 2.6156887645609896 and parameters: {'lambda': 0.0022855560138989317, 'alpha': 0.028254305872792297, 'colsample_bytree': 0.5, 'subsample': 0.8, 'learning_rate': 0.016, 'n_estimators': 3000, 'max_depth': 7, 'min_child_weight': 32}. Best is trial 21 with value: 2.6127319670560065.\u001b[0m\n",
      "\u001b[32m[I 2021-08-31 12:53:20,937]\u001b[0m Trial 23 finished with value: 2.6200067787839654 and parameters: {'lambda': 0.002934964768230247, 'alpha': 0.030708307170025678, 'colsample_bytree': 0.5, 'subsample': 0.8, 'learning_rate': 0.016, 'n_estimators': 3000, 'max_depth': 7, 'min_child_weight': 31}. Best is trial 21 with value: 2.6127319670560065.\u001b[0m\n",
      "\u001b[32m[I 2021-08-31 12:53:25,725]\u001b[0m Trial 24 finished with value: 3.0508735612121938 and parameters: {'lambda': 0.01264896978158684, 'alpha': 0.17234077221453317, 'colsample_bytree': 0.5, 'subsample': 0.8, 'learning_rate': 0.016, 'n_estimators': 3000, 'max_depth': 7, 'min_child_weight': 59}. Best is trial 21 with value: 2.6127319670560065.\u001b[0m\n",
      "\u001b[32m[I 2021-08-31 12:53:32,129]\u001b[0m Trial 25 finished with value: 3.261061066075375 and parameters: {'lambda': 0.0028599773602952802, 'alpha': 0.002965556017450837, 'colsample_bytree': 0.5, 'subsample': 0.8, 'learning_rate': 0.016, 'n_estimators': 3000, 'max_depth': 17, 'min_child_weight': 63}. Best is trial 21 with value: 2.6127319670560065.\u001b[0m\n",
      "\u001b[32m[I 2021-08-31 12:53:32,589]\u001b[0m Trial 26 finished with value: 5.2317752168889635 and parameters: {'lambda': 0.01259273204443874, 'alpha': 0.08311878216526028, 'colsample_bytree': 1.0, 'subsample': 0.8, 'learning_rate': 0.016, 'n_estimators': 300, 'max_depth': 7, 'min_child_weight': 112}. Best is trial 21 with value: 2.6127319670560065.\u001b[0m\n",
      "\u001b[32m[I 2021-08-31 12:53:40,400]\u001b[0m Trial 27 finished with value: 2.667169219569156 and parameters: {'lambda': 0.06327042040182917, 'alpha': 0.024395053596692584, 'colsample_bytree': 0.9, 'subsample': 0.8, 'learning_rate': 0.008, 'n_estimators': 3000, 'max_depth': 7, 'min_child_weight': 29}. Best is trial 21 with value: 2.6127319670560065.\u001b[0m\n",
      "\u001b[32m[I 2021-08-31 12:53:44,650]\u001b[0m Trial 28 finished with value: 3.868427745082922 and parameters: {'lambda': 0.021507448625626504, 'alpha': 0.26432103248477895, 'colsample_bytree': 0.6, 'subsample': 0.8, 'learning_rate': 0.012, 'n_estimators': 3000, 'max_depth': 7, 'min_child_weight': 78}. Best is trial 21 with value: 2.6127319670560065.\u001b[0m\n",
      "\u001b[32m[I 2021-08-31 12:53:50,354]\u001b[0m Trial 29 finished with value: 5.249582134492216 and parameters: {'lambda': 0.002245246751128986, 'alpha': 0.06603277323300057, 'colsample_bytree': 0.8, 'subsample': 0.8, 'learning_rate': 0.01, 'n_estimators': 3000, 'max_depth': 17, 'min_child_weight': 170}. Best is trial 21 with value: 2.6127319670560065.\u001b[0m\n",
      "\u001b[32m[I 2021-08-31 12:53:51,200]\u001b[0m Trial 30 finished with value: 2.9588615015933386 and parameters: {'lambda': 0.18106397522019677, 'alpha': 0.13842824827773506, 'colsample_bytree': 0.7, 'subsample': 1.0, 'learning_rate': 0.016, 'n_estimators': 300, 'max_depth': 7, 'min_child_weight': 21}. Best is trial 21 with value: 2.6127319670560065.\u001b[0m\n",
      "\u001b[32m[I 2021-08-31 12:53:56,263]\u001b[0m Trial 31 finished with value: 2.6125684927778634 and parameters: {'lambda': 0.004830438574668829, 'alpha': 0.03233837061771226, 'colsample_bytree': 0.5, 'subsample': 0.8, 'learning_rate': 0.016, 'n_estimators': 3000, 'max_depth': 7, 'min_child_weight': 34}. Best is trial 31 with value: 2.6125684927778634.\u001b[0m\n",
      "\u001b[32m[I 2021-08-31 12:54:02,031]\u001b[0m Trial 32 finished with value: 2.619171242964895 and parameters: {'lambda': 0.00846124375533555, 'alpha': 0.030354354522503905, 'colsample_bytree': 0.5, 'subsample': 0.8, 'learning_rate': 0.016, 'n_estimators': 3000, 'max_depth': 7, 'min_child_weight': 44}. Best is trial 31 with value: 2.6125684927778634.\u001b[0m\n",
      "\u001b[32m[I 2021-08-31 12:54:06,176]\u001b[0m Trial 33 finished with value: 3.85846015305547 and parameters: {'lambda': 0.004386936972878786, 'alpha': 0.006988389465826083, 'colsample_bytree': 0.5, 'subsample': 0.6, 'learning_rate': 0.016, 'n_estimators': 3000, 'max_depth': 11, 'min_child_weight': 66}. Best is trial 31 with value: 2.6125684927778634.\u001b[0m\n",
      "\u001b[32m[I 2021-08-31 12:54:14,502]\u001b[0m Trial 34 finished with value: 2.636082052487379 and parameters: {'lambda': 0.0088414478065427, 'alpha': 0.05050719280092714, 'colsample_bytree': 0.5, 'subsample': 0.8, 'learning_rate': 0.009, 'n_estimators': 3000, 'max_depth': 13, 'min_child_weight': 18}. Best is trial 31 with value: 2.6125684927778634.\u001b[0m\n",
      "\u001b[32m[I 2021-08-31 12:54:16,643]\u001b[0m Trial 35 finished with value: 2.6888266055904633 and parameters: {'lambda': 0.03928103493441714, 'alpha': 0.010588316020912763, 'colsample_bytree': 1.0, 'subsample': 0.6, 'learning_rate': 0.016, 'n_estimators': 3000, 'max_depth': 7, 'min_child_weight': 3}. Best is trial 31 with value: 2.6125684927778634.\u001b[0m\n",
      "\u001b[32m[I 2021-08-31 12:54:16,881]\u001b[0m Trial 36 finished with value: 7.209600348221628 and parameters: {'lambda': 0.0021736428574084085, 'alpha': 0.01848443389440172, 'colsample_bytree': 0.5, 'subsample': 0.8, 'learning_rate': 0.016, 'n_estimators': 150, 'max_depth': 4, 'min_child_weight': 95}. Best is trial 31 with value: 2.6125684927778634.\u001b[0m\n",
      "\u001b[32m[I 2021-08-31 12:54:21,375]\u001b[0m Trial 37 finished with value: 2.649277503030342 and parameters: {'lambda': 0.004888715526301026, 'alpha': 0.004197704206212468, 'colsample_bytree': 0.9, 'subsample': 0.8, 'learning_rate': 0.016, 'n_estimators': 3000, 'max_depth': 5, 'min_child_weight': 37}. Best is trial 31 with value: 2.6125684927778634.\u001b[0m\n",
      "\u001b[32m[I 2021-08-31 12:54:21,745]\u001b[0m Trial 38 finished with value: 8.7466591840599 and parameters: {'lambda': 0.01799447389810918, 'alpha': 0.37448498243522016, 'colsample_bytree': 0.5, 'subsample': 0.7, 'learning_rate': 0.01, 'n_estimators': 200, 'max_depth': 15, 'min_child_weight': 72}. Best is trial 31 with value: 2.6125684927778634.\u001b[0m\n",
      "\u001b[32m[I 2021-08-31 12:54:25,519]\u001b[0m Trial 39 finished with value: 4.641870933666564 and parameters: {'lambda': 0.009338995848370883, 'alpha': 0.0011879904064562496, 'colsample_bytree': 0.7, 'subsample': 0.6, 'learning_rate': 0.018, 'n_estimators': 3000, 'max_depth': 11, 'min_child_weight': 105}. Best is trial 31 with value: 2.6125684927778634.\u001b[0m\n",
      "\u001b[32m[I 2021-08-31 12:54:25,871]\u001b[0m Trial 40 finished with value: 14.306637306659542 and parameters: {'lambda': 0.0018060986141780315, 'alpha': 0.0420952797257295, 'colsample_bytree': 0.6, 'subsample': 1.0, 'learning_rate': 0.009, 'n_estimators': 150, 'max_depth': 9, 'min_child_weight': 51}. Best is trial 31 with value: 2.6125684927778634.\u001b[0m\n",
      "\u001b[32m[I 2021-08-31 12:54:31,335]\u001b[0m Trial 41 finished with value: 2.6169713059364006 and parameters: {'lambda': 0.00683579602761309, 'alpha': 0.02881424204555638, 'colsample_bytree': 0.5, 'subsample': 0.8, 'learning_rate': 0.016, 'n_estimators': 3000, 'max_depth': 7, 'min_child_weight': 32}. Best is trial 31 with value: 2.6125684927778634.\u001b[0m\n",
      "\u001b[32m[I 2021-08-31 12:54:35,187]\u001b[0m Trial 42 finished with value: 2.639822926437646 and parameters: {'lambda': 0.0034778054959867747, 'alpha': 0.0619900485109001, 'colsample_bytree': 0.5, 'subsample': 0.8, 'learning_rate': 0.016, 'n_estimators': 3000, 'max_depth': 7, 'min_child_weight': 22}. Best is trial 31 with value: 2.6125684927778634.\u001b[0m\n",
      "\u001b[32m[I 2021-08-31 12:54:39,236]\u001b[0m Trial 43 finished with value: 4.232460166975769 and parameters: {'lambda': 0.00630827467201269, 'alpha': 0.025693263197498446, 'colsample_bytree': 0.5, 'subsample': 0.8, 'learning_rate': 0.014, 'n_estimators': 3000, 'max_depth': 7, 'min_child_weight': 88}. Best is trial 31 with value: 2.6125684927778634.\u001b[0m\n",
      "\u001b[32m[I 2021-08-31 12:54:39,481]\u001b[0m Trial 44 finished with value: 8.236171767028452 and parameters: {'lambda': 0.03398040946479472, 'alpha': 0.0397774382333537, 'colsample_bytree': 0.8, 'subsample': 0.8, 'learning_rate': 0.016, 'n_estimators': 200, 'max_depth': 7, 'min_child_weight': 297}. Best is trial 31 with value: 2.6125684927778634.\u001b[0m\n",
      "\u001b[32m[I 2021-08-31 12:54:42,940]\u001b[0m Trial 45 finished with value: 2.640658958613524 and parameters: {'lambda': 0.006331994535103843, 'alpha': 0.14746225815132832, 'colsample_bytree': 0.5, 'subsample': 0.7, 'learning_rate': 0.016, 'n_estimators': 3000, 'max_depth': 7, 'min_child_weight': 7}. Best is trial 31 with value: 2.6125684927778634.\u001b[0m\n",
      "\u001b[32m[I 2021-08-31 12:54:47,364]\u001b[0m Trial 46 finished with value: 2.6857621990449245 and parameters: {'lambda': 0.001874861092862525, 'alpha': 0.010901571171087872, 'colsample_bytree': 1.0, 'subsample': 0.8, 'learning_rate': 0.016, 'n_estimators': 3000, 'max_depth': 7, 'min_child_weight': 33}. Best is trial 31 with value: 2.6125684927778634.\u001b[0m\n",
      "\u001b[32m[I 2021-08-31 12:54:53,788]\u001b[0m Trial 47 finished with value: 2.623076611792135 and parameters: {'lambda': 0.0011228949037452572, 'alpha': 0.02222593290786186, 'colsample_bytree': 0.5, 'subsample': 0.8, 'learning_rate': 0.018, 'n_estimators': 3000, 'max_depth': 17, 'min_child_weight': 44}. Best is trial 31 with value: 2.6125684927778634.\u001b[0m\n",
      "\u001b[32m[I 2021-08-31 12:55:01,621]\u001b[0m Trial 48 finished with value: 2.648791391249986 and parameters: {'lambda': 0.027342339553798348, 'alpha': 0.006432726526181502, 'colsample_bytree': 0.5, 'subsample': 0.8, 'learning_rate': 0.008, 'n_estimators': 3000, 'max_depth': 15, 'min_child_weight': 1}. Best is trial 31 with value: 2.6125684927778634.\u001b[0m\n",
      "\u001b[32m[I 2021-08-31 12:55:01,841]\u001b[0m Trial 49 finished with value: 11.244044833713108 and parameters: {'lambda': 0.08279623663101725, 'alpha': 0.015976313755690075, 'colsample_bytree': 0.5, 'subsample': 0.8, 'learning_rate': 0.012, 'n_estimators': 150, 'max_depth': 7, 'min_child_weight': 269}. Best is trial 31 with value: 2.6125684927778634.\u001b[0m\n",
      "\u001b[32m[I 2021-08-31 12:55:07,074]\u001b[0m Trial 50 finished with value: 2.6827598092151663 and parameters: {'lambda': 0.012460151273845782, 'alpha': 0.11078171018702918, 'colsample_bytree': 0.9, 'subsample': 0.8, 'learning_rate': 0.014, 'n_estimators': 3000, 'max_depth': 7, 'min_child_weight': 20}. Best is trial 31 with value: 2.6125684927778634.\u001b[0m\n",
      "\u001b[32m[I 2021-08-31 12:55:12,474]\u001b[0m Trial 51 finished with value: 2.6259449629755744 and parameters: {'lambda': 0.007445547679976291, 'alpha': 0.03200226655981262, 'colsample_bytree': 0.5, 'subsample': 0.8, 'learning_rate': 0.016, 'n_estimators': 3000, 'max_depth': 7, 'min_child_weight': 49}. Best is trial 31 with value: 2.6125684927778634.\u001b[0m\n",
      "\u001b[32m[I 2021-08-31 12:55:16,830]\u001b[0m Trial 52 finished with value: 3.661534917284871 and parameters: {'lambda': 0.004302491280683465, 'alpha': 0.033726753565457436, 'colsample_bytree': 0.5, 'subsample': 0.8, 'learning_rate': 0.016, 'n_estimators': 3000, 'max_depth': 7, 'min_child_weight': 75}. Best is trial 31 with value: 2.6125684927778634.\u001b[0m\n",
      "\u001b[32m[I 2021-08-31 12:55:22,923]\u001b[0m Trial 53 finished with value: 2.6065663789447986 and parameters: {'lambda': 0.010133760946398515, 'alpha': 0.0666643807754789, 'colsample_bytree': 0.5, 'subsample': 0.8, 'learning_rate': 0.016, 'n_estimators': 3000, 'max_depth': 7, 'min_child_weight': 40}. Best is trial 53 with value: 2.6065663789447986.\u001b[0m\n",
      "\u001b[32m[I 2021-08-31 12:55:28,275]\u001b[0m Trial 54 finished with value: 2.632315178363644 and parameters: {'lambda': 0.01821125112124618, 'alpha': 0.06040696749002624, 'colsample_bytree': 0.5, 'subsample': 0.8, 'learning_rate': 0.016, 'n_estimators': 3000, 'max_depth': 13, 'min_child_weight': 29}. Best is trial 53 with value: 2.6065663789447986.\u001b[0m\n",
      "\u001b[32m[I 2021-08-31 12:55:32,832]\u001b[0m Trial 55 finished with value: 3.05859463117276 and parameters: {'lambda': 0.003828665176394832, 'alpha': 0.2111863882553902, 'colsample_bytree': 0.5, 'subsample': 0.8, 'learning_rate': 0.016, 'n_estimators': 3000, 'max_depth': 7, 'min_child_weight': 59}. Best is trial 53 with value: 2.6065663789447986.\u001b[0m\n",
      "\u001b[32m[I 2021-08-31 12:55:33,171]\u001b[0m Trial 56 finished with value: 5.043531060915941 and parameters: {'lambda': 4.797824383531226, 'alpha': 0.5939168658198546, 'colsample_bytree': 0.5, 'subsample': 0.7, 'learning_rate': 0.02, 'n_estimators': 200, 'max_depth': 5, 'min_child_weight': 53}. Best is trial 53 with value: 2.6065663789447986.\u001b[0m\n",
      "\u001b[32m[I 2021-08-31 12:55:36,940]\u001b[0m Trial 57 finished with value: 2.6447530489915994 and parameters: {'lambda': 0.002563404344478163, 'alpha': 0.07711765967571868, 'colsample_bytree': 0.7, 'subsample': 0.8, 'learning_rate': 0.016, 'n_estimators': 3000, 'max_depth': 4, 'min_child_weight': 14}. Best is trial 53 with value: 2.6065663789447986.\u001b[0m\n",
      "\u001b[32m[I 2021-08-31 12:55:37,704]\u001b[0m Trial 58 finished with value: 3.899712244669596 and parameters: {'lambda': 0.0016925860263502302, 'alpha': 0.012279450289649234, 'colsample_bytree': 0.5, 'subsample': 0.8, 'learning_rate': 0.016, 'n_estimators': 300, 'max_depth': 9, 'min_child_weight': 41}. Best is trial 53 with value: 2.6065663789447986.\u001b[0m\n",
      "\u001b[32m[I 2021-08-31 12:55:43,518]\u001b[0m Trial 59 finished with value: 3.168798747815584 and parameters: {'lambda': 0.01213279251867532, 'alpha': 0.021937512268380664, 'colsample_bytree': 0.8, 'subsample': 1.0, 'learning_rate': 0.01, 'n_estimators': 3000, 'max_depth': 7, 'min_child_weight': 67}. Best is trial 53 with value: 2.6065663789447986.\u001b[0m\n",
      "\u001b[32m[I 2021-08-31 12:55:49,051]\u001b[0m Trial 60 finished with value: 2.621833723190932 and parameters: {'lambda': 0.005640989658880119, 'alpha': 0.007922351512408513, 'colsample_bytree': 0.5, 'subsample': 0.8, 'learning_rate': 0.016, 'n_estimators': 3000, 'max_depth': 7, 'min_child_weight': 31}. Best is trial 53 with value: 2.6065663789447986.\u001b[0m\n",
      "\u001b[32m[I 2021-08-31 12:55:54,420]\u001b[0m Trial 61 finished with value: 2.60797041062026 and parameters: {'lambda': 0.007698599107068777, 'alpha': 0.04824536861237736, 'colsample_bytree': 0.5, 'subsample': 0.8, 'learning_rate': 0.016, 'n_estimators': 3000, 'max_depth': 7, 'min_child_weight': 37}. Best is trial 53 with value: 2.6065663789447986.\u001b[0m\n",
      "\u001b[32m[I 2021-08-31 12:55:57,439]\u001b[0m Trial 62 finished with value: 2.6407093918114377 and parameters: {'lambda': 0.009922684179207502, 'alpha': 0.050289277589247894, 'colsample_bytree': 0.5, 'subsample': 0.8, 'learning_rate': 0.016, 'n_estimators': 3000, 'max_depth': 7, 'min_child_weight': 9}. Best is trial 53 with value: 2.6065663789447986.\u001b[0m\n",
      "\u001b[32m[I 2021-08-31 12:56:02,187]\u001b[0m Trial 63 finished with value: 2.634643220064933 and parameters: {'lambda': 0.0029776668887361445, 'alpha': 0.01764831359391871, 'colsample_bytree': 0.5, 'subsample': 0.8, 'learning_rate': 0.016, 'n_estimators': 3000, 'max_depth': 7, 'min_child_weight': 24}. Best is trial 53 with value: 2.6065663789447986.\u001b[0m\n",
      "\u001b[32m[I 2021-08-31 12:56:07,288]\u001b[0m Trial 64 finished with value: 2.612323850219013 and parameters: {'lambda': 0.006800111182941799, 'alpha': 0.10724620267103269, 'colsample_bytree': 0.5, 'subsample': 0.8, 'learning_rate': 0.016, 'n_estimators': 3000, 'max_depth': 7, 'min_child_weight': 38}. Best is trial 53 with value: 2.6065663789447986.\u001b[0m\n",
      "\u001b[32m[I 2021-08-31 12:56:12,276]\u001b[0m Trial 65 finished with value: 2.610316823100486 and parameters: {'lambda': 0.0013131480961944603, 'alpha': 0.10939405367920811, 'colsample_bytree': 0.5, 'subsample': 0.8, 'learning_rate': 0.016, 'n_estimators': 3000, 'max_depth': 7, 'min_child_weight': 38}. Best is trial 53 with value: 2.6065663789447986.\u001b[0m\n",
      "\u001b[32m[I 2021-08-31 12:56:16,406]\u001b[0m Trial 66 finished with value: 4.432740194755688 and parameters: {'lambda': 0.0013465326068714735, 'alpha': 0.12503662605820898, 'colsample_bytree': 0.6, 'subsample': 0.8, 'learning_rate': 0.009, 'n_estimators': 3000, 'max_depth': 7, 'min_child_weight': 88}. Best is trial 53 with value: 2.6065663789447986.\u001b[0m\n",
      "\u001b[32m[I 2021-08-31 12:56:20,991]\u001b[0m Trial 67 finished with value: 3.075752994470429 and parameters: {'lambda': 0.0012380608988103907, 'alpha': 0.10395805252424181, 'colsample_bytree': 0.5, 'subsample': 0.8, 'learning_rate': 0.016, 'n_estimators': 3000, 'max_depth': 7, 'min_child_weight': 60}. Best is trial 53 with value: 2.6065663789447986.\u001b[0m\n",
      "\u001b[32m[I 2021-08-31 12:56:25,287]\u001b[0m Trial 68 finished with value: 2.6411112121671265 and parameters: {'lambda': 0.001023898837370373, 'alpha': 0.21353358345300227, 'colsample_bytree': 0.5, 'subsample': 0.6, 'learning_rate': 0.016, 'n_estimators': 3000, 'max_depth': 11, 'min_child_weight': 15}. Best is trial 53 with value: 2.6065663789447986.\u001b[0m\n",
      "\u001b[32m[I 2021-08-31 12:56:31,182]\u001b[0m Trial 69 finished with value: 2.692221730773212 and parameters: {'lambda': 1.1835751125447518, 'alpha': 0.08330933760019893, 'colsample_bytree': 0.5, 'subsample': 0.8, 'learning_rate': 0.008, 'n_estimators': 3000, 'max_depth': 7, 'min_child_weight': 37}. Best is trial 53 with value: 2.6065663789447986.\u001b[0m\n",
      "\u001b[32m[I 2021-08-31 12:56:31,865]\u001b[0m Trial 70 finished with value: 4.834137743676615 and parameters: {'lambda': 0.0023191741105013774, 'alpha': 0.40708728032212305, 'colsample_bytree': 1.0, 'subsample': 0.8, 'learning_rate': 0.012, 'n_estimators': 300, 'max_depth': 15, 'min_child_weight': 73}. Best is trial 53 with value: 2.6065663789447986.\u001b[0m\n",
      "\u001b[32m[I 2021-08-31 12:56:37,134]\u001b[0m Trial 71 finished with value: 2.6131993455496447 and parameters: {'lambda': 0.005202210971728069, 'alpha': 0.048895216309175746, 'colsample_bytree': 0.5, 'subsample': 0.8, 'learning_rate': 0.016, 'n_estimators': 3000, 'max_depth': 7, 'min_child_weight': 39}. Best is trial 53 with value: 2.6065663789447986.\u001b[0m\n",
      "\u001b[32m[I 2021-08-31 12:56:42,647]\u001b[0m Trial 72 finished with value: 2.6147065971329897 and parameters: {'lambda': 0.0036980746378833473, 'alpha': 0.050406785234395464, 'colsample_bytree': 0.5, 'subsample': 0.8, 'learning_rate': 0.016, 'n_estimators': 3000, 'max_depth': 7, 'min_child_weight': 47}. Best is trial 53 with value: 2.6065663789447986.\u001b[0m\n",
      "\u001b[32m[I 2021-08-31 12:56:47,945]\u001b[0m Trial 73 finished with value: 2.6788224616245917 and parameters: {'lambda': 0.0037665716558925827, 'alpha': 0.05100346743329967, 'colsample_bytree': 0.5, 'subsample': 0.8, 'learning_rate': 0.016, 'n_estimators': 3000, 'max_depth': 7, 'min_child_weight': 52}. Best is trial 53 with value: 2.6065663789447986.\u001b[0m\n",
      "\u001b[32m[I 2021-08-31 12:56:53,461]\u001b[0m Trial 74 finished with value: 2.618435491595352 and parameters: {'lambda': 0.0017145332101847527, 'alpha': 0.17306467634262754, 'colsample_bytree': 0.5, 'subsample': 0.8, 'learning_rate': 0.016, 'n_estimators': 3000, 'max_depth': 7, 'min_child_weight': 46}. Best is trial 53 with value: 2.6065663789447986.\u001b[0m\n",
      "\u001b[32m[I 2021-08-31 12:56:58,736]\u001b[0m Trial 75 finished with value: 2.606575581065395 and parameters: {'lambda': 0.00502550147148253, 'alpha': 0.040058147586936495, 'colsample_bytree': 0.5, 'subsample': 0.8, 'learning_rate': 0.016, 'n_estimators': 3000, 'max_depth': 7, 'min_child_weight': 37}. Best is trial 53 with value: 2.6065663789447986.\u001b[0m\n",
      "\u001b[32m[I 2021-08-31 12:57:03,765]\u001b[0m Trial 76 finished with value: 2.6272842172990765 and parameters: {'lambda': 0.010546656703809516, 'alpha': 0.037619676875014024, 'colsample_bytree': 0.5, 'subsample': 0.8, 'learning_rate': 0.02, 'n_estimators': 3000, 'max_depth': 17, 'min_child_weight': 25}. Best is trial 53 with value: 2.6065663789447986.\u001b[0m\n",
      "\u001b[32m[I 2021-08-31 12:57:09,400]\u001b[0m Trial 77 finished with value: 2.6103960617243893 and parameters: {'lambda': 0.005071848549764108, 'alpha': 0.07731861252489748, 'colsample_bytree': 0.5, 'subsample': 0.8, 'learning_rate': 0.016, 'n_estimators': 3000, 'max_depth': 7, 'min_child_weight': 38}. Best is trial 53 with value: 2.6065663789447986.\u001b[0m\n",
      "\u001b[32m[I 2021-08-31 12:57:09,755]\u001b[0m Trial 78 finished with value: 5.69977899741011 and parameters: {'lambda': 0.014925161695731312, 'alpha': 0.07187990933462494, 'colsample_bytree': 0.9, 'subsample': 1.0, 'learning_rate': 0.018, 'n_estimators': 150, 'max_depth': 13, 'min_child_weight': 67}. Best is trial 53 with value: 2.6065663789447986.\u001b[0m\n",
      "\u001b[32m[I 2021-08-31 12:57:13,675]\u001b[0m Trial 79 finished with value: 3.9793877964131315 and parameters: {'lambda': 0.007709497446520906, 'alpha': 0.2699825112473318, 'colsample_bytree': 0.5, 'subsample': 0.8, 'learning_rate': 0.016, 'n_estimators': 3000, 'max_depth': 4, 'min_child_weight': 83}. Best is trial 53 with value: 2.6065663789447986.\u001b[0m\n",
      "\u001b[32m[I 2021-08-31 12:57:14,383]\u001b[0m Trial 80 finished with value: 3.567975546184339 and parameters: {'lambda': 0.005027678334668116, 'alpha': 0.10470183330197642, 'colsample_bytree': 0.7, 'subsample': 0.7, 'learning_rate': 0.016, 'n_estimators': 200, 'max_depth': 7, 'min_child_weight': 12}. Best is trial 53 with value: 2.6065663789447986.\u001b[0m\n",
      "\u001b[32m[I 2021-08-31 12:57:20,435]\u001b[0m Trial 81 finished with value: 2.6045684870223553 and parameters: {'lambda': 0.004508685436604593, 'alpha': 0.06418004670018108, 'colsample_bytree': 0.5, 'subsample': 0.8, 'learning_rate': 0.016, 'n_estimators': 3000, 'max_depth': 7, 'min_child_weight': 39}. Best is trial 81 with value: 2.6045684870223553.\u001b[0m\n",
      "\u001b[32m[I 2021-08-31 12:57:25,314]\u001b[0m Trial 82 finished with value: 2.83584127370377 and parameters: {'lambda': 0.003173431536113451, 'alpha': 0.06943130286678063, 'colsample_bytree': 0.5, 'subsample': 0.8, 'learning_rate': 0.016, 'n_estimators': 3000, 'max_depth': 7, 'min_child_weight': 54}. Best is trial 81 with value: 2.6045684870223553.\u001b[0m\n",
      "\u001b[32m[I 2021-08-31 12:57:30,413]\u001b[0m Trial 83 finished with value: 2.614084840517992 and parameters: {'lambda': 0.0063495328060439405, 'alpha': 0.09174572921814063, 'colsample_bytree': 0.5, 'subsample': 0.8, 'learning_rate': 0.016, 'n_estimators': 3000, 'max_depth': 7, 'min_child_weight': 38}. Best is trial 81 with value: 2.6045684870223553.\u001b[0m\n",
      "\u001b[32m[I 2021-08-31 12:57:34,783]\u001b[0m Trial 84 finished with value: 2.633398435269183 and parameters: {'lambda': 0.00448198233635503, 'alpha': 0.1500907432168342, 'colsample_bytree': 0.5, 'subsample': 0.8, 'learning_rate': 0.016, 'n_estimators': 3000, 'max_depth': 7, 'min_child_weight': 25}. Best is trial 81 with value: 2.6045684870223553.\u001b[0m\n",
      "\u001b[32m[I 2021-08-31 12:57:37,398]\u001b[0m Trial 85 finished with value: 2.6434848852324904 and parameters: {'lambda': 0.008159757433691675, 'alpha': 0.05997886655408135, 'colsample_bytree': 0.5, 'subsample': 0.8, 'learning_rate': 0.014, 'n_estimators': 3000, 'max_depth': 7, 'min_child_weight': 1}. Best is trial 81 with value: 2.6045684870223553.\u001b[0m\n",
      "\u001b[32m[I 2021-08-31 12:57:42,367]\u001b[0m Trial 86 finished with value: 3.2423751228734066 and parameters: {'lambda': 0.0024269182604177812, 'alpha': 0.04082174284474048, 'colsample_bytree': 0.5, 'subsample': 0.8, 'learning_rate': 0.016, 'n_estimators': 3000, 'max_depth': 5, 'min_child_weight': 62}. Best is trial 81 with value: 2.6045684870223553.\u001b[0m\n",
      "\u001b[32m[I 2021-08-31 12:57:45,874]\u001b[0m Trial 87 finished with value: 5.2901555780778855 and parameters: {'lambda': 0.0151746691161971, 'alpha': 0.02128750961313645, 'colsample_bytree': 0.8, 'subsample': 0.8, 'learning_rate': 0.016, 'n_estimators': 3000, 'max_depth': 9, 'min_child_weight': 204}. Best is trial 81 with value: 2.6045684870223553.\u001b[0m\n",
      "\u001b[32m[I 2021-08-31 12:57:49,491]\u001b[0m Trial 88 finished with value: 5.466413944088227 and parameters: {'lambda': 0.002982404282567246, 'alpha': 0.12584245943910108, 'colsample_bytree': 0.6, 'subsample': 0.6, 'learning_rate': 0.01, 'n_estimators': 3000, 'max_depth': 7, 'min_child_weight': 147}. Best is trial 81 with value: 2.6045684870223553.\u001b[0m\n",
      "\u001b[32m[I 2021-08-31 12:57:53,402]\u001b[0m Trial 89 finished with value: 2.6440555170962683 and parameters: {'lambda': 0.0015835195396077255, 'alpha': 0.0861846968445595, 'colsample_bytree': 0.5, 'subsample': 0.8, 'learning_rate': 0.016, 'n_estimators': 3000, 'max_depth': 7, 'min_child_weight': 20}. Best is trial 81 with value: 2.6045684870223553.\u001b[0m\n",
      "\u001b[32m[I 2021-08-31 12:57:58,408]\u001b[0m Trial 90 finished with value: 2.6084965376826057 and parameters: {'lambda': 0.002024603584216788, 'alpha': 0.03540423394127326, 'colsample_bytree': 0.5, 'subsample': 0.8, 'learning_rate': 0.016, 'n_estimators': 3000, 'max_depth': 7, 'min_child_weight': 34}. Best is trial 81 with value: 2.6045684870223553.\u001b[0m\n",
      "\u001b[32m[I 2021-08-31 12:58:03,722]\u001b[0m Trial 91 finished with value: 2.6108283829270746 and parameters: {'lambda': 0.00208380127137406, 'alpha': 0.027339732236237396, 'colsample_bytree': 0.5, 'subsample': 0.8, 'learning_rate': 0.016, 'n_estimators': 3000, 'max_depth': 7, 'min_child_weight': 37}. Best is trial 81 with value: 2.6045684870223553.\u001b[0m\n",
      "\u001b[32m[I 2021-08-31 12:58:09,096]\u001b[0m Trial 92 finished with value: 2.6078958678663824 and parameters: {'lambda': 0.004132626496756732, 'alpha': 0.02667670319263947, 'colsample_bytree': 0.5, 'subsample': 0.8, 'learning_rate': 0.016, 'n_estimators': 3000, 'max_depth': 7, 'min_child_weight': 34}. Best is trial 81 with value: 2.6045684870223553.\u001b[0m\n",
      "\u001b[32m[I 2021-08-31 12:58:15,442]\u001b[0m Trial 93 finished with value: 2.611197505080909 and parameters: {'lambda': 0.0060771783143237, 'alpha': 0.028176418311754114, 'colsample_bytree': 0.5, 'subsample': 0.8, 'learning_rate': 0.016, 'n_estimators': 3000, 'max_depth': 7, 'min_child_weight': 42}. Best is trial 81 with value: 2.6045684870223553.\u001b[0m\n",
      "\u001b[32m[I 2021-08-31 12:58:21,165]\u001b[0m Trial 94 finished with value: 2.609460401256182 and parameters: {'lambda': 0.0010003718042656453, 'alpha': 0.013901751706095856, 'colsample_bytree': 0.5, 'subsample': 0.8, 'learning_rate': 0.016, 'n_estimators': 3000, 'max_depth': 7, 'min_child_weight': 43}. Best is trial 81 with value: 2.6045684870223553.\u001b[0m\n",
      "\u001b[32m[I 2021-08-31 12:58:27,040]\u001b[0m Trial 95 finished with value: 2.6220907300536394 and parameters: {'lambda': 0.0020601686241985303, 'alpha': 0.013799043785045342, 'colsample_bytree': 0.5, 'subsample': 0.8, 'learning_rate': 0.016, 'n_estimators': 3000, 'max_depth': 7, 'min_child_weight': 27}. Best is trial 81 with value: 2.6045684870223553.\u001b[0m\n",
      "\u001b[32m[I 2021-08-31 12:58:32,052]\u001b[0m Trial 96 finished with value: 3.079042841816506 and parameters: {'lambda': 0.0014432532936861841, 'alpha': 0.03583614319340426, 'colsample_bytree': 0.5, 'subsample': 0.8, 'learning_rate': 0.009, 'n_estimators': 3000, 'max_depth': 7, 'min_child_weight': 53}. Best is trial 81 with value: 2.6045684870223553.\u001b[0m\n",
      "\u001b[32m[I 2021-08-31 12:58:35,503]\u001b[0m Trial 97 finished with value: 2.6330344997651394 and parameters: {'lambda': 0.004057720134836155, 'alpha': 0.018303997147368387, 'colsample_bytree': 0.5, 'subsample': 0.8, 'learning_rate': 0.016, 'n_estimators': 3000, 'max_depth': 11, 'min_child_weight': 7}. Best is trial 81 with value: 2.6045684870223553.\u001b[0m\n",
      "\u001b[32m[I 2021-08-31 12:58:41,125]\u001b[0m Trial 98 finished with value: 2.624076519793237 and parameters: {'lambda': 0.002745831288602356, 'alpha': 0.026509046470679278, 'colsample_bytree': 0.5, 'subsample': 0.8, 'learning_rate': 0.016, 'n_estimators': 3000, 'max_depth': 7, 'min_child_weight': 45}. Best is trial 81 with value: 2.6045684870223553.\u001b[0m\n",
      "\u001b[32m[I 2021-08-31 12:58:41,910]\u001b[0m Trial 99 finished with value: 3.3004441400717575 and parameters: {'lambda': 0.0011739902533344426, 'alpha': 0.06191457694666455, 'colsample_bytree': 1.0, 'subsample': 0.8, 'learning_rate': 0.016, 'n_estimators': 300, 'max_depth': 7, 'min_child_weight': 33}. Best is trial 81 with value: 2.6045684870223553.\u001b[0m\n",
      "\u001b[32m[I 2021-08-31 12:58:42,241]\u001b[0m Trial 100 finished with value: 16.622402235778452 and parameters: {'lambda': 0.0034699412745277645, 'alpha': 0.01011266119478374, 'colsample_bytree': 0.5, 'subsample': 0.8, 'learning_rate': 0.008, 'n_estimators': 150, 'max_depth': 7, 'min_child_weight': 56}. Best is trial 81 with value: 2.6045684870223553.\u001b[0m\n",
      "\u001b[32m[I 2021-08-31 12:58:48,423]\u001b[0m Trial 101 finished with value: 2.6185995347318594 and parameters: {'lambda': 0.005316021635520655, 'alpha': 0.026948157658470938, 'colsample_bytree': 0.5, 'subsample': 0.8, 'learning_rate': 0.016, 'n_estimators': 3000, 'max_depth': 7, 'min_child_weight': 46}. Best is trial 81 with value: 2.6045684870223553.\u001b[0m\n",
      "\u001b[32m[I 2021-08-31 12:58:52,411]\u001b[0m Trial 102 finished with value: 2.646337810315584 and parameters: {'lambda': 0.001986312164318913, 'alpha': 0.03740735230877753, 'colsample_bytree': 0.5, 'subsample': 0.8, 'learning_rate': 0.016, 'n_estimators': 3000, 'max_depth': 7, 'min_child_weight': 17}. Best is trial 81 with value: 2.6045684870223553.\u001b[0m\n",
      "\u001b[32m[I 2021-08-31 12:58:58,487]\u001b[0m Trial 103 finished with value: 2.6140051724617943 and parameters: {'lambda': 0.0025064627241083923, 'alpha': 0.04560746827904501, 'colsample_bytree': 0.5, 'subsample': 0.8, 'learning_rate': 0.016, 'n_estimators': 3000, 'max_depth': 7, 'min_child_weight': 41}. Best is trial 81 with value: 2.6045684870223553.\u001b[0m\n",
      "\u001b[32m[I 2021-08-31 12:59:04,156]\u001b[0m Trial 104 finished with value: 2.61915441702681 and parameters: {'lambda': 0.009494630169285962, 'alpha': 0.013749152566032067, 'colsample_bytree': 0.5, 'subsample': 0.8, 'learning_rate': 0.016, 'n_estimators': 3000, 'max_depth': 7, 'min_child_weight': 28}. Best is trial 81 with value: 2.6045684870223553.\u001b[0m\n",
      "\u001b[32m[I 2021-08-31 12:59:08,773]\u001b[0m Trial 105 finished with value: 3.329330823574847 and parameters: {'lambda': 0.0042015880285080276, 'alpha': 0.004994140603348347, 'colsample_bytree': 0.5, 'subsample': 0.8, 'learning_rate': 0.016, 'n_estimators': 3000, 'max_depth': 7, 'min_child_weight': 64}. Best is trial 81 with value: 2.6045684870223553.\u001b[0m\n",
      "\u001b[32m[I 2021-08-31 12:59:13,669]\u001b[0m Trial 106 finished with value: 3.4826136527702825 and parameters: {'lambda': 0.006198939015308469, 'alpha': 0.023083144194577382, 'colsample_bytree': 0.5, 'subsample': 0.8, 'learning_rate': 0.016, 'n_estimators': 3000, 'max_depth': 15, 'min_child_weight': 69}. Best is trial 81 with value: 2.6045684870223553.\u001b[0m\n",
      "\u001b[32m[I 2021-08-31 12:59:19,983]\u001b[0m Trial 107 finished with value: 2.6637469118798687 and parameters: {'lambda': 0.0010222324094416695, 'alpha': 0.055847722782618445, 'colsample_bytree': 0.9, 'subsample': 0.8, 'learning_rate': 0.012, 'n_estimators': 3000, 'max_depth': 7, 'min_child_weight': 34}. Best is trial 81 with value: 2.6045684870223553.\u001b[0m\n",
      "\u001b[32m[I 2021-08-31 12:59:24,496]\u001b[0m Trial 108 finished with value: 2.6437682770846185 and parameters: {'lambda': 0.16789933485224143, 'alpha': 0.031206083139606572, 'colsample_bytree': 0.5, 'subsample': 1.0, 'learning_rate': 0.02, 'n_estimators': 3000, 'max_depth': 7, 'min_child_weight': 20}. Best is trial 81 with value: 2.6045684870223553.\u001b[0m\n",
      "\u001b[32m[I 2021-08-31 12:59:25,031]\u001b[0m Trial 109 finished with value: 5.40716786970172 and parameters: {'lambda': 0.001420473309680419, 'alpha': 0.07381543170760967, 'colsample_bytree': 0.5, 'subsample': 0.7, 'learning_rate': 0.016, 'n_estimators': 200, 'max_depth': 17, 'min_child_weight': 58}. Best is trial 81 with value: 2.6045684870223553.\u001b[0m\n",
      "\u001b[32m[I 2021-08-31 12:59:30,718]\u001b[0m Trial 110 finished with value: 2.6251752195302505 and parameters: {'lambda': 0.0032462509185164985, 'alpha': 0.04318501795784826, 'colsample_bytree': 0.5, 'subsample': 0.8, 'learning_rate': 0.018, 'n_estimators': 3000, 'max_depth': 13, 'min_child_weight': 50}. Best is trial 81 with value: 2.6045684870223553.\u001b[0m\n",
      "\u001b[32m[I 2021-08-31 12:59:35,865]\u001b[0m Trial 111 finished with value: 2.6090800023218343 and parameters: {'lambda': 0.007357531749913809, 'alpha': 0.11274070103965762, 'colsample_bytree': 0.5, 'subsample': 0.8, 'learning_rate': 0.016, 'n_estimators': 3000, 'max_depth': 7, 'min_child_weight': 37}. Best is trial 81 with value: 2.6045684870223553.\u001b[0m\n",
      "\u001b[32m[I 2021-08-31 12:59:41,275]\u001b[0m Trial 112 finished with value: 2.617007104974044 and parameters: {'lambda': 0.010472635714132643, 'alpha': 0.17869712111684147, 'colsample_bytree': 0.5, 'subsample': 0.8, 'learning_rate': 0.016, 'n_estimators': 3000, 'max_depth': 7, 'min_child_weight': 43}. Best is trial 81 with value: 2.6045684870223553.\u001b[0m\n",
      "\u001b[32m[I 2021-08-31 12:59:46,786]\u001b[0m Trial 113 finished with value: 2.6185302009359437 and parameters: {'lambda': 0.008058127016521073, 'alpha': 0.01884362717430528, 'colsample_bytree': 0.5, 'subsample': 0.8, 'learning_rate': 0.016, 'n_estimators': 3000, 'max_depth': 7, 'min_child_weight': 29}. Best is trial 81 with value: 2.6045684870223553.\u001b[0m\n",
      "\u001b[32m[I 2021-08-31 12:59:52,485]\u001b[0m Trial 114 finished with value: 2.605943060757821 and parameters: {'lambda': 0.0060344722587746275, 'alpha': 0.0920853548187919, 'colsample_bytree': 0.5, 'subsample': 0.8, 'learning_rate': 0.016, 'n_estimators': 3000, 'max_depth': 7, 'min_child_weight': 37}. Best is trial 81 with value: 2.6045684870223553.\u001b[0m\n",
      "\u001b[32m[I 2021-08-31 12:59:55,307]\u001b[0m Trial 115 finished with value: 2.650435029414662 and parameters: {'lambda': 0.004838442757506408, 'alpha': 0.13035059792335393, 'colsample_bytree': 0.7, 'subsample': 0.8, 'learning_rate': 0.016, 'n_estimators': 3000, 'max_depth': 7, 'min_child_weight': 11}. Best is trial 81 with value: 2.6045684870223553.\u001b[0m\n",
      "\u001b[32m[I 2021-08-31 12:59:59,880]\u001b[0m Trial 116 finished with value: 2.6335602587426616 and parameters: {'lambda': 0.007442975486444454, 'alpha': 0.08166385218295784, 'colsample_bytree': 0.5, 'subsample': 0.8, 'learning_rate': 0.014, 'n_estimators': 3000, 'max_depth': 7, 'min_child_weight': 21}. Best is trial 81 with value: 2.6045684870223553.\u001b[0m\n",
      "\u001b[32m[I 2021-08-31 13:00:05,172]\u001b[0m Trial 117 finished with value: 2.619560922098439 and parameters: {'lambda': 0.0019223408217951617, 'alpha': 0.06625742956630808, 'colsample_bytree': 0.5, 'subsample': 0.8, 'learning_rate': 0.016, 'n_estimators': 3000, 'max_depth': 5, 'min_child_weight': 36}. Best is trial 81 with value: 2.6045684870223553.\u001b[0m\n",
      "\u001b[32m[I 2021-08-31 13:00:10,388]\u001b[0m Trial 118 finished with value: 2.621541196142721 and parameters: {'lambda': 0.005525287174330232, 'alpha': 0.09682284229893397, 'colsample_bytree': 0.8, 'subsample': 0.8, 'learning_rate': 0.016, 'n_estimators': 3000, 'max_depth': 7, 'min_child_weight': 49}. Best is trial 81 with value: 2.6045684870223553.\u001b[0m\n",
      "\u001b[32m[I 2021-08-31 13:00:14,809]\u001b[0m Trial 119 finished with value: 2.63800521203649 and parameters: {'lambda': 0.010737418479576669, 'alpha': 0.28252182638171974, 'colsample_bytree': 0.5, 'subsample': 0.6, 'learning_rate': 0.016, 'n_estimators': 3000, 'max_depth': 4, 'min_child_weight': 32}. Best is trial 81 with value: 2.6045684870223553.\u001b[0m\n",
      "\u001b[32m[I 2021-08-31 13:00:18,373]\u001b[0m Trial 120 finished with value: 2.652532354432937 and parameters: {'lambda': 0.0027296560147681134, 'alpha': 0.04492909808174521, 'colsample_bytree': 0.5, 'subsample': 0.8, 'learning_rate': 0.016, 'n_estimators': 3000, 'max_depth': 9, 'min_child_weight': 14}. Best is trial 81 with value: 2.6045684870223553.\u001b[0m\n",
      "\u001b[32m[I 2021-08-31 13:00:24,663]\u001b[0m Trial 121 finished with value: 2.6138853385434513 and parameters: {'lambda': 0.00593804472784244, 'alpha': 0.03279939369342849, 'colsample_bytree': 0.5, 'subsample': 0.8, 'learning_rate': 0.016, 'n_estimators': 3000, 'max_depth': 7, 'min_child_weight': 42}. Best is trial 81 with value: 2.6045684870223553.\u001b[0m\n",
      "\u001b[32m[I 2021-08-31 13:00:30,594]\u001b[0m Trial 122 finished with value: 2.6069419927764357 and parameters: {'lambda': 0.004438963311583042, 'alpha': 0.05452063863935326, 'colsample_bytree': 0.5, 'subsample': 0.8, 'learning_rate': 0.016, 'n_estimators': 3000, 'max_depth': 7, 'min_child_weight': 40}. Best is trial 81 with value: 2.6045684870223553.\u001b[0m\n",
      "\u001b[32m[I 2021-08-31 13:00:35,102]\u001b[0m Trial 123 finished with value: 2.6298074108815332 and parameters: {'lambda': 0.004025627628246473, 'alpha': 0.056433905572015525, 'colsample_bytree': 0.5, 'subsample': 0.8, 'learning_rate': 0.016, 'n_estimators': 3000, 'max_depth': 7, 'min_child_weight': 25}. Best is trial 81 with value: 2.6045684870223553.\u001b[0m\n",
      "\u001b[32m[I 2021-08-31 13:00:40,277]\u001b[0m Trial 124 finished with value: 2.607575160020973 and parameters: {'lambda': 0.02169089480437618, 'alpha': 0.07274226482185768, 'colsample_bytree': 0.5, 'subsample': 0.8, 'learning_rate': 0.016, 'n_estimators': 3000, 'max_depth': 7, 'min_child_weight': 36}. Best is trial 81 with value: 2.6045684870223553.\u001b[0m\n",
      "\u001b[32m[I 2021-08-31 13:00:46,932]\u001b[0m Trial 125 finished with value: 2.6311740819473712 and parameters: {'lambda': 0.022163217766664092, 'alpha': 0.11405673359861201, 'colsample_bytree': 0.6, 'subsample': 0.8, 'learning_rate': 0.01, 'n_estimators': 3000, 'max_depth': 7, 'min_child_weight': 29}. Best is trial 81 with value: 2.6045684870223553.\u001b[0m\n",
      "\u001b[32m[I 2021-08-31 13:00:51,811]\u001b[0m Trial 126 finished with value: 2.842283076013041 and parameters: {'lambda': 0.012679351439011603, 'alpha': 0.08825814139181477, 'colsample_bytree': 0.5, 'subsample': 0.8, 'learning_rate': 0.016, 'n_estimators': 3000, 'max_depth': 7, 'min_child_weight': 54}. Best is trial 81 with value: 2.6045684870223553.\u001b[0m\n",
      "\u001b[32m[I 2021-08-31 13:00:57,569]\u001b[0m Trial 127 finished with value: 2.6048025108917416 and parameters: {'lambda': 0.00877316029278366, 'alpha': 0.07635683551919654, 'colsample_bytree': 0.5, 'subsample': 0.8, 'learning_rate': 0.016, 'n_estimators': 3000, 'max_depth': 7, 'min_child_weight': 36}. Best is trial 81 with value: 2.6045684870223553.\u001b[0m\n",
      "\u001b[32m[I 2021-08-31 13:01:03,051]\u001b[0m Trial 128 finished with value: 2.631450675384343 and parameters: {'lambda': 0.01605644889192337, 'alpha': 0.0662591344179894, 'colsample_bytree': 0.5, 'subsample': 0.8, 'learning_rate': 0.016, 'n_estimators': 3000, 'max_depth': 7, 'min_child_weight': 49}. Best is trial 81 with value: 2.6045684870223553.\u001b[0m\n",
      "\u001b[32m[I 2021-08-31 13:01:03,840]\u001b[0m Trial 129 finished with value: 5.079904098956906 and parameters: {'lambda': 0.00810035631060084, 'alpha': 0.19777314645931013, 'colsample_bytree': 0.5, 'subsample': 0.8, 'learning_rate': 0.009, 'n_estimators': 300, 'max_depth': 7, 'min_child_weight': 25}. Best is trial 81 with value: 2.6045684870223553.\u001b[0m\n",
      "\u001b[32m[I 2021-08-31 13:01:08,578]\u001b[0m Trial 130 finished with value: 3.062686579966406 and parameters: {'lambda': 0.03666468504084621, 'alpha': 0.15154904319746237, 'colsample_bytree': 0.5, 'subsample': 0.8, 'learning_rate': 0.016, 'n_estimators': 3000, 'max_depth': 11, 'min_child_weight': 60}. Best is trial 81 with value: 2.6045684870223553.\u001b[0m\n",
      "\u001b[32m[I 2021-08-31 13:01:13,662]\u001b[0m Trial 131 finished with value: 2.6107566008093763 and parameters: {'lambda': 0.006854200038698139, 'alpha': 0.09878820808207964, 'colsample_bytree': 0.5, 'subsample': 0.8, 'learning_rate': 0.016, 'n_estimators': 3000, 'max_depth': 7, 'min_child_weight': 38}. Best is trial 81 with value: 2.6045684870223553.\u001b[0m\n",
      "\u001b[32m[I 2021-08-31 13:01:19,057]\u001b[0m Trial 132 finished with value: 2.613035865694459 and parameters: {'lambda': 0.009096850598709147, 'alpha': 0.07815353722969445, 'colsample_bytree': 0.5, 'subsample': 0.8, 'learning_rate': 0.016, 'n_estimators': 3000, 'max_depth': 7, 'min_child_weight': 33}. Best is trial 81 with value: 2.6045684870223553.\u001b[0m\n",
      "\u001b[32m[I 2021-08-31 13:01:22,771]\u001b[0m Trial 133 finished with value: 4.751597488135622 and parameters: {'lambda': 0.01225974174094898, 'alpha': 0.056051670922505875, 'colsample_bytree': 0.5, 'subsample': 0.8, 'learning_rate': 0.016, 'n_estimators': 3000, 'max_depth': 7, 'min_child_weight': 129}. Best is trial 81 with value: 2.6045684870223553.\u001b[0m\n",
      "\u001b[32m[I 2021-08-31 13:01:28,453]\u001b[0m Trial 134 finished with value: 2.6161521498919926 and parameters: {'lambda': 0.0036590053955946034, 'alpha': 0.0445479496929678, 'colsample_bytree': 0.5, 'subsample': 0.8, 'learning_rate': 0.016, 'n_estimators': 3000, 'max_depth': 7, 'min_child_weight': 44}. Best is trial 81 with value: 2.6045684870223553.\u001b[0m\n",
      "\u001b[32m[I 2021-08-31 13:01:31,689]\u001b[0m Trial 135 finished with value: 2.7155245507669727 and parameters: {'lambda': 0.0049493580971799326, 'alpha': 0.13030791710126238, 'colsample_bytree': 1.0, 'subsample': 0.8, 'learning_rate': 0.016, 'n_estimators': 3000, 'max_depth': 7, 'min_child_weight': 17}. Best is trial 81 with value: 2.6045684870223553.\u001b[0m\n",
      "\u001b[32m[I 2021-08-31 13:01:37,765]\u001b[0m Trial 136 finished with value: 2.6060641829730473 and parameters: {'lambda': 0.01980899878764755, 'alpha': 0.07357022658261907, 'colsample_bytree': 0.5, 'subsample': 0.8, 'learning_rate': 0.016, 'n_estimators': 3000, 'max_depth': 7, 'min_child_weight': 39}. Best is trial 81 with value: 2.6045684870223553.\u001b[0m\n",
      "\u001b[32m[I 2021-08-31 13:01:38,024]\u001b[0m Trial 137 finished with value: 7.99555516382407 and parameters: {'lambda': 0.028336893616789132, 'alpha': 0.05312000560187848, 'colsample_bytree': 0.5, 'subsample': 0.8, 'learning_rate': 0.016, 'n_estimators': 150, 'max_depth': 7, 'min_child_weight': 169}. Best is trial 81 with value: 2.6045684870223553.\u001b[0m\n",
      "\u001b[32m[I 2021-08-31 13:01:43,553]\u001b[0m Trial 138 finished with value: 2.666087295576843 and parameters: {'lambda': 0.020281910598616986, 'alpha': 0.03836536070581623, 'colsample_bytree': 0.5, 'subsample': 0.8, 'learning_rate': 0.012, 'n_estimators': 3000, 'max_depth': 7, 'min_child_weight': 48}. Best is trial 81 with value: 2.6045684870223553.\u001b[0m\n",
      "\u001b[32m[I 2021-08-31 13:01:49,930]\u001b[0m Trial 139 finished with value: 2.6611979244745267 and parameters: {'lambda': 0.04565999580581765, 'alpha': 0.10779079168716352, 'colsample_bytree': 0.5, 'subsample': 0.8, 'learning_rate': 0.008, 'n_estimators': 3000, 'max_depth': 7, 'min_child_weight': 31}. Best is trial 81 with value: 2.6045684870223553.\u001b[0m\n",
      "\u001b[32m[I 2021-08-31 13:01:57,174]\u001b[0m Trial 140 finished with value: 2.702353020160519 and parameters: {'lambda': 0.01849095564240182, 'alpha': 0.06975218263256494, 'colsample_bytree': 0.9, 'subsample': 1.0, 'learning_rate': 0.016, 'n_estimators': 3000, 'max_depth': 15, 'min_child_weight': 6}. Best is trial 81 with value: 2.6045684870223553.\u001b[0m\n",
      "\u001b[32m[I 2021-08-31 13:02:03,238]\u001b[0m Trial 141 finished with value: 2.605313658017164 and parameters: {'lambda': 0.006945740661507322, 'alpha': 0.08631994119012933, 'colsample_bytree': 0.5, 'subsample': 0.8, 'learning_rate': 0.016, 'n_estimators': 3000, 'max_depth': 7, 'min_child_weight': 39}. Best is trial 81 with value: 2.6045684870223553.\u001b[0m\n",
      "\u001b[32m[I 2021-08-31 13:02:09,318]\u001b[0m Trial 142 finished with value: 2.611021013984903 and parameters: {'lambda': 0.006971388389943711, 'alpha': 0.09509473807881882, 'colsample_bytree': 0.5, 'subsample': 0.8, 'learning_rate': 0.016, 'n_estimators': 3000, 'max_depth': 7, 'min_child_weight': 41}. Best is trial 81 with value: 2.6045684870223553.\u001b[0m\n",
      "\u001b[32m[I 2021-08-31 13:02:14,097]\u001b[0m Trial 143 finished with value: 2.633350115770485 and parameters: {'lambda': 0.01446087358429224, 'alpha': 0.062120623143556625, 'colsample_bytree': 0.5, 'subsample': 0.8, 'learning_rate': 0.016, 'n_estimators': 3000, 'max_depth': 7, 'min_child_weight': 24}. Best is trial 81 with value: 2.6045684870223553.\u001b[0m\n",
      "\u001b[32m[I 2021-08-31 13:02:19,316]\u001b[0m Trial 144 finished with value: 2.6089877859193678 and parameters: {'lambda': 0.009780529951039884, 'alpha': 0.1194283366434551, 'colsample_bytree': 0.5, 'subsample': 0.8, 'learning_rate': 0.016, 'n_estimators': 3000, 'max_depth': 7, 'min_child_weight': 35}. Best is trial 81 with value: 2.6045684870223553.\u001b[0m\n",
      "\u001b[32m[I 2021-08-31 13:02:24,374]\u001b[0m Trial 145 finished with value: 2.7245101761399653 and parameters: {'lambda': 0.010825868895023181, 'alpha': 0.077639197963511, 'colsample_bytree': 0.5, 'subsample': 0.8, 'learning_rate': 0.016, 'n_estimators': 3000, 'max_depth': 7, 'min_child_weight': 53}. Best is trial 81 with value: 2.6045684870223553.\u001b[0m\n",
      "\u001b[32m[I 2021-08-31 13:02:29,503]\u001b[0m Trial 146 finished with value: 2.604895641929225 and parameters: {'lambda': 0.023548870160852733, 'alpha': 0.05005073327776798, 'colsample_bytree': 0.5, 'subsample': 0.8, 'learning_rate': 0.016, 'n_estimators': 3000, 'max_depth': 7, 'min_child_weight': 35}. Best is trial 81 with value: 2.6045684870223553.\u001b[0m\n",
      "\u001b[32m[I 2021-08-31 13:02:30,075]\u001b[0m Trial 147 finished with value: 4.601228747451515 and parameters: {'lambda': 0.05773392837918291, 'alpha': 0.052185176757355546, 'colsample_bytree': 0.5, 'subsample': 0.7, 'learning_rate': 0.016, 'n_estimators': 200, 'max_depth': 17, 'min_child_weight': 33}. Best is trial 81 with value: 2.6045684870223553.\u001b[0m\n",
      "\u001b[32m[I 2021-08-31 13:02:33,743]\u001b[0m Trial 148 finished with value: 2.6325529109664827 and parameters: {'lambda': 0.028789674999578473, 'alpha': 0.15680875764622285, 'colsample_bytree': 0.5, 'subsample': 0.8, 'learning_rate': 0.018, 'n_estimators': 3000, 'max_depth': 7, 'min_child_weight': 22}. Best is trial 81 with value: 2.6045684870223553.\u001b[0m\n",
      "\u001b[32m[I 2021-08-31 13:02:40,259]\u001b[0m Trial 149 finished with value: 2.6243624436227897 and parameters: {'lambda': 0.009265405159243137, 'alpha': 0.03646240294212448, 'colsample_bytree': 0.5, 'subsample': 0.8, 'learning_rate': 0.016, 'n_estimators': 3000, 'max_depth': 13, 'min_child_weight': 29}. Best is trial 81 with value: 2.6045684870223553.\u001b[0m\n",
      "\u001b[32m[I 2021-08-31 13:02:45,911]\u001b[0m Trial 150 finished with value: 2.675881798504389 and parameters: {'lambda': 0.08544543988069958, 'alpha': 0.04726167380450842, 'colsample_bytree': 0.7, 'subsample': 0.8, 'learning_rate': 0.02, 'n_estimators': 3000, 'max_depth': 7, 'min_child_weight': 56}. Best is trial 81 with value: 2.6045684870223553.\u001b[0m\n",
      "\u001b[32m[I 2021-08-31 13:02:51,782]\u001b[0m Trial 151 finished with value: 2.61418756964611 and parameters: {'lambda': 0.013586382951239165, 'alpha': 0.06512113878363221, 'colsample_bytree': 0.5, 'subsample': 0.8, 'learning_rate': 0.016, 'n_estimators': 3000, 'max_depth': 7, 'min_child_weight': 43}. Best is trial 81 with value: 2.6045684870223553.\u001b[0m\n",
      "\u001b[32m[I 2021-08-31 13:02:57,899]\u001b[0m Trial 152 finished with value: 2.605401981643766 and parameters: {'lambda': 0.007924696612044741, 'alpha': 0.0894818342507401, 'colsample_bytree': 0.5, 'subsample': 0.8, 'learning_rate': 0.016, 'n_estimators': 3000, 'max_depth': 7, 'min_child_weight': 39}. Best is trial 81 with value: 2.6045684870223553.\u001b[0m\n",
      "\u001b[32m[I 2021-08-31 13:03:02,861]\u001b[0m Trial 153 finished with value: 2.6085284104821276 and parameters: {'lambda': 0.008235370446454145, 'alpha': 0.12236930246709295, 'colsample_bytree': 0.5, 'subsample': 0.8, 'learning_rate': 0.016, 'n_estimators': 3000, 'max_depth': 7, 'min_child_weight': 36}. Best is trial 81 with value: 2.6045684870223553.\u001b[0m\n",
      "\u001b[32m[I 2021-08-31 13:03:08,362]\u001b[0m Trial 154 finished with value: 2.627264998809636 and parameters: {'lambda': 0.016470551880181553, 'alpha': 0.08992234336857426, 'colsample_bytree': 0.5, 'subsample': 0.8, 'learning_rate': 0.016, 'n_estimators': 3000, 'max_depth': 7, 'min_child_weight': 49}. Best is trial 81 with value: 2.6045684870223553.\u001b[0m\n",
      "\u001b[32m[I 2021-08-31 13:03:13,791]\u001b[0m Trial 155 finished with value: 2.6076924284996346 and parameters: {'lambda': 0.009312175677609004, 'alpha': 0.13192002894353771, 'colsample_bytree': 0.5, 'subsample': 0.8, 'learning_rate': 0.016, 'n_estimators': 3000, 'max_depth': 7, 'min_child_weight': 35}. Best is trial 81 with value: 2.6045684870223553.\u001b[0m\n",
      "\u001b[32m[I 2021-08-31 13:03:20,026]\u001b[0m Trial 156 finished with value: 2.6243817569219576 and parameters: {'lambda': 0.02157143792258384, 'alpha': 0.07977626405437835, 'colsample_bytree': 0.5, 'subsample': 0.8, 'learning_rate': 0.016, 'n_estimators': 3000, 'max_depth': 7, 'min_child_weight': 27}. Best is trial 81 with value: 2.6045684870223553.\u001b[0m\n",
      "\u001b[32m[I 2021-08-31 13:03:25,940]\u001b[0m Trial 157 finished with value: 2.614683731257567 and parameters: {'lambda': 0.011748456141286074, 'alpha': 0.14065845327920107, 'colsample_bytree': 0.5, 'subsample': 0.8, 'learning_rate': 0.014, 'n_estimators': 3000, 'max_depth': 7, 'min_child_weight': 39}. Best is trial 81 with value: 2.6045684870223553.\u001b[0m\n",
      "\u001b[32m[I 2021-08-31 13:03:29,298]\u001b[0m Trial 158 finished with value: 2.657958471287064 and parameters: {'lambda': 0.008562759833636092, 'alpha': 0.05472511020479629, 'colsample_bytree': 0.8, 'subsample': 0.8, 'learning_rate': 0.016, 'n_estimators': 3000, 'max_depth': 4, 'min_child_weight': 17}. Best is trial 81 with value: 2.6045684870223553.\u001b[0m\n",
      "\u001b[32m[I 2021-08-31 13:03:33,565]\u001b[0m Trial 159 finished with value: 3.636495121738367 and parameters: {'lambda': 0.004605920284209119, 'alpha': 0.04013308747883318, 'colsample_bytree': 0.5, 'subsample': 0.6, 'learning_rate': 0.016, 'n_estimators': 3000, 'max_depth': 5, 'min_child_weight': 62}. Best is trial 81 with value: 2.6045684870223553.\u001b[0m\n",
      "\u001b[32m[I 2021-08-31 13:03:39,079]\u001b[0m Trial 160 finished with value: 2.621288394370274 and parameters: {'lambda': 0.0064112700285527055, 'alpha': 0.07345887568155249, 'colsample_bytree': 0.5, 'subsample': 0.8, 'learning_rate': 0.016, 'n_estimators': 3000, 'max_depth': 7, 'min_child_weight': 47}. Best is trial 81 with value: 2.6045684870223553.\u001b[0m\n",
      "\u001b[32m[I 2021-08-31 13:03:44,326]\u001b[0m Trial 161 finished with value: 2.60782976317824 and parameters: {'lambda': 0.009256480266692457, 'alpha': 0.09740533718223318, 'colsample_bytree': 0.5, 'subsample': 0.8, 'learning_rate': 0.016, 'n_estimators': 3000, 'max_depth': 7, 'min_child_weight': 34}. Best is trial 81 with value: 2.6045684870223553.\u001b[0m\n",
      "\u001b[32m[I 2021-08-31 13:03:49,943]\u001b[0m Trial 162 finished with value: 2.613832557410525 and parameters: {'lambda': 0.00564257721904135, 'alpha': 0.22557794698795514, 'colsample_bytree': 0.5, 'subsample': 0.8, 'learning_rate': 0.016, 'n_estimators': 3000, 'max_depth': 7, 'min_child_weight': 33}. Best is trial 81 with value: 2.6045684870223553.\u001b[0m\n",
      "\u001b[32m[I 2021-08-31 13:03:54,313]\u001b[0m Trial 163 finished with value: 2.63551842538934 and parameters: {'lambda': 0.008660035428436526, 'alpha': 0.08499234840506156, 'colsample_bytree': 0.5, 'subsample': 0.8, 'learning_rate': 0.016, 'n_estimators': 3000, 'max_depth': 7, 'min_child_weight': 26}. Best is trial 81 with value: 2.6045684870223553.\u001b[0m\n",
      "\u001b[32m[I 2021-08-31 13:04:00,174]\u001b[0m Trial 164 finished with value: 2.6110040932370904 and parameters: {'lambda': 0.023731952739857832, 'alpha': 0.09865038911499568, 'colsample_bytree': 0.5, 'subsample': 0.8, 'learning_rate': 0.016, 'n_estimators': 3000, 'max_depth': 7, 'min_child_weight': 40}. Best is trial 81 with value: 2.6045684870223553.\u001b[0m\n",
      "\u001b[32m[I 2021-08-31 13:04:04,535]\u001b[0m Trial 165 finished with value: 2.631433035198011 and parameters: {'lambda': 0.00722743361010657, 'alpha': 0.06380853975010294, 'colsample_bytree': 0.6, 'subsample': 0.8, 'learning_rate': 0.016, 'n_estimators': 3000, 'max_depth': 7, 'min_child_weight': 21}. Best is trial 81 with value: 2.6045684870223553.\u001b[0m\n",
      "\u001b[32m[I 2021-08-31 13:04:09,749]\u001b[0m Trial 166 finished with value: 2.6150220681352225 and parameters: {'lambda': 0.011184607286561805, 'alpha': 0.17855215051968093, 'colsample_bytree': 0.5, 'subsample': 0.8, 'learning_rate': 0.016, 'n_estimators': 3000, 'max_depth': 7, 'min_child_weight': 33}. Best is trial 81 with value: 2.6045684870223553.\u001b[0m\n",
      "\u001b[32m[I 2021-08-31 13:04:15,652]\u001b[0m Trial 167 finished with value: 2.6680092895240115 and parameters: {'lambda': 0.00576978466125178, 'alpha': 0.04522179130897929, 'colsample_bytree': 0.5, 'subsample': 0.8, 'learning_rate': 0.01, 'n_estimators': 3000, 'max_depth': 9, 'min_child_weight': 44}. Best is trial 81 with value: 2.6045684870223553.\u001b[0m\n",
      "\u001b[32m[I 2021-08-31 13:04:20,914]\u001b[0m Trial 168 finished with value: 2.6770833500644615 and parameters: {'lambda': 0.007866010672931531, 'alpha': 0.12807090101104368, 'colsample_bytree': 0.5, 'subsample': 0.8, 'learning_rate': 0.016, 'n_estimators': 3000, 'max_depth': 7, 'min_child_weight': 52}. Best is trial 81 with value: 2.6045684870223553.\u001b[0m\n",
      "\u001b[32m[I 2021-08-31 13:04:26,286]\u001b[0m Trial 169 finished with value: 2.607717826352482 and parameters: {'lambda': 0.013955657231232326, 'alpha': 0.056403520209749945, 'colsample_bytree': 0.5, 'subsample': 0.8, 'learning_rate': 0.016, 'n_estimators': 3000, 'max_depth': 7, 'min_child_weight': 36}. Best is trial 81 with value: 2.6045684870223553.\u001b[0m\n",
      "\u001b[32m[I 2021-08-31 13:04:27,008]\u001b[0m Trial 170 finished with value: 3.5077422181068107 and parameters: {'lambda': 0.016917585485137353, 'alpha': 0.031949189300388786, 'colsample_bytree': 0.5, 'subsample': 0.8, 'learning_rate': 0.016, 'n_estimators': 300, 'max_depth': 7, 'min_child_weight': 28}. Best is trial 81 with value: 2.6045684870223553.\u001b[0m\n",
      "\u001b[32m[I 2021-08-31 13:04:32,208]\u001b[0m Trial 171 finished with value: 2.60658483895642 and parameters: {'lambda': 0.013956780381215093, 'alpha': 0.05681619389014798, 'colsample_bytree': 0.5, 'subsample': 0.8, 'learning_rate': 0.016, 'n_estimators': 3000, 'max_depth': 7, 'min_child_weight': 38}. Best is trial 81 with value: 2.6045684870223553.\u001b[0m\n",
      "\u001b[32m[I 2021-08-31 13:04:37,831]\u001b[0m Trial 172 finished with value: 2.6256799474794263 and parameters: {'lambda': 0.014061839831779136, 'alpha': 0.057869744250486285, 'colsample_bytree': 0.5, 'subsample': 0.8, 'learning_rate': 0.016, 'n_estimators': 3000, 'max_depth': 7, 'min_child_weight': 45}. Best is trial 81 with value: 2.6045684870223553.\u001b[0m\n",
      "\u001b[32m[I 2021-08-31 13:04:43,308]\u001b[0m Trial 173 finished with value: 2.612253367552283 and parameters: {'lambda': 0.019561382261842564, 'alpha': 0.07115029776803156, 'colsample_bytree': 0.5, 'subsample': 0.8, 'learning_rate': 0.016, 'n_estimators': 3000, 'max_depth': 7, 'min_child_weight': 40}. Best is trial 81 with value: 2.6045684870223553.\u001b[0m\n",
      "\u001b[32m[I 2021-08-31 13:04:48,575]\u001b[0m Trial 174 finished with value: 2.6176537463539526 and parameters: {'lambda': 0.012534768243833958, 'alpha': 0.04792714252695963, 'colsample_bytree': 0.5, 'subsample': 0.8, 'learning_rate': 0.016, 'n_estimators': 3000, 'max_depth': 7, 'min_child_weight': 33}. Best is trial 81 with value: 2.6045684870223553.\u001b[0m\n",
      "\u001b[32m[I 2021-08-31 13:04:54,208]\u001b[0m Trial 175 finished with value: 2.620944368908977 and parameters: {'lambda': 0.030417245325915925, 'alpha': 0.0403627838829803, 'colsample_bytree': 0.5, 'subsample': 0.8, 'learning_rate': 0.016, 'n_estimators': 3000, 'max_depth': 7, 'min_child_weight': 28}. Best is trial 81 with value: 2.6045684870223553.\u001b[0m\n",
      "\u001b[32m[I 2021-08-31 13:05:00,280]\u001b[0m Trial 176 finished with value: 2.620309154889737 and parameters: {'lambda': 0.014678924580386353, 'alpha': 0.057330946866553587, 'colsample_bytree': 0.5, 'subsample': 0.8, 'learning_rate': 0.016, 'n_estimators': 3000, 'max_depth': 7, 'min_child_weight': 48}. Best is trial 81 with value: 2.6045684870223553.\u001b[0m\n",
      "\u001b[32m[I 2021-08-31 13:05:07,689]\u001b[0m Trial 177 finished with value: 2.628176928960789 and parameters: {'lambda': 0.010068745591841014, 'alpha': 0.0940102621456338, 'colsample_bytree': 0.5, 'subsample': 0.8, 'learning_rate': 0.009, 'n_estimators': 3000, 'max_depth': 11, 'min_child_weight': 21}. Best is trial 81 with value: 2.6045684870223553.\u001b[0m\n",
      "\u001b[32m[I 2021-08-31 13:05:12,911]\u001b[0m Trial 178 finished with value: 2.6081105784366003 and parameters: {'lambda': 0.004382602782734451, 'alpha': 0.07397205108978476, 'colsample_bytree': 0.5, 'subsample': 0.8, 'learning_rate': 0.016, 'n_estimators': 3000, 'max_depth': 7, 'min_child_weight': 38}. Best is trial 81 with value: 2.6045684870223553.\u001b[0m\n",
      "\u001b[32m[I 2021-08-31 13:05:13,246]\u001b[0m Trial 179 finished with value: 6.550817840977719 and parameters: {'lambda': 0.004142527370284034, 'alpha': 0.07281736753343833, 'colsample_bytree': 1.0, 'subsample': 0.8, 'learning_rate': 0.016, 'n_estimators': 150, 'max_depth': 7, 'min_child_weight': 57}. Best is trial 81 with value: 2.6045684870223553.\u001b[0m\n",
      "\u001b[32m[I 2021-08-31 13:05:19,177]\u001b[0m Trial 180 finished with value: 2.6050605216221503 and parameters: {'lambda': 0.004631870546478518, 'alpha': 0.08415157723412746, 'colsample_bytree': 0.5, 'subsample': 0.8, 'learning_rate': 0.016, 'n_estimators': 3000, 'max_depth': 7, 'min_child_weight': 39}. Best is trial 81 with value: 2.6045684870223553.\u001b[0m\n",
      "\u001b[32m[I 2021-08-31 13:05:24,489]\u001b[0m Trial 181 finished with value: 2.610399770457842 and parameters: {'lambda': 0.005176493661430405, 'alpha': 0.08799279527478679, 'colsample_bytree': 0.5, 'subsample': 0.8, 'learning_rate': 0.016, 'n_estimators': 3000, 'max_depth': 7, 'min_child_weight': 38}. Best is trial 81 with value: 2.6045684870223553.\u001b[0m\n",
      "\u001b[32m[I 2021-08-31 13:05:30,240]\u001b[0m Trial 182 finished with value: 2.6095130875793813 and parameters: {'lambda': 0.006591357306228454, 'alpha': 0.06262333296409427, 'colsample_bytree': 0.5, 'subsample': 0.8, 'learning_rate': 0.016, 'n_estimators': 3000, 'max_depth': 7, 'min_child_weight': 42}. Best is trial 81 with value: 2.6045684870223553.\u001b[0m\n",
      "\u001b[32m[I 2021-08-31 13:05:35,842]\u001b[0m Trial 183 finished with value: 2.6278928232471843 and parameters: {'lambda': 0.004461743191154785, 'alpha': 0.08011403783565413, 'colsample_bytree': 0.5, 'subsample': 0.8, 'learning_rate': 0.016, 'n_estimators': 3000, 'max_depth': 7, 'min_child_weight': 49}. Best is trial 81 with value: 2.6045684870223553.\u001b[0m\n",
      "\u001b[32m[I 2021-08-31 13:05:41,473]\u001b[0m Trial 184 finished with value: 2.6216856025115787 and parameters: {'lambda': 0.003502321803964283, 'alpha': 0.0514027802800711, 'colsample_bytree': 0.5, 'subsample': 0.8, 'learning_rate': 0.016, 'n_estimators': 3000, 'max_depth': 7, 'min_child_weight': 31}. Best is trial 81 with value: 2.6045684870223553.\u001b[0m\n",
      "\u001b[32m[I 2021-08-31 13:05:44,766]\u001b[0m Trial 185 finished with value: 5.968623981141207 and parameters: {'lambda': 0.005994899158729194, 'alpha': 0.09575169486610334, 'colsample_bytree': 0.5, 'subsample': 0.8, 'learning_rate': 0.016, 'n_estimators': 3000, 'max_depth': 7, 'min_child_weight': 260}. Best is trial 81 with value: 2.6045684870223553.\u001b[0m\n",
      "\u001b[32m[I 2021-08-31 13:05:50,747]\u001b[0m Trial 186 finished with value: 2.6822401180601956 and parameters: {'lambda': 0.010859403692892282, 'alpha': 0.06420926112289645, 'colsample_bytree': 0.5, 'subsample': 0.8, 'learning_rate': 0.008, 'n_estimators': 3000, 'max_depth': 7, 'min_child_weight': 38}. Best is trial 81 with value: 2.6045684870223553.\u001b[0m\n",
      "\u001b[32m[I 2021-08-31 13:05:56,660]\u001b[0m Trial 187 finished with value: 2.610139294674522 and parameters: {'lambda': 0.004381681532277344, 'alpha': 0.10724614253688648, 'colsample_bytree': 0.5, 'subsample': 0.8, 'learning_rate': 0.016, 'n_estimators': 3000, 'max_depth': 7, 'min_child_weight': 43}. Best is trial 81 with value: 2.6045684870223553.\u001b[0m\n",
      "\u001b[32m[I 2021-08-31 13:06:03,725]\u001b[0m Trial 188 finished with value: 2.6383039296021935 and parameters: {'lambda': 0.009137444824298385, 'alpha': 0.07452366814603036, 'colsample_bytree': 0.5, 'subsample': 1.0, 'learning_rate': 0.016, 'n_estimators': 3000, 'max_depth': 15, 'min_child_weight': 28}. Best is trial 81 with value: 2.6045684870223553.\u001b[0m\n",
      "\u001b[32m[I 2021-08-31 13:06:10,193]\u001b[0m Trial 189 finished with value: 2.6613267708940116 and parameters: {'lambda': 0.024391767430484206, 'alpha': 0.044347821794640405, 'colsample_bytree': 0.9, 'subsample': 0.8, 'learning_rate': 0.012, 'n_estimators': 3000, 'max_depth': 7, 'min_child_weight': 36}. Best is trial 81 with value: 2.6045684870223553.\u001b[0m\n",
      "\u001b[32m[I 2021-08-31 13:06:14,384]\u001b[0m Trial 190 finished with value: 2.6435700466758325 and parameters: {'lambda': 0.006913415075215785, 'alpha': 0.0545503780716764, 'colsample_bytree': 0.5, 'subsample': 0.8, 'learning_rate': 0.016, 'n_estimators': 3000, 'max_depth': 7, 'min_child_weight': 13}. Best is trial 81 with value: 2.6045684870223553.\u001b[0m\n",
      "\u001b[32m[I 2021-08-31 13:06:19,881]\u001b[0m Trial 191 finished with value: 2.6075448878327308 and parameters: {'lambda': 0.003414102202964884, 'alpha': 0.03500304947588921, 'colsample_bytree': 0.5, 'subsample': 0.8, 'learning_rate': 0.016, 'n_estimators': 3000, 'max_depth': 7, 'min_child_weight': 34}. Best is trial 81 with value: 2.6045684870223553.\u001b[0m\n",
      "\u001b[32m[I 2021-08-31 13:06:24,156]\u001b[0m Trial 192 finished with value: 2.633871491192377 and parameters: {'lambda': 0.005219689977659882, 'alpha': 1.9065215112525384, 'colsample_bytree': 0.5, 'subsample': 0.8, 'learning_rate': 0.016, 'n_estimators': 3000, 'max_depth': 7, 'min_child_weight': 23}. Best is trial 81 with value: 2.6045684870223553.\u001b[0m\n",
      "\u001b[32m[I 2021-08-31 13:06:29,447]\u001b[0m Trial 193 finished with value: 2.6087702924047993 and parameters: {'lambda': 0.003157086148158684, 'alpha': 0.03607355335562831, 'colsample_bytree': 0.5, 'subsample': 0.8, 'learning_rate': 0.016, 'n_estimators': 3000, 'max_depth': 7, 'min_child_weight': 34}. Best is trial 81 with value: 2.6045684870223553.\u001b[0m\n",
      "\u001b[32m[I 2021-08-31 13:06:35,067]\u001b[0m Trial 194 finished with value: 2.622386374668768 and parameters: {'lambda': 0.003923739536233001, 'alpha': 0.025610222656006723, 'colsample_bytree': 0.5, 'subsample': 0.8, 'learning_rate': 0.016, 'n_estimators': 3000, 'max_depth': 7, 'min_child_weight': 45}. Best is trial 81 with value: 2.6045684870223553.\u001b[0m\n",
      "\u001b[32m[I 2021-08-31 13:06:35,451]\u001b[0m Trial 195 finished with value: 5.317294126365617 and parameters: {'lambda': 0.0034137692988236105, 'alpha': 0.0670879869805877, 'colsample_bytree': 0.5, 'subsample': 0.7, 'learning_rate': 0.016, 'n_estimators': 200, 'max_depth': 7, 'min_child_weight': 53}. Best is trial 81 with value: 2.6045684870223553.\u001b[0m\n",
      "\u001b[32m[I 2021-08-31 13:06:40,668]\u001b[0m Trial 196 finished with value: 2.6118067021955524 and parameters: {'lambda': 0.005265155858259976, 'alpha': 0.08316210372764292, 'colsample_bytree': 0.5, 'subsample': 0.8, 'learning_rate': 0.016, 'n_estimators': 3000, 'max_depth': 7, 'min_child_weight': 40}. Best is trial 81 with value: 2.6045684870223553.\u001b[0m\n",
      "\u001b[32m[I 2021-08-31 13:06:46,439]\u001b[0m Trial 197 finished with value: 2.6261057323879666 and parameters: {'lambda': 0.018577445779825178, 'alpha': 0.05062863861288605, 'colsample_bytree': 0.5, 'subsample': 0.8, 'learning_rate': 0.018, 'n_estimators': 3000, 'max_depth': 7, 'min_child_weight': 29}. Best is trial 81 with value: 2.6045684870223553.\u001b[0m\n",
      "\u001b[32m[I 2021-08-31 13:06:51,545]\u001b[0m Trial 198 finished with value: 2.6090154815138433 and parameters: {'lambda': 0.007347081035510349, 'alpha': 0.11477654705699511, 'colsample_bytree': 0.5, 'subsample': 0.8, 'learning_rate': 0.016, 'n_estimators': 3000, 'max_depth': 7, 'min_child_weight': 35}. Best is trial 81 with value: 2.6045684870223553.\u001b[0m\n",
      "\u001b[32m[I 2021-08-31 13:06:58,492]\u001b[0m Trial 199 finished with value: 2.6258423342342265 and parameters: {'lambda': 0.009562656702220623, 'alpha': 0.041290977786811, 'colsample_bytree': 0.7, 'subsample': 0.8, 'learning_rate': 0.016, 'n_estimators': 3000, 'max_depth': 17, 'min_child_weight': 47}. Best is trial 81 with value: 2.6045684870223553.\u001b[0m\n"
     ]
    },
    {
     "name": "stdout",
     "output_type": "stream",
     "text": [
      "Number of finished trials: 200\n",
      "Best trial: {'lambda': 0.004508685436604593, 'alpha': 0.06418004670018108, 'colsample_bytree': 0.5, 'subsample': 0.8, 'learning_rate': 0.016, 'n_estimators': 3000, 'max_depth': 7, 'min_child_weight': 39}\n"
     ]
    }
   ],
   "source": [
    "study = optuna.create_study(direction='minimize')\n",
    "study.optimize(objective, n_trials=200)\n",
    "print('Number of finished trials:', len(study.trials))\n",
    "print('Best trial:', study.best_trial.params)"
   ]
  },
  {
   "cell_type": "code",
   "execution_count": 14,
   "id": "85c7ae94",
   "metadata": {
    "execution": {
     "iopub.execute_input": "2021-08-31T13:06:58.761194Z",
     "iopub.status.busy": "2021-08-31T13:06:58.760508Z",
     "iopub.status.idle": "2021-08-31T13:06:58.763254Z",
     "shell.execute_reply": "2021-08-31T13:06:58.762853Z",
     "shell.execute_reply.started": "2021-08-31T12:29:16.140072Z"
    },
    "papermill": {
     "duration": 0.083896,
     "end_time": "2021-08-31T13:06:58.763360",
     "exception": false,
     "start_time": "2021-08-31T13:06:58.679464",
     "status": "completed"
    },
    "tags": []
   },
   "outputs": [],
   "source": [
    "def lgbm_objective(trial):\n",
    "    # To select which parameters to optimize, please look at the XGBoost documentation:\n",
    "    # https://xgboost.readthedocs.io/en/latest/parameter.html\n",
    "    param = {\n",
    "        \"objective\": \"regression\",\n",
    "        \"metric\": \"mae\",\n",
    "        \"verbosity\": -1,\n",
    "        \"boosting_type\": \"gbdt\",\n",
    "        \"lambda_l1\": trial.suggest_float(\"lambda_l1\", 1e-8, 10.0, log=True),\n",
    "        \"lambda_l2\": trial.suggest_float(\"lambda_l2\", 1e-8, 10.0, log=True),\n",
    "        \"num_leaves\": trial.suggest_int(\"num_leaves\", 2, 256),\n",
    "        \"feature_fraction\": trial.suggest_float(\"feature_fraction\", 0.4, 1.0),\n",
    "        \"bagging_fraction\": trial.suggest_float(\"bagging_fraction\", 0.4, 1.0),\n",
    "        \"bagging_freq\": trial.suggest_int(\"bagging_freq\", 1, 7),\n",
    "        \"min_child_samples\": trial.suggest_int(\"min_child_samples\", 5, 100),\n",
    "    }\n",
    "    model = LGBMRegressor(**param)  \n",
    "    \n",
    "    model.fit(X_train,y_train,eval_set=[(X_val,y_val)],early_stopping_rounds=100,verbose=False)\n",
    "    \n",
    "    preds = model.predict(X_val)\n",
    "    \n",
    "    mae = mean_absolute_error(y_val, preds)\n",
    "    \n",
    "    return mae"
   ]
  },
  {
   "cell_type": "code",
   "execution_count": 15,
   "id": "3aef67a0",
   "metadata": {
    "execution": {
     "iopub.execute_input": "2021-08-31T13:06:58.917634Z",
     "iopub.status.busy": "2021-08-31T13:06:58.916921Z",
     "iopub.status.idle": "2021-08-31T13:06:58.919557Z",
     "shell.execute_reply": "2021-08-31T13:06:58.919056Z"
    },
    "papermill": {
     "duration": 0.082484,
     "end_time": "2021-08-31T13:06:58.919656",
     "exception": false,
     "start_time": "2021-08-31T13:06:58.837172",
     "status": "completed"
    },
    "tags": []
   },
   "outputs": [],
   "source": [
    "def cat_objective(trial):\n",
    "    # To select which parameters to optimize, please look at the XGBoost documentation:\n",
    "    # https://xgboost.readthedocs.io/en/latest/parameter.html\n",
    "    param = {\n",
    "        \"objective\": \"regression\",\n",
    "        \"metric\": \"mae\",\n",
    "        \"verbosity\": -1,\n",
    "        \"boosting_type\": \"gbdt\",\n",
    "        \"lambda_l1\": trial.suggest_float(\"lambda_l1\", 1e-8, 10.0, log=True),\n",
    "        \"lambda_l2\": trial.suggest_float(\"lambda_l2\", 1e-8, 10.0, log=True),\n",
    "        \"num_leaves\": trial.suggest_int(\"num_leaves\", 2, 256),\n",
    "        \"feature_fraction\": trial.suggest_float(\"feature_fraction\", 0.4, 1.0),\n",
    "        \"bagging_fraction\": trial.suggest_float(\"bagging_fraction\", 0.4, 1.0),\n",
    "        \"bagging_freq\": trial.suggest_int(\"bagging_freq\", 1, 7),\n",
    "        \"min_child_samples\": trial.suggest_int(\"min_child_samples\", 5, 100),\n",
    "    }\n",
    "    model = LGBMRegressor(**param)  \n",
    "    \n",
    "    model.fit(X_train,y_train,eval_set=[(X_val,y_val)],early_stopping_rounds=100,verbose=False)\n",
    "    \n",
    "    preds = model.predict(X_val)\n",
    "    \n",
    "    mae = mean_absolute_error(y_val, preds)\n",
    "    \n",
    "    return mae"
   ]
  },
  {
   "cell_type": "code",
   "execution_count": 16,
   "id": "26f3d6d9",
   "metadata": {
    "execution": {
     "iopub.execute_input": "2021-08-31T13:06:59.071418Z",
     "iopub.status.busy": "2021-08-31T13:06:59.070670Z",
     "iopub.status.idle": "2021-08-31T13:07:26.468444Z",
     "shell.execute_reply": "2021-08-31T13:07:26.468877Z",
     "shell.execute_reply.started": "2021-08-31T12:29:36.940466Z"
    },
    "papermill": {
     "duration": 27.475983,
     "end_time": "2021-08-31T13:07:26.469030",
     "exception": false,
     "start_time": "2021-08-31T13:06:58.993047",
     "status": "completed"
    },
    "tags": []
   },
   "outputs": [
    {
     "name": "stderr",
     "output_type": "stream",
     "text": [
      "\u001b[32m[I 2021-08-31 13:06:59,069]\u001b[0m A new study created in memory with name: no-name-86bacc3f-74c1-4c0c-a319-f835d718cf1c\u001b[0m\n",
      "\u001b[32m[I 2021-08-31 13:06:59,141]\u001b[0m Trial 0 finished with value: 4.927542784768548 and parameters: {'lambda_l1': 1.713692109696966e-05, 'lambda_l2': 3.390059245630015e-05, 'num_leaves': 107, 'feature_fraction': 0.733551333144171, 'bagging_fraction': 0.41301446174134276, 'bagging_freq': 6, 'min_child_samples': 81}. Best is trial 0 with value: 4.927542784768548.\u001b[0m\n",
      "\u001b[32m[I 2021-08-31 13:06:59,258]\u001b[0m Trial 1 finished with value: 2.719098097331571 and parameters: {'lambda_l1': 1.5557229533441639e-07, 'lambda_l2': 0.00938116890634378, 'num_leaves': 54, 'feature_fraction': 0.9017024132598177, 'bagging_fraction': 0.4794759334591751, 'bagging_freq': 3, 'min_child_samples': 12}. Best is trial 1 with value: 2.719098097331571.\u001b[0m\n"
     ]
    },
    {
     "name": "stdout",
     "output_type": "stream",
     "text": [
      "[LightGBM] [Warning] bagging_freq is set=6, subsample_freq=0 will be ignored. Current value: bagging_freq=6\n",
      "[LightGBM] [Warning] feature_fraction is set=0.733551333144171, colsample_bytree=1.0 will be ignored. Current value: feature_fraction=0.733551333144171\n",
      "[LightGBM] [Warning] bagging_fraction is set=0.41301446174134276, subsample=1.0 will be ignored. Current value: bagging_fraction=0.41301446174134276\n",
      "[LightGBM] [Warning] lambda_l2 is set=3.390059245630015e-05, reg_lambda=0.0 will be ignored. Current value: lambda_l2=3.390059245630015e-05\n",
      "[LightGBM] [Warning] lambda_l1 is set=1.713692109696966e-05, reg_alpha=0.0 will be ignored. Current value: lambda_l1=1.713692109696966e-05\n",
      "[LightGBM] [Warning] bagging_freq is set=3, subsample_freq=0 will be ignored. Current value: bagging_freq=3\n",
      "[LightGBM] [Warning] feature_fraction is set=0.9017024132598177, colsample_bytree=1.0 will be ignored. Current value: feature_fraction=0.9017024132598177\n",
      "[LightGBM] [Warning] bagging_fraction is set=0.4794759334591751, subsample=1.0 will be ignored. Current value: bagging_fraction=0.4794759334591751\n",
      "[LightGBM] [Warning] lambda_l2 is set=0.00938116890634378, reg_lambda=0.0 will be ignored. Current value: lambda_l2=0.00938116890634378\n",
      "[LightGBM] [Warning] lambda_l1 is set=1.5557229533441639e-07, reg_alpha=0.0 will be ignored. Current value: lambda_l1=1.5557229533441639e-07\n",
      "[LightGBM] [Warning] bagging_freq is set=7, subsample_freq=0 will be ignored. Current value: bagging_freq=7\n",
      "[LightGBM] [Warning] feature_fraction is set=0.4136834582467992, colsample_bytree=1.0 will be ignored. Current value: feature_fraction=0.4136834582467992\n",
      "[LightGBM] [Warning] bagging_fraction is set=0.8228340952447666, subsample=1.0 will be ignored. Current value: bagging_fraction=0.8228340952447666\n",
      "[LightGBM] [Warning] lambda_l2 is set=0.0035314251879959733, reg_lambda=0.0 will be ignored. Current value: lambda_l2=0.0035314251879959733\n",
      "[LightGBM] [Warning] lambda_l1 is set=0.0002260432278411291, reg_alpha=0.0 will be ignored. Current value: lambda_l1=0.0002260432278411291\n"
     ]
    },
    {
     "name": "stderr",
     "output_type": "stream",
     "text": [
      "\u001b[32m[I 2021-08-31 13:06:59,386]\u001b[0m Trial 2 finished with value: 3.1207364020388333 and parameters: {'lambda_l1': 0.0002260432278411291, 'lambda_l2': 0.0035314251879959733, 'num_leaves': 92, 'feature_fraction': 0.4136834582467992, 'bagging_fraction': 0.8228340952447666, 'bagging_freq': 7, 'min_child_samples': 62}. Best is trial 1 with value: 2.719098097331571.\u001b[0m\n",
      "\u001b[32m[I 2021-08-31 13:06:59,542]\u001b[0m Trial 3 finished with value: 2.7897847984952007 and parameters: {'lambda_l1': 7.441763681411817e-08, 'lambda_l2': 7.673378809821379e-06, 'num_leaves': 214, 'feature_fraction': 0.5665010727765203, 'bagging_fraction': 0.9777241790881985, 'bagging_freq': 7, 'min_child_samples': 56}. Best is trial 1 with value: 2.719098097331571.\u001b[0m\n"
     ]
    },
    {
     "name": "stdout",
     "output_type": "stream",
     "text": [
      "[LightGBM] [Warning] bagging_freq is set=7, subsample_freq=0 will be ignored. Current value: bagging_freq=7\n",
      "[LightGBM] [Warning] feature_fraction is set=0.5665010727765203, colsample_bytree=1.0 will be ignored. Current value: feature_fraction=0.5665010727765203\n",
      "[LightGBM] [Warning] bagging_fraction is set=0.9777241790881985, subsample=1.0 will be ignored. Current value: bagging_fraction=0.9777241790881985\n",
      "[LightGBM] [Warning] lambda_l2 is set=7.673378809821379e-06, reg_lambda=0.0 will be ignored. Current value: lambda_l2=7.673378809821379e-06\n",
      "[LightGBM] [Warning] lambda_l1 is set=7.441763681411817e-08, reg_alpha=0.0 will be ignored. Current value: lambda_l1=7.441763681411817e-08\n",
      "[LightGBM] [Warning] bagging_freq is set=1, subsample_freq=0 will be ignored. Current value: bagging_freq=1\n",
      "[LightGBM] [Warning] feature_fraction is set=0.9945996665481539, colsample_bytree=1.0 will be ignored. Current value: feature_fraction=0.9945996665481539\n",
      "[LightGBM] [Warning] bagging_fraction is set=0.5360576252977897, subsample=1.0 will be ignored. Current value: bagging_fraction=0.5360576252977897\n",
      "[LightGBM] [Warning] lambda_l2 is set=2.320697837884449e-08, reg_lambda=0.0 will be ignored. Current value: lambda_l2=2.320697837884449e-08\n",
      "[LightGBM] [Warning] lambda_l1 is set=0.0002425137781892736, reg_alpha=0.0 will be ignored. Current value: lambda_l1=0.0002425137781892736\n"
     ]
    },
    {
     "name": "stderr",
     "output_type": "stream",
     "text": [
      "\u001b[32m[I 2021-08-31 13:06:59,656]\u001b[0m Trial 4 finished with value: 4.180011327482156 and parameters: {'lambda_l1': 0.0002425137781892736, 'lambda_l2': 2.320697837884449e-08, 'num_leaves': 44, 'feature_fraction': 0.9945996665481539, 'bagging_fraction': 0.5360576252977897, 'bagging_freq': 1, 'min_child_samples': 86}. Best is trial 1 with value: 2.719098097331571.\u001b[0m\n",
      "\u001b[32m[I 2021-08-31 13:06:59,784]\u001b[0m Trial 5 finished with value: 4.0198324587294305 and parameters: {'lambda_l1': 7.018293193686061e-07, 'lambda_l2': 2.766442582783176e-07, 'num_leaves': 5, 'feature_fraction': 0.9951817854901577, 'bagging_fraction': 0.5908059464862193, 'bagging_freq': 4, 'min_child_samples': 47}. Best is trial 1 with value: 2.719098097331571.\u001b[0m\n"
     ]
    },
    {
     "name": "stdout",
     "output_type": "stream",
     "text": [
      "[LightGBM] [Warning] bagging_freq is set=4, subsample_freq=0 will be ignored. Current value: bagging_freq=4\n",
      "[LightGBM] [Warning] feature_fraction is set=0.9951817854901577, colsample_bytree=1.0 will be ignored. Current value: feature_fraction=0.9951817854901577\n",
      "[LightGBM] [Warning] bagging_fraction is set=0.5908059464862193, subsample=1.0 will be ignored. Current value: bagging_fraction=0.5908059464862193\n",
      "[LightGBM] [Warning] lambda_l2 is set=2.766442582783176e-07, reg_lambda=0.0 will be ignored. Current value: lambda_l2=2.766442582783176e-07\n",
      "[LightGBM] [Warning] lambda_l1 is set=7.018293193686061e-07, reg_alpha=0.0 will be ignored. Current value: lambda_l1=7.018293193686061e-07\n",
      "[LightGBM] [Warning] bagging_freq is set=3, subsample_freq=0 will be ignored. Current value: bagging_freq=3\n",
      "[LightGBM] [Warning] feature_fraction is set=0.6198407462944953, colsample_bytree=1.0 will be ignored. Current value: feature_fraction=0.6198407462944953\n",
      "[LightGBM] [Warning] bagging_fraction is set=0.5135005200915834, subsample=1.0 will be ignored. Current value: bagging_fraction=0.5135005200915834\n",
      "[LightGBM] [Warning] lambda_l2 is set=5.726324909556958e-05, reg_lambda=0.0 will be ignored. Current value: lambda_l2=5.726324909556958e-05\n",
      "[LightGBM] [Warning] lambda_l1 is set=1.6490396567723943e-08, reg_alpha=0.0 will be ignored. Current value: lambda_l1=1.6490396567723943e-08\n"
     ]
    },
    {
     "name": "stderr",
     "output_type": "stream",
     "text": [
      "\u001b[32m[I 2021-08-31 13:06:59,871]\u001b[0m Trial 6 finished with value: 4.618667187310647 and parameters: {'lambda_l1': 1.6490396567723943e-08, 'lambda_l2': 5.726324909556958e-05, 'num_leaves': 247, 'feature_fraction': 0.6198407462944953, 'bagging_fraction': 0.5135005200915834, 'bagging_freq': 3, 'min_child_samples': 94}. Best is trial 1 with value: 2.719098097331571.\u001b[0m\n",
      "\u001b[32m[I 2021-08-31 13:06:59,941]\u001b[0m Trial 7 finished with value: 2.782886536999254 and parameters: {'lambda_l1': 0.00013039311754200846, 'lambda_l2': 2.8651347840069897e-08, 'num_leaves': 83, 'feature_fraction': 0.9018028142134182, 'bagging_fraction': 0.8563934420664614, 'bagging_freq': 5, 'min_child_samples': 41}. Best is trial 1 with value: 2.719098097331571.\u001b[0m\n",
      "\u001b[32m[I 2021-08-31 13:06:59,992]\u001b[0m Trial 8 finished with value: 3.3993684298011004 and parameters: {'lambda_l1': 0.0033729310967798563, 'lambda_l2': 1.4789859017270546, 'num_leaves': 250, 'feature_fraction': 0.9169196478019196, 'bagging_fraction': 0.4606753349055096, 'bagging_freq': 3, 'min_child_samples': 53}. Best is trial 1 with value: 2.719098097331571.\u001b[0m\n"
     ]
    },
    {
     "name": "stdout",
     "output_type": "stream",
     "text": [
      "[LightGBM] [Warning] bagging_freq is set=5, subsample_freq=0 will be ignored. Current value: bagging_freq=5\n",
      "[LightGBM] [Warning] feature_fraction is set=0.9018028142134182, colsample_bytree=1.0 will be ignored. Current value: feature_fraction=0.9018028142134182\n",
      "[LightGBM] [Warning] bagging_fraction is set=0.8563934420664614, subsample=1.0 will be ignored. Current value: bagging_fraction=0.8563934420664614\n",
      "[LightGBM] [Warning] lambda_l2 is set=2.8651347840069897e-08, reg_lambda=0.0 will be ignored. Current value: lambda_l2=2.8651347840069897e-08\n",
      "[LightGBM] [Warning] lambda_l1 is set=0.00013039311754200846, reg_alpha=0.0 will be ignored. Current value: lambda_l1=0.00013039311754200846\n",
      "[LightGBM] [Warning] bagging_freq is set=3, subsample_freq=0 will be ignored. Current value: bagging_freq=3\n",
      "[LightGBM] [Warning] feature_fraction is set=0.9169196478019196, colsample_bytree=1.0 will be ignored. Current value: feature_fraction=0.9169196478019196\n",
      "[LightGBM] [Warning] bagging_fraction is set=0.4606753349055096, subsample=1.0 will be ignored. Current value: bagging_fraction=0.4606753349055096\n",
      "[LightGBM] [Warning] lambda_l2 is set=1.4789859017270546, reg_lambda=0.0 will be ignored. Current value: lambda_l2=1.4789859017270546\n",
      "[LightGBM] [Warning] lambda_l1 is set=0.0033729310967798563, reg_alpha=0.0 will be ignored. Current value: lambda_l1=0.0033729310967798563\n",
      "[LightGBM] [Warning] bagging_freq is set=6, subsample_freq=0 will be ignored. Current value: bagging_freq=6\n",
      "[LightGBM] [Warning] feature_fraction is set=0.6205516980630571, colsample_bytree=1.0 will be ignored. Current value: feature_fraction=0.6205516980630571\n",
      "[LightGBM] [Warning] bagging_fraction is set=0.939069488939242, subsample=1.0 will be ignored. Current value: bagging_fraction=0.939069488939242\n",
      "[LightGBM] [Warning] lambda_l2 is set=0.07259109871605604, reg_lambda=0.0 will be ignored. Current value: lambda_l2=0.07259109871605604\n",
      "[LightGBM] [Warning] lambda_l1 is set=2.4011109632510377e-05, reg_alpha=0.0 will be ignored. Current value: lambda_l1=2.4011109632510377e-05\n"
     ]
    },
    {
     "name": "stderr",
     "output_type": "stream",
     "text": [
      "\u001b[32m[I 2021-08-31 13:07:00,093]\u001b[0m Trial 9 finished with value: 2.6669305649303827 and parameters: {'lambda_l1': 2.4011109632510377e-05, 'lambda_l2': 0.07259109871605604, 'num_leaves': 35, 'feature_fraction': 0.6205516980630571, 'bagging_fraction': 0.939069488939242, 'bagging_freq': 6, 'min_child_samples': 19}. Best is trial 9 with value: 2.6669305649303827.\u001b[0m\n",
      "\u001b[32m[I 2021-08-31 13:07:00,209]\u001b[0m Trial 10 finished with value: 2.5815019464413655 and parameters: {'lambda_l1': 0.877071069042963, 'lambda_l2': 9.827750785230517, 'num_leaves': 170, 'feature_fraction': 0.4359930967856657, 'bagging_fraction': 0.9864694344101067, 'bagging_freq': 6, 'min_child_samples': 8}. Best is trial 10 with value: 2.5815019464413655.\u001b[0m\n",
      "\u001b[32m[I 2021-08-31 13:07:00,321]\u001b[0m Trial 11 finished with value: 2.6013468458005162 and parameters: {'lambda_l1': 6.836719343937707, 'lambda_l2': 9.989356231139825, 'num_leaves': 161, 'feature_fraction': 0.4069929084864392, 'bagging_fraction': 0.9929389281352443, 'bagging_freq': 6, 'min_child_samples': 6}. Best is trial 10 with value: 2.5815019464413655.\u001b[0m\n"
     ]
    },
    {
     "name": "stdout",
     "output_type": "stream",
     "text": [
      "[LightGBM] [Warning] bagging_freq is set=6, subsample_freq=0 will be ignored. Current value: bagging_freq=6\n",
      "[LightGBM] [Warning] feature_fraction is set=0.4359930967856657, colsample_bytree=1.0 will be ignored. Current value: feature_fraction=0.4359930967856657\n",
      "[LightGBM] [Warning] bagging_fraction is set=0.9864694344101067, subsample=1.0 will be ignored. Current value: bagging_fraction=0.9864694344101067\n",
      "[LightGBM] [Warning] lambda_l2 is set=9.827750785230517, reg_lambda=0.0 will be ignored. Current value: lambda_l2=9.827750785230517\n",
      "[LightGBM] [Warning] lambda_l1 is set=0.877071069042963, reg_alpha=0.0 will be ignored. Current value: lambda_l1=0.877071069042963\n",
      "[LightGBM] [Warning] bagging_freq is set=6, subsample_freq=0 will be ignored. Current value: bagging_freq=6\n",
      "[LightGBM] [Warning] feature_fraction is set=0.4069929084864392, colsample_bytree=1.0 will be ignored. Current value: feature_fraction=0.4069929084864392\n",
      "[LightGBM] [Warning] bagging_fraction is set=0.9929389281352443, subsample=1.0 will be ignored. Current value: bagging_fraction=0.9929389281352443\n",
      "[LightGBM] [Warning] lambda_l2 is set=9.989356231139825, reg_lambda=0.0 will be ignored. Current value: lambda_l2=9.989356231139825\n",
      "[LightGBM] [Warning] lambda_l1 is set=6.836719343937707, reg_alpha=0.0 will be ignored. Current value: lambda_l1=6.836719343937707\n"
     ]
    },
    {
     "name": "stderr",
     "output_type": "stream",
     "text": [
      "\u001b[32m[I 2021-08-31 13:07:00,430]\u001b[0m Trial 12 finished with value: 2.636282726990463 and parameters: {'lambda_l1': 4.9487148909293515, 'lambda_l2': 8.532627837648299, 'num_leaves': 167, 'feature_fraction': 0.4094705812483784, 'bagging_fraction': 0.7316624642241496, 'bagging_freq': 5, 'min_child_samples': 5}. Best is trial 10 with value: 2.5815019464413655.\u001b[0m\n",
      "\u001b[32m[I 2021-08-31 13:07:00,528]\u001b[0m Trial 13 finished with value: 2.6948762696022133 and parameters: {'lambda_l1': 9.978525384692855, 'lambda_l2': 0.8134008313505999, 'num_leaves': 161, 'feature_fraction': 0.4901620332148449, 'bagging_fraction': 0.9886478760799347, 'bagging_freq': 6, 'min_child_samples': 28}. Best is trial 10 with value: 2.5815019464413655.\u001b[0m\n"
     ]
    },
    {
     "name": "stdout",
     "output_type": "stream",
     "text": [
      "[LightGBM] [Warning] bagging_freq is set=5, subsample_freq=0 will be ignored. Current value: bagging_freq=5\n",
      "[LightGBM] [Warning] feature_fraction is set=0.4094705812483784, colsample_bytree=1.0 will be ignored. Current value: feature_fraction=0.4094705812483784\n",
      "[LightGBM] [Warning] bagging_fraction is set=0.7316624642241496, subsample=1.0 will be ignored. Current value: bagging_fraction=0.7316624642241496\n",
      "[LightGBM] [Warning] lambda_l2 is set=8.532627837648299, reg_lambda=0.0 will be ignored. Current value: lambda_l2=8.532627837648299\n",
      "[LightGBM] [Warning] lambda_l1 is set=4.9487148909293515, reg_alpha=0.0 will be ignored. Current value: lambda_l1=4.9487148909293515\n",
      "[LightGBM] [Warning] bagging_freq is set=6, subsample_freq=0 will be ignored. Current value: bagging_freq=6\n",
      "[LightGBM] [Warning] feature_fraction is set=0.4901620332148449, colsample_bytree=1.0 will be ignored. Current value: feature_fraction=0.4901620332148449\n",
      "[LightGBM] [Warning] bagging_fraction is set=0.9886478760799347, subsample=1.0 will be ignored. Current value: bagging_fraction=0.9886478760799347\n",
      "[LightGBM] [Warning] lambda_l2 is set=0.8134008313505999, reg_lambda=0.0 will be ignored. Current value: lambda_l2=0.8134008313505999\n",
      "[LightGBM] [Warning] lambda_l1 is set=9.978525384692855, reg_alpha=0.0 will be ignored. Current value: lambda_l1=9.978525384692855\n"
     ]
    },
    {
     "name": "stderr",
     "output_type": "stream",
     "text": [
      "\u001b[32m[I 2021-08-31 13:07:00,629]\u001b[0m Trial 14 finished with value: 2.723761338155947 and parameters: {'lambda_l1': 0.2199245721199955, 'lambda_l2': 7.983512595733339, 'num_leaves': 161, 'feature_fraction': 0.4898214378010498, 'bagging_fraction': 0.8971151135843243, 'bagging_freq': 7, 'min_child_samples': 29}. Best is trial 10 with value: 2.5815019464413655.\u001b[0m\n"
     ]
    },
    {
     "name": "stdout",
     "output_type": "stream",
     "text": [
      "[LightGBM] [Warning] bagging_freq is set=7, subsample_freq=0 will be ignored. Current value: bagging_freq=7\n",
      "[LightGBM] [Warning] feature_fraction is set=0.4898214378010498, colsample_bytree=1.0 will be ignored. Current value: feature_fraction=0.4898214378010498\n",
      "[LightGBM] [Warning] bagging_fraction is set=0.8971151135843243, subsample=1.0 will be ignored. Current value: bagging_fraction=0.8971151135843243\n",
      "[LightGBM] [Warning] lambda_l2 is set=7.983512595733339, reg_lambda=0.0 will be ignored. Current value: lambda_l2=7.983512595733339\n",
      "[LightGBM] [Warning] lambda_l1 is set=0.2199245721199955, reg_alpha=0.0 will be ignored. Current value: lambda_l1=0.2199245721199955\n",
      "[LightGBM] [Warning] bagging_freq is set=5, subsample_freq=0 will be ignored. Current value: bagging_freq=5\n",
      "[LightGBM] [Warning] feature_fraction is set=0.7387933012634752, colsample_bytree=1.0 will be ignored. Current value: feature_fraction=0.7387933012634752\n",
      "[LightGBM] [Warning] bagging_fraction is set=0.7706421794479942, subsample=1.0 will be ignored. Current value: bagging_fraction=0.7706421794479942\n",
      "[LightGBM] [Warning] lambda_l2 is set=0.19789463616237155, reg_lambda=0.0 will be ignored. Current value: lambda_l2=0.19789463616237155\n",
      "[LightGBM] [Warning] lambda_l1 is set=0.21327593436422732, reg_alpha=0.0 will be ignored. Current value: lambda_l1=0.21327593436422732\n"
     ]
    },
    {
     "name": "stderr",
     "output_type": "stream",
     "text": [
      "\u001b[32m[I 2021-08-31 13:07:00,823]\u001b[0m Trial 15 finished with value: 2.6630598594095987 and parameters: {'lambda_l1': 0.21327593436422732, 'lambda_l2': 0.19789463616237155, 'num_leaves': 203, 'feature_fraction': 0.7387933012634752, 'bagging_fraction': 0.7706421794479942, 'bagging_freq': 5, 'min_child_samples': 5}. Best is trial 10 with value: 2.5815019464413655.\u001b[0m\n",
      "\u001b[32m[I 2021-08-31 13:07:00,921]\u001b[0m Trial 16 finished with value: 2.750486569332315 and parameters: {'lambda_l1': 0.33682040768877824, 'lambda_l2': 7.010719751133383, 'num_leaves': 129, 'feature_fraction': 0.47747459835667294, 'bagging_fraction': 0.6650746612360726, 'bagging_freq': 6, 'min_child_samples': 22}. Best is trial 10 with value: 2.5815019464413655.\u001b[0m\n"
     ]
    },
    {
     "name": "stdout",
     "output_type": "stream",
     "text": [
      "[LightGBM] [Warning] bagging_freq is set=6, subsample_freq=0 will be ignored. Current value: bagging_freq=6\n",
      "[LightGBM] [Warning] feature_fraction is set=0.47747459835667294, colsample_bytree=1.0 will be ignored. Current value: feature_fraction=0.47747459835667294\n",
      "[LightGBM] [Warning] bagging_fraction is set=0.6650746612360726, subsample=1.0 will be ignored. Current value: bagging_fraction=0.6650746612360726\n",
      "[LightGBM] [Warning] lambda_l2 is set=7.010719751133383, reg_lambda=0.0 will be ignored. Current value: lambda_l2=7.010719751133383\n",
      "[LightGBM] [Warning] lambda_l1 is set=0.33682040768877824, reg_alpha=0.0 will be ignored. Current value: lambda_l1=0.33682040768877824\n",
      "[LightGBM] [Warning] bagging_freq is set=4, subsample_freq=0 will be ignored. Current value: bagging_freq=4\n",
      "[LightGBM] [Warning] feature_fraction is set=0.4092862446426196, colsample_bytree=1.0 will be ignored. Current value: feature_fraction=0.4092862446426196\n",
      "[LightGBM] [Warning] bagging_fraction is set=0.9985190598417075, subsample=1.0 will be ignored. Current value: bagging_fraction=0.9985190598417075\n",
      "[LightGBM] [Warning] lambda_l2 is set=0.01011157582528635, reg_lambda=0.0 will be ignored. Current value: lambda_l2=0.01011157582528635\n",
      "[LightGBM] [Warning] lambda_l1 is set=0.0120413571890577, reg_alpha=0.0 will be ignored. Current value: lambda_l1=0.0120413571890577\n"
     ]
    },
    {
     "name": "stderr",
     "output_type": "stream",
     "text": [
      "\u001b[32m[I 2021-08-31 13:07:01,064]\u001b[0m Trial 17 finished with value: 2.547148091502957 and parameters: {'lambda_l1': 0.0120413571890577, 'lambda_l2': 0.01011157582528635, 'num_leaves': 195, 'feature_fraction': 0.4092862446426196, 'bagging_fraction': 0.9985190598417075, 'bagging_freq': 4, 'min_child_samples': 8}. Best is trial 17 with value: 2.547148091502957.\u001b[0m\n",
      "\u001b[32m[I 2021-08-31 13:07:01,157]\u001b[0m Trial 18 finished with value: 2.69201764314564 and parameters: {'lambda_l1': 0.0045525394099569265, 'lambda_l2': 0.0012791266623015847, 'num_leaves': 196, 'feature_fraction': 0.5555031941560412, 'bagging_fraction': 0.9254057518854496, 'bagging_freq': 1, 'min_child_samples': 34}. Best is trial 17 with value: 2.547148091502957.\u001b[0m\n",
      "\u001b[32m[I 2021-08-31 13:07:01,286]\u001b[0m Trial 19 finished with value: 2.6751084726820005 and parameters: {'lambda_l1': 0.01223048731132506, 'lambda_l2': 0.03286755846045417, 'num_leaves': 225, 'feature_fraction': 0.8071501190103934, 'bagging_fraction': 0.8271597300410429, 'bagging_freq': 2, 'min_child_samples': 16}. Best is trial 17 with value: 2.547148091502957.\u001b[0m\n"
     ]
    },
    {
     "name": "stdout",
     "output_type": "stream",
     "text": [
      "[LightGBM] [Warning] bagging_freq is set=1, subsample_freq=0 will be ignored. Current value: bagging_freq=1\n",
      "[LightGBM] [Warning] feature_fraction is set=0.5555031941560412, colsample_bytree=1.0 will be ignored. Current value: feature_fraction=0.5555031941560412\n",
      "[LightGBM] [Warning] bagging_fraction is set=0.9254057518854496, subsample=1.0 will be ignored. Current value: bagging_fraction=0.9254057518854496\n",
      "[LightGBM] [Warning] lambda_l2 is set=0.0012791266623015847, reg_lambda=0.0 will be ignored. Current value: lambda_l2=0.0012791266623015847\n",
      "[LightGBM] [Warning] lambda_l1 is set=0.0045525394099569265, reg_alpha=0.0 will be ignored. Current value: lambda_l1=0.0045525394099569265\n",
      "[LightGBM] [Warning] bagging_freq is set=2, subsample_freq=0 will be ignored. Current value: bagging_freq=2\n",
      "[LightGBM] [Warning] feature_fraction is set=0.8071501190103934, colsample_bytree=1.0 will be ignored. Current value: feature_fraction=0.8071501190103934\n",
      "[LightGBM] [Warning] bagging_fraction is set=0.8271597300410429, subsample=1.0 will be ignored. Current value: bagging_fraction=0.8271597300410429\n",
      "[LightGBM] [Warning] lambda_l2 is set=0.03286755846045417, reg_lambda=0.0 will be ignored. Current value: lambda_l2=0.03286755846045417\n",
      "[LightGBM] [Warning] lambda_l1 is set=0.01223048731132506, reg_alpha=0.0 will be ignored. Current value: lambda_l1=0.01223048731132506\n"
     ]
    },
    {
     "name": "stderr",
     "output_type": "stream",
     "text": [
      "\u001b[32m[I 2021-08-31 13:07:01,359]\u001b[0m Trial 20 finished with value: 3.6510061437897763 and parameters: {'lambda_l1': 0.04092863509495208, 'lambda_l2': 0.0003882865985314444, 'num_leaves': 133, 'feature_fraction': 0.4510956827719965, 'bagging_fraction': 0.6592918209972873, 'bagging_freq': 4, 'min_child_samples': 75}. Best is trial 17 with value: 2.547148091502957.\u001b[0m\n",
      "\u001b[32m[I 2021-08-31 13:07:01,479]\u001b[0m Trial 21 finished with value: 2.536042271465012 and parameters: {'lambda_l1': 2.0014740596701603, 'lambda_l2': 1.071908105059512, 'num_leaves': 180, 'feature_fraction': 0.4091618115811641, 'bagging_fraction': 0.98503066156619, 'bagging_freq': 5, 'min_child_samples': 5}. Best is trial 21 with value: 2.536042271465012.\u001b[0m\n"
     ]
    },
    {
     "name": "stdout",
     "output_type": "stream",
     "text": [
      "[LightGBM] [Warning] bagging_freq is set=4, subsample_freq=0 will be ignored. Current value: bagging_freq=4\n",
      "[LightGBM] [Warning] feature_fraction is set=0.4510956827719965, colsample_bytree=1.0 will be ignored. Current value: feature_fraction=0.4510956827719965\n",
      "[LightGBM] [Warning] bagging_fraction is set=0.6592918209972873, subsample=1.0 will be ignored. Current value: bagging_fraction=0.6592918209972873\n",
      "[LightGBM] [Warning] lambda_l2 is set=0.0003882865985314444, reg_lambda=0.0 will be ignored. Current value: lambda_l2=0.0003882865985314444\n",
      "[LightGBM] [Warning] lambda_l1 is set=0.04092863509495208, reg_alpha=0.0 will be ignored. Current value: lambda_l1=0.04092863509495208\n",
      "[LightGBM] [Warning] bagging_freq is set=5, subsample_freq=0 will be ignored. Current value: bagging_freq=5\n",
      "[LightGBM] [Warning] feature_fraction is set=0.4091618115811641, colsample_bytree=1.0 will be ignored. Current value: feature_fraction=0.4091618115811641\n",
      "[LightGBM] [Warning] bagging_fraction is set=0.98503066156619, subsample=1.0 will be ignored. Current value: bagging_fraction=0.98503066156619\n",
      "[LightGBM] [Warning] lambda_l2 is set=1.071908105059512, reg_lambda=0.0 will be ignored. Current value: lambda_l2=1.071908105059512\n",
      "[LightGBM] [Warning] lambda_l1 is set=2.0014740596701603, reg_alpha=0.0 will be ignored. Current value: lambda_l1=2.0014740596701603\n",
      "[LightGBM] [Warning] bagging_freq is set=5, subsample_freq=0 will be ignored. Current value: bagging_freq=5\n",
      "[LightGBM] [Warning] feature_fraction is set=0.540148545553271, colsample_bytree=1.0 will be ignored. Current value: feature_fraction=0.540148545553271\n",
      "[LightGBM] [Warning] bagging_fraction is set=0.9945366763406354, subsample=1.0 will be ignored. Current value: bagging_fraction=0.9945366763406354\n",
      "[LightGBM] [Warning] lambda_l2 is set=0.5078845134566083, reg_lambda=0.0 will be ignored. Current value: lambda_l2=0.5078845134566083\n",
      "[LightGBM] [Warning] lambda_l1 is set=1.06414097308985, reg_alpha=0.0 will be ignored. Current value: lambda_l1=1.06414097308985\n"
     ]
    },
    {
     "name": "stderr",
     "output_type": "stream",
     "text": [
      "\u001b[32m[I 2021-08-31 13:07:01,618]\u001b[0m Trial 22 finished with value: 2.633462980117482 and parameters: {'lambda_l1': 1.06414097308985, 'lambda_l2': 0.5078845134566083, 'num_leaves': 185, 'feature_fraction': 0.540148545553271, 'bagging_fraction': 0.9945366763406354, 'bagging_freq': 5, 'min_child_samples': 11}. Best is trial 21 with value: 2.536042271465012.\u001b[0m\n",
      "\u001b[32m[I 2021-08-31 13:07:01,723]\u001b[0m Trial 23 finished with value: 2.6151886866698573 and parameters: {'lambda_l1': 0.03185136275368966, 'lambda_l2': 0.021495160732489298, 'num_leaves': 225, 'feature_fraction': 0.4014872554092128, 'bagging_fraction': 0.9112057850952661, 'bagging_freq': 4, 'min_child_samples': 23}. Best is trial 21 with value: 2.536042271465012.\u001b[0m\n"
     ]
    },
    {
     "name": "stdout",
     "output_type": "stream",
     "text": [
      "[LightGBM] [Warning] bagging_freq is set=4, subsample_freq=0 will be ignored. Current value: bagging_freq=4\n",
      "[LightGBM] [Warning] feature_fraction is set=0.4014872554092128, colsample_bytree=1.0 will be ignored. Current value: feature_fraction=0.4014872554092128\n",
      "[LightGBM] [Warning] bagging_fraction is set=0.9112057850952661, subsample=1.0 will be ignored. Current value: bagging_fraction=0.9112057850952661\n",
      "[LightGBM] [Warning] lambda_l2 is set=0.021495160732489298, reg_lambda=0.0 will be ignored. Current value: lambda_l2=0.021495160732489298\n",
      "[LightGBM] [Warning] lambda_l1 is set=0.03185136275368966, reg_alpha=0.0 will be ignored. Current value: lambda_l1=0.03185136275368966\n",
      "[LightGBM] [Warning] bagging_freq is set=5, subsample_freq=0 will be ignored. Current value: bagging_freq=5\n",
      "[LightGBM] [Warning] feature_fraction is set=0.45007348503369626, colsample_bytree=1.0 will be ignored. Current value: feature_fraction=0.45007348503369626\n",
      "[LightGBM] [Warning] bagging_fraction is set=0.9540039778183305, subsample=1.0 will be ignored. Current value: bagging_fraction=0.9540039778183305\n",
      "[LightGBM] [Warning] lambda_l2 is set=1.97808641595403, reg_lambda=0.0 will be ignored. Current value: lambda_l2=1.97808641595403\n",
      "[LightGBM] [Warning] lambda_l1 is set=0.965904163923329, reg_alpha=0.0 will be ignored. Current value: lambda_l1=0.965904163923329\n"
     ]
    },
    {
     "name": "stderr",
     "output_type": "stream",
     "text": [
      "\u001b[32m[I 2021-08-31 13:07:01,869]\u001b[0m Trial 24 finished with value: 2.570449118583376 and parameters: {'lambda_l1': 0.965904163923329, 'lambda_l2': 1.97808641595403, 'num_leaves': 180, 'feature_fraction': 0.45007348503369626, 'bagging_fraction': 0.9540039778183305, 'bagging_freq': 5, 'min_child_samples': 5}. Best is trial 21 with value: 2.536042271465012.\u001b[0m\n",
      "\u001b[32m[I 2021-08-31 13:07:01,960]\u001b[0m Trial 25 finished with value: 2.7352010086171834 and parameters: {'lambda_l1': 3.1996112046553047, 'lambda_l2': 0.16216644326654545, 'num_leaves': 145, 'feature_fraction': 0.508282783851852, 'bagging_fraction': 0.8766585471162761, 'bagging_freq': 5, 'min_child_samples': 36}. Best is trial 21 with value: 2.536042271465012.\u001b[0m\n",
      "\u001b[32m[I 2021-08-31 13:07:02,099]\u001b[0m Trial 26 finished with value: 2.6188802375773004 and parameters: {'lambda_l1': 0.0020645542195099394, 'lambda_l2': 2.693477598810634, 'num_leaves': 190, 'feature_fraction': 0.6247897289380757, 'bagging_fraction': 0.9563770894930602, 'bagging_freq': 4, 'min_child_samples': 15}. Best is trial 21 with value: 2.536042271465012.\u001b[0m\n"
     ]
    },
    {
     "name": "stdout",
     "output_type": "stream",
     "text": [
      "[LightGBM] [Warning] bagging_freq is set=5, subsample_freq=0 will be ignored. Current value: bagging_freq=5\n",
      "[LightGBM] [Warning] feature_fraction is set=0.508282783851852, colsample_bytree=1.0 will be ignored. Current value: feature_fraction=0.508282783851852\n",
      "[LightGBM] [Warning] bagging_fraction is set=0.8766585471162761, subsample=1.0 will be ignored. Current value: bagging_fraction=0.8766585471162761\n",
      "[LightGBM] [Warning] lambda_l2 is set=0.16216644326654545, reg_lambda=0.0 will be ignored. Current value: lambda_l2=0.16216644326654545\n",
      "[LightGBM] [Warning] lambda_l1 is set=3.1996112046553047, reg_alpha=0.0 will be ignored. Current value: lambda_l1=3.1996112046553047\n",
      "[LightGBM] [Warning] bagging_freq is set=4, subsample_freq=0 will be ignored. Current value: bagging_freq=4\n",
      "[LightGBM] [Warning] feature_fraction is set=0.6247897289380757, colsample_bytree=1.0 will be ignored. Current value: feature_fraction=0.6247897289380757\n",
      "[LightGBM] [Warning] bagging_fraction is set=0.9563770894930602, subsample=1.0 will be ignored. Current value: bagging_fraction=0.9563770894930602\n",
      "[LightGBM] [Warning] lambda_l2 is set=2.693477598810634, reg_lambda=0.0 will be ignored. Current value: lambda_l2=2.693477598810634\n",
      "[LightGBM] [Warning] lambda_l1 is set=0.0020645542195099394, reg_alpha=0.0 will be ignored. Current value: lambda_l1=0.0020645542195099394\n"
     ]
    },
    {
     "name": "stderr",
     "output_type": "stream",
     "text": [
      "\u001b[32m[I 2021-08-31 13:07:02,304]\u001b[0m Trial 27 finished with value: 2.6203786920534147 and parameters: {'lambda_l1': 0.0492982973043042, 'lambda_l2': 0.002439480119396723, 'num_leaves': 236, 'feature_fraction': 0.6742195727009425, 'bagging_fraction': 0.7914227499302122, 'bagging_freq': 3, 'min_child_samples': 5}. Best is trial 21 with value: 2.536042271465012.\u001b[0m\n"
     ]
    },
    {
     "name": "stdout",
     "output_type": "stream",
     "text": [
      "[LightGBM] [Warning] bagging_freq is set=3, subsample_freq=0 will be ignored. Current value: bagging_freq=3\n",
      "[LightGBM] [Warning] feature_fraction is set=0.6742195727009425, colsample_bytree=1.0 will be ignored. Current value: feature_fraction=0.6742195727009425\n",
      "[LightGBM] [Warning] bagging_fraction is set=0.7914227499302122, subsample=1.0 will be ignored. Current value: bagging_fraction=0.7914227499302122\n",
      "[LightGBM] [Warning] lambda_l2 is set=0.002439480119396723, reg_lambda=0.0 will be ignored. Current value: lambda_l2=0.002439480119396723\n",
      "[LightGBM] [Warning] lambda_l1 is set=0.0492982973043042, reg_alpha=0.0 will be ignored. Current value: lambda_l1=0.0492982973043042\n"
     ]
    },
    {
     "name": "stderr",
     "output_type": "stream",
     "text": [
      "\u001b[32m[I 2021-08-31 13:07:02,418]\u001b[0m Trial 28 finished with value: 2.6635902460590826 and parameters: {'lambda_l1': 0.0010779796863432157, 'lambda_l2': 0.3041299406182584, 'num_leaves': 183, 'feature_fraction': 0.5240258873937053, 'bagging_fraction': 0.9434373836571723, 'bagging_freq': 5, 'min_child_samples': 27}. Best is trial 21 with value: 2.536042271465012.\u001b[0m\n",
      "\u001b[32m[I 2021-08-31 13:07:02,499]\u001b[0m Trial 29 finished with value: 3.1084964797956873 and parameters: {'lambda_l1': 0.10916659097552227, 'lambda_l2': 5.5207230182117794e-05, 'num_leaves': 116, 'feature_fraction': 0.4563159191644922, 'bagging_fraction': 0.8633971251850673, 'bagging_freq': 4, 'min_child_samples': 68}. Best is trial 21 with value: 2.536042271465012.\u001b[0m\n"
     ]
    },
    {
     "name": "stdout",
     "output_type": "stream",
     "text": [
      "[LightGBM] [Warning] bagging_freq is set=5, subsample_freq=0 will be ignored. Current value: bagging_freq=5\n",
      "[LightGBM] [Warning] feature_fraction is set=0.5240258873937053, colsample_bytree=1.0 will be ignored. Current value: feature_fraction=0.5240258873937053\n",
      "[LightGBM] [Warning] bagging_fraction is set=0.9434373836571723, subsample=1.0 will be ignored. Current value: bagging_fraction=0.9434373836571723\n",
      "[LightGBM] [Warning] lambda_l2 is set=0.3041299406182584, reg_lambda=0.0 will be ignored. Current value: lambda_l2=0.3041299406182584\n",
      "[LightGBM] [Warning] lambda_l1 is set=0.0010779796863432157, reg_alpha=0.0 will be ignored. Current value: lambda_l1=0.0010779796863432157\n",
      "[LightGBM] [Warning] bagging_freq is set=4, subsample_freq=0 will be ignored. Current value: bagging_freq=4\n",
      "[LightGBM] [Warning] feature_fraction is set=0.4563159191644922, colsample_bytree=1.0 will be ignored. Current value: feature_fraction=0.4563159191644922\n",
      "[LightGBM] [Warning] bagging_fraction is set=0.8633971251850673, subsample=1.0 will be ignored. Current value: bagging_fraction=0.8633971251850673\n",
      "[LightGBM] [Warning] lambda_l2 is set=5.5207230182117794e-05, reg_lambda=0.0 will be ignored. Current value: lambda_l2=5.5207230182117794e-05\n",
      "[LightGBM] [Warning] lambda_l1 is set=0.10916659097552227, reg_alpha=0.0 will be ignored. Current value: lambda_l1=0.10916659097552227\n",
      "[LightGBM] [Warning] bagging_freq is set=2, subsample_freq=0 will be ignored. Current value: bagging_freq=2\n",
      "[LightGBM] [Warning] feature_fraction is set=0.570496038615528, colsample_bytree=1.0 will be ignored. Current value: feature_fraction=0.570496038615528\n",
      "[LightGBM] [Warning] bagging_fraction is set=0.9174457262186082, subsample=1.0 will be ignored. Current value: bagging_fraction=0.9174457262186082\n",
      "[LightGBM] [Warning] lambda_l2 is set=0.010132256219285277, reg_lambda=0.0 will be ignored. Current value: lambda_l2=0.010132256219285277\n",
      "[LightGBM] [Warning] lambda_l1 is set=1.8291884057042953, reg_alpha=0.0 will be ignored. Current value: lambda_l1=1.8291884057042953\n"
     ]
    },
    {
     "name": "stderr",
     "output_type": "stream",
     "text": [
      "\u001b[32m[I 2021-08-31 13:07:02,636]\u001b[0m Trial 30 finished with value: 2.6409352097064738 and parameters: {'lambda_l1': 1.8291884057042953, 'lambda_l2': 0.010132256219285277, 'num_leaves': 212, 'feature_fraction': 0.570496038615528, 'bagging_fraction': 0.9174457262186082, 'bagging_freq': 2, 'min_child_samples': 14}. Best is trial 21 with value: 2.536042271465012.\u001b[0m\n",
      "\u001b[32m[I 2021-08-31 13:07:02,778]\u001b[0m Trial 31 finished with value: 2.6074013268411673 and parameters: {'lambda_l1': 0.777057519883658, 'lambda_l2': 1.9951713245654592, 'num_leaves': 175, 'feature_fraction': 0.4422709190944777, 'bagging_fraction': 0.9942009710421637, 'bagging_freq': 6, 'min_child_samples': 9}. Best is trial 21 with value: 2.536042271465012.\u001b[0m\n"
     ]
    },
    {
     "name": "stdout",
     "output_type": "stream",
     "text": [
      "[LightGBM] [Warning] bagging_freq is set=6, subsample_freq=0 will be ignored. Current value: bagging_freq=6\n",
      "[LightGBM] [Warning] feature_fraction is set=0.4422709190944777, colsample_bytree=1.0 will be ignored. Current value: feature_fraction=0.4422709190944777\n",
      "[LightGBM] [Warning] bagging_fraction is set=0.9942009710421637, subsample=1.0 will be ignored. Current value: bagging_fraction=0.9942009710421637\n",
      "[LightGBM] [Warning] lambda_l2 is set=1.9951713245654592, reg_lambda=0.0 will be ignored. Current value: lambda_l2=1.9951713245654592\n",
      "[LightGBM] [Warning] lambda_l1 is set=0.777057519883658, reg_alpha=0.0 will be ignored. Current value: lambda_l1=0.777057519883658\n",
      "[LightGBM] [Warning] bagging_freq is set=5, subsample_freq=0 will be ignored. Current value: bagging_freq=5\n",
      "[LightGBM] [Warning] feature_fraction is set=0.43542934146729, colsample_bytree=1.0 will be ignored. Current value: feature_fraction=0.43542934146729\n",
      "[LightGBM] [Warning] bagging_fraction is set=0.9679142653993685, subsample=1.0 will be ignored. Current value: bagging_fraction=0.9679142653993685\n",
      "[LightGBM] [Warning] lambda_l2 is set=0.08245441570960367, reg_lambda=0.0 will be ignored. Current value: lambda_l2=0.08245441570960367\n",
      "[LightGBM] [Warning] lambda_l1 is set=0.8747569410477491, reg_alpha=0.0 will be ignored. Current value: lambda_l1=0.8747569410477491\n"
     ]
    },
    {
     "name": "stderr",
     "output_type": "stream",
     "text": [
      "\u001b[32m[I 2021-08-31 13:07:02,909]\u001b[0m Trial 32 finished with value: 2.5400666664778098 and parameters: {'lambda_l1': 0.8747569410477491, 'lambda_l2': 0.08245441570960367, 'num_leaves': 145, 'feature_fraction': 0.43542934146729, 'bagging_fraction': 0.9679142653993685, 'bagging_freq': 5, 'min_child_samples': 9}. Best is trial 21 with value: 2.536042271465012.\u001b[0m\n",
      "\u001b[32m[I 2021-08-31 13:07:03,029]\u001b[0m Trial 33 finished with value: 2.5873398648486203 and parameters: {'lambda_l1': 0.01399113956067301, 'lambda_l2': 0.060930029211755436, 'num_leaves': 147, 'feature_fraction': 0.4247092981559712, 'bagging_fraction': 0.9661711076498195, 'bagging_freq': 5, 'min_child_samples': 20}. Best is trial 21 with value: 2.536042271465012.\u001b[0m\n"
     ]
    },
    {
     "name": "stdout",
     "output_type": "stream",
     "text": [
      "[LightGBM] [Warning] bagging_freq is set=5, subsample_freq=0 will be ignored. Current value: bagging_freq=5\n",
      "[LightGBM] [Warning] feature_fraction is set=0.4247092981559712, colsample_bytree=1.0 will be ignored. Current value: feature_fraction=0.4247092981559712\n",
      "[LightGBM] [Warning] bagging_fraction is set=0.9661711076498195, subsample=1.0 will be ignored. Current value: bagging_fraction=0.9661711076498195\n",
      "[LightGBM] [Warning] lambda_l2 is set=0.060930029211755436, reg_lambda=0.0 will be ignored. Current value: lambda_l2=0.060930029211755436\n",
      "[LightGBM] [Warning] lambda_l1 is set=0.01399113956067301, reg_alpha=0.0 will be ignored. Current value: lambda_l1=0.01399113956067301\n",
      "[LightGBM] [Warning] bagging_freq is set=4, subsample_freq=0 will be ignored. Current value: bagging_freq=4\n",
      "[LightGBM] [Warning] feature_fraction is set=0.4055286395568128, colsample_bytree=1.0 will be ignored. Current value: feature_fraction=0.4055286395568128\n",
      "[LightGBM] [Warning] bagging_fraction is set=0.9480667526454467, subsample=1.0 will be ignored. Current value: bagging_fraction=0.9480667526454467\n",
      "[LightGBM] [Warning] lambda_l2 is set=0.006042713542179308, reg_lambda=0.0 will be ignored. Current value: lambda_l2=0.006042713542179308\n",
      "[LightGBM] [Warning] lambda_l1 is set=0.43160357362775875, reg_alpha=0.0 will be ignored. Current value: lambda_l1=0.43160357362775875\n"
     ]
    },
    {
     "name": "stderr",
     "output_type": "stream",
     "text": [
      "\u001b[32m[I 2021-08-31 13:07:03,151]\u001b[0m Trial 34 finished with value: 2.558947758510219 and parameters: {'lambda_l1': 0.43160357362775875, 'lambda_l2': 0.006042713542179308, 'num_leaves': 106, 'feature_fraction': 0.4055286395568128, 'bagging_fraction': 0.9480667526454467, 'bagging_freq': 4, 'min_child_samples': 13}. Best is trial 21 with value: 2.536042271465012.\u001b[0m\n",
      "\u001b[32m[I 2021-08-31 13:07:03,268]\u001b[0m Trial 35 finished with value: 2.5753650137974238 and parameters: {'lambda_l1': 0.09426073301595139, 'lambda_l2': 0.00044575115889809936, 'num_leaves': 96, 'feature_fraction': 0.40681057136135385, 'bagging_fraction': 0.8909308177292199, 'bagging_freq': 4, 'min_child_samples': 13}. Best is trial 21 with value: 2.536042271465012.\u001b[0m\n",
      "\u001b[32m[I 2021-08-31 13:07:03,368]\u001b[0m Trial 36 finished with value: 2.607412208063294 and parameters: {'lambda_l1': 9.114435151814165, 'lambda_l2': 0.006213888130647933, 'num_leaves': 72, 'feature_fraction': 0.40046051193757903, 'bagging_fraction': 0.8488953233721221, 'bagging_freq': 3, 'min_child_samples': 11}. Best is trial 21 with value: 2.536042271465012.\u001b[0m\n"
     ]
    },
    {
     "name": "stdout",
     "output_type": "stream",
     "text": [
      "[LightGBM] [Warning] bagging_freq is set=4, subsample_freq=0 will be ignored. Current value: bagging_freq=4\n",
      "[LightGBM] [Warning] feature_fraction is set=0.40681057136135385, colsample_bytree=1.0 will be ignored. Current value: feature_fraction=0.40681057136135385\n",
      "[LightGBM] [Warning] bagging_fraction is set=0.8909308177292199, subsample=1.0 will be ignored. Current value: bagging_fraction=0.8909308177292199\n",
      "[LightGBM] [Warning] lambda_l2 is set=0.00044575115889809936, reg_lambda=0.0 will be ignored. Current value: lambda_l2=0.00044575115889809936\n",
      "[LightGBM] [Warning] lambda_l1 is set=0.09426073301595139, reg_alpha=0.0 will be ignored. Current value: lambda_l1=0.09426073301595139\n",
      "[LightGBM] [Warning] bagging_freq is set=3, subsample_freq=0 will be ignored. Current value: bagging_freq=3\n",
      "[LightGBM] [Warning] feature_fraction is set=0.40046051193757903, colsample_bytree=1.0 will be ignored. Current value: feature_fraction=0.40046051193757903\n",
      "[LightGBM] [Warning] bagging_fraction is set=0.8488953233721221, subsample=1.0 will be ignored. Current value: bagging_fraction=0.8488953233721221\n",
      "[LightGBM] [Warning] lambda_l2 is set=0.006213888130647933, reg_lambda=0.0 will be ignored. Current value: lambda_l2=0.006213888130647933\n",
      "[LightGBM] [Warning] lambda_l1 is set=9.114435151814165, reg_alpha=0.0 will be ignored. Current value: lambda_l1=9.114435151814165\n"
     ]
    },
    {
     "name": "stderr",
     "output_type": "stream",
     "text": [
      "\u001b[32m[I 2021-08-31 13:07:03,501]\u001b[0m Trial 37 finished with value: 2.6199543697612264 and parameters: {'lambda_l1': 0.014983739662426974, 'lambda_l2': 0.013012211903930223, 'num_leaves': 112, 'feature_fraction': 0.48111560944531423, 'bagging_fraction': 0.9598770783601264, 'bagging_freq': 4, 'min_child_samples': 18}. Best is trial 21 with value: 2.536042271465012.\u001b[0m\n",
      "\u001b[32m[I 2021-08-31 13:07:03,579]\u001b[0m Trial 38 finished with value: 3.3918165025563414 and parameters: {'lambda_l1': 0.0006804383631069168, 'lambda_l2': 1.4996558759418322e-05, 'num_leaves': 143, 'feature_fraction': 0.788902171360523, 'bagging_fraction': 0.4046597080125367, 'bagging_freq': 4, 'min_child_samples': 43}. Best is trial 21 with value: 2.536042271465012.\u001b[0m\n"
     ]
    },
    {
     "name": "stdout",
     "output_type": "stream",
     "text": [
      "[LightGBM] [Warning] bagging_freq is set=4, subsample_freq=0 will be ignored. Current value: bagging_freq=4\n",
      "[LightGBM] [Warning] feature_fraction is set=0.48111560944531423, colsample_bytree=1.0 will be ignored. Current value: feature_fraction=0.48111560944531423\n",
      "[LightGBM] [Warning] bagging_fraction is set=0.9598770783601264, subsample=1.0 will be ignored. Current value: bagging_fraction=0.9598770783601264\n",
      "[LightGBM] [Warning] lambda_l2 is set=0.013012211903930223, reg_lambda=0.0 will be ignored. Current value: lambda_l2=0.013012211903930223\n",
      "[LightGBM] [Warning] lambda_l1 is set=0.014983739662426974, reg_alpha=0.0 will be ignored. Current value: lambda_l1=0.014983739662426974\n",
      "[LightGBM] [Warning] bagging_freq is set=4, subsample_freq=0 will be ignored. Current value: bagging_freq=4\n",
      "[LightGBM] [Warning] feature_fraction is set=0.788902171360523, colsample_bytree=1.0 will be ignored. Current value: feature_fraction=0.788902171360523\n",
      "[LightGBM] [Warning] bagging_fraction is set=0.4046597080125367, subsample=1.0 will be ignored. Current value: bagging_fraction=0.4046597080125367\n",
      "[LightGBM] [Warning] lambda_l2 is set=1.4996558759418322e-05, reg_lambda=0.0 will be ignored. Current value: lambda_l2=1.4996558759418322e-05\n",
      "[LightGBM] [Warning] lambda_l1 is set=0.0006804383631069168, reg_alpha=0.0 will be ignored. Current value: lambda_l1=0.0006804383631069168\n"
     ]
    },
    {
     "name": "stderr",
     "output_type": "stream",
     "text": [
      "\u001b[32m[I 2021-08-31 13:07:03,692]\u001b[0m Trial 39 finished with value: 2.669176274759129 and parameters: {'lambda_l1': 2.4502027878293977, 'lambda_l2': 0.0015358145936784854, 'num_leaves': 64, 'feature_fraction': 0.5157331432661686, 'bagging_fraction': 0.8007047241648217, 'bagging_freq': 2, 'min_child_samples': 25}. Best is trial 21 with value: 2.536042271465012.\u001b[0m\n",
      "\u001b[32m[I 2021-08-31 13:07:03,770]\u001b[0m Trial 40 finished with value: 3.4371216541368446 and parameters: {'lambda_l1': 0.31212722193309506, 'lambda_l2': 0.07829002757752496, 'num_leaves': 121, 'feature_fraction': 0.5850853863800283, 'bagging_fraction': 0.9209770704220844, 'bagging_freq': 3, 'min_child_samples': 100}. Best is trial 21 with value: 2.536042271465012.\u001b[0m\n"
     ]
    },
    {
     "name": "stdout",
     "output_type": "stream",
     "text": [
      "[LightGBM] [Warning] bagging_freq is set=2, subsample_freq=0 will be ignored. Current value: bagging_freq=2\n",
      "[LightGBM] [Warning] feature_fraction is set=0.5157331432661686, colsample_bytree=1.0 will be ignored. Current value: feature_fraction=0.5157331432661686\n",
      "[LightGBM] [Warning] bagging_fraction is set=0.8007047241648217, subsample=1.0 will be ignored. Current value: bagging_fraction=0.8007047241648217\n",
      "[LightGBM] [Warning] lambda_l2 is set=0.0015358145936784854, reg_lambda=0.0 will be ignored. Current value: lambda_l2=0.0015358145936784854\n",
      "[LightGBM] [Warning] lambda_l1 is set=2.4502027878293977, reg_alpha=0.0 will be ignored. Current value: lambda_l1=2.4502027878293977\n",
      "[LightGBM] [Warning] bagging_freq is set=3, subsample_freq=0 will be ignored. Current value: bagging_freq=3\n",
      "[LightGBM] [Warning] feature_fraction is set=0.5850853863800283, colsample_bytree=1.0 will be ignored. Current value: feature_fraction=0.5850853863800283\n",
      "[LightGBM] [Warning] bagging_fraction is set=0.9209770704220844, subsample=1.0 will be ignored. Current value: bagging_fraction=0.9209770704220844\n",
      "[LightGBM] [Warning] lambda_l2 is set=0.07829002757752496, reg_lambda=0.0 will be ignored. Current value: lambda_l2=0.07829002757752496\n",
      "[LightGBM] [Warning] lambda_l1 is set=0.31212722193309506, reg_alpha=0.0 will be ignored. Current value: lambda_l1=0.31212722193309506\n",
      "[LightGBM] [Warning] bagging_freq is set=5, subsample_freq=0 will be ignored. Current value: bagging_freq=5\n",
      "[LightGBM] [Warning] feature_fraction is set=0.4578987881815858, colsample_bytree=1.0 will be ignored. Current value: feature_fraction=0.4578987881815858\n",
      "[LightGBM] [Warning] bagging_fraction is set=0.9548465286392792, subsample=1.0 will be ignored. Current value: bagging_fraction=0.9548465286392792\n",
      "[LightGBM] [Warning] lambda_l2 is set=0.7232610065713605, reg_lambda=0.0 will be ignored. Current value: lambda_l2=0.7232610065713605\n",
      "[LightGBM] [Warning] lambda_l1 is set=0.5711885574769173, reg_alpha=0.0 will be ignored. Current value: lambda_l1=0.5711885574769173\n"
     ]
    },
    {
     "name": "stderr",
     "output_type": "stream",
     "text": [
      "\u001b[32m[I 2021-08-31 13:07:03,926]\u001b[0m Trial 41 finished with value: 2.5754078677397176 and parameters: {'lambda_l1': 0.5711885574769173, 'lambda_l2': 0.7232610065713605, 'num_leaves': 102, 'feature_fraction': 0.4578987881815858, 'bagging_fraction': 0.9548465286392792, 'bagging_freq': 5, 'min_child_samples': 5}. Best is trial 21 with value: 2.536042271465012.\u001b[0m\n",
      "\u001b[32m[I 2021-08-31 13:07:04,061]\u001b[0m Trial 42 finished with value: 2.5472025242190552 and parameters: {'lambda_l1': 0.09208914920049847, 'lambda_l2': 0.005694281947902674, 'num_leaves': 204, 'feature_fraction': 0.4211567264402262, 'bagging_fraction': 0.9995080738715523, 'bagging_freq': 5, 'min_child_samples': 10}. Best is trial 21 with value: 2.536042271465012.\u001b[0m\n"
     ]
    },
    {
     "name": "stdout",
     "output_type": "stream",
     "text": [
      "[LightGBM] [Warning] bagging_freq is set=5, subsample_freq=0 will be ignored. Current value: bagging_freq=5\n",
      "[LightGBM] [Warning] feature_fraction is set=0.4211567264402262, colsample_bytree=1.0 will be ignored. Current value: feature_fraction=0.4211567264402262\n",
      "[LightGBM] [Warning] bagging_fraction is set=0.9995080738715523, subsample=1.0 will be ignored. Current value: bagging_fraction=0.9995080738715523\n",
      "[LightGBM] [Warning] lambda_l2 is set=0.005694281947902674, reg_lambda=0.0 will be ignored. Current value: lambda_l2=0.005694281947902674\n",
      "[LightGBM] [Warning] lambda_l1 is set=0.09208914920049847, reg_alpha=0.0 will be ignored. Current value: lambda_l1=0.09208914920049847\n",
      "[LightGBM] [Warning] bagging_freq is set=5, subsample_freq=0 will be ignored. Current value: bagging_freq=5\n",
      "[LightGBM] [Warning] feature_fraction is set=0.4274908040192707, colsample_bytree=1.0 will be ignored. Current value: feature_fraction=0.4274908040192707\n",
      "[LightGBM] [Warning] bagging_fraction is set=0.9975140214821147, subsample=1.0 will be ignored. Current value: bagging_fraction=0.9975140214821147\n",
      "[LightGBM] [Warning] lambda_l2 is set=0.005047844425730337, reg_lambda=0.0 will be ignored. Current value: lambda_l2=0.005047844425730337\n",
      "[LightGBM] [Warning] lambda_l1 is set=0.08871725101803485, reg_alpha=0.0 will be ignored. Current value: lambda_l1=0.08871725101803485\n"
     ]
    },
    {
     "name": "stderr",
     "output_type": "stream",
     "text": [
      "\u001b[32m[I 2021-08-31 13:07:04,198]\u001b[0m Trial 43 finished with value: 2.570266553724473 and parameters: {'lambda_l1': 0.08871725101803485, 'lambda_l2': 0.005047844425730337, 'num_leaves': 205, 'feature_fraction': 0.4274908040192707, 'bagging_fraction': 0.9975140214821147, 'bagging_freq': 5, 'min_child_samples': 11}. Best is trial 21 with value: 2.536042271465012.\u001b[0m\n",
      "\u001b[32m[I 2021-08-31 13:07:04,322]\u001b[0m Trial 44 finished with value: 2.5873639496941165 and parameters: {'lambda_l1': 4.637322615748183e-05, 'lambda_l2': 0.000633226763332796, 'num_leaves': 221, 'feature_fraction': 0.4057274652216695, 'bagging_fraction': 0.9954315979919458, 'bagging_freq': 7, 'min_child_samples': 17}. Best is trial 21 with value: 2.536042271465012.\u001b[0m\n"
     ]
    },
    {
     "name": "stdout",
     "output_type": "stream",
     "text": [
      "[LightGBM] [Warning] bagging_freq is set=7, subsample_freq=0 will be ignored. Current value: bagging_freq=7\n",
      "[LightGBM] [Warning] feature_fraction is set=0.4057274652216695, colsample_bytree=1.0 will be ignored. Current value: feature_fraction=0.4057274652216695\n",
      "[LightGBM] [Warning] bagging_fraction is set=0.9954315979919458, subsample=1.0 will be ignored. Current value: bagging_fraction=0.9954315979919458\n",
      "[LightGBM] [Warning] lambda_l2 is set=0.000633226763332796, reg_lambda=0.0 will be ignored. Current value: lambda_l2=0.000633226763332796\n",
      "[LightGBM] [Warning] lambda_l1 is set=4.637322615748183e-05, reg_alpha=0.0 will be ignored. Current value: lambda_l1=4.637322615748183e-05\n",
      "[LightGBM] [Warning] bagging_freq is set=4, subsample_freq=0 will be ignored. Current value: bagging_freq=4\n",
      "[LightGBM] [Warning] feature_fraction is set=0.46096799796258314, colsample_bytree=1.0 will be ignored. Current value: feature_fraction=0.46096799796258314\n",
      "[LightGBM] [Warning] bagging_fraction is set=0.9334352875691545, subsample=1.0 will be ignored. Current value: bagging_fraction=0.9334352875691545\n",
      "[LightGBM] [Warning] lambda_l2 is set=0.00017751750291610687, reg_lambda=0.0 will be ignored. Current value: lambda_l2=0.00017751750291610687\n",
      "[LightGBM] [Warning] lambda_l1 is set=2.739165047980673e-06, reg_alpha=0.0 will be ignored. Current value: lambda_l1=2.739165047980673e-06\n"
     ]
    },
    {
     "name": "stderr",
     "output_type": "stream",
     "text": [
      "\u001b[32m[I 2021-08-31 13:07:04,444]\u001b[0m Trial 45 finished with value: 2.662841441679853 and parameters: {'lambda_l1': 2.739165047980673e-06, 'lambda_l2': 0.00017751750291610687, 'num_leaves': 152, 'feature_fraction': 0.46096799796258314, 'bagging_fraction': 0.9334352875691545, 'bagging_freq': 4, 'min_child_samples': 34}. Best is trial 21 with value: 2.536042271465012.\u001b[0m\n",
      "\u001b[32m[I 2021-08-31 13:07:04,588]\u001b[0m Trial 46 finished with value: 2.5495660238602422 and parameters: {'lambda_l1': 0.004616808586359295, 'lambda_l2': 0.041802430486792934, 'num_leaves': 198, 'feature_fraction': 0.4344590034317466, 'bagging_fraction': 0.9742093768496815, 'bagging_freq': 5, 'min_child_samples': 9}. Best is trial 21 with value: 2.536042271465012.\u001b[0m\n"
     ]
    },
    {
     "name": "stdout",
     "output_type": "stream",
     "text": [
      "[LightGBM] [Warning] bagging_freq is set=5, subsample_freq=0 will be ignored. Current value: bagging_freq=5\n",
      "[LightGBM] [Warning] feature_fraction is set=0.4344590034317466, colsample_bytree=1.0 will be ignored. Current value: feature_fraction=0.4344590034317466\n",
      "[LightGBM] [Warning] bagging_fraction is set=0.9742093768496815, subsample=1.0 will be ignored. Current value: bagging_fraction=0.9742093768496815\n",
      "[LightGBM] [Warning] lambda_l2 is set=0.041802430486792934, reg_lambda=0.0 will be ignored. Current value: lambda_l2=0.041802430486792934\n",
      "[LightGBM] [Warning] lambda_l1 is set=0.004616808586359295, reg_alpha=0.0 will be ignored. Current value: lambda_l1=0.004616808586359295\n",
      "[LightGBM] [Warning] bagging_freq is set=6, subsample_freq=0 will be ignored. Current value: bagging_freq=6\n",
      "[LightGBM] [Warning] feature_fraction is set=0.5029220410132562, colsample_bytree=1.0 will be ignored. Current value: feature_fraction=0.5029220410132562\n",
      "[LightGBM] [Warning] bagging_fraction is set=0.9785260305232051, subsample=1.0 will be ignored. Current value: bagging_fraction=0.9785260305232051\n",
      "[LightGBM] [Warning] lambda_l2 is set=0.0373167148422577, reg_lambda=0.0 will be ignored. Current value: lambda_l2=0.0373167148422577\n",
      "[LightGBM] [Warning] lambda_l1 is set=0.008287607178571197, reg_alpha=0.0 will be ignored. Current value: lambda_l1=0.008287607178571197\n"
     ]
    },
    {
     "name": "stderr",
     "output_type": "stream",
     "text": [
      "\u001b[32m[I 2021-08-31 13:07:04,771]\u001b[0m Trial 47 finished with value: 2.5938218449999537 and parameters: {'lambda_l1': 0.008287607178571197, 'lambda_l2': 0.0373167148422577, 'num_leaves': 244, 'feature_fraction': 0.5029220410132562, 'bagging_fraction': 0.9785260305232051, 'bagging_freq': 6, 'min_child_samples': 8}. Best is trial 21 with value: 2.536042271465012.\u001b[0m\n",
      "\u001b[32m[I 2021-08-31 13:07:04,880]\u001b[0m Trial 48 finished with value: 2.7223574773115287 and parameters: {'lambda_l1': 0.00012290034821881487, 'lambda_l2': 0.13369880445926208, 'num_leaves': 196, 'feature_fraction': 0.9636028593685773, 'bagging_fraction': 0.5589421923055155, 'bagging_freq': 5, 'min_child_samples': 21}. Best is trial 21 with value: 2.536042271465012.\u001b[0m\n",
      "\u001b[32m[I 2021-08-31 13:07:04,963]\u001b[0m Trial 49 finished with value: 3.089482231664189 and parameters: {'lambda_l1': 0.004453603220412845, 'lambda_l2': 0.015441139008750266, 'num_leaves': 211, 'feature_fraction': 0.4285257126012299, 'bagging_fraction': 0.8919150280143163, 'bagging_freq': 6, 'min_child_samples': 61}. Best is trial 21 with value: 2.536042271465012.\u001b[0m\n"
     ]
    },
    {
     "name": "stdout",
     "output_type": "stream",
     "text": [
      "[LightGBM] [Warning] bagging_freq is set=5, subsample_freq=0 will be ignored. Current value: bagging_freq=5\n",
      "[LightGBM] [Warning] feature_fraction is set=0.9636028593685773, colsample_bytree=1.0 will be ignored. Current value: feature_fraction=0.9636028593685773\n",
      "[LightGBM] [Warning] bagging_fraction is set=0.5589421923055155, subsample=1.0 will be ignored. Current value: bagging_fraction=0.5589421923055155\n",
      "[LightGBM] [Warning] lambda_l2 is set=0.13369880445926208, reg_lambda=0.0 will be ignored. Current value: lambda_l2=0.13369880445926208\n",
      "[LightGBM] [Warning] lambda_l1 is set=0.00012290034821881487, reg_alpha=0.0 will be ignored. Current value: lambda_l1=0.00012290034821881487\n",
      "[LightGBM] [Warning] bagging_freq is set=6, subsample_freq=0 will be ignored. Current value: bagging_freq=6\n",
      "[LightGBM] [Warning] feature_fraction is set=0.4285257126012299, colsample_bytree=1.0 will be ignored. Current value: feature_fraction=0.4285257126012299\n",
      "[LightGBM] [Warning] bagging_fraction is set=0.8919150280143163, subsample=1.0 will be ignored. Current value: bagging_fraction=0.8919150280143163\n",
      "[LightGBM] [Warning] lambda_l2 is set=0.015441139008750266, reg_lambda=0.0 will be ignored. Current value: lambda_l2=0.015441139008750266\n",
      "[LightGBM] [Warning] lambda_l1 is set=0.004453603220412845, reg_alpha=0.0 will be ignored. Current value: lambda_l1=0.004453603220412845\n",
      "[LightGBM] [Warning] bagging_freq is set=6, subsample_freq=0 will be ignored. Current value: bagging_freq=6\n",
      "[LightGBM] [Warning] feature_fraction is set=0.48322882670267886, colsample_bytree=1.0 will be ignored. Current value: feature_fraction=0.48322882670267886\n",
      "[LightGBM] [Warning] bagging_fraction is set=0.44161962262955634, subsample=1.0 will be ignored. Current value: bagging_fraction=0.44161962262955634\n",
      "[LightGBM] [Warning] lambda_l2 is set=0.000144048692774308, reg_lambda=0.0 will be ignored. Current value: lambda_l2=0.000144048692774308\n",
      "[LightGBM] [Warning] lambda_l1 is set=0.03634910637577792, reg_alpha=0.0 will be ignored. Current value: lambda_l1=0.03634910637577792\n"
     ]
    },
    {
     "name": "stderr",
     "output_type": "stream",
     "text": [
      "\u001b[32m[I 2021-08-31 13:07:05,050]\u001b[0m Trial 50 finished with value: 2.9511080996991077 and parameters: {'lambda_l1': 0.03634910637577792, 'lambda_l2': 0.000144048692774308, 'num_leaves': 169, 'feature_fraction': 0.48322882670267886, 'bagging_fraction': 0.44161962262955634, 'bagging_freq': 6, 'min_child_samples': 30}. Best is trial 21 with value: 2.536042271465012.\u001b[0m\n",
      "\u001b[32m[I 2021-08-31 13:07:05,183]\u001b[0m Trial 51 finished with value: 2.5486767036086526 and parameters: {'lambda_l1': 0.1490338259358525, 'lambda_l2': 0.0032953005156874018, 'num_leaves': 198, 'feature_fraction': 0.42529766907685596, 'bagging_fraction': 0.9735302821243217, 'bagging_freq': 5, 'min_child_samples': 10}. Best is trial 21 with value: 2.536042271465012.\u001b[0m\n"
     ]
    },
    {
     "name": "stdout",
     "output_type": "stream",
     "text": [
      "[LightGBM] [Warning] bagging_freq is set=5, subsample_freq=0 will be ignored. Current value: bagging_freq=5\n",
      "[LightGBM] [Warning] feature_fraction is set=0.42529766907685596, colsample_bytree=1.0 will be ignored. Current value: feature_fraction=0.42529766907685596\n",
      "[LightGBM] [Warning] bagging_fraction is set=0.9735302821243217, subsample=1.0 will be ignored. Current value: bagging_fraction=0.9735302821243217\n",
      "[LightGBM] [Warning] lambda_l2 is set=0.0032953005156874018, reg_lambda=0.0 will be ignored. Current value: lambda_l2=0.0032953005156874018\n",
      "[LightGBM] [Warning] lambda_l1 is set=0.1490338259358525, reg_alpha=0.0 will be ignored. Current value: lambda_l1=0.1490338259358525\n",
      "[LightGBM] [Warning] bagging_freq is set=5, subsample_freq=0 will be ignored. Current value: bagging_freq=5\n",
      "[LightGBM] [Warning] feature_fraction is set=0.43126854944132426, colsample_bytree=1.0 will be ignored. Current value: feature_fraction=0.43126854944132426\n",
      "[LightGBM] [Warning] bagging_fraction is set=0.9744829596830542, subsample=1.0 will be ignored. Current value: bagging_fraction=0.9744829596830542\n",
      "[LightGBM] [Warning] lambda_l2 is set=0.003077541146893426, reg_lambda=0.0 will be ignored. Current value: lambda_l2=0.003077541146893426\n",
      "[LightGBM] [Warning] lambda_l1 is set=0.17498591848455677, reg_alpha=0.0 will be ignored. Current value: lambda_l1=0.17498591848455677\n"
     ]
    },
    {
     "name": "stderr",
     "output_type": "stream",
     "text": [
      "\u001b[32m[I 2021-08-31 13:07:05,320]\u001b[0m Trial 52 finished with value: 2.551269300922222 and parameters: {'lambda_l1': 0.17498591848455677, 'lambda_l2': 0.003077541146893426, 'num_leaves': 194, 'feature_fraction': 0.43126854944132426, 'bagging_fraction': 0.9744829596830542, 'bagging_freq': 5, 'min_child_samples': 9}. Best is trial 21 with value: 2.536042271465012.\u001b[0m\n",
      "\u001b[32m[I 2021-08-31 13:07:05,457]\u001b[0m Trial 53 finished with value: 2.625993781623078 and parameters: {'lambda_l1': 0.00045348582223872817, 'lambda_l2': 0.0009408004733958827, 'num_leaves': 233, 'feature_fraction': 0.47053203474217287, 'bagging_fraction': 0.9991533479648473, 'bagging_freq': 5, 'min_child_samples': 17}. Best is trial 21 with value: 2.536042271465012.\u001b[0m\n"
     ]
    },
    {
     "name": "stdout",
     "output_type": "stream",
     "text": [
      "[LightGBM] [Warning] bagging_freq is set=5, subsample_freq=0 will be ignored. Current value: bagging_freq=5\n",
      "[LightGBM] [Warning] feature_fraction is set=0.47053203474217287, colsample_bytree=1.0 will be ignored. Current value: feature_fraction=0.47053203474217287\n",
      "[LightGBM] [Warning] bagging_fraction is set=0.9991533479648473, subsample=1.0 will be ignored. Current value: bagging_fraction=0.9991533479648473\n",
      "[LightGBM] [Warning] lambda_l2 is set=0.0009408004733958827, reg_lambda=0.0 will be ignored. Current value: lambda_l2=0.0009408004733958827\n",
      "[LightGBM] [Warning] lambda_l1 is set=0.00045348582223872817, reg_alpha=0.0 will be ignored. Current value: lambda_l1=0.00045348582223872817\n",
      "[LightGBM] [Warning] bagging_freq is set=5, subsample_freq=0 will be ignored. Current value: bagging_freq=5\n",
      "[LightGBM] [Warning] feature_fraction is set=0.5346994439660903, colsample_bytree=1.0 will be ignored. Current value: feature_fraction=0.5346994439660903\n",
      "[LightGBM] [Warning] bagging_fraction is set=0.9752702488699738, subsample=1.0 will be ignored. Current value: bagging_fraction=0.9752702488699738\n",
      "[LightGBM] [Warning] lambda_l2 is set=0.03805234729412209, reg_lambda=0.0 will be ignored. Current value: lambda_l2=0.03805234729412209\n",
      "[LightGBM] [Warning] lambda_l1 is set=0.0016427980247480224, reg_alpha=0.0 will be ignored. Current value: lambda_l1=0.0016427980247480224\n"
     ]
    },
    {
     "name": "stderr",
     "output_type": "stream",
     "text": [
      "\u001b[32m[I 2021-08-31 13:07:05,655]\u001b[0m Trial 54 finished with value: 2.5981816093942243 and parameters: {'lambda_l1': 0.0016427980247480224, 'lambda_l2': 0.03805234729412209, 'num_leaves': 200, 'feature_fraction': 0.5346994439660903, 'bagging_fraction': 0.9752702488699738, 'bagging_freq': 5, 'min_child_samples': 5}. Best is trial 21 with value: 2.536042271465012.\u001b[0m\n",
      "\u001b[32m[I 2021-08-31 13:07:05,788]\u001b[0m Trial 55 finished with value: 2.5539333073480392 and parameters: {'lambda_l1': 0.01993683345747611, 'lambda_l2': 0.3813736650833388, 'num_leaves': 158, 'feature_fraction': 0.4312834189474044, 'bagging_fraction': 0.9074509554756318, 'bagging_freq': 5, 'min_child_samples': 9}. Best is trial 21 with value: 2.536042271465012.\u001b[0m\n"
     ]
    },
    {
     "name": "stdout",
     "output_type": "stream",
     "text": [
      "[LightGBM] [Warning] bagging_freq is set=5, subsample_freq=0 will be ignored. Current value: bagging_freq=5\n",
      "[LightGBM] [Warning] feature_fraction is set=0.4312834189474044, colsample_bytree=1.0 will be ignored. Current value: feature_fraction=0.4312834189474044\n",
      "[LightGBM] [Warning] bagging_fraction is set=0.9074509554756318, subsample=1.0 will be ignored. Current value: bagging_fraction=0.9074509554756318\n",
      "[LightGBM] [Warning] lambda_l2 is set=0.3813736650833388, reg_lambda=0.0 will be ignored. Current value: lambda_l2=0.3813736650833388\n",
      "[LightGBM] [Warning] lambda_l1 is set=0.01993683345747611, reg_alpha=0.0 will be ignored. Current value: lambda_l1=0.01993683345747611\n",
      "[LightGBM] [Warning] bagging_freq is set=6, subsample_freq=0 will be ignored. Current value: bagging_freq=6\n",
      "[LightGBM] [Warning] feature_fraction is set=0.4030607342760113, colsample_bytree=1.0 will be ignored. Current value: feature_fraction=0.4030607342760113\n",
      "[LightGBM] [Warning] bagging_fraction is set=0.9339759332552656, subsample=1.0 will be ignored. Current value: bagging_fraction=0.9339759332552656\n",
      "[LightGBM] [Warning] lambda_l2 is set=0.08923489283526803, reg_lambda=0.0 will be ignored. Current value: lambda_l2=0.08923489283526803\n",
      "[LightGBM] [Warning] lambda_l1 is set=0.005684337696633097, reg_alpha=0.0 will be ignored. Current value: lambda_l1=0.005684337696633097\n"
     ]
    },
    {
     "name": "stderr",
     "output_type": "stream",
     "text": [
      "\u001b[32m[I 2021-08-31 13:07:05,900]\u001b[0m Trial 56 finished with value: 2.597979707985599 and parameters: {'lambda_l1': 0.005684337696633097, 'lambda_l2': 0.08923489283526803, 'num_leaves': 217, 'feature_fraction': 0.4030607342760113, 'bagging_fraction': 0.9339759332552656, 'bagging_freq': 6, 'min_child_samples': 23}. Best is trial 21 with value: 2.536042271465012.\u001b[0m\n",
      "\u001b[32m[I 2021-08-31 13:07:05,975]\u001b[0m Trial 57 finished with value: 3.367942677087051 and parameters: {'lambda_l1': 0.0687084139358242, 'lambda_l2': 1.5717387689584342e-06, 'num_leaves': 173, 'feature_fraction': 0.49938068540629893, 'bagging_fraction': 0.8757330167512964, 'bagging_freq': 6, 'min_child_samples': 85}. Best is trial 21 with value: 2.536042271465012.\u001b[0m\n",
      "\u001b[32m[I 2021-08-31 13:07:06,103]\u001b[0m Trial 58 finished with value: 2.620823944557704 and parameters: {'lambda_l1': 4.36068326253178, 'lambda_l2': 0.0022134013291086954, 'num_leaves': 186, 'feature_fraction': 0.46336848794593766, 'bagging_fraction': 0.9991249631033378, 'bagging_freq': 5, 'min_child_samples': 14}. Best is trial 21 with value: 2.536042271465012.\u001b[0m\n"
     ]
    },
    {
     "name": "stdout",
     "output_type": "stream",
     "text": [
      "[LightGBM] [Warning] bagging_freq is set=6, subsample_freq=0 will be ignored. Current value: bagging_freq=6\n",
      "[LightGBM] [Warning] feature_fraction is set=0.49938068540629893, colsample_bytree=1.0 will be ignored. Current value: feature_fraction=0.49938068540629893\n",
      "[LightGBM] [Warning] bagging_fraction is set=0.8757330167512964, subsample=1.0 will be ignored. Current value: bagging_fraction=0.8757330167512964\n",
      "[LightGBM] [Warning] lambda_l2 is set=1.5717387689584342e-06, reg_lambda=0.0 will be ignored. Current value: lambda_l2=1.5717387689584342e-06\n",
      "[LightGBM] [Warning] lambda_l1 is set=0.0687084139358242, reg_alpha=0.0 will be ignored. Current value: lambda_l1=0.0687084139358242\n",
      "[LightGBM] [Warning] bagging_freq is set=5, subsample_freq=0 will be ignored. Current value: bagging_freq=5\n",
      "[LightGBM] [Warning] feature_fraction is set=0.46336848794593766, colsample_bytree=1.0 will be ignored. Current value: feature_fraction=0.46336848794593766\n",
      "[LightGBM] [Warning] bagging_fraction is set=0.9991249631033378, subsample=1.0 will be ignored. Current value: bagging_fraction=0.9991249631033378\n",
      "[LightGBM] [Warning] lambda_l2 is set=0.0022134013291086954, reg_lambda=0.0 will be ignored. Current value: lambda_l2=0.0022134013291086954\n",
      "[LightGBM] [Warning] lambda_l1 is set=4.36068326253178, reg_alpha=0.0 will be ignored. Current value: lambda_l1=4.36068326253178\n"
     ]
    },
    {
     "name": "stderr",
     "output_type": "stream",
     "text": [
      "\u001b[32m[I 2021-08-31 13:07:06,266]\u001b[0m Trial 59 finished with value: 2.6009382300187234 and parameters: {'lambda_l1': 0.16830069408753257, 'lambda_l2': 0.019032017313785808, 'num_leaves': 254, 'feature_fraction': 0.44005148878246947, 'bagging_fraction': 0.7369917143580951, 'bagging_freq': 7, 'min_child_samples': 7}. Best is trial 21 with value: 2.536042271465012.\u001b[0m\n"
     ]
    },
    {
     "name": "stdout",
     "output_type": "stream",
     "text": [
      "[LightGBM] [Warning] bagging_freq is set=7, subsample_freq=0 will be ignored. Current value: bagging_freq=7\n",
      "[LightGBM] [Warning] feature_fraction is set=0.44005148878246947, colsample_bytree=1.0 will be ignored. Current value: feature_fraction=0.44005148878246947\n",
      "[LightGBM] [Warning] bagging_fraction is set=0.7369917143580951, subsample=1.0 will be ignored. Current value: bagging_fraction=0.7369917143580951\n",
      "[LightGBM] [Warning] lambda_l2 is set=0.019032017313785808, reg_lambda=0.0 will be ignored. Current value: lambda_l2=0.019032017313785808\n",
      "[LightGBM] [Warning] lambda_l1 is set=0.16830069408753257, reg_alpha=0.0 will be ignored. Current value: lambda_l1=0.16830069408753257\n",
      "[LightGBM] [Warning] bagging_freq is set=4, subsample_freq=0 will be ignored. Current value: bagging_freq=4\n",
      "[LightGBM] [Warning] feature_fraction is set=0.5970760394791352, colsample_bytree=1.0 will be ignored. Current value: feature_fraction=0.5970760394791352\n",
      "[LightGBM] [Warning] bagging_fraction is set=0.6252006472863397, subsample=1.0 will be ignored. Current value: bagging_fraction=0.6252006472863397\n",
      "[LightGBM] [Warning] lambda_l2 is set=1.2115993535374205, reg_lambda=0.0 will be ignored. Current value: lambda_l2=1.2115993535374205\n",
      "[LightGBM] [Warning] lambda_l1 is set=1.6218241752418798, reg_alpha=0.0 will be ignored. Current value: lambda_l1=1.6218241752418798\n"
     ]
    },
    {
     "name": "stderr",
     "output_type": "stream",
     "text": [
      "\u001b[32m[I 2021-08-31 13:07:06,383]\u001b[0m Trial 60 finished with value: 2.6140234868623793 and parameters: {'lambda_l1': 1.6218241752418798, 'lambda_l2': 1.2115993535374205, 'num_leaves': 136, 'feature_fraction': 0.5970760394791352, 'bagging_fraction': 0.6252006472863397, 'bagging_freq': 4, 'min_child_samples': 18}. Best is trial 21 with value: 2.536042271465012.\u001b[0m\n",
      "\u001b[32m[I 2021-08-31 13:07:06,519]\u001b[0m Trial 61 finished with value: 2.5466380187808255 and parameters: {'lambda_l1': 0.17078651271609088, 'lambda_l2': 0.005318503198307708, 'num_leaves': 194, 'feature_fraction': 0.4218847990878585, 'bagging_fraction': 0.9703677597696453, 'bagging_freq': 5, 'min_child_samples': 9}. Best is trial 21 with value: 2.536042271465012.\u001b[0m\n"
     ]
    },
    {
     "name": "stdout",
     "output_type": "stream",
     "text": [
      "[LightGBM] [Warning] bagging_freq is set=5, subsample_freq=0 will be ignored. Current value: bagging_freq=5\n",
      "[LightGBM] [Warning] feature_fraction is set=0.4218847990878585, colsample_bytree=1.0 will be ignored. Current value: feature_fraction=0.4218847990878585\n",
      "[LightGBM] [Warning] bagging_fraction is set=0.9703677597696453, subsample=1.0 will be ignored. Current value: bagging_fraction=0.9703677597696453\n",
      "[LightGBM] [Warning] lambda_l2 is set=0.005318503198307708, reg_lambda=0.0 will be ignored. Current value: lambda_l2=0.005318503198307708\n",
      "[LightGBM] [Warning] lambda_l1 is set=0.17078651271609088, reg_alpha=0.0 will be ignored. Current value: lambda_l1=0.17078651271609088\n",
      "[LightGBM] [Warning] bagging_freq is set=5, subsample_freq=0 will be ignored. Current value: bagging_freq=5\n",
      "[LightGBM] [Warning] feature_fraction is set=0.41895583994826374, colsample_bytree=1.0 will be ignored. Current value: feature_fraction=0.41895583994826374\n",
      "[LightGBM] [Warning] bagging_fraction is set=0.9723594123098337, subsample=1.0 will be ignored. Current value: bagging_fraction=0.9723594123098337\n",
      "[LightGBM] [Warning] lambda_l2 is set=0.00813679100098477, reg_lambda=0.0 will be ignored. Current value: lambda_l2=0.00813679100098477\n",
      "[LightGBM] [Warning] lambda_l1 is set=0.5258596273681448, reg_alpha=0.0 will be ignored. Current value: lambda_l1=0.5258596273681448\n"
     ]
    },
    {
     "name": "stderr",
     "output_type": "stream",
     "text": [
      "\u001b[32m[I 2021-08-31 13:07:06,649]\u001b[0m Trial 62 finished with value: 2.5449136270191692 and parameters: {'lambda_l1': 0.5258596273681448, 'lambda_l2': 0.00813679100098477, 'num_leaves': 206, 'feature_fraction': 0.41895583994826374, 'bagging_fraction': 0.9723594123098337, 'bagging_freq': 5, 'min_child_samples': 10}. Best is trial 21 with value: 2.536042271465012.\u001b[0m\n",
      "\u001b[32m[I 2021-08-31 13:07:06,788]\u001b[0m Trial 63 finished with value: 2.547355823303956 and parameters: {'lambda_l1': 0.38013371926329054, 'lambda_l2': 0.007110255071871398, 'num_leaves': 206, 'feature_fraction': 0.40136011133558347, 'bagging_fraction': 0.9392033069700878, 'bagging_freq': 5, 'min_child_samples': 5}. Best is trial 21 with value: 2.536042271465012.\u001b[0m\n"
     ]
    },
    {
     "name": "stdout",
     "output_type": "stream",
     "text": [
      "[LightGBM] [Warning] bagging_freq is set=5, subsample_freq=0 will be ignored. Current value: bagging_freq=5\n",
      "[LightGBM] [Warning] feature_fraction is set=0.40136011133558347, colsample_bytree=1.0 will be ignored. Current value: feature_fraction=0.40136011133558347\n",
      "[LightGBM] [Warning] bagging_fraction is set=0.9392033069700878, subsample=1.0 will be ignored. Current value: bagging_fraction=0.9392033069700878\n",
      "[LightGBM] [Warning] lambda_l2 is set=0.007110255071871398, reg_lambda=0.0 will be ignored. Current value: lambda_l2=0.007110255071871398\n",
      "[LightGBM] [Warning] lambda_l1 is set=0.38013371926329054, reg_alpha=0.0 will be ignored. Current value: lambda_l1=0.38013371926329054\n",
      "[LightGBM] [Warning] bagging_freq is set=5, subsample_freq=0 will be ignored. Current value: bagging_freq=5\n",
      "[LightGBM] [Warning] feature_fraction is set=0.400611484994407, colsample_bytree=1.0 will be ignored. Current value: feature_fraction=0.400611484994407\n",
      "[LightGBM] [Warning] bagging_fraction is set=0.9382590426415367, subsample=1.0 will be ignored. Current value: bagging_fraction=0.9382590426415367\n",
      "[LightGBM] [Warning] lambda_l2 is set=0.008329479163933173, reg_lambda=0.0 will be ignored. Current value: lambda_l2=0.008329479163933173\n",
      "[LightGBM] [Warning] lambda_l1 is set=1.283011584485596, reg_alpha=0.0 will be ignored. Current value: lambda_l1=1.283011584485596\n"
     ]
    },
    {
     "name": "stderr",
     "output_type": "stream",
     "text": [
      "\u001b[32m[I 2021-08-31 13:07:06,917]\u001b[0m Trial 64 finished with value: 2.541282481447698 and parameters: {'lambda_l1': 1.283011584485596, 'lambda_l2': 0.008329479163933173, 'num_leaves': 206, 'feature_fraction': 0.400611484994407, 'bagging_fraction': 0.9382590426415367, 'bagging_freq': 5, 'min_child_samples': 5}. Best is trial 21 with value: 2.536042271465012.\u001b[0m\n",
      "\u001b[32m[I 2021-08-31 13:07:07,048]\u001b[0m Trial 65 finished with value: 2.6272978249427306 and parameters: {'lambda_l1': 1.2851357163301103, 'lambda_l2': 0.2172876795464014, 'num_leaves': 180, 'feature_fraction': 0.4755913526176296, 'bagging_fraction': 0.9124368384233553, 'bagging_freq': 5, 'min_child_samples': 14}. Best is trial 21 with value: 2.536042271465012.\u001b[0m\n"
     ]
    },
    {
     "name": "stdout",
     "output_type": "stream",
     "text": [
      "[LightGBM] [Warning] bagging_freq is set=5, subsample_freq=0 will be ignored. Current value: bagging_freq=5\n",
      "[LightGBM] [Warning] feature_fraction is set=0.4755913526176296, colsample_bytree=1.0 will be ignored. Current value: feature_fraction=0.4755913526176296\n",
      "[LightGBM] [Warning] bagging_fraction is set=0.9124368384233553, subsample=1.0 will be ignored. Current value: bagging_fraction=0.9124368384233553\n",
      "[LightGBM] [Warning] lambda_l2 is set=0.2172876795464014, reg_lambda=0.0 will be ignored. Current value: lambda_l2=0.2172876795464014\n",
      "[LightGBM] [Warning] lambda_l1 is set=1.2851357163301103, reg_alpha=0.0 will be ignored. Current value: lambda_l1=1.2851357163301103\n",
      "[LightGBM] [Warning] bagging_freq is set=6, subsample_freq=0 will be ignored. Current value: bagging_freq=6\n",
      "[LightGBM] [Warning] feature_fraction is set=0.4157736745164989, colsample_bytree=1.0 will be ignored. Current value: feature_fraction=0.4157736745164989\n",
      "[LightGBM] [Warning] bagging_fraction is set=0.9993356342973961, subsample=1.0 will be ignored. Current value: bagging_fraction=0.9993356342973961\n",
      "[LightGBM] [Warning] lambda_l2 is set=0.021230997530471647, reg_lambda=0.0 will be ignored. Current value: lambda_l2=0.021230997530471647\n",
      "[LightGBM] [Warning] lambda_l1 is set=9.951776379482066, reg_alpha=0.0 will be ignored. Current value: lambda_l1=9.951776379482066\n"
     ]
    },
    {
     "name": "stderr",
     "output_type": "stream",
     "text": [
      "\u001b[32m[I 2021-08-31 13:07:07,162]\u001b[0m Trial 66 finished with value: 2.5719671187565463 and parameters: {'lambda_l1': 9.951776379482066, 'lambda_l2': 0.021230997530471647, 'num_leaves': 231, 'feature_fraction': 0.4157736745164989, 'bagging_fraction': 0.9993356342973961, 'bagging_freq': 6, 'min_child_samples': 7}. Best is trial 21 with value: 2.536042271465012.\u001b[0m\n",
      "\u001b[32m[I 2021-08-31 13:07:07,340]\u001b[0m Trial 67 finished with value: 2.560698902853448 and parameters: {'lambda_l1': 3.2859521030131016, 'lambda_l2': 0.0012637736244099742, 'num_leaves': 189, 'feature_fraction': 0.40036498622315897, 'bagging_fraction': 0.9549962334019029, 'bagging_freq': 4, 'min_child_samples': 13}. Best is trial 21 with value: 2.536042271465012.\u001b[0m\n"
     ]
    },
    {
     "name": "stdout",
     "output_type": "stream",
     "text": [
      "[LightGBM] [Warning] bagging_freq is set=4, subsample_freq=0 will be ignored. Current value: bagging_freq=4\n",
      "[LightGBM] [Warning] feature_fraction is set=0.40036498622315897, colsample_bytree=1.0 will be ignored. Current value: feature_fraction=0.40036498622315897\n",
      "[LightGBM] [Warning] bagging_fraction is set=0.9549962334019029, subsample=1.0 will be ignored. Current value: bagging_fraction=0.9549962334019029\n",
      "[LightGBM] [Warning] lambda_l2 is set=0.0012637736244099742, reg_lambda=0.0 will be ignored. Current value: lambda_l2=0.0012637736244099742\n",
      "[LightGBM] [Warning] lambda_l1 is set=3.2859521030131016, reg_alpha=0.0 will be ignored. Current value: lambda_l1=3.2859521030131016\n",
      "[LightGBM] [Warning] bagging_freq is set=4, subsample_freq=0 will be ignored. Current value: bagging_freq=4\n",
      "[LightGBM] [Warning] feature_fraction is set=0.44997667924860146, colsample_bytree=1.0 will be ignored. Current value: feature_fraction=0.44997667924860146\n",
      "[LightGBM] [Warning] bagging_fraction is set=0.8314317088816915, subsample=1.0 will be ignored. Current value: bagging_fraction=0.8314317088816915\n",
      "[LightGBM] [Warning] lambda_l2 is set=0.010399005013994024, reg_lambda=0.0 will be ignored. Current value: lambda_l2=0.010399005013994024\n",
      "[LightGBM] [Warning] lambda_l1 is set=0.6328049061654482, reg_alpha=0.0 will be ignored. Current value: lambda_l1=0.6328049061654482\n"
     ]
    },
    {
     "name": "stderr",
     "output_type": "stream",
     "text": [
      "\u001b[32m[I 2021-08-31 13:07:07,471]\u001b[0m Trial 68 finished with value: 2.6027582440515373 and parameters: {'lambda_l1': 0.6328049061654482, 'lambda_l2': 0.010399005013994024, 'num_leaves': 240, 'feature_fraction': 0.44997667924860146, 'bagging_fraction': 0.8314317088816915, 'bagging_freq': 4, 'min_child_samples': 16}. Best is trial 21 with value: 2.536042271465012.\u001b[0m\n",
      "\u001b[32m[I 2021-08-31 13:07:07,604]\u001b[0m Trial 69 finished with value: 2.633850709782967 and parameters: {'lambda_l1': 6.677174958944159, 'lambda_l2': 5.3448310242948525, 'num_leaves': 215, 'feature_fraction': 0.6823227562549694, 'bagging_fraction': 0.9237155239056841, 'bagging_freq': 5, 'min_child_samples': 5}. Best is trial 21 with value: 2.536042271465012.\u001b[0m\n"
     ]
    },
    {
     "name": "stdout",
     "output_type": "stream",
     "text": [
      "[LightGBM] [Warning] bagging_freq is set=5, subsample_freq=0 will be ignored. Current value: bagging_freq=5\n",
      "[LightGBM] [Warning] feature_fraction is set=0.6823227562549694, colsample_bytree=1.0 will be ignored. Current value: feature_fraction=0.6823227562549694\n",
      "[LightGBM] [Warning] bagging_fraction is set=0.9237155239056841, subsample=1.0 will be ignored. Current value: bagging_fraction=0.9237155239056841\n",
      "[LightGBM] [Warning] lambda_l2 is set=5.3448310242948525, reg_lambda=0.0 will be ignored. Current value: lambda_l2=5.3448310242948525\n",
      "[LightGBM] [Warning] lambda_l1 is set=6.677174958944159, reg_alpha=0.0 will be ignored. Current value: lambda_l1=6.677174958944159\n",
      "[LightGBM] [Warning] bagging_freq is set=5, subsample_freq=0 will be ignored. Current value: bagging_freq=5\n",
      "[LightGBM] [Warning] feature_fraction is set=0.8453299952391768, colsample_bytree=1.0 will be ignored. Current value: feature_fraction=0.8453299952391768\n",
      "[LightGBM] [Warning] bagging_fraction is set=0.9004187205569233, subsample=1.0 will be ignored. Current value: bagging_fraction=0.9004187205569233\n",
      "[LightGBM] [Warning] lambda_l2 is set=0.00019451477128269465, reg_lambda=0.0 will be ignored. Current value: lambda_l2=0.00019451477128269465\n",
      "[LightGBM] [Warning] lambda_l1 is set=0.29453590378374556, reg_alpha=0.0 will be ignored. Current value: lambda_l1=0.29453590378374556\n"
     ]
    },
    {
     "name": "stderr",
     "output_type": "stream",
     "text": [
      "\u001b[32m[I 2021-08-31 13:07:07,736]\u001b[0m Trial 70 finished with value: 2.690545709745139 and parameters: {'lambda_l1': 0.29453590378374556, 'lambda_l2': 0.00019451477128269465, 'num_leaves': 165, 'feature_fraction': 0.8453299952391768, 'bagging_fraction': 0.9004187205569233, 'bagging_freq': 5, 'min_child_samples': 20}. Best is trial 21 with value: 2.536042271465012.\u001b[0m\n",
      "\u001b[32m[I 2021-08-31 13:07:07,873]\u001b[0m Trial 71 finished with value: 2.5395555413022772 and parameters: {'lambda_l1': 0.42928296371125524, 'lambda_l2': 0.007759837218427798, 'num_leaves': 222, 'feature_fraction': 0.41779662111386306, 'bagging_fraction': 0.9442912412137239, 'bagging_freq': 5, 'min_child_samples': 5}. Best is trial 21 with value: 2.536042271465012.\u001b[0m\n"
     ]
    },
    {
     "name": "stdout",
     "output_type": "stream",
     "text": [
      "[LightGBM] [Warning] bagging_freq is set=5, subsample_freq=0 will be ignored. Current value: bagging_freq=5\n",
      "[LightGBM] [Warning] feature_fraction is set=0.41779662111386306, colsample_bytree=1.0 will be ignored. Current value: feature_fraction=0.41779662111386306\n",
      "[LightGBM] [Warning] bagging_fraction is set=0.9442912412137239, subsample=1.0 will be ignored. Current value: bagging_fraction=0.9442912412137239\n",
      "[LightGBM] [Warning] lambda_l2 is set=0.007759837218427798, reg_lambda=0.0 will be ignored. Current value: lambda_l2=0.007759837218427798\n",
      "[LightGBM] [Warning] lambda_l1 is set=0.42928296371125524, reg_alpha=0.0 will be ignored. Current value: lambda_l1=0.42928296371125524\n",
      "[LightGBM] [Warning] bagging_freq is set=5, subsample_freq=0 will be ignored. Current value: bagging_freq=5\n",
      "[LightGBM] [Warning] feature_fraction is set=0.41691320232231555, colsample_bytree=1.0 will be ignored. Current value: feature_fraction=0.41691320232231555\n",
      "[LightGBM] [Warning] bagging_fraction is set=0.9425685736139001, subsample=1.0 will be ignored. Current value: bagging_fraction=0.9425685736139001\n",
      "[LightGBM] [Warning] lambda_l2 is set=0.005317311979373921, reg_lambda=0.0 will be ignored. Current value: lambda_l2=0.005317311979373921\n",
      "[LightGBM] [Warning] lambda_l1 is set=0.8830906543485667, reg_alpha=0.0 will be ignored. Current value: lambda_l1=0.8830906543485667\n"
     ]
    },
    {
     "name": "stderr",
     "output_type": "stream",
     "text": [
      "\u001b[32m[I 2021-08-31 13:07:08,001]\u001b[0m Trial 72 finished with value: 2.5664782782637023 and parameters: {'lambda_l1': 0.8830906543485667, 'lambda_l2': 0.005317311979373921, 'num_leaves': 226, 'feature_fraction': 0.41691320232231555, 'bagging_fraction': 0.9425685736139001, 'bagging_freq': 5, 'min_child_samples': 11}. Best is trial 21 with value: 2.536042271465012.\u001b[0m\n",
      "\u001b[32m[I 2021-08-31 13:07:08,141]\u001b[0m Trial 73 finished with value: 2.5741668450975093 and parameters: {'lambda_l1': 1.7796901054338718, 'lambda_l2': 0.028348768747787186, 'num_leaves': 208, 'feature_fraction': 0.4481853090987557, 'bagging_fraction': 0.9618274358602943, 'bagging_freq': 5, 'min_child_samples': 7}. Best is trial 21 with value: 2.536042271465012.\u001b[0m\n"
     ]
    },
    {
     "name": "stdout",
     "output_type": "stream",
     "text": [
      "[LightGBM] [Warning] bagging_freq is set=5, subsample_freq=0 will be ignored. Current value: bagging_freq=5\n",
      "[LightGBM] [Warning] feature_fraction is set=0.4481853090987557, colsample_bytree=1.0 will be ignored. Current value: feature_fraction=0.4481853090987557\n",
      "[LightGBM] [Warning] bagging_fraction is set=0.9618274358602943, subsample=1.0 will be ignored. Current value: bagging_fraction=0.9618274358602943\n",
      "[LightGBM] [Warning] lambda_l2 is set=0.028348768747787186, reg_lambda=0.0 will be ignored. Current value: lambda_l2=0.028348768747787186\n",
      "[LightGBM] [Warning] lambda_l1 is set=1.7796901054338718, reg_alpha=0.0 will be ignored. Current value: lambda_l1=1.7796901054338718\n",
      "[LightGBM] [Warning] bagging_freq is set=5, subsample_freq=0 will be ignored. Current value: bagging_freq=5\n",
      "[LightGBM] [Warning] feature_fraction is set=0.4207738019330141, colsample_bytree=1.0 will be ignored. Current value: feature_fraction=0.4207738019330141\n",
      "[LightGBM] [Warning] bagging_fraction is set=0.985538994187681, subsample=1.0 will be ignored. Current value: bagging_fraction=0.985538994187681\n",
      "[LightGBM] [Warning] lambda_l2 is set=0.009856621445335131, reg_lambda=0.0 will be ignored. Current value: lambda_l2=0.009856621445335131\n",
      "[LightGBM] [Warning] lambda_l1 is set=0.5417929560538447, reg_alpha=0.0 will be ignored. Current value: lambda_l1=0.5417929560538447\n"
     ]
    },
    {
     "name": "stderr",
     "output_type": "stream",
     "text": [
      "\u001b[32m[I 2021-08-31 13:07:08,271]\u001b[0m Trial 74 finished with value: 2.5762258554470265 and parameters: {'lambda_l1': 0.5417929560538447, 'lambda_l2': 0.009856621445335131, 'num_leaves': 219, 'feature_fraction': 0.4207738019330141, 'bagging_fraction': 0.985538994187681, 'bagging_freq': 5, 'min_child_samples': 12}. Best is trial 21 with value: 2.536042271465012.\u001b[0m\n",
      "\u001b[32m[I 2021-08-31 13:07:08,459]\u001b[0m Trial 75 finished with value: 2.5948412815312043 and parameters: {'lambda_l1': 0.02659641986416537, 'lambda_l2': 0.0017482675688879849, 'num_leaves': 179, 'feature_fraction': 0.49387164429205843, 'bagging_fraction': 0.9659228322752208, 'bagging_freq': 4, 'min_child_samples': 5}. Best is trial 21 with value: 2.536042271465012.\u001b[0m\n"
     ]
    },
    {
     "name": "stdout",
     "output_type": "stream",
     "text": [
      "[LightGBM] [Warning] bagging_freq is set=4, subsample_freq=0 will be ignored. Current value: bagging_freq=4\n",
      "[LightGBM] [Warning] feature_fraction is set=0.49387164429205843, colsample_bytree=1.0 will be ignored. Current value: feature_fraction=0.49387164429205843\n",
      "[LightGBM] [Warning] bagging_fraction is set=0.9659228322752208, subsample=1.0 will be ignored. Current value: bagging_fraction=0.9659228322752208\n",
      "[LightGBM] [Warning] lambda_l2 is set=0.0017482675688879849, reg_lambda=0.0 will be ignored. Current value: lambda_l2=0.0017482675688879849\n",
      "[LightGBM] [Warning] lambda_l1 is set=0.02659641986416537, reg_alpha=0.0 will be ignored. Current value: lambda_l1=0.02659641986416537\n",
      "[LightGBM] [Warning] bagging_freq is set=6, subsample_freq=0 will be ignored. Current value: bagging_freq=6\n",
      "[LightGBM] [Warning] feature_fraction is set=0.4665988365110147, colsample_bytree=1.0 will be ignored. Current value: feature_fraction=0.4665988365110147\n",
      "[LightGBM] [Warning] bagging_fraction is set=0.8718966650595212, subsample=1.0 will be ignored. Current value: bagging_fraction=0.8718966650595212\n",
      "[LightGBM] [Warning] lambda_l2 is set=0.0007741122295556616, reg_lambda=0.0 will be ignored. Current value: lambda_l2=0.0007741122295556616\n",
      "[LightGBM] [Warning] lambda_l1 is set=0.06452380065147756, reg_alpha=0.0 will be ignored. Current value: lambda_l1=0.06452380065147756\n"
     ]
    },
    {
     "name": "stderr",
     "output_type": "stream",
     "text": [
      "\u001b[32m[I 2021-08-31 13:07:08,552]\u001b[0m Trial 76 finished with value: 2.846309865208185 and parameters: {'lambda_l1': 0.06452380065147756, 'lambda_l2': 0.0007741122295556616, 'num_leaves': 191, 'feature_fraction': 0.4665988365110147, 'bagging_fraction': 0.8718966650595212, 'bagging_freq': 6, 'min_child_samples': 49}. Best is trial 21 with value: 2.536042271465012.\u001b[0m\n",
      "\u001b[32m[I 2021-08-31 13:07:08,696]\u001b[0m Trial 77 finished with value: 2.6233489899839593 and parameters: {'lambda_l1': 0.21264554804816646, 'lambda_l2': 0.0037050916992106974, 'num_leaves': 209, 'feature_fraction': 0.4387912964306551, 'bagging_fraction': 0.9849429303659769, 'bagging_freq': 6, 'min_child_samples': 15}. Best is trial 21 with value: 2.536042271465012.\u001b[0m\n"
     ]
    },
    {
     "name": "stdout",
     "output_type": "stream",
     "text": [
      "[LightGBM] [Warning] bagging_freq is set=6, subsample_freq=0 will be ignored. Current value: bagging_freq=6\n",
      "[LightGBM] [Warning] feature_fraction is set=0.4387912964306551, colsample_bytree=1.0 will be ignored. Current value: feature_fraction=0.4387912964306551\n",
      "[LightGBM] [Warning] bagging_fraction is set=0.9849429303659769, subsample=1.0 will be ignored. Current value: bagging_fraction=0.9849429303659769\n",
      "[LightGBM] [Warning] lambda_l2 is set=0.0037050916992106974, reg_lambda=0.0 will be ignored. Current value: lambda_l2=0.0037050916992106974\n",
      "[LightGBM] [Warning] lambda_l1 is set=0.21264554804816646, reg_alpha=0.0 will be ignored. Current value: lambda_l1=0.21264554804816646\n",
      "[LightGBM] [Warning] bagging_freq is set=5, subsample_freq=0 will be ignored. Current value: bagging_freq=5\n",
      "[LightGBM] [Warning] feature_fraction is set=0.41159327068304824, colsample_bytree=1.0 will be ignored. Current value: feature_fraction=0.41159327068304824\n",
      "[LightGBM] [Warning] bagging_fraction is set=0.9459082981131103, subsample=1.0 will be ignored. Current value: bagging_fraction=0.9459082981131103\n",
      "[LightGBM] [Warning] lambda_l2 is set=0.1262461074902277, reg_lambda=0.0 will be ignored. Current value: lambda_l2=0.1262461074902277\n",
      "[LightGBM] [Warning] lambda_l1 is set=2.9727723219421507, reg_alpha=0.0 will be ignored. Current value: lambda_l1=2.9727723219421507\n"
     ]
    },
    {
     "name": "stderr",
     "output_type": "stream",
     "text": [
      "\u001b[32m[I 2021-08-31 13:07:08,800]\u001b[0m Trial 78 finished with value: 2.6149005201392064 and parameters: {'lambda_l1': 2.9727723219421507, 'lambda_l2': 0.1262461074902277, 'num_leaves': 225, 'feature_fraction': 0.41159327068304824, 'bagging_fraction': 0.9459082981131103, 'bagging_freq': 5, 'min_child_samples': 25}. Best is trial 21 with value: 2.536042271465012.\u001b[0m\n",
      "\u001b[32m[I 2021-08-31 13:07:08,868]\u001b[0m Trial 79 finished with value: 3.3866925124120866 and parameters: {'lambda_l1': 1.1595047343684668, 'lambda_l2': 0.07515619009780308, 'num_leaves': 7, 'feature_fraction': 0.45016460717692186, 'bagging_fraction': 0.926057180112178, 'bagging_freq': 4, 'min_child_samples': 8}. Best is trial 21 with value: 2.536042271465012.\u001b[0m\n",
      "\u001b[32m[I 2021-08-31 13:07:09,021]\u001b[0m Trial 80 finished with value: 2.5899058033170608 and parameters: {'lambda_l1': 0.12717743791775232, 'lambda_l2': 0.014678264702786502, 'num_leaves': 203, 'feature_fraction': 0.5194203691801497, 'bagging_fraction': 0.8512570501865658, 'bagging_freq': 3, 'min_child_samples': 11}. Best is trial 21 with value: 2.536042271465012.\u001b[0m\n"
     ]
    },
    {
     "name": "stdout",
     "output_type": "stream",
     "text": [
      "[LightGBM] [Warning] bagging_freq is set=4, subsample_freq=0 will be ignored. Current value: bagging_freq=4\n",
      "[LightGBM] [Warning] feature_fraction is set=0.45016460717692186, colsample_bytree=1.0 will be ignored. Current value: feature_fraction=0.45016460717692186\n",
      "[LightGBM] [Warning] bagging_fraction is set=0.926057180112178, subsample=1.0 will be ignored. Current value: bagging_fraction=0.926057180112178\n",
      "[LightGBM] [Warning] lambda_l2 is set=0.07515619009780308, reg_lambda=0.0 will be ignored. Current value: lambda_l2=0.07515619009780308\n",
      "[LightGBM] [Warning] lambda_l1 is set=1.1595047343684668, reg_alpha=0.0 will be ignored. Current value: lambda_l1=1.1595047343684668\n",
      "[LightGBM] [Warning] bagging_freq is set=3, subsample_freq=0 will be ignored. Current value: bagging_freq=3\n",
      "[LightGBM] [Warning] feature_fraction is set=0.5194203691801497, colsample_bytree=1.0 will be ignored. Current value: feature_fraction=0.5194203691801497\n",
      "[LightGBM] [Warning] bagging_fraction is set=0.8512570501865658, subsample=1.0 will be ignored. Current value: bagging_fraction=0.8512570501865658\n",
      "[LightGBM] [Warning] lambda_l2 is set=0.014678264702786502, reg_lambda=0.0 will be ignored. Current value: lambda_l2=0.014678264702786502\n",
      "[LightGBM] [Warning] lambda_l1 is set=0.12717743791775232, reg_alpha=0.0 will be ignored. Current value: lambda_l1=0.12717743791775232\n"
     ]
    },
    {
     "name": "stderr",
     "output_type": "stream",
     "text": [
      "\u001b[32m[I 2021-08-31 13:07:09,172]\u001b[0m Trial 81 finished with value: 2.5448914788311976 and parameters: {'lambda_l1': 0.42658402237239856, 'lambda_l2': 0.00818041393975292, 'num_leaves': 206, 'feature_fraction': 0.4005254386689806, 'bagging_fraction': 0.9385503406625959, 'bagging_freq': 5, 'min_child_samples': 6}. Best is trial 21 with value: 2.536042271465012.\u001b[0m\n"
     ]
    },
    {
     "name": "stdout",
     "output_type": "stream",
     "text": [
      "[LightGBM] [Warning] bagging_freq is set=5, subsample_freq=0 will be ignored. Current value: bagging_freq=5\n",
      "[LightGBM] [Warning] feature_fraction is set=0.4005254386689806, colsample_bytree=1.0 will be ignored. Current value: feature_fraction=0.4005254386689806\n",
      "[LightGBM] [Warning] bagging_fraction is set=0.9385503406625959, subsample=1.0 will be ignored. Current value: bagging_fraction=0.9385503406625959\n",
      "[LightGBM] [Warning] lambda_l2 is set=0.00818041393975292, reg_lambda=0.0 will be ignored. Current value: lambda_l2=0.00818041393975292\n",
      "[LightGBM] [Warning] lambda_l1 is set=0.42658402237239856, reg_alpha=0.0 will be ignored. Current value: lambda_l1=0.42658402237239856\n",
      "[LightGBM] [Warning] bagging_freq is set=5, subsample_freq=0 will be ignored. Current value: bagging_freq=5\n",
      "[LightGBM] [Warning] feature_fraction is set=0.4194699627977714, colsample_bytree=1.0 will be ignored. Current value: feature_fraction=0.4194699627977714\n",
      "[LightGBM] [Warning] bagging_fraction is set=0.9592432773751932, subsample=1.0 will be ignored. Current value: bagging_fraction=0.9592432773751932\n",
      "[LightGBM] [Warning] lambda_l2 is set=1.018737816510152e-08, reg_lambda=0.0 will be ignored. Current value: lambda_l2=1.018737816510152e-08\n",
      "[LightGBM] [Warning] lambda_l1 is set=0.4773899590454679, reg_alpha=0.0 will be ignored. Current value: lambda_l1=0.4773899590454679\n"
     ]
    },
    {
     "name": "stderr",
     "output_type": "stream",
     "text": [
      "\u001b[32m[I 2021-08-31 13:07:09,316]\u001b[0m Trial 82 finished with value: 2.538391036204192 and parameters: {'lambda_l1': 0.4773899590454679, 'lambda_l2': 1.018737816510152e-08, 'num_leaves': 187, 'feature_fraction': 0.4194699627977714, 'bagging_fraction': 0.9592432773751932, 'bagging_freq': 5, 'min_child_samples': 5}. Best is trial 21 with value: 2.536042271465012.\u001b[0m\n",
      "\u001b[32m[I 2021-08-31 13:07:09,449]\u001b[0m Trial 83 finished with value: 2.546475385020776 and parameters: {'lambda_l1': 0.43551722709538004, 'lambda_l2': 0.05415079312909862, 'num_leaves': 175, 'feature_fraction': 0.4049520937373987, 'bagging_fraction': 0.8928210660983062, 'bagging_freq': 5, 'min_child_samples': 5}. Best is trial 21 with value: 2.536042271465012.\u001b[0m\n"
     ]
    },
    {
     "name": "stdout",
     "output_type": "stream",
     "text": [
      "[LightGBM] [Warning] bagging_freq is set=5, subsample_freq=0 will be ignored. Current value: bagging_freq=5\n",
      "[LightGBM] [Warning] feature_fraction is set=0.4049520937373987, colsample_bytree=1.0 will be ignored. Current value: feature_fraction=0.4049520937373987\n",
      "[LightGBM] [Warning] bagging_fraction is set=0.8928210660983062, subsample=1.0 will be ignored. Current value: bagging_fraction=0.8928210660983062\n",
      "[LightGBM] [Warning] lambda_l2 is set=0.05415079312909862, reg_lambda=0.0 will be ignored. Current value: lambda_l2=0.05415079312909862\n",
      "[LightGBM] [Warning] lambda_l1 is set=0.43551722709538004, reg_alpha=0.0 will be ignored. Current value: lambda_l1=0.43551722709538004\n",
      "[LightGBM] [Warning] bagging_freq is set=5, subsample_freq=0 will be ignored. Current value: bagging_freq=5\n",
      "[LightGBM] [Warning] feature_fraction is set=0.4007367445288921, colsample_bytree=1.0 will be ignored. Current value: feature_fraction=0.4007367445288921\n",
      "[LightGBM] [Warning] bagging_fraction is set=0.8990490023521316, subsample=1.0 will be ignored. Current value: bagging_fraction=0.8990490023521316\n",
      "[LightGBM] [Warning] lambda_l2 is set=2.7215598547703764e-08, reg_lambda=0.0 will be ignored. Current value: lambda_l2=2.7215598547703764e-08\n",
      "[LightGBM] [Warning] lambda_l1 is set=4.835745430123358, reg_alpha=0.0 will be ignored. Current value: lambda_l1=4.835745430123358\n"
     ]
    },
    {
     "name": "stderr",
     "output_type": "stream",
     "text": [
      "\u001b[32m[I 2021-08-31 13:07:09,565]\u001b[0m Trial 84 finished with value: 2.5428349109432933 and parameters: {'lambda_l1': 4.835745430123358, 'lambda_l2': 2.7215598547703764e-08, 'num_leaves': 176, 'feature_fraction': 0.4007367445288921, 'bagging_fraction': 0.8990490023521316, 'bagging_freq': 5, 'min_child_samples': 5}. Best is trial 21 with value: 2.536042271465012.\u001b[0m\n",
      "\u001b[32m[I 2021-08-31 13:07:09,715]\u001b[0m Trial 85 finished with value: 2.5469560266228832 and parameters: {'lambda_l1': 1.266314381140452e-08, 'lambda_l2': 5.621349180287067e-08, 'num_leaves': 173, 'feature_fraction': 0.40599403480157714, 'bagging_fraction': 0.8783344133394886, 'bagging_freq': 5, 'min_child_samples': 5}. Best is trial 21 with value: 2.536042271465012.\u001b[0m\n"
     ]
    },
    {
     "name": "stdout",
     "output_type": "stream",
     "text": [
      "[LightGBM] [Warning] bagging_freq is set=5, subsample_freq=0 will be ignored. Current value: bagging_freq=5\n",
      "[LightGBM] [Warning] feature_fraction is set=0.40599403480157714, colsample_bytree=1.0 will be ignored. Current value: feature_fraction=0.40599403480157714\n",
      "[LightGBM] [Warning] bagging_fraction is set=0.8783344133394886, subsample=1.0 will be ignored. Current value: bagging_fraction=0.8783344133394886\n",
      "[LightGBM] [Warning] lambda_l2 is set=5.621349180287067e-08, reg_lambda=0.0 will be ignored. Current value: lambda_l2=5.621349180287067e-08\n",
      "[LightGBM] [Warning] lambda_l1 is set=1.266314381140452e-08, reg_alpha=0.0 will be ignored. Current value: lambda_l1=1.266314381140452e-08\n",
      "[LightGBM] [Warning] bagging_freq is set=5, subsample_freq=0 will be ignored. Current value: bagging_freq=5\n",
      "[LightGBM] [Warning] feature_fraction is set=0.4013949216922455, colsample_bytree=1.0 will be ignored. Current value: feature_fraction=0.4013949216922455\n",
      "[LightGBM] [Warning] bagging_fraction is set=0.8885226914626503, subsample=1.0 will be ignored. Current value: bagging_fraction=0.8885226914626503\n",
      "[LightGBM] [Warning] lambda_l2 is set=1.1176840716720144e-08, reg_lambda=0.0 will be ignored. Current value: lambda_l2=1.1176840716720144e-08\n",
      "[LightGBM] [Warning] lambda_l1 is set=6.156195282911294, reg_alpha=0.0 will be ignored. Current value: lambda_l1=6.156195282911294\n"
     ]
    },
    {
     "name": "stderr",
     "output_type": "stream",
     "text": [
      "\u001b[32m[I 2021-08-31 13:07:09,839]\u001b[0m Trial 86 finished with value: 2.5610350659969496 and parameters: {'lambda_l1': 6.156195282911294, 'lambda_l2': 1.1176840716720144e-08, 'num_leaves': 151, 'feature_fraction': 0.4013949216922455, 'bagging_fraction': 0.8885226914626503, 'bagging_freq': 5, 'min_child_samples': 7}. Best is trial 21 with value: 2.536042271465012.\u001b[0m\n",
      "\u001b[32m[I 2021-08-31 13:07:09,975]\u001b[0m Trial 87 finished with value: 2.5760596828984226 and parameters: {'lambda_l1': 2.161724313895536, 'lambda_l2': 2.0049871089508627e-07, 'num_leaves': 156, 'feature_fraction': 0.4416165579565791, 'bagging_fraction': 0.9079912621533754, 'bagging_freq': 5, 'min_child_samples': 5}. Best is trial 21 with value: 2.536042271465012.\u001b[0m\n"
     ]
    },
    {
     "name": "stdout",
     "output_type": "stream",
     "text": [
      "[LightGBM] [Warning] bagging_freq is set=5, subsample_freq=0 will be ignored. Current value: bagging_freq=5\n",
      "[LightGBM] [Warning] feature_fraction is set=0.4416165579565791, colsample_bytree=1.0 will be ignored. Current value: feature_fraction=0.4416165579565791\n",
      "[LightGBM] [Warning] bagging_fraction is set=0.9079912621533754, subsample=1.0 will be ignored. Current value: bagging_fraction=0.9079912621533754\n",
      "[LightGBM] [Warning] lambda_l2 is set=2.0049871089508627e-07, reg_lambda=0.0 will be ignored. Current value: lambda_l2=2.0049871089508627e-07\n",
      "[LightGBM] [Warning] lambda_l1 is set=2.161724313895536, reg_alpha=0.0 will be ignored. Current value: lambda_l1=2.161724313895536\n",
      "[LightGBM] [Warning] bagging_freq is set=5, subsample_freq=0 will be ignored. Current value: bagging_freq=5\n",
      "[LightGBM] [Warning] feature_fraction is set=0.48225508895639674, colsample_bytree=1.0 will be ignored. Current value: feature_fraction=0.48225508895639674\n",
      "[LightGBM] [Warning] bagging_fraction is set=0.9323218403374757, subsample=1.0 will be ignored. Current value: bagging_fraction=0.9323218403374757\n",
      "[LightGBM] [Warning] lambda_l2 is set=2.2959566380931157e-08, reg_lambda=0.0 will be ignored. Current value: lambda_l2=2.2959566380931157e-08\n",
      "[LightGBM] [Warning] lambda_l1 is set=0.6894587053712702, reg_alpha=0.0 will be ignored. Current value: lambda_l1=0.6894587053712702\n"
     ]
    },
    {
     "name": "stderr",
     "output_type": "stream",
     "text": [
      "\u001b[32m[I 2021-08-31 13:07:10,119]\u001b[0m Trial 88 finished with value: 2.6104014424495086 and parameters: {'lambda_l1': 0.6894587053712702, 'lambda_l2': 2.2959566380931157e-08, 'num_leaves': 165, 'feature_fraction': 0.48225508895639674, 'bagging_fraction': 0.9323218403374757, 'bagging_freq': 5, 'min_child_samples': 12}. Best is trial 21 with value: 2.536042271465012.\u001b[0m\n",
      "\u001b[32m[I 2021-08-31 13:07:10,203]\u001b[0m Trial 89 finished with value: 3.164364239399252 and parameters: {'lambda_l1': 4.168011524703042e-08, 'lambda_l2': 0.5615198258426543, 'num_leaves': 184, 'feature_fraction': 0.4653653047945863, 'bagging_fraction': 0.9187257842721769, 'bagging_freq': 6, 'min_child_samples': 72}. Best is trial 21 with value: 2.536042271465012.\u001b[0m\n"
     ]
    },
    {
     "name": "stdout",
     "output_type": "stream",
     "text": [
      "[LightGBM] [Warning] bagging_freq is set=6, subsample_freq=0 will be ignored. Current value: bagging_freq=6\n",
      "[LightGBM] [Warning] feature_fraction is set=0.4653653047945863, colsample_bytree=1.0 will be ignored. Current value: feature_fraction=0.4653653047945863\n",
      "[LightGBM] [Warning] bagging_fraction is set=0.9187257842721769, subsample=1.0 will be ignored. Current value: bagging_fraction=0.9187257842721769\n",
      "[LightGBM] [Warning] lambda_l2 is set=0.5615198258426543, reg_lambda=0.0 will be ignored. Current value: lambda_l2=0.5615198258426543\n",
      "[LightGBM] [Warning] lambda_l1 is set=4.168011524703042e-08, reg_alpha=0.0 will be ignored. Current value: lambda_l1=4.168011524703042e-08\n",
      "[LightGBM] [Warning] bagging_freq is set=6, subsample_freq=0 will be ignored. Current value: bagging_freq=6\n",
      "[LightGBM] [Warning] feature_fraction is set=0.4186337821419455, colsample_bytree=1.0 will be ignored. Current value: feature_fraction=0.4186337821419455\n",
      "[LightGBM] [Warning] bagging_fraction is set=0.8915984526049087, subsample=1.0 will be ignored. Current value: bagging_fraction=0.8915984526049087\n",
      "[LightGBM] [Warning] lambda_l2 is set=0.04786755987662298, reg_lambda=0.0 will be ignored. Current value: lambda_l2=0.04786755987662298\n",
      "[LightGBM] [Warning] lambda_l1 is set=0.36870390373807144, reg_alpha=0.0 will be ignored. Current value: lambda_l1=0.36870390373807144\n"
     ]
    },
    {
     "name": "stderr",
     "output_type": "stream",
     "text": [
      "\u001b[32m[I 2021-08-31 13:07:10,504]\u001b[0m Trial 90 finished with value: 2.544336948452947 and parameters: {'lambda_l1': 0.36870390373807144, 'lambda_l2': 0.04786755987662298, 'num_leaves': 177, 'feature_fraction': 0.4186337821419455, 'bagging_fraction': 0.8915984526049087, 'bagging_freq': 6, 'min_child_samples': 7}. Best is trial 21 with value: 2.536042271465012.\u001b[0m\n"
     ]
    },
    {
     "name": "stdout",
     "output_type": "stream",
     "text": [
      "[LightGBM] [Warning] bagging_freq is set=6, subsample_freq=0 will be ignored. Current value: bagging_freq=6\n",
      "[LightGBM] [Warning] feature_fraction is set=0.41499678691563713, colsample_bytree=1.0 will be ignored. Current value: feature_fraction=0.41499678691563713\n",
      "[LightGBM] [Warning] bagging_fraction is set=0.8429972248157088, subsample=1.0 will be ignored. Current value: bagging_fraction=0.8429972248157088\n",
      "[LightGBM] [Warning] lambda_l2 is set=0.18659610366154136, reg_lambda=0.0 will be ignored. Current value: lambda_l2=0.18659610366154136\n",
      "[LightGBM] [Warning] lambda_l1 is set=0.44677817667740105, reg_alpha=0.0 will be ignored. Current value: lambda_l1=0.44677817667740105\n"
     ]
    },
    {
     "name": "stderr",
     "output_type": "stream",
     "text": [
      "\u001b[32m[I 2021-08-31 13:07:10,791]\u001b[0m Trial 91 finished with value: 2.543632953208769 and parameters: {'lambda_l1': 0.44677817667740105, 'lambda_l2': 0.18659610366154136, 'num_leaves': 174, 'feature_fraction': 0.41499678691563713, 'bagging_fraction': 0.8429972248157088, 'bagging_freq': 6, 'min_child_samples': 7}. Best is trial 21 with value: 2.536042271465012.\u001b[0m\n",
      "\u001b[32m[I 2021-08-31 13:07:10,973]\u001b[0m Trial 92 finished with value: 2.5991203679281267 and parameters: {'lambda_l1': 4.504834985824989, 'lambda_l2': 0.2567893108236095, 'num_leaves': 139, 'feature_fraction': 0.43870038653779275, 'bagging_fraction': 0.8520913844146814, 'bagging_freq': 6, 'min_child_samples': 7}. Best is trial 21 with value: 2.536042271465012.\u001b[0m\n"
     ]
    },
    {
     "name": "stdout",
     "output_type": "stream",
     "text": [
      "[LightGBM] [Warning] bagging_freq is set=6, subsample_freq=0 will be ignored. Current value: bagging_freq=6\n",
      "[LightGBM] [Warning] feature_fraction is set=0.43870038653779275, colsample_bytree=1.0 will be ignored. Current value: feature_fraction=0.43870038653779275\n",
      "[LightGBM] [Warning] bagging_fraction is set=0.8520913844146814, subsample=1.0 will be ignored. Current value: bagging_fraction=0.8520913844146814\n",
      "[LightGBM] [Warning] lambda_l2 is set=0.2567893108236095, reg_lambda=0.0 will be ignored. Current value: lambda_l2=0.2567893108236095\n",
      "[LightGBM] [Warning] lambda_l1 is set=4.504834985824989, reg_alpha=0.0 will be ignored. Current value: lambda_l1=4.504834985824989\n",
      "[LightGBM] [Warning] bagging_freq is set=7, subsample_freq=0 will be ignored. Current value: bagging_freq=7\n",
      "[LightGBM] [Warning] feature_fraction is set=0.4153458500296955, colsample_bytree=1.0 will be ignored. Current value: feature_fraction=0.4153458500296955\n",
      "[LightGBM] [Warning] bagging_fraction is set=0.80874394039846, subsample=1.0 will be ignored. Current value: bagging_fraction=0.80874394039846\n",
      "[LightGBM] [Warning] lambda_l2 is set=0.1176590669185357, reg_lambda=0.0 will be ignored. Current value: lambda_l2=0.1176590669185357\n",
      "[LightGBM] [Warning] lambda_l1 is set=0.26398547603925376, reg_alpha=0.0 will be ignored. Current value: lambda_l1=0.26398547603925376\n"
     ]
    },
    {
     "name": "stderr",
     "output_type": "stream",
     "text": [
      "\u001b[32m[I 2021-08-31 13:07:11,092]\u001b[0m Trial 93 finished with value: 2.5838909710034668 and parameters: {'lambda_l1': 0.26398547603925376, 'lambda_l2': 0.1176590669185357, 'num_leaves': 166, 'feature_fraction': 0.4153458500296955, 'bagging_fraction': 0.80874394039846, 'bagging_freq': 7, 'min_child_samples': 15}. Best is trial 21 with value: 2.536042271465012.\u001b[0m\n",
      "\u001b[32m[I 2021-08-31 13:07:11,211]\u001b[0m Trial 94 finished with value: 2.5788733128316905 and parameters: {'lambda_l1': 1.2440769648598275, 'lambda_l2': 1.3957655428441322, 'num_leaves': 189, 'feature_fraction': 0.4002313565726703, 'bagging_fraction': 0.8303057465307111, 'bagging_freq': 6, 'min_child_samples': 10}. Best is trial 21 with value: 2.536042271465012.\u001b[0m\n"
     ]
    },
    {
     "name": "stdout",
     "output_type": "stream",
     "text": [
      "[LightGBM] [Warning] bagging_freq is set=6, subsample_freq=0 will be ignored. Current value: bagging_freq=6\n",
      "[LightGBM] [Warning] feature_fraction is set=0.4002313565726703, colsample_bytree=1.0 will be ignored. Current value: feature_fraction=0.4002313565726703\n",
      "[LightGBM] [Warning] bagging_fraction is set=0.8303057465307111, subsample=1.0 will be ignored. Current value: bagging_fraction=0.8303057465307111\n",
      "[LightGBM] [Warning] lambda_l2 is set=1.3957655428441322, reg_lambda=0.0 will be ignored. Current value: lambda_l2=1.3957655428441322\n",
      "[LightGBM] [Warning] lambda_l1 is set=1.2440769648598275, reg_alpha=0.0 will be ignored. Current value: lambda_l1=1.2440769648598275\n",
      "[LightGBM] [Warning] bagging_freq is set=6, subsample_freq=0 will be ignored. Current value: bagging_freq=6\n",
      "[LightGBM] [Warning] feature_fraction is set=0.427456268230077, colsample_bytree=1.0 will be ignored. Current value: feature_fraction=0.427456268230077\n",
      "[LightGBM] [Warning] bagging_fraction is set=0.9513091521937761, subsample=1.0 will be ignored. Current value: bagging_fraction=0.9513091521937761\n",
      "[LightGBM] [Warning] lambda_l2 is set=1.134108874703025e-08, reg_lambda=0.0 will be ignored. Current value: lambda_l2=1.134108874703025e-08\n",
      "[LightGBM] [Warning] lambda_l1 is set=0.8867799280438462, reg_alpha=0.0 will be ignored. Current value: lambda_l1=0.8867799280438462\n"
     ]
    },
    {
     "name": "stderr",
     "output_type": "stream",
     "text": [
      "\u001b[32m[I 2021-08-31 13:07:11,340]\u001b[0m Trial 95 finished with value: 2.567257527201134 and parameters: {'lambda_l1': 0.8867799280438462, 'lambda_l2': 1.134108874703025e-08, 'num_leaves': 181, 'feature_fraction': 0.427456268230077, 'bagging_fraction': 0.9513091521937761, 'bagging_freq': 6, 'min_child_samples': 12}. Best is trial 21 with value: 2.536042271465012.\u001b[0m\n",
      "\u001b[32m[I 2021-08-31 13:07:11,474]\u001b[0m Trial 96 finished with value: 2.603562271307235 and parameters: {'lambda_l1': 1.963020377776254, 'lambda_l2': 3.064068254537417, 'num_leaves': 177, 'feature_fraction': 0.446641575003443, 'bagging_fraction': 0.905522276350227, 'bagging_freq': 7, 'min_child_samples': 7}. Best is trial 21 with value: 2.536042271465012.\u001b[0m\n"
     ]
    },
    {
     "name": "stdout",
     "output_type": "stream",
     "text": [
      "[LightGBM] [Warning] bagging_freq is set=7, subsample_freq=0 will be ignored. Current value: bagging_freq=7\n",
      "[LightGBM] [Warning] feature_fraction is set=0.446641575003443, colsample_bytree=1.0 will be ignored. Current value: feature_fraction=0.446641575003443\n",
      "[LightGBM] [Warning] bagging_fraction is set=0.905522276350227, subsample=1.0 will be ignored. Current value: bagging_fraction=0.905522276350227\n",
      "[LightGBM] [Warning] lambda_l2 is set=3.064068254537417, reg_lambda=0.0 will be ignored. Current value: lambda_l2=3.064068254537417\n",
      "[LightGBM] [Warning] lambda_l1 is set=1.963020377776254, reg_alpha=0.0 will be ignored. Current value: lambda_l1=1.963020377776254\n",
      "[LightGBM] [Warning] bagging_freq is set=6, subsample_freq=0 will be ignored. Current value: bagging_freq=6\n",
      "[LightGBM] [Warning] feature_fraction is set=0.46050178088576893, colsample_bytree=1.0 will be ignored. Current value: feature_fraction=0.46050178088576893\n",
      "[LightGBM] [Warning] bagging_fraction is set=0.8658093045739994, subsample=1.0 will be ignored. Current value: bagging_fraction=0.8658093045739994\n",
      "[LightGBM] [Warning] lambda_l2 is set=0.44746043813479125, reg_lambda=0.0 will be ignored. Current value: lambda_l2=0.44746043813479125\n",
      "[LightGBM] [Warning] lambda_l1 is set=0.45580289574481486, reg_alpha=0.0 will be ignored. Current value: lambda_l1=0.45580289574481486\n"
     ]
    },
    {
     "name": "stderr",
     "output_type": "stream",
     "text": [
      "\u001b[32m[I 2021-08-31 13:07:11,604]\u001b[0m Trial 97 finished with value: 2.622714277245824 and parameters: {'lambda_l1': 0.45580289574481486, 'lambda_l2': 0.44746043813479125, 'num_leaves': 125, 'feature_fraction': 0.46050178088576893, 'bagging_fraction': 0.8658093045739994, 'bagging_freq': 6, 'min_child_samples': 17}. Best is trial 21 with value: 2.536042271465012.\u001b[0m\n",
      "\u001b[32m[I 2021-08-31 13:07:11,719]\u001b[0m Trial 98 finished with value: 2.5617291942636307 and parameters: {'lambda_l1': 3.338364804390356, 'lambda_l2': 0.02756035127324689, 'num_leaves': 161, 'feature_fraction': 0.4172707302040505, 'bagging_fraction': 0.7609571620894195, 'bagging_freq': 6, 'min_child_samples': 9}. Best is trial 21 with value: 2.536042271465012.\u001b[0m\n",
      "\u001b[32m[I 2021-08-31 13:07:11,823]\u001b[0m Trial 99 finished with value: 2.642661909857327 and parameters: {'lambda_l1': 9.201277552031641, 'lambda_l2': 0.9797767327391999, 'num_leaves': 213, 'feature_fraction': 0.4334366611276596, 'bagging_fraction': 0.8868422212764725, 'bagging_freq': 5, 'min_child_samples': 13}. Best is trial 21 with value: 2.536042271465012.\u001b[0m\n"
     ]
    },
    {
     "name": "stdout",
     "output_type": "stream",
     "text": [
      "[LightGBM] [Warning] bagging_freq is set=6, subsample_freq=0 will be ignored. Current value: bagging_freq=6\n",
      "[LightGBM] [Warning] feature_fraction is set=0.4172707302040505, colsample_bytree=1.0 will be ignored. Current value: feature_fraction=0.4172707302040505\n",
      "[LightGBM] [Warning] bagging_fraction is set=0.7609571620894195, subsample=1.0 will be ignored. Current value: bagging_fraction=0.7609571620894195\n",
      "[LightGBM] [Warning] lambda_l2 is set=0.02756035127324689, reg_lambda=0.0 will be ignored. Current value: lambda_l2=0.02756035127324689\n",
      "[LightGBM] [Warning] lambda_l1 is set=3.338364804390356, reg_alpha=0.0 will be ignored. Current value: lambda_l1=3.338364804390356\n",
      "[LightGBM] [Warning] bagging_freq is set=5, subsample_freq=0 will be ignored. Current value: bagging_freq=5\n",
      "[LightGBM] [Warning] feature_fraction is set=0.4334366611276596, colsample_bytree=1.0 will be ignored. Current value: feature_fraction=0.4334366611276596\n",
      "[LightGBM] [Warning] bagging_fraction is set=0.8868422212764725, subsample=1.0 will be ignored. Current value: bagging_fraction=0.8868422212764725\n",
      "[LightGBM] [Warning] lambda_l2 is set=0.9797767327391999, reg_lambda=0.0 will be ignored. Current value: lambda_l2=0.9797767327391999\n",
      "[LightGBM] [Warning] lambda_l1 is set=9.201277552031641, reg_alpha=0.0 will be ignored. Current value: lambda_l1=9.201277552031641\n"
     ]
    },
    {
     "name": "stderr",
     "output_type": "stream",
     "text": [
      "\u001b[32m[I 2021-08-31 13:07:11,955]\u001b[0m Trial 100 finished with value: 2.6294290637724873 and parameters: {'lambda_l1': 0.31770882022480557, 'lambda_l2': 0.05137920772538097, 'num_leaves': 201, 'feature_fraction': 0.45498188184024085, 'bagging_fraction': 0.9322886935775774, 'bagging_freq': 5, 'min_child_samples': 19}. Best is trial 21 with value: 2.536042271465012.\u001b[0m\n"
     ]
    },
    {
     "name": "stdout",
     "output_type": "stream",
     "text": [
      "[LightGBM] [Warning] bagging_freq is set=5, subsample_freq=0 will be ignored. Current value: bagging_freq=5\n",
      "[LightGBM] [Warning] feature_fraction is set=0.45498188184024085, colsample_bytree=1.0 will be ignored. Current value: feature_fraction=0.45498188184024085\n",
      "[LightGBM] [Warning] bagging_fraction is set=0.9322886935775774, subsample=1.0 will be ignored. Current value: bagging_fraction=0.9322886935775774\n",
      "[LightGBM] [Warning] lambda_l2 is set=0.05137920772538097, reg_lambda=0.0 will be ignored. Current value: lambda_l2=0.05137920772538097\n",
      "[LightGBM] [Warning] lambda_l1 is set=0.31770882022480557, reg_alpha=0.0 will be ignored. Current value: lambda_l1=0.31770882022480557\n",
      "[LightGBM] [Warning] bagging_freq is set=5, subsample_freq=0 will be ignored. Current value: bagging_freq=5\n",
      "[LightGBM] [Warning] feature_fraction is set=0.7420384332274149, colsample_bytree=1.0 will be ignored. Current value: feature_fraction=0.7420384332274149\n",
      "[LightGBM] [Warning] bagging_fraction is set=0.8927089536442657, subsample=1.0 will be ignored. Current value: bagging_fraction=0.8927089536442657\n",
      "[LightGBM] [Warning] lambda_l2 is set=0.1577529125234169, reg_lambda=0.0 will be ignored. Current value: lambda_l2=0.1577529125234169\n",
      "[LightGBM] [Warning] lambda_l1 is set=0.4726073439836788, reg_alpha=0.0 will be ignored. Current value: lambda_l1=0.4726073439836788\n"
     ]
    },
    {
     "name": "stderr",
     "output_type": "stream",
     "text": [
      "\u001b[32m[I 2021-08-31 13:07:12,143]\u001b[0m Trial 101 finished with value: 2.6525450334648255 and parameters: {'lambda_l1': 0.4726073439836788, 'lambda_l2': 0.1577529125234169, 'num_leaves': 172, 'feature_fraction': 0.7420384332274149, 'bagging_fraction': 0.8927089536442657, 'bagging_freq': 5, 'min_child_samples': 5}. Best is trial 21 with value: 2.536042271465012.\u001b[0m\n",
      "\u001b[32m[I 2021-08-31 13:07:12,277]\u001b[0m Trial 102 finished with value: 2.545557212057373 and parameters: {'lambda_l1': 0.7243827738655323, 'lambda_l2': 0.06234589287141065, 'num_leaves': 185, 'feature_fraction': 0.4004560384249111, 'bagging_fraction': 0.9173512387334476, 'bagging_freq': 5, 'min_child_samples': 5}. Best is trial 21 with value: 2.536042271465012.\u001b[0m\n"
     ]
    },
    {
     "name": "stdout",
     "output_type": "stream",
     "text": [
      "[LightGBM] [Warning] bagging_freq is set=5, subsample_freq=0 will be ignored. Current value: bagging_freq=5\n",
      "[LightGBM] [Warning] feature_fraction is set=0.4004560384249111, colsample_bytree=1.0 will be ignored. Current value: feature_fraction=0.4004560384249111\n",
      "[LightGBM] [Warning] bagging_fraction is set=0.9173512387334476, subsample=1.0 will be ignored. Current value: bagging_fraction=0.9173512387334476\n",
      "[LightGBM] [Warning] lambda_l2 is set=0.06234589287141065, reg_lambda=0.0 will be ignored. Current value: lambda_l2=0.06234589287141065\n",
      "[LightGBM] [Warning] lambda_l1 is set=0.7243827738655323, reg_alpha=0.0 will be ignored. Current value: lambda_l1=0.7243827738655323\n",
      "[LightGBM] [Warning] bagging_freq is set=5, subsample_freq=0 will be ignored. Current value: bagging_freq=5\n",
      "[LightGBM] [Warning] feature_fraction is set=0.4144574795922987, colsample_bytree=1.0 will be ignored. Current value: feature_fraction=0.4144574795922987\n",
      "[LightGBM] [Warning] bagging_fraction is set=0.9171157232574958, subsample=1.0 will be ignored. Current value: bagging_fraction=0.9171157232574958\n",
      "[LightGBM] [Warning] lambda_l2 is set=0.09203317827756013, reg_lambda=0.0 will be ignored. Current value: lambda_l2=0.09203317827756013\n",
      "[LightGBM] [Warning] lambda_l1 is set=1.260977543511683, reg_alpha=0.0 will be ignored. Current value: lambda_l1=1.260977543511683\n"
     ]
    },
    {
     "name": "stderr",
     "output_type": "stream",
     "text": [
      "\u001b[32m[I 2021-08-31 13:07:12,407]\u001b[0m Trial 103 finished with value: 2.5467183363949144 and parameters: {'lambda_l1': 1.260977543511683, 'lambda_l2': 0.09203317827756013, 'num_leaves': 186, 'feature_fraction': 0.4144574795922987, 'bagging_fraction': 0.9171157232574958, 'bagging_freq': 5, 'min_child_samples': 8}. Best is trial 21 with value: 2.536042271465012.\u001b[0m\n",
      "\u001b[32m[I 2021-08-31 13:07:12,536]\u001b[0m Trial 104 finished with value: 2.5559650661852493 and parameters: {'lambda_l1': 0.7116660338578965, 'lambda_l2': 0.3037922183039017, 'num_leaves': 192, 'feature_fraction': 0.4262498889162193, 'bagging_fraction': 0.9571865541417602, 'bagging_freq': 5, 'min_child_samples': 10}. Best is trial 21 with value: 2.536042271465012.\u001b[0m\n"
     ]
    },
    {
     "name": "stdout",
     "output_type": "stream",
     "text": [
      "[LightGBM] [Warning] bagging_freq is set=5, subsample_freq=0 will be ignored. Current value: bagging_freq=5\n",
      "[LightGBM] [Warning] feature_fraction is set=0.4262498889162193, colsample_bytree=1.0 will be ignored. Current value: feature_fraction=0.4262498889162193\n",
      "[LightGBM] [Warning] bagging_fraction is set=0.9571865541417602, subsample=1.0 will be ignored. Current value: bagging_fraction=0.9571865541417602\n",
      "[LightGBM] [Warning] lambda_l2 is set=0.3037922183039017, reg_lambda=0.0 will be ignored. Current value: lambda_l2=0.3037922183039017\n",
      "[LightGBM] [Warning] lambda_l1 is set=0.7116660338578965, reg_alpha=0.0 will be ignored. Current value: lambda_l1=0.7116660338578965\n",
      "[LightGBM] [Warning] bagging_freq is set=5, subsample_freq=0 will be ignored. Current value: bagging_freq=5\n",
      "[LightGBM] [Warning] feature_fraction is set=0.401254786741324, colsample_bytree=1.0 will be ignored. Current value: feature_fraction=0.401254786741324\n",
      "[LightGBM] [Warning] bagging_fraction is set=0.9431593268066398, subsample=1.0 will be ignored. Current value: bagging_fraction=0.9431593268066398\n",
      "[LightGBM] [Warning] lambda_l2 is set=0.023549591985691305, reg_lambda=0.0 will be ignored. Current value: lambda_l2=0.023549591985691305\n",
      "[LightGBM] [Warning] lambda_l1 is set=2.6061287456190305, reg_alpha=0.0 will be ignored. Current value: lambda_l1=2.6061287456190305\n"
     ]
    },
    {
     "name": "stderr",
     "output_type": "stream",
     "text": [
      "\u001b[32m[I 2021-08-31 13:07:12,660]\u001b[0m Trial 105 finished with value: 2.5386608083579607 and parameters: {'lambda_l1': 2.6061287456190305, 'lambda_l2': 0.023549591985691305, 'num_leaves': 197, 'feature_fraction': 0.401254786741324, 'bagging_fraction': 0.9431593268066398, 'bagging_freq': 5, 'min_child_samples': 7}. Best is trial 21 with value: 2.536042271465012.\u001b[0m\n",
      "\u001b[32m[I 2021-08-31 13:07:12,785]\u001b[0m Trial 106 finished with value: 2.579722663773781 and parameters: {'lambda_l1': 4.891868574610344, 'lambda_l2': 0.02490273982797861, 'num_leaves': 220, 'feature_fraction': 0.475866029553486, 'bagging_fraction': 0.9445623796239603, 'bagging_freq': 6, 'min_child_samples': 7}. Best is trial 21 with value: 2.536042271465012.\u001b[0m\n"
     ]
    },
    {
     "name": "stdout",
     "output_type": "stream",
     "text": [
      "[LightGBM] [Warning] bagging_freq is set=6, subsample_freq=0 will be ignored. Current value: bagging_freq=6\n",
      "[LightGBM] [Warning] feature_fraction is set=0.475866029553486, colsample_bytree=1.0 will be ignored. Current value: feature_fraction=0.475866029553486\n",
      "[LightGBM] [Warning] bagging_fraction is set=0.9445623796239603, subsample=1.0 will be ignored. Current value: bagging_fraction=0.9445623796239603\n",
      "[LightGBM] [Warning] lambda_l2 is set=0.02490273982797861, reg_lambda=0.0 will be ignored. Current value: lambda_l2=0.02490273982797861\n",
      "[LightGBM] [Warning] lambda_l1 is set=4.891868574610344, reg_alpha=0.0 will be ignored. Current value: lambda_l1=4.891868574610344\n",
      "[LightGBM] [Warning] bagging_freq is set=5, subsample_freq=0 will be ignored. Current value: bagging_freq=5\n",
      "[LightGBM] [Warning] feature_fraction is set=0.6368459082864015, colsample_bytree=1.0 will be ignored. Current value: feature_fraction=0.6368459082864015\n",
      "[LightGBM] [Warning] bagging_fraction is set=0.9839070911220196, subsample=1.0 will be ignored. Current value: bagging_fraction=0.9839070911220196\n",
      "[LightGBM] [Warning] lambda_l2 is set=0.013174010547319436, reg_lambda=0.0 will be ignored. Current value: lambda_l2=0.013174010547319436\n",
      "[LightGBM] [Warning] lambda_l1 is set=2.011823524463797, reg_alpha=0.0 will be ignored. Current value: lambda_l1=2.011823524463797\n"
     ]
    },
    {
     "name": "stderr",
     "output_type": "stream",
     "text": [
      "\u001b[32m[I 2021-08-31 13:07:12,929]\u001b[0m Trial 107 finished with value: 2.633130478405936 and parameters: {'lambda_l1': 2.011823524463797, 'lambda_l2': 0.013174010547319436, 'num_leaves': 201, 'feature_fraction': 0.6368459082864015, 'bagging_fraction': 0.9839070911220196, 'bagging_freq': 5, 'min_child_samples': 14}. Best is trial 21 with value: 2.536042271465012.\u001b[0m\n",
      "\u001b[32m[I 2021-08-31 13:07:13,059]\u001b[0m Trial 108 finished with value: 2.572786498063588 and parameters: {'lambda_l1': 2.872744405395123, 'lambda_l2': 0.007858597046858082, 'num_leaves': 154, 'feature_fraction': 0.43174547065731306, 'bagging_fraction': 0.9690810855137804, 'bagging_freq': 5, 'min_child_samples': 11}. Best is trial 21 with value: 2.536042271465012.\u001b[0m\n"
     ]
    },
    {
     "name": "stdout",
     "output_type": "stream",
     "text": [
      "[LightGBM] [Warning] bagging_freq is set=5, subsample_freq=0 will be ignored. Current value: bagging_freq=5\n",
      "[LightGBM] [Warning] feature_fraction is set=0.43174547065731306, colsample_bytree=1.0 will be ignored. Current value: feature_fraction=0.43174547065731306\n",
      "[LightGBM] [Warning] bagging_fraction is set=0.9690810855137804, subsample=1.0 will be ignored. Current value: bagging_fraction=0.9690810855137804\n",
      "[LightGBM] [Warning] lambda_l2 is set=0.007858597046858082, reg_lambda=0.0 will be ignored. Current value: lambda_l2=0.007858597046858082\n",
      "[LightGBM] [Warning] lambda_l1 is set=2.872744405395123, reg_alpha=0.0 will be ignored. Current value: lambda_l1=2.872744405395123\n",
      "[LightGBM] [Warning] bagging_freq is set=4, subsample_freq=0 will be ignored. Current value: bagging_freq=4\n",
      "[LightGBM] [Warning] feature_fraction is set=0.41139496791065094, colsample_bytree=1.0 will be ignored. Current value: feature_fraction=0.41139496791065094\n",
      "[LightGBM] [Warning] bagging_fraction is set=0.9370379166763529, subsample=1.0 will be ignored. Current value: bagging_fraction=0.9370379166763529\n",
      "[LightGBM] [Warning] lambda_l2 is set=0.038085550206634906, reg_lambda=0.0 will be ignored. Current value: lambda_l2=0.038085550206634906\n",
      "[LightGBM] [Warning] lambda_l1 is set=0.22432094373530825, reg_alpha=0.0 will be ignored. Current value: lambda_l1=0.22432094373530825\n"
     ]
    },
    {
     "name": "stderr",
     "output_type": "stream",
     "text": [
      "\u001b[32m[I 2021-08-31 13:07:13,204]\u001b[0m Trial 109 finished with value: 2.542798881077868 and parameters: {'lambda_l1': 0.22432094373530825, 'lambda_l2': 0.038085550206634906, 'num_leaves': 196, 'feature_fraction': 0.41139496791065094, 'bagging_fraction': 0.9370379166763529, 'bagging_freq': 4, 'min_child_samples': 7}. Best is trial 21 with value: 2.536042271465012.\u001b[0m\n",
      "\u001b[32m[I 2021-08-31 13:07:13,291]\u001b[0m Trial 110 finished with value: 3.013148804851557 and parameters: {'lambda_l1': 0.06265626222536305, 'lambda_l2': 0.03812581476173889, 'num_leaves': 148, 'feature_fraction': 0.40020847137382404, 'bagging_fraction': 0.9352562064892399, 'bagging_freq': 4, 'min_child_samples': 56}. Best is trial 21 with value: 2.536042271465012.\u001b[0m\n",
      "\u001b[32m[I 2021-08-31 13:07:13,425]\u001b[0m Trial 111 finished with value: 2.5475621277014207 and parameters: {'lambda_l1': 0.2490854811745091, 'lambda_l2': 0.015989680090846267, 'num_leaves': 196, 'feature_fraction': 0.41282984169472886, 'bagging_fraction': 0.9609545800855812, 'bagging_freq': 5, 'min_child_samples': 9}. Best is trial 21 with value: 2.536042271465012.\u001b[0m\n"
     ]
    },
    {
     "name": "stdout",
     "output_type": "stream",
     "text": [
      "[LightGBM] [Warning] bagging_freq is set=4, subsample_freq=0 will be ignored. Current value: bagging_freq=4\n",
      "[LightGBM] [Warning] feature_fraction is set=0.40020847137382404, colsample_bytree=1.0 will be ignored. Current value: feature_fraction=0.40020847137382404\n",
      "[LightGBM] [Warning] bagging_fraction is set=0.9352562064892399, subsample=1.0 will be ignored. Current value: bagging_fraction=0.9352562064892399\n",
      "[LightGBM] [Warning] lambda_l2 is set=0.03812581476173889, reg_lambda=0.0 will be ignored. Current value: lambda_l2=0.03812581476173889\n",
      "[LightGBM] [Warning] lambda_l1 is set=0.06265626222536305, reg_alpha=0.0 will be ignored. Current value: lambda_l1=0.06265626222536305\n",
      "[LightGBM] [Warning] bagging_freq is set=5, subsample_freq=0 will be ignored. Current value: bagging_freq=5\n",
      "[LightGBM] [Warning] feature_fraction is set=0.41282984169472886, colsample_bytree=1.0 will be ignored. Current value: feature_fraction=0.41282984169472886\n",
      "[LightGBM] [Warning] bagging_fraction is set=0.9609545800855812, subsample=1.0 will be ignored. Current value: bagging_fraction=0.9609545800855812\n",
      "[LightGBM] [Warning] lambda_l2 is set=0.015989680090846267, reg_lambda=0.0 will be ignored. Current value: lambda_l2=0.015989680090846267\n",
      "[LightGBM] [Warning] lambda_l1 is set=0.2490854811745091, reg_alpha=0.0 will be ignored. Current value: lambda_l1=0.2490854811745091\n"
     ]
    },
    {
     "name": "stderr",
     "output_type": "stream",
     "text": [
      "\u001b[32m[I 2021-08-31 13:07:13,581]\u001b[0m Trial 112 finished with value: 2.58403040903592 and parameters: {'lambda_l1': 1.3546683119285527, 'lambda_l2': 0.0040414799730805325, 'num_leaves': 208, 'feature_fraction': 0.4451301836418557, 'bagging_fraction': 0.9451829662514809, 'bagging_freq': 4, 'min_child_samples': 7}. Best is trial 21 with value: 2.536042271465012.\u001b[0m\n"
     ]
    },
    {
     "name": "stdout",
     "output_type": "stream",
     "text": [
      "[LightGBM] [Warning] bagging_freq is set=4, subsample_freq=0 will be ignored. Current value: bagging_freq=4\n",
      "[LightGBM] [Warning] feature_fraction is set=0.4451301836418557, colsample_bytree=1.0 will be ignored. Current value: feature_fraction=0.4451301836418557\n",
      "[LightGBM] [Warning] bagging_fraction is set=0.9451829662514809, subsample=1.0 will be ignored. Current value: bagging_fraction=0.9451829662514809\n",
      "[LightGBM] [Warning] lambda_l2 is set=0.0040414799730805325, reg_lambda=0.0 will be ignored. Current value: lambda_l2=0.0040414799730805325\n",
      "[LightGBM] [Warning] lambda_l1 is set=1.3546683119285527, reg_alpha=0.0 will be ignored. Current value: lambda_l1=1.3546683119285527\n",
      "[LightGBM] [Warning] bagging_freq is set=5, subsample_freq=0 will be ignored. Current value: bagging_freq=5\n",
      "[LightGBM] [Warning] feature_fraction is set=0.42115155370868895, colsample_bytree=1.0 will be ignored. Current value: feature_fraction=0.42115155370868895\n",
      "[LightGBM] [Warning] bagging_fraction is set=0.9266335682552964, subsample=1.0 will be ignored. Current value: bagging_fraction=0.9266335682552964\n",
      "[LightGBM] [Warning] lambda_l2 is set=0.2042096481121818, reg_lambda=0.0 will be ignored. Current value: lambda_l2=0.2042096481121818\n",
      "[LightGBM] [Warning] lambda_l1 is set=0.9382413544256641, reg_alpha=0.0 will be ignored. Current value: lambda_l1=0.9382413544256641\n"
     ]
    },
    {
     "name": "stderr",
     "output_type": "stream",
     "text": [
      "\u001b[32m[I 2021-08-31 13:07:13,713]\u001b[0m Trial 113 finished with value: 2.541030290646012 and parameters: {'lambda_l1': 0.9382413544256641, 'lambda_l2': 0.2042096481121818, 'num_leaves': 189, 'feature_fraction': 0.42115155370868895, 'bagging_fraction': 0.9266335682552964, 'bagging_freq': 5, 'min_child_samples': 5}. Best is trial 21 with value: 2.536042271465012.\u001b[0m\n",
      "\u001b[32m[I 2021-08-31 13:07:13,850]\u001b[0m Trial 114 finished with value: 2.5579359413600007 and parameters: {'lambda_l1': 0.11258918863915233, 'lambda_l2': 0.6330624349412648, 'num_leaves': 188, 'feature_fraction': 0.4000814325490723, 'bagging_fraction': 0.6966727446248419, 'bagging_freq': 6, 'min_child_samples': 5}. Best is trial 21 with value: 2.536042271465012.\u001b[0m\n"
     ]
    },
    {
     "name": "stdout",
     "output_type": "stream",
     "text": [
      "[LightGBM] [Warning] bagging_freq is set=6, subsample_freq=0 will be ignored. Current value: bagging_freq=6\n",
      "[LightGBM] [Warning] feature_fraction is set=0.4000814325490723, colsample_bytree=1.0 will be ignored. Current value: feature_fraction=0.4000814325490723\n",
      "[LightGBM] [Warning] bagging_fraction is set=0.6966727446248419, subsample=1.0 will be ignored. Current value: bagging_fraction=0.6966727446248419\n",
      "[LightGBM] [Warning] lambda_l2 is set=0.6330624349412648, reg_lambda=0.0 will be ignored. Current value: lambda_l2=0.6330624349412648\n",
      "[LightGBM] [Warning] lambda_l1 is set=0.11258918863915233, reg_alpha=0.0 will be ignored. Current value: lambda_l1=0.11258918863915233\n",
      "[LightGBM] [Warning] bagging_freq is set=5, subsample_freq=0 will be ignored. Current value: bagging_freq=5\n",
      "[LightGBM] [Warning] feature_fraction is set=0.4356388800710205, colsample_bytree=1.0 will be ignored. Current value: feature_fraction=0.4356388800710205\n",
      "[LightGBM] [Warning] bagging_fraction is set=0.8996257157331005, subsample=1.0 will be ignored. Current value: bagging_fraction=0.8996257157331005\n",
      "[LightGBM] [Warning] lambda_l2 is set=0.10672234234704742, reg_lambda=0.0 will be ignored. Current value: lambda_l2=0.10672234234704742\n",
      "[LightGBM] [Warning] lambda_l1 is set=0.9977083976330406, reg_alpha=0.0 will be ignored. Current value: lambda_l1=0.9977083976330406\n"
     ]
    },
    {
     "name": "stderr",
     "output_type": "stream",
     "text": [
      "\u001b[32m[I 2021-08-31 13:07:13,984]\u001b[0m Trial 115 finished with value: 2.544318081493895 and parameters: {'lambda_l1': 0.9977083976330406, 'lambda_l2': 0.10672234234704742, 'num_leaves': 170, 'feature_fraction': 0.4356388800710205, 'bagging_fraction': 0.8996257157331005, 'bagging_freq': 5, 'min_child_samples': 7}. Best is trial 21 with value: 2.536042271465012.\u001b[0m\n",
      "\u001b[32m[I 2021-08-31 13:07:14,106]\u001b[0m Trial 116 finished with value: 2.602870690620707 and parameters: {'lambda_l1': 4.425412134844078, 'lambda_l2': 0.18013802112847932, 'num_leaves': 177, 'feature_fraction': 0.45622993963453207, 'bagging_fraction': 0.9063151582939272, 'bagging_freq': 5, 'min_child_samples': 8}. Best is trial 21 with value: 2.536042271465012.\u001b[0m\n"
     ]
    },
    {
     "name": "stdout",
     "output_type": "stream",
     "text": [
      "[LightGBM] [Warning] bagging_freq is set=5, subsample_freq=0 will be ignored. Current value: bagging_freq=5\n",
      "[LightGBM] [Warning] feature_fraction is set=0.45622993963453207, colsample_bytree=1.0 will be ignored. Current value: feature_fraction=0.45622993963453207\n",
      "[LightGBM] [Warning] bagging_fraction is set=0.9063151582939272, subsample=1.0 will be ignored. Current value: bagging_fraction=0.9063151582939272\n",
      "[LightGBM] [Warning] lambda_l2 is set=0.18013802112847932, reg_lambda=0.0 will be ignored. Current value: lambda_l2=0.18013802112847932\n",
      "[LightGBM] [Warning] lambda_l1 is set=4.425412134844078, reg_alpha=0.0 will be ignored. Current value: lambda_l1=4.425412134844078\n",
      "[LightGBM] [Warning] bagging_freq is set=4, subsample_freq=0 will be ignored. Current value: bagging_freq=4\n",
      "[LightGBM] [Warning] feature_fraction is set=0.43179305365000464, colsample_bytree=1.0 will be ignored. Current value: feature_fraction=0.43179305365000464\n",
      "[LightGBM] [Warning] bagging_fraction is set=0.8370186796299762, subsample=1.0 will be ignored. Current value: bagging_fraction=0.8370186796299762\n",
      "[LightGBM] [Warning] lambda_l2 is set=0.10541991355708177, reg_lambda=0.0 will be ignored. Current value: lambda_l2=0.10541991355708177\n",
      "[LightGBM] [Warning] lambda_l1 is set=1.056793578713401, reg_alpha=0.0 will be ignored. Current value: lambda_l1=1.056793578713401\n"
     ]
    },
    {
     "name": "stderr",
     "output_type": "stream",
     "text": [
      "\u001b[32m[I 2021-08-31 13:07:14,230]\u001b[0m Trial 117 finished with value: 2.577433211705489 and parameters: {'lambda_l1': 1.056793578713401, 'lambda_l2': 0.10541991355708177, 'num_leaves': 169, 'feature_fraction': 0.43179305365000464, 'bagging_fraction': 0.8370186796299762, 'bagging_freq': 4, 'min_child_samples': 12}. Best is trial 21 with value: 2.536042271465012.\u001b[0m\n",
      "\u001b[32m[I 2021-08-31 13:07:14,341]\u001b[0m Trial 118 finished with value: 2.588769386444958 and parameters: {'lambda_l1': 2.130660085694931, 'lambda_l2': 0.2573669772787625, 'num_leaves': 181, 'feature_fraction': 0.42147126123347184, 'bagging_fraction': 0.8813748186570001, 'bagging_freq': 6, 'min_child_samples': 16}. Best is trial 21 with value: 2.536042271465012.\u001b[0m\n",
      "\u001b[32m[I 2021-08-31 13:07:14,433]\u001b[0m Trial 119 finished with value: 2.8023285485747937 and parameters: {'lambda_l1': 7.19494757259037, 'lambda_l2': 0.06571609291090129, 'num_leaves': 160, 'feature_fraction': 0.4930036423906187, 'bagging_fraction': 0.8604980451184007, 'bagging_freq': 5, 'min_child_samples': 41}. Best is trial 21 with value: 2.536042271465012.\u001b[0m\n"
     ]
    },
    {
     "name": "stdout",
     "output_type": "stream",
     "text": [
      "[LightGBM] [Warning] bagging_freq is set=6, subsample_freq=0 will be ignored. Current value: bagging_freq=6\n",
      "[LightGBM] [Warning] feature_fraction is set=0.42147126123347184, colsample_bytree=1.0 will be ignored. Current value: feature_fraction=0.42147126123347184\n",
      "[LightGBM] [Warning] bagging_fraction is set=0.8813748186570001, subsample=1.0 will be ignored. Current value: bagging_fraction=0.8813748186570001\n",
      "[LightGBM] [Warning] lambda_l2 is set=0.2573669772787625, reg_lambda=0.0 will be ignored. Current value: lambda_l2=0.2573669772787625\n",
      "[LightGBM] [Warning] lambda_l1 is set=2.130660085694931, reg_alpha=0.0 will be ignored. Current value: lambda_l1=2.130660085694931\n",
      "[LightGBM] [Warning] bagging_freq is set=5, subsample_freq=0 will be ignored. Current value: bagging_freq=5\n",
      "[LightGBM] [Warning] feature_fraction is set=0.4930036423906187, colsample_bytree=1.0 will be ignored. Current value: feature_fraction=0.4930036423906187\n",
      "[LightGBM] [Warning] bagging_fraction is set=0.8604980451184007, subsample=1.0 will be ignored. Current value: bagging_fraction=0.8604980451184007\n",
      "[LightGBM] [Warning] lambda_l2 is set=0.06571609291090129, reg_lambda=0.0 will be ignored. Current value: lambda_l2=0.06571609291090129\n",
      "[LightGBM] [Warning] lambda_l1 is set=7.19494757259037, reg_alpha=0.0 will be ignored. Current value: lambda_l1=7.19494757259037\n"
     ]
    },
    {
     "name": "stderr",
     "output_type": "stream",
     "text": [
      "\u001b[32m[I 2021-08-31 13:07:14,609]\u001b[0m Trial 120 finished with value: 2.5761342842963324 and parameters: {'lambda_l1': 0.19309667780151002, 'lambda_l2': 0.3965213843958013, 'num_leaves': 194, 'feature_fraction': 0.4698626146714115, 'bagging_fraction': 0.9304425929319635, 'bagging_freq': 3, 'min_child_samples': 5}. Best is trial 21 with value: 2.536042271465012.\u001b[0m\n"
     ]
    },
    {
     "name": "stdout",
     "output_type": "stream",
     "text": [
      "[LightGBM] [Warning] bagging_freq is set=3, subsample_freq=0 will be ignored. Current value: bagging_freq=3\n",
      "[LightGBM] [Warning] feature_fraction is set=0.4698626146714115, colsample_bytree=1.0 will be ignored. Current value: feature_fraction=0.4698626146714115\n",
      "[LightGBM] [Warning] bagging_fraction is set=0.9304425929319635, subsample=1.0 will be ignored. Current value: bagging_fraction=0.9304425929319635\n",
      "[LightGBM] [Warning] lambda_l2 is set=0.3965213843958013, reg_lambda=0.0 will be ignored. Current value: lambda_l2=0.3965213843958013\n",
      "[LightGBM] [Warning] lambda_l1 is set=0.19309667780151002, reg_alpha=0.0 will be ignored. Current value: lambda_l1=0.19309667780151002\n",
      "[LightGBM] [Warning] bagging_freq is set=5, subsample_freq=0 will be ignored. Current value: bagging_freq=5\n",
      "[LightGBM] [Warning] feature_fraction is set=0.43937303806071776, colsample_bytree=1.0 will be ignored. Current value: feature_fraction=0.43937303806071776\n",
      "[LightGBM] [Warning] bagging_fraction is set=0.9024470822689171, subsample=1.0 will be ignored. Current value: bagging_fraction=0.9024470822689171\n",
      "[LightGBM] [Warning] lambda_l2 is set=0.03508638468659765, reg_lambda=0.0 will be ignored. Current value: lambda_l2=0.03508638468659765\n",
      "[LightGBM] [Warning] lambda_l1 is set=0.620903189673358, reg_alpha=0.0 will be ignored. Current value: lambda_l1=0.620903189673358\n"
     ]
    },
    {
     "name": "stderr",
     "output_type": "stream",
     "text": [
      "\u001b[32m[I 2021-08-31 13:07:14,772]\u001b[0m Trial 121 finished with value: 2.5805663245255976 and parameters: {'lambda_l1': 0.620903189673358, 'lambda_l2': 0.03508638468659765, 'num_leaves': 201, 'feature_fraction': 0.43937303806071776, 'bagging_fraction': 0.9024470822689171, 'bagging_freq': 5, 'min_child_samples': 6}. Best is trial 21 with value: 2.536042271465012.\u001b[0m\n",
      "\u001b[32m[I 2021-08-31 13:07:14,908]\u001b[0m Trial 122 finished with value: 2.5459312906613962 and parameters: {'lambda_l1': 0.37502229870807136, 'lambda_l2': 0.17633030081759296, 'num_leaves': 214, 'feature_fraction': 0.41133762352510816, 'bagging_fraction': 0.9230445444098413, 'bagging_freq': 5, 'min_child_samples': 9}. Best is trial 21 with value: 2.536042271465012.\u001b[0m\n"
     ]
    },
    {
     "name": "stdout",
     "output_type": "stream",
     "text": [
      "[LightGBM] [Warning] bagging_freq is set=5, subsample_freq=0 will be ignored. Current value: bagging_freq=5\n",
      "[LightGBM] [Warning] feature_fraction is set=0.41133762352510816, colsample_bytree=1.0 will be ignored. Current value: feature_fraction=0.41133762352510816\n",
      "[LightGBM] [Warning] bagging_fraction is set=0.9230445444098413, subsample=1.0 will be ignored. Current value: bagging_fraction=0.9230445444098413\n",
      "[LightGBM] [Warning] lambda_l2 is set=0.17633030081759296, reg_lambda=0.0 will be ignored. Current value: lambda_l2=0.17633030081759296\n",
      "[LightGBM] [Warning] lambda_l1 is set=0.37502229870807136, reg_alpha=0.0 will be ignored. Current value: lambda_l1=0.37502229870807136\n",
      "[LightGBM] [Warning] bagging_freq is set=5, subsample_freq=0 will be ignored. Current value: bagging_freq=5\n",
      "[LightGBM] [Warning] feature_fraction is set=0.4008918989791686, colsample_bytree=1.0 will be ignored. Current value: feature_fraction=0.4008918989791686\n",
      "[LightGBM] [Warning] bagging_fraction is set=0.9475611390473897, subsample=1.0 will be ignored. Current value: bagging_fraction=0.9475611390473897\n",
      "[LightGBM] [Warning] lambda_l2 is set=0.04571626718988461, reg_lambda=0.0 will be ignored. Current value: lambda_l2=0.04571626718988461\n",
      "[LightGBM] [Warning] lambda_l1 is set=1.6427048396039867, reg_alpha=0.0 will be ignored. Current value: lambda_l1=1.6427048396039867\n"
     ]
    },
    {
     "name": "stderr",
     "output_type": "stream",
     "text": [
      "\u001b[32m[I 2021-08-31 13:07:15,035]\u001b[0m Trial 123 finished with value: 2.53873206842995 and parameters: {'lambda_l1': 1.6427048396039867, 'lambda_l2': 0.04571626718988461, 'num_leaves': 165, 'feature_fraction': 0.4008918989791686, 'bagging_fraction': 0.9475611390473897, 'bagging_freq': 5, 'min_child_samples': 7}. Best is trial 21 with value: 2.536042271465012.\u001b[0m\n",
      "\u001b[32m[I 2021-08-31 13:07:15,158]\u001b[0m Trial 124 finished with value: 2.5723527312068146 and parameters: {'lambda_l1': 1.4608340102596615, 'lambda_l2': 0.021338598593613083, 'num_leaves': 167, 'feature_fraction': 0.42227094922672703, 'bagging_fraction': 0.9563674736159474, 'bagging_freq': 5, 'min_child_samples': 11}. Best is trial 21 with value: 2.536042271465012.\u001b[0m\n"
     ]
    },
    {
     "name": "stdout",
     "output_type": "stream",
     "text": [
      "[LightGBM] [Warning] bagging_freq is set=5, subsample_freq=0 will be ignored. Current value: bagging_freq=5\n",
      "[LightGBM] [Warning] feature_fraction is set=0.42227094922672703, colsample_bytree=1.0 will be ignored. Current value: feature_fraction=0.42227094922672703\n",
      "[LightGBM] [Warning] bagging_fraction is set=0.9563674736159474, subsample=1.0 will be ignored. Current value: bagging_fraction=0.9563674736159474\n",
      "[LightGBM] [Warning] lambda_l2 is set=0.021338598593613083, reg_lambda=0.0 will be ignored. Current value: lambda_l2=0.021338598593613083\n",
      "[LightGBM] [Warning] lambda_l1 is set=1.4608340102596615, reg_alpha=0.0 will be ignored. Current value: lambda_l1=1.4608340102596615\n",
      "[LightGBM] [Warning] bagging_freq is set=5, subsample_freq=0 will be ignored. Current value: bagging_freq=5\n",
      "[LightGBM] [Warning] feature_fraction is set=0.4424744372163067, colsample_bytree=1.0 will be ignored. Current value: feature_fraction=0.4424744372163067\n",
      "[LightGBM] [Warning] bagging_fraction is set=0.9879706007956999, subsample=1.0 will be ignored. Current value: bagging_fraction=0.9879706007956999\n",
      "[LightGBM] [Warning] lambda_l2 is set=0.0508703557397214, reg_lambda=0.0 will be ignored. Current value: lambda_l2=0.0508703557397214\n",
      "[LightGBM] [Warning] lambda_l1 is set=0.9302389052032357, reg_alpha=0.0 will be ignored. Current value: lambda_l1=0.9302389052032357\n"
     ]
    },
    {
     "name": "stderr",
     "output_type": "stream",
     "text": [
      "\u001b[32m[I 2021-08-31 13:07:15,309]\u001b[0m Trial 125 finished with value: 2.579612831601843 and parameters: {'lambda_l1': 0.9302389052032357, 'lambda_l2': 0.0508703557397214, 'num_leaves': 143, 'feature_fraction': 0.4424744372163067, 'bagging_fraction': 0.9879706007956999, 'bagging_freq': 5, 'min_child_samples': 7}. Best is trial 21 with value: 2.536042271465012.\u001b[0m\n",
      "\u001b[32m[I 2021-08-31 13:07:15,422]\u001b[0m Trial 126 finished with value: 2.5678159401144622 and parameters: {'lambda_l1': 2.7678105345997364, 'lambda_l2': 0.10418387711061772, 'num_leaves': 162, 'feature_fraction': 0.4122712584944146, 'bagging_fraction': 0.9462705463035855, 'bagging_freq': 4, 'min_child_samples': 13}. Best is trial 21 with value: 2.536042271465012.\u001b[0m\n"
     ]
    },
    {
     "name": "stdout",
     "output_type": "stream",
     "text": [
      "[LightGBM] [Warning] bagging_freq is set=4, subsample_freq=0 will be ignored. Current value: bagging_freq=4\n",
      "[LightGBM] [Warning] feature_fraction is set=0.4122712584944146, colsample_bytree=1.0 will be ignored. Current value: feature_fraction=0.4122712584944146\n",
      "[LightGBM] [Warning] bagging_fraction is set=0.9462705463035855, subsample=1.0 will be ignored. Current value: bagging_fraction=0.9462705463035855\n",
      "[LightGBM] [Warning] lambda_l2 is set=0.10418387711061772, reg_lambda=0.0 will be ignored. Current value: lambda_l2=0.10418387711061772\n",
      "[LightGBM] [Warning] lambda_l1 is set=2.7678105345997364, reg_alpha=0.0 will be ignored. Current value: lambda_l1=2.7678105345997364\n",
      "[LightGBM] [Warning] bagging_freq is set=5, subsample_freq=0 will be ignored. Current value: bagging_freq=5\n",
      "[LightGBM] [Warning] feature_fraction is set=0.4524651512928555, colsample_bytree=1.0 will be ignored. Current value: feature_fraction=0.4524651512928555\n",
      "[LightGBM] [Warning] bagging_fraction is set=0.9137267912259738, subsample=1.0 will be ignored. Current value: bagging_fraction=0.9137267912259738\n",
      "[LightGBM] [Warning] lambda_l2 is set=3.136805682601746e-08, reg_lambda=0.0 will be ignored. Current value: lambda_l2=3.136805682601746e-08\n",
      "[LightGBM] [Warning] lambda_l1 is set=3.664223096989242, reg_alpha=0.0 will be ignored. Current value: lambda_l1=3.664223096989242\n"
     ]
    },
    {
     "name": "stderr",
     "output_type": "stream",
     "text": [
      "\u001b[32m[I 2021-08-31 13:07:15,553]\u001b[0m Trial 127 finished with value: 2.604623548568036 and parameters: {'lambda_l1': 3.664223096989242, 'lambda_l2': 3.136805682601746e-08, 'num_leaves': 174, 'feature_fraction': 0.4524651512928555, 'bagging_fraction': 0.9137267912259738, 'bagging_freq': 5, 'min_child_samples': 9}. Best is trial 21 with value: 2.536042271465012.\u001b[0m\n",
      "\u001b[32m[I 2021-08-31 13:07:15,680]\u001b[0m Trial 128 finished with value: 2.5350004988089148 and parameters: {'lambda_l1': 1.5669230322690868, 'lambda_l2': 1.2112410234883061e-05, 'num_leaves': 181, 'feature_fraction': 0.43078490774535083, 'bagging_fraction': 0.9663393678466509, 'bagging_freq': 5, 'min_child_samples': 5}. Best is trial 128 with value: 2.5350004988089148.\u001b[0m\n"
     ]
    },
    {
     "name": "stdout",
     "output_type": "stream",
     "text": [
      "[LightGBM] [Warning] bagging_freq is set=5, subsample_freq=0 will be ignored. Current value: bagging_freq=5\n",
      "[LightGBM] [Warning] feature_fraction is set=0.43078490774535083, colsample_bytree=1.0 will be ignored. Current value: feature_fraction=0.43078490774535083\n",
      "[LightGBM] [Warning] bagging_fraction is set=0.9663393678466509, subsample=1.0 will be ignored. Current value: bagging_fraction=0.9663393678466509\n",
      "[LightGBM] [Warning] lambda_l2 is set=1.2112410234883061e-05, reg_lambda=0.0 will be ignored. Current value: lambda_l2=1.2112410234883061e-05\n",
      "[LightGBM] [Warning] lambda_l1 is set=1.5669230322690868, reg_alpha=0.0 will be ignored. Current value: lambda_l1=1.5669230322690868\n",
      "[LightGBM] [Warning] bagging_freq is set=5, subsample_freq=0 will be ignored. Current value: bagging_freq=5\n",
      "[LightGBM] [Warning] feature_fraction is set=0.43283266317298674, colsample_bytree=1.0 will be ignored. Current value: feature_fraction=0.43283266317298674\n",
      "[LightGBM] [Warning] bagging_fraction is set=0.9795305379659173, subsample=1.0 will be ignored. Current value: bagging_fraction=0.9795305379659173\n",
      "[LightGBM] [Warning] lambda_l2 is set=1.30720522088146e-06, reg_lambda=0.0 will be ignored. Current value: lambda_l2=1.30720522088146e-06\n",
      "[LightGBM] [Warning] lambda_l1 is set=1.6221791729724848, reg_alpha=0.0 will be ignored. Current value: lambda_l1=1.6221791729724848\n"
     ]
    },
    {
     "name": "stderr",
     "output_type": "stream",
     "text": [
      "\u001b[32m[I 2021-08-31 13:07:15,810]\u001b[0m Trial 129 finished with value: 2.531933697822227 and parameters: {'lambda_l1': 1.6221791729724848, 'lambda_l2': 1.30720522088146e-06, 'num_leaves': 182, 'feature_fraction': 0.43283266317298674, 'bagging_fraction': 0.9795305379659173, 'bagging_freq': 5, 'min_child_samples': 5}. Best is trial 129 with value: 2.531933697822227.\u001b[0m\n",
      "\u001b[32m[I 2021-08-31 13:07:15,923]\u001b[0m Trial 130 finished with value: 2.5474265273501344 and parameters: {'lambda_l1': 6.820911072055892, 'lambda_l2': 3.342365744229742e-07, 'num_leaves': 189, 'feature_fraction': 0.40190633580472446, 'bagging_fraction': 0.9762317409486886, 'bagging_freq': 5, 'min_child_samples': 5}. Best is trial 129 with value: 2.531933697822227.\u001b[0m\n"
     ]
    },
    {
     "name": "stdout",
     "output_type": "stream",
     "text": [
      "[LightGBM] [Warning] bagging_freq is set=5, subsample_freq=0 will be ignored. Current value: bagging_freq=5\n",
      "[LightGBM] [Warning] feature_fraction is set=0.40190633580472446, colsample_bytree=1.0 will be ignored. Current value: feature_fraction=0.40190633580472446\n",
      "[LightGBM] [Warning] bagging_fraction is set=0.9762317409486886, subsample=1.0 will be ignored. Current value: bagging_fraction=0.9762317409486886\n",
      "[LightGBM] [Warning] lambda_l2 is set=3.342365744229742e-07, reg_lambda=0.0 will be ignored. Current value: lambda_l2=3.342365744229742e-07\n",
      "[LightGBM] [Warning] lambda_l1 is set=6.820911072055892, reg_alpha=0.0 will be ignored. Current value: lambda_l1=6.820911072055892\n",
      "[LightGBM] [Warning] bagging_freq is set=5, subsample_freq=0 will be ignored. Current value: bagging_freq=5\n",
      "[LightGBM] [Warning] feature_fraction is set=0.43229603886892287, colsample_bytree=1.0 will be ignored. Current value: feature_fraction=0.43229603886892287\n",
      "[LightGBM] [Warning] bagging_fraction is set=0.962879369217885, subsample=1.0 will be ignored. Current value: bagging_fraction=0.962879369217885\n",
      "[LightGBM] [Warning] lambda_l2 is set=6.520216372539744e-06, reg_lambda=0.0 will be ignored. Current value: lambda_l2=6.520216372539744e-06\n",
      "[LightGBM] [Warning] lambda_l1 is set=1.3641751197025842, reg_alpha=0.0 will be ignored. Current value: lambda_l1=1.3641751197025842\n"
     ]
    },
    {
     "name": "stderr",
     "output_type": "stream",
     "text": [
      "\u001b[32m[I 2021-08-31 13:07:16,057]\u001b[0m Trial 131 finished with value: 2.537824541677889 and parameters: {'lambda_l1': 1.3641751197025842, 'lambda_l2': 6.520216372539744e-06, 'num_leaves': 182, 'feature_fraction': 0.43229603886892287, 'bagging_fraction': 0.962879369217885, 'bagging_freq': 5, 'min_child_samples': 5}. Best is trial 129 with value: 2.531933697822227.\u001b[0m\n",
      "\u001b[32m[I 2021-08-31 13:07:16,181]\u001b[0m Trial 132 finished with value: 2.5362267432533216 and parameters: {'lambda_l1': 1.8763142956617094, 'lambda_l2': 2.4820184403901613e-06, 'num_leaves': 181, 'feature_fraction': 0.4305329875197474, 'bagging_fraction': 0.9607823401756586, 'bagging_freq': 5, 'min_child_samples': 5}. Best is trial 129 with value: 2.531933697822227.\u001b[0m\n"
     ]
    },
    {
     "name": "stdout",
     "output_type": "stream",
     "text": [
      "[LightGBM] [Warning] bagging_freq is set=5, subsample_freq=0 will be ignored. Current value: bagging_freq=5\n",
      "[LightGBM] [Warning] feature_fraction is set=0.4305329875197474, colsample_bytree=1.0 will be ignored. Current value: feature_fraction=0.4305329875197474\n",
      "[LightGBM] [Warning] bagging_fraction is set=0.9607823401756586, subsample=1.0 will be ignored. Current value: bagging_fraction=0.9607823401756586\n",
      "[LightGBM] [Warning] lambda_l2 is set=2.4820184403901613e-06, reg_lambda=0.0 will be ignored. Current value: lambda_l2=2.4820184403901613e-06\n",
      "[LightGBM] [Warning] lambda_l1 is set=1.8763142956617094, reg_alpha=0.0 will be ignored. Current value: lambda_l1=1.8763142956617094\n",
      "[LightGBM] [Warning] bagging_freq is set=5, subsample_freq=0 will be ignored. Current value: bagging_freq=5\n",
      "[LightGBM] [Warning] feature_fraction is set=0.42909253234110667, colsample_bytree=1.0 will be ignored. Current value: feature_fraction=0.42909253234110667\n",
      "[LightGBM] [Warning] bagging_fraction is set=0.9661238120707513, subsample=1.0 will be ignored. Current value: bagging_fraction=0.9661238120707513\n",
      "[LightGBM] [Warning] lambda_l2 is set=4.887611422468437e-06, reg_lambda=0.0 will be ignored. Current value: lambda_l2=4.887611422468437e-06\n",
      "[LightGBM] [Warning] lambda_l1 is set=2.357368976774013, reg_alpha=0.0 will be ignored. Current value: lambda_l1=2.357368976774013\n"
     ]
    },
    {
     "name": "stderr",
     "output_type": "stream",
     "text": [
      "\u001b[32m[I 2021-08-31 13:07:16,310]\u001b[0m Trial 133 finished with value: 2.537242135014324 and parameters: {'lambda_l1': 2.357368976774013, 'lambda_l2': 4.887611422468437e-06, 'num_leaves': 184, 'feature_fraction': 0.42909253234110667, 'bagging_fraction': 0.9661238120707513, 'bagging_freq': 5, 'min_child_samples': 5}. Best is trial 129 with value: 2.531933697822227.\u001b[0m\n",
      "\u001b[32m[I 2021-08-31 13:07:16,453]\u001b[0m Trial 134 finished with value: 2.563891372608223 and parameters: {'lambda_l1': 1.7728467147530802, 'lambda_l2': 5.396242035700252e-06, 'num_leaves': 182, 'feature_fraction': 0.4645122682784966, 'bagging_fraction': 0.9663774860353165, 'bagging_freq': 5, 'min_child_samples': 5}. Best is trial 129 with value: 2.531933697822227.\u001b[0m\n"
     ]
    },
    {
     "name": "stdout",
     "output_type": "stream",
     "text": [
      "[LightGBM] [Warning] bagging_freq is set=5, subsample_freq=0 will be ignored. Current value: bagging_freq=5\n",
      "[LightGBM] [Warning] feature_fraction is set=0.4645122682784966, colsample_bytree=1.0 will be ignored. Current value: feature_fraction=0.4645122682784966\n",
      "[LightGBM] [Warning] bagging_fraction is set=0.9663774860353165, subsample=1.0 will be ignored. Current value: bagging_fraction=0.9663774860353165\n",
      "[LightGBM] [Warning] lambda_l2 is set=5.396242035700252e-06, reg_lambda=0.0 will be ignored. Current value: lambda_l2=5.396242035700252e-06\n",
      "[LightGBM] [Warning] lambda_l1 is set=1.7728467147530802, reg_alpha=0.0 will be ignored. Current value: lambda_l1=1.7728467147530802\n",
      "[LightGBM] [Warning] bagging_freq is set=5, subsample_freq=0 will be ignored. Current value: bagging_freq=5\n",
      "[LightGBM] [Warning] feature_fraction is set=0.44828750375168963, colsample_bytree=1.0 will be ignored. Current value: feature_fraction=0.44828750375168963\n",
      "[LightGBM] [Warning] bagging_fraction is set=0.9807884617404063, subsample=1.0 will be ignored. Current value: bagging_fraction=0.9807884617404063\n",
      "[LightGBM] [Warning] lambda_l2 is set=5.1689988139328406e-06, reg_lambda=0.0 will be ignored. Current value: lambda_l2=5.1689988139328406e-06\n",
      "[LightGBM] [Warning] lambda_l1 is set=2.540698239785148, reg_alpha=0.0 will be ignored. Current value: lambda_l1=2.540698239785148\n"
     ]
    },
    {
     "name": "stderr",
     "output_type": "stream",
     "text": [
      "\u001b[32m[I 2021-08-31 13:07:16,595]\u001b[0m Trial 135 finished with value: 2.6017938189637517 and parameters: {'lambda_l1': 2.540698239785148, 'lambda_l2': 5.1689988139328406e-06, 'num_leaves': 191, 'feature_fraction': 0.44828750375168963, 'bagging_fraction': 0.9807884617404063, 'bagging_freq': 5, 'min_child_samples': 10}. Best is trial 129 with value: 2.531933697822227.\u001b[0m\n",
      "\u001b[32m[I 2021-08-31 13:07:16,726]\u001b[0m Trial 136 finished with value: 2.5362550608013663 and parameters: {'lambda_l1': 1.4024793802486306, 'lambda_l2': 1.7684899038790853e-06, 'num_leaves': 197, 'feature_fraction': 0.4309112300842605, 'bagging_fraction': 0.9993953131446881, 'bagging_freq': 5, 'min_child_samples': 5}. Best is trial 129 with value: 2.531933697822227.\u001b[0m\n"
     ]
    },
    {
     "name": "stdout",
     "output_type": "stream",
     "text": [
      "[LightGBM] [Warning] bagging_freq is set=5, subsample_freq=0 will be ignored. Current value: bagging_freq=5\n",
      "[LightGBM] [Warning] feature_fraction is set=0.4309112300842605, colsample_bytree=1.0 will be ignored. Current value: feature_fraction=0.4309112300842605\n",
      "[LightGBM] [Warning] bagging_fraction is set=0.9993953131446881, subsample=1.0 will be ignored. Current value: bagging_fraction=0.9993953131446881\n",
      "[LightGBM] [Warning] lambda_l2 is set=1.7684899038790853e-06, reg_lambda=0.0 will be ignored. Current value: lambda_l2=1.7684899038790853e-06\n",
      "[LightGBM] [Warning] lambda_l1 is set=1.4024793802486306, reg_alpha=0.0 will be ignored. Current value: lambda_l1=1.4024793802486306\n",
      "[LightGBM] [Warning] bagging_freq is set=5, subsample_freq=0 will be ignored. Current value: bagging_freq=5\n",
      "[LightGBM] [Warning] feature_fraction is set=0.42907659075275556, colsample_bytree=1.0 will be ignored. Current value: feature_fraction=0.42907659075275556\n",
      "[LightGBM] [Warning] bagging_fraction is set=0.9953754936155109, subsample=1.0 will be ignored. Current value: bagging_fraction=0.9953754936155109\n",
      "[LightGBM] [Warning] lambda_l2 is set=1.8715350880919578e-05, reg_lambda=0.0 will be ignored. Current value: lambda_l2=1.8715350880919578e-05\n",
      "[LightGBM] [Warning] lambda_l1 is set=1.3617823047063535, reg_alpha=0.0 will be ignored. Current value: lambda_l1=1.3617823047063535\n"
     ]
    },
    {
     "name": "stderr",
     "output_type": "stream",
     "text": [
      "\u001b[32m[I 2021-08-31 13:07:16,858]\u001b[0m Trial 137 finished with value: 2.537176899542192 and parameters: {'lambda_l1': 1.3617823047063535, 'lambda_l2': 1.8715350880919578e-05, 'num_leaves': 183, 'feature_fraction': 0.42907659075275556, 'bagging_fraction': 0.9953754936155109, 'bagging_freq': 5, 'min_child_samples': 5}. Best is trial 129 with value: 2.531933697822227.\u001b[0m\n",
      "\u001b[32m[I 2021-08-31 13:07:16,938]\u001b[0m Trial 138 finished with value: 3.3030823725057843 and parameters: {'lambda_l1': 1.75522859433402, 'lambda_l2': 2.156293080088434e-06, 'num_leaves': 184, 'feature_fraction': 0.48047981040223936, 'bagging_fraction': 0.9996786455353119, 'bagging_freq': 5, 'min_child_samples': 93}. Best is trial 129 with value: 2.531933697822227.\u001b[0m\n",
      "\u001b[32m[I 2021-08-31 13:07:17,058]\u001b[0m Trial 139 finished with value: 2.553520477617286 and parameters: {'lambda_l1': 2.7422000763975016, 'lambda_l2': 1.8230758655766806e-05, 'num_leaves': 181, 'feature_fraction': 0.4290167899340627, 'bagging_fraction': 0.9893999188430235, 'bagging_freq': 5, 'min_child_samples': 9}. Best is trial 129 with value: 2.531933697822227.\u001b[0m\n"
     ]
    },
    {
     "name": "stdout",
     "output_type": "stream",
     "text": [
      "[LightGBM] [Warning] bagging_freq is set=5, subsample_freq=0 will be ignored. Current value: bagging_freq=5\n",
      "[LightGBM] [Warning] feature_fraction is set=0.48047981040223936, colsample_bytree=1.0 will be ignored. Current value: feature_fraction=0.48047981040223936\n",
      "[LightGBM] [Warning] bagging_fraction is set=0.9996786455353119, subsample=1.0 will be ignored. Current value: bagging_fraction=0.9996786455353119\n",
      "[LightGBM] [Warning] lambda_l2 is set=2.156293080088434e-06, reg_lambda=0.0 will be ignored. Current value: lambda_l2=2.156293080088434e-06\n",
      "[LightGBM] [Warning] lambda_l1 is set=1.75522859433402, reg_alpha=0.0 will be ignored. Current value: lambda_l1=1.75522859433402\n",
      "[LightGBM] [Warning] bagging_freq is set=5, subsample_freq=0 will be ignored. Current value: bagging_freq=5\n",
      "[LightGBM] [Warning] feature_fraction is set=0.4290167899340627, colsample_bytree=1.0 will be ignored. Current value: feature_fraction=0.4290167899340627\n",
      "[LightGBM] [Warning] bagging_fraction is set=0.9893999188430235, subsample=1.0 will be ignored. Current value: bagging_fraction=0.9893999188430235\n",
      "[LightGBM] [Warning] lambda_l2 is set=1.8230758655766806e-05, reg_lambda=0.0 will be ignored. Current value: lambda_l2=1.8230758655766806e-05\n",
      "[LightGBM] [Warning] lambda_l1 is set=2.7422000763975016, reg_alpha=0.0 will be ignored. Current value: lambda_l1=2.7422000763975016\n"
     ]
    },
    {
     "name": "stderr",
     "output_type": "stream",
     "text": [
      "\u001b[32m[I 2021-08-31 13:07:17,181]\u001b[0m Trial 140 finished with value: 2.6191989644966434 and parameters: {'lambda_l1': 8.766661108879411, 'lambda_l2': 1.4522663328834536e-06, 'num_leaves': 184, 'feature_fraction': 0.4570940989423745, 'bagging_fraction': 0.9983633378663391, 'bagging_freq': 5, 'min_child_samples': 11}. Best is trial 129 with value: 2.531933697822227.\u001b[0m\n"
     ]
    },
    {
     "name": "stdout",
     "output_type": "stream",
     "text": [
      "[LightGBM] [Warning] bagging_freq is set=5, subsample_freq=0 will be ignored. Current value: bagging_freq=5\n",
      "[LightGBM] [Warning] feature_fraction is set=0.4570940989423745, colsample_bytree=1.0 will be ignored. Current value: feature_fraction=0.4570940989423745\n",
      "[LightGBM] [Warning] bagging_fraction is set=0.9983633378663391, subsample=1.0 will be ignored. Current value: bagging_fraction=0.9983633378663391\n",
      "[LightGBM] [Warning] lambda_l2 is set=1.4522663328834536e-06, reg_lambda=0.0 will be ignored. Current value: lambda_l2=1.4522663328834536e-06\n",
      "[LightGBM] [Warning] lambda_l1 is set=8.766661108879411, reg_alpha=0.0 will be ignored. Current value: lambda_l1=8.766661108879411\n",
      "[LightGBM] [Warning] bagging_freq is set=5, subsample_freq=0 will be ignored. Current value: bagging_freq=5\n",
      "[LightGBM] [Warning] feature_fraction is set=0.43936568039538487, colsample_bytree=1.0 will be ignored. Current value: feature_fraction=0.43936568039538487\n",
      "[LightGBM] [Warning] bagging_fraction is set=0.9670691275036317, subsample=1.0 will be ignored. Current value: bagging_fraction=0.9670691275036317\n",
      "[LightGBM] [Warning] lambda_l2 is set=1.2812920177641907e-05, reg_lambda=0.0 will be ignored. Current value: lambda_l2=1.2812920177641907e-05\n",
      "[LightGBM] [Warning] lambda_l1 is set=1.3930820339445582, reg_alpha=0.0 will be ignored. Current value: lambda_l1=1.3930820339445582\n"
     ]
    },
    {
     "name": "stderr",
     "output_type": "stream",
     "text": [
      "\u001b[32m[I 2021-08-31 13:07:17,355]\u001b[0m Trial 141 finished with value: 2.571082596054745 and parameters: {'lambda_l1': 1.3930820339445582, 'lambda_l2': 1.2812920177641907e-05, 'num_leaves': 192, 'feature_fraction': 0.43936568039538487, 'bagging_fraction': 0.9670691275036317, 'bagging_freq': 5, 'min_child_samples': 5}. Best is trial 129 with value: 2.531933697822227.\u001b[0m\n",
      "\u001b[32m[I 2021-08-31 13:07:17,494]\u001b[0m Trial 142 finished with value: 2.5387133903215724 and parameters: {'lambda_l1': 0.7865872451111495, 'lambda_l2': 2.767805507588506e-06, 'num_leaves': 197, 'feature_fraction': 0.43313825180084714, 'bagging_fraction': 0.9548780677566715, 'bagging_freq': 5, 'min_child_samples': 5}. Best is trial 129 with value: 2.531933697822227.\u001b[0m\n"
     ]
    },
    {
     "name": "stdout",
     "output_type": "stream",
     "text": [
      "[LightGBM] [Warning] bagging_freq is set=5, subsample_freq=0 will be ignored. Current value: bagging_freq=5\n",
      "[LightGBM] [Warning] feature_fraction is set=0.43313825180084714, colsample_bytree=1.0 will be ignored. Current value: feature_fraction=0.43313825180084714\n",
      "[LightGBM] [Warning] bagging_fraction is set=0.9548780677566715, subsample=1.0 will be ignored. Current value: bagging_fraction=0.9548780677566715\n",
      "[LightGBM] [Warning] lambda_l2 is set=2.767805507588506e-06, reg_lambda=0.0 will be ignored. Current value: lambda_l2=2.767805507588506e-06\n",
      "[LightGBM] [Warning] lambda_l1 is set=0.7865872451111495, reg_alpha=0.0 will be ignored. Current value: lambda_l1=0.7865872451111495\n",
      "[LightGBM] [Warning] bagging_freq is set=5, subsample_freq=0 will be ignored. Current value: bagging_freq=5\n",
      "[LightGBM] [Warning] feature_fraction is set=0.4296061986064632, colsample_bytree=1.0 will be ignored. Current value: feature_fraction=0.4296061986064632\n",
      "[LightGBM] [Warning] bagging_fraction is set=0.9544093007993946, subsample=1.0 will be ignored. Current value: bagging_fraction=0.9544093007993946\n",
      "[LightGBM] [Warning] lambda_l2 is set=8.125137523452647e-07, reg_lambda=0.0 will be ignored. Current value: lambda_l2=8.125137523452647e-07\n",
      "[LightGBM] [Warning] lambda_l1 is set=0.7588866866101809, reg_alpha=0.0 will be ignored. Current value: lambda_l1=0.7588866866101809\n"
     ]
    },
    {
     "name": "stderr",
     "output_type": "stream",
     "text": [
      "\u001b[32m[I 2021-08-31 13:07:17,634]\u001b[0m Trial 143 finished with value: 2.5396209319815504 and parameters: {'lambda_l1': 0.7588866866101809, 'lambda_l2': 8.125137523452647e-07, 'num_leaves': 196, 'feature_fraction': 0.4296061986064632, 'bagging_fraction': 0.9544093007993946, 'bagging_freq': 5, 'min_child_samples': 5}. Best is trial 129 with value: 2.531933697822227.\u001b[0m\n",
      "\u001b[32m[I 2021-08-31 13:07:17,782]\u001b[0m Trial 144 finished with value: 2.5513265669290193 and parameters: {'lambda_l1': 4.0549564377827884e-06, 'lambda_l2': 2.5719406715832065e-06, 'num_leaves': 198, 'feature_fraction': 0.429856499039393, 'bagging_fraction': 0.9833432544907771, 'bagging_freq': 5, 'min_child_samples': 9}. Best is trial 129 with value: 2.531933697822227.\u001b[0m\n"
     ]
    },
    {
     "name": "stdout",
     "output_type": "stream",
     "text": [
      "[LightGBM] [Warning] bagging_freq is set=5, subsample_freq=0 will be ignored. Current value: bagging_freq=5\n",
      "[LightGBM] [Warning] feature_fraction is set=0.429856499039393, colsample_bytree=1.0 will be ignored. Current value: feature_fraction=0.429856499039393\n",
      "[LightGBM] [Warning] bagging_fraction is set=0.9833432544907771, subsample=1.0 will be ignored. Current value: bagging_fraction=0.9833432544907771\n",
      "[LightGBM] [Warning] lambda_l2 is set=2.5719406715832065e-06, reg_lambda=0.0 will be ignored. Current value: lambda_l2=2.5719406715832065e-06\n",
      "[LightGBM] [Warning] lambda_l1 is set=4.0549564377827884e-06, reg_alpha=0.0 will be ignored. Current value: lambda_l1=4.0549564377827884e-06\n",
      "[LightGBM] [Warning] bagging_freq is set=5, subsample_freq=0 will be ignored. Current value: bagging_freq=5\n",
      "[LightGBM] [Warning] feature_fraction is set=0.44912855660685347, colsample_bytree=1.0 will be ignored. Current value: feature_fraction=0.44912855660685347\n",
      "[LightGBM] [Warning] bagging_fraction is set=0.9542562383736146, subsample=1.0 will be ignored. Current value: bagging_fraction=0.9542562383736146\n",
      "[LightGBM] [Warning] lambda_l2 is set=8.426411789314917e-07, reg_lambda=0.0 will be ignored. Current value: lambda_l2=8.426411789314917e-07\n",
      "[LightGBM] [Warning] lambda_l1 is set=0.7067241400949906, reg_alpha=0.0 will be ignored. Current value: lambda_l1=0.7067241400949906\n"
     ]
    },
    {
     "name": "stderr",
     "output_type": "stream",
     "text": [
      "\u001b[32m[I 2021-08-31 13:07:17,942]\u001b[0m Trial 145 finished with value: 2.576715412264112 and parameters: {'lambda_l1': 0.7067241400949906, 'lambda_l2': 8.426411789314917e-07, 'num_leaves': 179, 'feature_fraction': 0.44912855660685347, 'bagging_fraction': 0.9542562383736146, 'bagging_freq': 5, 'min_child_samples': 5}. Best is trial 129 with value: 2.531933697822227.\u001b[0m\n",
      "\u001b[32m[I 2021-08-31 13:07:18,070]\u001b[0m Trial 146 finished with value: 2.580307599531751 and parameters: {'lambda_l1': 3.8393157654211874, 'lambda_l2': 2.8937902638563426e-05, 'num_leaves': 197, 'feature_fraction': 0.47344638749147544, 'bagging_fraction': 0.9726287386647754, 'bagging_freq': 5, 'min_child_samples': 8}. Best is trial 129 with value: 2.531933697822227.\u001b[0m\n"
     ]
    },
    {
     "name": "stdout",
     "output_type": "stream",
     "text": [
      "[LightGBM] [Warning] bagging_freq is set=5, subsample_freq=0 will be ignored. Current value: bagging_freq=5\n",
      "[LightGBM] [Warning] feature_fraction is set=0.47344638749147544, colsample_bytree=1.0 will be ignored. Current value: feature_fraction=0.47344638749147544\n",
      "[LightGBM] [Warning] bagging_fraction is set=0.9726287386647754, subsample=1.0 will be ignored. Current value: bagging_fraction=0.9726287386647754\n",
      "[LightGBM] [Warning] lambda_l2 is set=2.8937902638563426e-05, reg_lambda=0.0 will be ignored. Current value: lambda_l2=2.8937902638563426e-05\n",
      "[LightGBM] [Warning] lambda_l1 is set=3.8393157654211874, reg_alpha=0.0 will be ignored. Current value: lambda_l1=3.8393157654211874\n",
      "[LightGBM] [Warning] bagging_freq is set=5, subsample_freq=0 will be ignored. Current value: bagging_freq=5\n",
      "[LightGBM] [Warning] feature_fraction is set=0.4364871632643548, colsample_bytree=1.0 will be ignored. Current value: feature_fraction=0.4364871632643548\n",
      "[LightGBM] [Warning] bagging_fraction is set=0.9568263825068468, subsample=1.0 will be ignored. Current value: bagging_fraction=0.9568263825068468\n",
      "[LightGBM] [Warning] lambda_l2 is set=3.813896001774469e-06, reg_lambda=0.0 will be ignored. Current value: lambda_l2=3.813896001774469e-06\n",
      "[LightGBM] [Warning] lambda_l1 is set=1.865861735667926, reg_alpha=0.0 will be ignored. Current value: lambda_l1=1.865861735667926\n"
     ]
    },
    {
     "name": "stderr",
     "output_type": "stream",
     "text": [
      "\u001b[32m[I 2021-08-31 13:07:18,201]\u001b[0m Trial 147 finished with value: 2.5413602109000974 and parameters: {'lambda_l1': 1.865861735667926, 'lambda_l2': 3.813896001774469e-06, 'num_leaves': 131, 'feature_fraction': 0.4364871632643548, 'bagging_fraction': 0.9568263825068468, 'bagging_freq': 5, 'min_child_samples': 5}. Best is trial 129 with value: 2.531933697822227.\u001b[0m\n",
      "\u001b[32m[I 2021-08-31 13:07:18,350]\u001b[0m Trial 148 finished with value: 2.6337737962079832 and parameters: {'lambda_l1': 0.8490463529361881, 'lambda_l2': 1.0721160359382619e-05, 'num_leaves': 187, 'feature_fraction': 0.45438215873507304, 'bagging_fraction': 0.9901836381760335, 'bagging_freq': 5, 'min_child_samples': 12}. Best is trial 129 with value: 2.531933697822227.\u001b[0m\n"
     ]
    },
    {
     "name": "stdout",
     "output_type": "stream",
     "text": [
      "[LightGBM] [Warning] bagging_freq is set=5, subsample_freq=0 will be ignored. Current value: bagging_freq=5\n",
      "[LightGBM] [Warning] feature_fraction is set=0.45438215873507304, colsample_bytree=1.0 will be ignored. Current value: feature_fraction=0.45438215873507304\n",
      "[LightGBM] [Warning] bagging_fraction is set=0.9901836381760335, subsample=1.0 will be ignored. Current value: bagging_fraction=0.9901836381760335\n",
      "[LightGBM] [Warning] lambda_l2 is set=1.0721160359382619e-05, reg_lambda=0.0 will be ignored. Current value: lambda_l2=1.0721160359382619e-05\n",
      "[LightGBM] [Warning] lambda_l1 is set=0.8490463529361881, reg_alpha=0.0 will be ignored. Current value: lambda_l1=0.8490463529361881\n",
      "[LightGBM] [Warning] bagging_freq is set=5, subsample_freq=0 will be ignored. Current value: bagging_freq=5\n",
      "[LightGBM] [Warning] feature_fraction is set=0.4627188414503913, colsample_bytree=1.0 will be ignored. Current value: feature_fraction=0.4627188414503913\n",
      "[LightGBM] [Warning] bagging_fraction is set=0.9636587277938812, subsample=1.0 will be ignored. Current value: bagging_fraction=0.9636587277938812\n",
      "[LightGBM] [Warning] lambda_l2 is set=7.425716524153484e-07, reg_lambda=0.0 will be ignored. Current value: lambda_l2=7.425716524153484e-07\n",
      "[LightGBM] [Warning] lambda_l1 is set=5.67328702648179, reg_alpha=0.0 will be ignored. Current value: lambda_l1=5.67328702648179\n"
     ]
    },
    {
     "name": "stderr",
     "output_type": "stream",
     "text": [
      "\u001b[32m[I 2021-08-31 13:07:18,485]\u001b[0m Trial 149 finished with value: 2.5752609881623036 and parameters: {'lambda_l1': 5.67328702648179, 'lambda_l2': 7.425716524153484e-07, 'num_leaves': 171, 'feature_fraction': 0.4627188414503913, 'bagging_fraction': 0.9636587277938812, 'bagging_freq': 5, 'min_child_samples': 7}. Best is trial 129 with value: 2.531933697822227.\u001b[0m\n",
      "\u001b[32m[I 2021-08-31 13:07:18,606]\u001b[0m Trial 150 finished with value: 2.558706259699356 and parameters: {'lambda_l1': 2.6667958697842273, 'lambda_l2': 9.61325473681003e-06, 'num_leaves': 194, 'feature_fraction': 0.4267909265136754, 'bagging_fraction': 0.9990083366897579, 'bagging_freq': 5, 'min_child_samples': 10}. Best is trial 129 with value: 2.531933697822227.\u001b[0m\n"
     ]
    },
    {
     "name": "stdout",
     "output_type": "stream",
     "text": [
      "[LightGBM] [Warning] bagging_freq is set=5, subsample_freq=0 will be ignored. Current value: bagging_freq=5\n",
      "[LightGBM] [Warning] feature_fraction is set=0.4267909265136754, colsample_bytree=1.0 will be ignored. Current value: feature_fraction=0.4267909265136754\n",
      "[LightGBM] [Warning] bagging_fraction is set=0.9990083366897579, subsample=1.0 will be ignored. Current value: bagging_fraction=0.9990083366897579\n",
      "[LightGBM] [Warning] lambda_l2 is set=9.61325473681003e-06, reg_lambda=0.0 will be ignored. Current value: lambda_l2=9.61325473681003e-06\n",
      "[LightGBM] [Warning] lambda_l1 is set=2.6667958697842273, reg_alpha=0.0 will be ignored. Current value: lambda_l1=2.6667958697842273\n",
      "[LightGBM] [Warning] bagging_freq is set=5, subsample_freq=0 will be ignored. Current value: bagging_freq=5\n",
      "[LightGBM] [Warning] feature_fraction is set=0.4227027127918844, colsample_bytree=1.0 will be ignored. Current value: feature_fraction=0.4227027127918844\n",
      "[LightGBM] [Warning] bagging_fraction is set=0.9767112717266296, subsample=1.0 will be ignored. Current value: bagging_fraction=0.9767112717266296\n",
      "[LightGBM] [Warning] lambda_l2 is set=1.208472106049629e-06, reg_lambda=0.0 will be ignored. Current value: lambda_l2=1.208472106049629e-06\n",
      "[LightGBM] [Warning] lambda_l1 is set=1.0514350551839786, reg_alpha=0.0 will be ignored. Current value: lambda_l1=1.0514350551839786\n"
     ]
    },
    {
     "name": "stderr",
     "output_type": "stream",
     "text": [
      "\u001b[32m[I 2021-08-31 13:07:18,742]\u001b[0m Trial 151 finished with value: 2.533468942153395 and parameters: {'lambda_l1': 1.0514350551839786, 'lambda_l2': 1.208472106049629e-06, 'num_leaves': 188, 'feature_fraction': 0.4227027127918844, 'bagging_fraction': 0.9767112717266296, 'bagging_freq': 5, 'min_child_samples': 5}. Best is trial 129 with value: 2.531933697822227.\u001b[0m\n",
      "\u001b[32m[I 2021-08-31 13:07:18,888]\u001b[0m Trial 152 finished with value: 2.5737070270977815 and parameters: {'lambda_l1': 1.389931640083234, 'lambda_l2': 7.713344494343191e-07, 'num_leaves': 184, 'feature_fraction': 0.4382319479406579, 'bagging_fraction': 0.9772051805943489, 'bagging_freq': 5, 'min_child_samples': 5}. Best is trial 129 with value: 2.531933697822227.\u001b[0m\n"
     ]
    },
    {
     "name": "stdout",
     "output_type": "stream",
     "text": [
      "[LightGBM] [Warning] bagging_freq is set=5, subsample_freq=0 will be ignored. Current value: bagging_freq=5\n",
      "[LightGBM] [Warning] feature_fraction is set=0.4382319479406579, colsample_bytree=1.0 will be ignored. Current value: feature_fraction=0.4382319479406579\n",
      "[LightGBM] [Warning] bagging_fraction is set=0.9772051805943489, subsample=1.0 will be ignored. Current value: bagging_fraction=0.9772051805943489\n",
      "[LightGBM] [Warning] lambda_l2 is set=7.713344494343191e-07, reg_lambda=0.0 will be ignored. Current value: lambda_l2=7.713344494343191e-07\n",
      "[LightGBM] [Warning] lambda_l1 is set=1.389931640083234, reg_alpha=0.0 will be ignored. Current value: lambda_l1=1.389931640083234\n",
      "[LightGBM] [Warning] bagging_freq is set=5, subsample_freq=0 will be ignored. Current value: bagging_freq=5\n",
      "[LightGBM] [Warning] feature_fraction is set=0.4248676282731834, colsample_bytree=1.0 will be ignored. Current value: feature_fraction=0.4248676282731834\n",
      "[LightGBM] [Warning] bagging_fraction is set=0.9521398899709644, subsample=1.0 will be ignored. Current value: bagging_fraction=0.9521398899709644\n",
      "[LightGBM] [Warning] lambda_l2 is set=1.457202096945778e-06, reg_lambda=0.0 will be ignored. Current value: lambda_l2=1.457202096945778e-06\n",
      "[LightGBM] [Warning] lambda_l1 is set=0.657328210071495, reg_alpha=0.0 will be ignored. Current value: lambda_l1=0.657328210071495\n"
     ]
    },
    {
     "name": "stderr",
     "output_type": "stream",
     "text": [
      "\u001b[32m[I 2021-08-31 13:07:19,030]\u001b[0m Trial 153 finished with value: 2.54399525430822 and parameters: {'lambda_l1': 0.657328210071495, 'lambda_l2': 1.457202096945778e-06, 'num_leaves': 178, 'feature_fraction': 0.4248676282731834, 'bagging_fraction': 0.9521398899709644, 'bagging_freq': 5, 'min_child_samples': 7}. Best is trial 129 with value: 2.531933697822227.\u001b[0m\n",
      "\u001b[32m[I 2021-08-31 13:07:19,156]\u001b[0m Trial 154 finished with value: 2.5405230083166814 and parameters: {'lambda_l1': 2.015788064417505, 'lambda_l2': 2.9787079802835584e-06, 'num_leaves': 189, 'feature_fraction': 0.4109113194936492, 'bagging_fraction': 0.9827146353483468, 'bagging_freq': 5, 'min_child_samples': 8}. Best is trial 129 with value: 2.531933697822227.\u001b[0m\n"
     ]
    },
    {
     "name": "stdout",
     "output_type": "stream",
     "text": [
      "[LightGBM] [Warning] bagging_freq is set=5, subsample_freq=0 will be ignored. Current value: bagging_freq=5\n",
      "[LightGBM] [Warning] feature_fraction is set=0.4109113194936492, colsample_bytree=1.0 will be ignored. Current value: feature_fraction=0.4109113194936492\n",
      "[LightGBM] [Warning] bagging_fraction is set=0.9827146353483468, subsample=1.0 will be ignored. Current value: bagging_fraction=0.9827146353483468\n",
      "[LightGBM] [Warning] lambda_l2 is set=2.9787079802835584e-06, reg_lambda=0.0 will be ignored. Current value: lambda_l2=2.9787079802835584e-06\n",
      "[LightGBM] [Warning] lambda_l1 is set=2.015788064417505, reg_alpha=0.0 will be ignored. Current value: lambda_l1=2.015788064417505\n",
      "[LightGBM] [Warning] bagging_freq is set=5, subsample_freq=0 will be ignored. Current value: bagging_freq=5\n",
      "[LightGBM] [Warning] feature_fraction is set=0.43641259475595845, colsample_bytree=1.0 will be ignored. Current value: feature_fraction=0.43641259475595845\n",
      "[LightGBM] [Warning] bagging_fraction is set=0.9672199694548529, subsample=1.0 will be ignored. Current value: bagging_fraction=0.9672199694548529\n",
      "[LightGBM] [Warning] lambda_l2 is set=5.298617403922726e-05, reg_lambda=0.0 will be ignored. Current value: lambda_l2=5.298617403922726e-05\n",
      "[LightGBM] [Warning] lambda_l1 is set=1.1199778954890278, reg_alpha=0.0 will be ignored. Current value: lambda_l1=1.1199778954890278\n"
     ]
    },
    {
     "name": "stderr",
     "output_type": "stream",
     "text": [
      "\u001b[32m[I 2021-08-31 13:07:19,291]\u001b[0m Trial 155 finished with value: 2.536418567781112 and parameters: {'lambda_l1': 1.1199778954890278, 'lambda_l2': 5.298617403922726e-05, 'num_leaves': 164, 'feature_fraction': 0.43641259475595845, 'bagging_fraction': 0.9672199694548529, 'bagging_freq': 5, 'min_child_samples': 5}. Best is trial 129 with value: 2.531933697822227.\u001b[0m\n",
      "\u001b[32m[I 2021-08-31 13:07:19,428]\u001b[0m Trial 156 finished with value: 2.590606550978483 and parameters: {'lambda_l1': 3.4932621267017616, 'lambda_l2': 5.85162291285251e-05, 'num_leaves': 201, 'feature_fraction': 0.4448127567860216, 'bagging_fraction': 0.5114107282633438, 'bagging_freq': 5, 'min_child_samples': 5}. Best is trial 129 with value: 2.531933697822227.\u001b[0m\n"
     ]
    },
    {
     "name": "stdout",
     "output_type": "stream",
     "text": [
      "[LightGBM] [Warning] bagging_freq is set=5, subsample_freq=0 will be ignored. Current value: bagging_freq=5\n",
      "[LightGBM] [Warning] feature_fraction is set=0.4448127567860216, colsample_bytree=1.0 will be ignored. Current value: feature_fraction=0.4448127567860216\n",
      "[LightGBM] [Warning] bagging_fraction is set=0.5114107282633438, subsample=1.0 will be ignored. Current value: bagging_fraction=0.5114107282633438\n",
      "[LightGBM] [Warning] lambda_l2 is set=5.85162291285251e-05, reg_lambda=0.0 will be ignored. Current value: lambda_l2=5.85162291285251e-05\n",
      "[LightGBM] [Warning] lambda_l1 is set=3.4932621267017616, reg_alpha=0.0 will be ignored. Current value: lambda_l1=3.4932621267017616\n",
      "[LightGBM] [Warning] bagging_freq is set=5, subsample_freq=0 will be ignored. Current value: bagging_freq=5\n",
      "[LightGBM] [Warning] feature_fraction is set=0.42346620454848527, colsample_bytree=1.0 will be ignored. Current value: feature_fraction=0.42346620454848527\n",
      "[LightGBM] [Warning] bagging_fraction is set=0.9646057898841314, subsample=1.0 will be ignored. Current value: bagging_fraction=0.9646057898841314\n",
      "[LightGBM] [Warning] lambda_l2 is set=6.25029576953608e-06, reg_lambda=0.0 will be ignored. Current value: lambda_l2=6.25029576953608e-06\n",
      "[LightGBM] [Warning] lambda_l1 is set=1.1146169211721233, reg_alpha=0.0 will be ignored. Current value: lambda_l1=1.1146169211721233\n"
     ]
    },
    {
     "name": "stderr",
     "output_type": "stream",
     "text": [
      "\u001b[32m[I 2021-08-31 13:07:19,563]\u001b[0m Trial 157 finished with value: 2.537484399399777 and parameters: {'lambda_l1': 1.1146169211721233, 'lambda_l2': 6.25029576953608e-06, 'num_leaves': 165, 'feature_fraction': 0.42346620454848527, 'bagging_fraction': 0.9646057898841314, 'bagging_freq': 5, 'min_child_samples': 5}. Best is trial 129 with value: 2.531933697822227.\u001b[0m\n",
      "\u001b[32m[I 2021-08-31 13:07:19,760]\u001b[0m Trial 158 finished with value: 2.5368772967877904 and parameters: {'lambda_l1': 1.1771984697981834, 'lambda_l2': 6.9539387842774386e-06, 'num_leaves': 164, 'feature_fraction': 0.4135873463598374, 'bagging_fraction': 0.9680660511108934, 'bagging_freq': 5, 'min_child_samples': 7}. Best is trial 129 with value: 2.531933697822227.\u001b[0m\n"
     ]
    },
    {
     "name": "stdout",
     "output_type": "stream",
     "text": [
      "[LightGBM] [Warning] bagging_freq is set=5, subsample_freq=0 will be ignored. Current value: bagging_freq=5\n",
      "[LightGBM] [Warning] feature_fraction is set=0.4135873463598374, colsample_bytree=1.0 will be ignored. Current value: feature_fraction=0.4135873463598374\n",
      "[LightGBM] [Warning] bagging_fraction is set=0.9680660511108934, subsample=1.0 will be ignored. Current value: bagging_fraction=0.9680660511108934\n",
      "[LightGBM] [Warning] lambda_l2 is set=6.9539387842774386e-06, reg_lambda=0.0 will be ignored. Current value: lambda_l2=6.9539387842774386e-06\n",
      "[LightGBM] [Warning] lambda_l1 is set=1.1771984697981834, reg_alpha=0.0 will be ignored. Current value: lambda_l1=1.1771984697981834\n",
      "[LightGBM] [Warning] bagging_freq is set=5, subsample_freq=0 will be ignored. Current value: bagging_freq=5\n",
      "[LightGBM] [Warning] feature_fraction is set=0.40160190852504957, colsample_bytree=1.0 will be ignored. Current value: feature_fraction=0.40160190852504957\n",
      "[LightGBM] [Warning] bagging_fraction is set=0.9998962405564331, subsample=1.0 will be ignored. Current value: bagging_fraction=0.9998962405564331\n",
      "[LightGBM] [Warning] lambda_l2 is set=6.411000124228384e-06, reg_lambda=0.0 will be ignored. Current value: lambda_l2=6.411000124228384e-06\n",
      "[LightGBM] [Warning] lambda_l1 is set=1.2905436510399229, reg_alpha=0.0 will be ignored. Current value: lambda_l1=1.2905436510399229\n"
     ]
    },
    {
     "name": "stderr",
     "output_type": "stream",
     "text": [
      "\u001b[32m[I 2021-08-31 13:07:20,123]\u001b[0m Trial 159 finished with value: 2.557224607166652 and parameters: {'lambda_l1': 1.2905436510399229, 'lambda_l2': 6.411000124228384e-06, 'num_leaves': 167, 'feature_fraction': 0.40160190852504957, 'bagging_fraction': 0.9998962405564331, 'bagging_freq': 5, 'min_child_samples': 10}. Best is trial 129 with value: 2.531933697822227.\u001b[0m\n"
     ]
    },
    {
     "name": "stdout",
     "output_type": "stream",
     "text": [
      "[LightGBM] [Warning] bagging_freq is set=5, subsample_freq=0 will be ignored. Current value: bagging_freq=5\n",
      "[LightGBM] [Warning] feature_fraction is set=0.410410778500474, colsample_bytree=1.0 will be ignored. Current value: feature_fraction=0.410410778500474\n",
      "[LightGBM] [Warning] bagging_fraction is set=0.9703959572584243, subsample=1.0 will be ignored. Current value: bagging_fraction=0.9703959572584243\n",
      "[LightGBM] [Warning] lambda_l2 is set=2.8151475337537972e-05, reg_lambda=0.0 will be ignored. Current value: lambda_l2=2.8151475337537972e-05\n",
      "[LightGBM] [Warning] lambda_l1 is set=2.3787232947154515, reg_alpha=0.0 will be ignored. Current value: lambda_l1=2.3787232947154515\n"
     ]
    },
    {
     "name": "stderr",
     "output_type": "stream",
     "text": [
      "\u001b[32m[I 2021-08-31 13:07:20,737]\u001b[0m Trial 160 finished with value: 2.53859649382696 and parameters: {'lambda_l1': 2.3787232947154515, 'lambda_l2': 2.8151475337537972e-05, 'num_leaves': 157, 'feature_fraction': 0.410410778500474, 'bagging_fraction': 0.9703959572584243, 'bagging_freq': 5, 'min_child_samples': 7}. Best is trial 129 with value: 2.531933697822227.\u001b[0m\n",
      "\u001b[32m[I 2021-08-31 13:07:20,870]\u001b[0m Trial 161 finished with value: 2.538943719212958 and parameters: {'lambda_l1': 2.392607954233105, 'lambda_l2': 2.2720469945839495e-05, 'num_leaves': 157, 'feature_fraction': 0.40021252027143234, 'bagging_fraction': 0.9738333093566709, 'bagging_freq': 5, 'min_child_samples': 7}. Best is trial 129 with value: 2.531933697822227.\u001b[0m\n"
     ]
    },
    {
     "name": "stdout",
     "output_type": "stream",
     "text": [
      "[LightGBM] [Warning] bagging_freq is set=5, subsample_freq=0 will be ignored. Current value: bagging_freq=5\n",
      "[LightGBM] [Warning] feature_fraction is set=0.40021252027143234, colsample_bytree=1.0 will be ignored. Current value: feature_fraction=0.40021252027143234\n",
      "[LightGBM] [Warning] bagging_fraction is set=0.9738333093566709, subsample=1.0 will be ignored. Current value: bagging_fraction=0.9738333093566709\n",
      "[LightGBM] [Warning] lambda_l2 is set=2.2720469945839495e-05, reg_lambda=0.0 will be ignored. Current value: lambda_l2=2.2720469945839495e-05\n",
      "[LightGBM] [Warning] lambda_l1 is set=2.392607954233105, reg_alpha=0.0 will be ignored. Current value: lambda_l1=2.392607954233105\n",
      "[LightGBM] [Warning] bagging_freq is set=5, subsample_freq=0 will be ignored. Current value: bagging_freq=5\n",
      "[LightGBM] [Warning] feature_fraction is set=0.4133741786392982, colsample_bytree=1.0 will be ignored. Current value: feature_fraction=0.4133741786392982\n",
      "[LightGBM] [Warning] bagging_fraction is set=0.9664522413613958, subsample=1.0 will be ignored. Current value: bagging_fraction=0.9664522413613958\n",
      "[LightGBM] [Warning] lambda_l2 is set=5.084027731469703e-05, reg_lambda=0.0 will be ignored. Current value: lambda_l2=5.084027731469703e-05\n",
      "[LightGBM] [Warning] lambda_l1 is set=4.631694381885248, reg_alpha=0.0 will be ignored. Current value: lambda_l1=4.631694381885248\n"
     ]
    },
    {
     "name": "stderr",
     "output_type": "stream",
     "text": [
      "\u001b[32m[I 2021-08-31 13:07:20,987]\u001b[0m Trial 162 finished with value: 2.549086166350957 and parameters: {'lambda_l1': 4.631694381885248, 'lambda_l2': 5.084027731469703e-05, 'num_leaves': 153, 'feature_fraction': 0.4133741786392982, 'bagging_fraction': 0.9664522413613958, 'bagging_freq': 5, 'min_child_samples': 8}. Best is trial 129 with value: 2.531933697822227.\u001b[0m\n",
      "\u001b[32m[I 2021-08-31 13:07:21,114]\u001b[0m Trial 163 finished with value: 2.5337753206237323 and parameters: {'lambda_l1': 1.1423098565468144, 'lambda_l2': 7.8197624910585e-06, 'num_leaves': 162, 'feature_fraction': 0.42493525928499926, 'bagging_fraction': 0.983838155187286, 'bagging_freq': 5, 'min_child_samples': 5}. Best is trial 129 with value: 2.531933697822227.\u001b[0m\n"
     ]
    },
    {
     "name": "stdout",
     "output_type": "stream",
     "text": [
      "[LightGBM] [Warning] bagging_freq is set=5, subsample_freq=0 will be ignored. Current value: bagging_freq=5\n",
      "[LightGBM] [Warning] feature_fraction is set=0.42493525928499926, colsample_bytree=1.0 will be ignored. Current value: feature_fraction=0.42493525928499926\n",
      "[LightGBM] [Warning] bagging_fraction is set=0.983838155187286, subsample=1.0 will be ignored. Current value: bagging_fraction=0.983838155187286\n",
      "[LightGBM] [Warning] lambda_l2 is set=7.8197624910585e-06, reg_lambda=0.0 will be ignored. Current value: lambda_l2=7.8197624910585e-06\n",
      "[LightGBM] [Warning] lambda_l1 is set=1.1423098565468144, reg_alpha=0.0 will be ignored. Current value: lambda_l1=1.1423098565468144\n",
      "[LightGBM] [Warning] bagging_freq is set=5, subsample_freq=0 will be ignored. Current value: bagging_freq=5\n",
      "[LightGBM] [Warning] feature_fraction is set=0.44470187380822845, colsample_bytree=1.0 will be ignored. Current value: feature_fraction=0.44470187380822845\n",
      "[LightGBM] [Warning] bagging_fraction is set=0.9877344499529116, subsample=1.0 will be ignored. Current value: bagging_fraction=0.9877344499529116\n",
      "[LightGBM] [Warning] lambda_l2 is set=3.706031127638774e-06, reg_lambda=0.0 will be ignored. Current value: lambda_l2=3.706031127638774e-06\n",
      "[LightGBM] [Warning] lambda_l1 is set=1.1017183095705425, reg_alpha=0.0 will be ignored. Current value: lambda_l1=1.1017183095705425\n"
     ]
    },
    {
     "name": "stderr",
     "output_type": "stream",
     "text": [
      "\u001b[32m[I 2021-08-31 13:07:21,373]\u001b[0m Trial 164 finished with value: 2.57269306251481 and parameters: {'lambda_l1': 1.1017183095705425, 'lambda_l2': 3.706031127638774e-06, 'num_leaves': 163, 'feature_fraction': 0.44470187380822845, 'bagging_fraction': 0.9877344499529116, 'bagging_freq': 5, 'min_child_samples': 5}. Best is trial 129 with value: 2.531933697822227.\u001b[0m\n"
     ]
    },
    {
     "name": "stdout",
     "output_type": "stream",
     "text": [
      "[LightGBM] [Warning] bagging_freq is set=5, subsample_freq=0 will be ignored. Current value: bagging_freq=5\n",
      "[LightGBM] [Warning] feature_fraction is set=0.4245726985272613, colsample_bytree=1.0 will be ignored. Current value: feature_fraction=0.4245726985272613\n",
      "[LightGBM] [Warning] bagging_fraction is set=0.9998922375701693, subsample=1.0 will be ignored. Current value: bagging_fraction=0.9998922375701693\n",
      "[LightGBM] [Warning] lambda_l2 is set=7.333594868515523e-06, reg_lambda=0.0 will be ignored. Current value: lambda_l2=7.333594868515523e-06\n",
      "[LightGBM] [Warning] lambda_l1 is set=9.902009078612181, reg_alpha=0.0 will be ignored. Current value: lambda_l1=9.902009078612181\n"
     ]
    },
    {
     "name": "stderr",
     "output_type": "stream",
     "text": [
      "\u001b[32m[I 2021-08-31 13:07:21,689]\u001b[0m Trial 165 finished with value: 2.5819592508854594 and parameters: {'lambda_l1': 9.902009078612181, 'lambda_l2': 7.333594868515523e-06, 'num_leaves': 171, 'feature_fraction': 0.4245726985272613, 'bagging_fraction': 0.9998922375701693, 'bagging_freq': 5, 'min_child_samples': 9}. Best is trial 129 with value: 2.531933697822227.\u001b[0m\n",
      "\u001b[32m[I 2021-08-31 13:07:21,896]\u001b[0m Trial 166 finished with value: 2.5385900610964898 and parameters: {'lambda_l1': 0.5564420900158297, 'lambda_l2': 3.601372382287728e-05, 'num_leaves': 175, 'feature_fraction': 0.43229957813869446, 'bagging_fraction': 0.98014307137781, 'bagging_freq': 5, 'min_child_samples': 5}. Best is trial 129 with value: 2.531933697822227.\u001b[0m\n"
     ]
    },
    {
     "name": "stdout",
     "output_type": "stream",
     "text": [
      "[LightGBM] [Warning] bagging_freq is set=5, subsample_freq=0 will be ignored. Current value: bagging_freq=5\n",
      "[LightGBM] [Warning] feature_fraction is set=0.43229957813869446, colsample_bytree=1.0 will be ignored. Current value: feature_fraction=0.43229957813869446\n",
      "[LightGBM] [Warning] bagging_fraction is set=0.98014307137781, subsample=1.0 will be ignored. Current value: bagging_fraction=0.98014307137781\n",
      "[LightGBM] [Warning] lambda_l2 is set=3.601372382287728e-05, reg_lambda=0.0 will be ignored. Current value: lambda_l2=3.601372382287728e-05\n",
      "[LightGBM] [Warning] lambda_l1 is set=0.5564420900158297, reg_alpha=0.0 will be ignored. Current value: lambda_l1=0.5564420900158297\n",
      "[LightGBM] [Warning] bagging_freq is set=5, subsample_freq=0 will be ignored. Current value: bagging_freq=5\n",
      "[LightGBM] [Warning] feature_fraction is set=0.4594421440349765, colsample_bytree=1.0 will be ignored. Current value: feature_fraction=0.4594421440349765\n",
      "[LightGBM] [Warning] bagging_fraction is set=0.9798686310990542, subsample=1.0 will be ignored. Current value: bagging_fraction=0.9798686310990542\n",
      "[LightGBM] [Warning] lambda_l2 is set=7.490974275233851e-05, reg_lambda=0.0 will be ignored. Current value: lambda_l2=7.490974275233851e-05\n",
      "[LightGBM] [Warning] lambda_l1 is set=0.5376109265554512, reg_alpha=0.0 will be ignored. Current value: lambda_l1=0.5376109265554512\n"
     ]
    },
    {
     "name": "stderr",
     "output_type": "stream",
     "text": [
      "\u001b[32m[I 2021-08-31 13:07:22,059]\u001b[0m Trial 167 finished with value: 2.6095841985874495 and parameters: {'lambda_l1': 0.5376109265554512, 'lambda_l2': 7.490974275233851e-05, 'num_leaves': 177, 'feature_fraction': 0.4594421440349765, 'bagging_fraction': 0.9798686310990542, 'bagging_freq': 5, 'min_child_samples': 13}. Best is trial 129 with value: 2.531933697822227.\u001b[0m\n",
      "\u001b[32m[I 2021-08-31 13:07:22,194]\u001b[0m Trial 168 finished with value: 2.62414756602342 and parameters: {'lambda_l1': 3.0035641525621863, 'lambda_l2': 2.9592907289304637e-05, 'num_leaves': 156, 'feature_fraction': 0.4435771009398085, 'bagging_fraction': 0.9899872228715505, 'bagging_freq': 5, 'min_child_samples': 11}. Best is trial 129 with value: 2.531933697822227.\u001b[0m\n"
     ]
    },
    {
     "name": "stdout",
     "output_type": "stream",
     "text": [
      "[LightGBM] [Warning] bagging_freq is set=5, subsample_freq=0 will be ignored. Current value: bagging_freq=5\n",
      "[LightGBM] [Warning] feature_fraction is set=0.4435771009398085, colsample_bytree=1.0 will be ignored. Current value: feature_fraction=0.4435771009398085\n",
      "[LightGBM] [Warning] bagging_fraction is set=0.9899872228715505, subsample=1.0 will be ignored. Current value: bagging_fraction=0.9899872228715505\n",
      "[LightGBM] [Warning] lambda_l2 is set=2.9592907289304637e-05, reg_lambda=0.0 will be ignored. Current value: lambda_l2=2.9592907289304637e-05\n",
      "[LightGBM] [Warning] lambda_l1 is set=3.0035641525621863, reg_alpha=0.0 will be ignored. Current value: lambda_l1=3.0035641525621863\n",
      "[LightGBM] [Warning] bagging_freq is set=5, subsample_freq=0 will be ignored. Current value: bagging_freq=5\n",
      "[LightGBM] [Warning] feature_fraction is set=0.4155032627619094, colsample_bytree=1.0 will be ignored. Current value: feature_fraction=0.4155032627619094\n",
      "[LightGBM] [Warning] bagging_fraction is set=0.9699656196110977, subsample=1.0 will be ignored. Current value: bagging_fraction=0.9699656196110977\n",
      "[LightGBM] [Warning] lambda_l2 is set=0.00010440184189793089, reg_lambda=0.0 will be ignored. Current value: lambda_l2=0.00010440184189793089\n",
      "[LightGBM] [Warning] lambda_l1 is set=1.5826135480377543, reg_alpha=0.0 will be ignored. Current value: lambda_l1=1.5826135480377543\n"
     ]
    },
    {
     "name": "stderr",
     "output_type": "stream",
     "text": [
      "\u001b[32m[I 2021-08-31 13:07:22,320]\u001b[0m Trial 169 finished with value: 2.534341230497818 and parameters: {'lambda_l1': 1.5826135480377543, 'lambda_l2': 0.00010440184189793089, 'num_leaves': 171, 'feature_fraction': 0.4155032627619094, 'bagging_fraction': 0.9699656196110977, 'bagging_freq': 5, 'min_child_samples': 7}. Best is trial 129 with value: 2.531933697822227.\u001b[0m\n",
      "\u001b[32m[I 2021-08-31 13:07:22,448]\u001b[0m Trial 170 finished with value: 2.535748113682936 and parameters: {'lambda_l1': 1.175127922234449, 'lambda_l2': 0.00012214715565358187, 'num_leaves': 160, 'feature_fraction': 0.4184383769372027, 'bagging_fraction': 0.968619261142499, 'bagging_freq': 5, 'min_child_samples': 5}. Best is trial 129 with value: 2.531933697822227.\u001b[0m\n"
     ]
    },
    {
     "name": "stdout",
     "output_type": "stream",
     "text": [
      "[LightGBM] [Warning] bagging_freq is set=5, subsample_freq=0 will be ignored. Current value: bagging_freq=5\n",
      "[LightGBM] [Warning] feature_fraction is set=0.4184383769372027, colsample_bytree=1.0 will be ignored. Current value: feature_fraction=0.4184383769372027\n",
      "[LightGBM] [Warning] bagging_fraction is set=0.968619261142499, subsample=1.0 will be ignored. Current value: bagging_fraction=0.968619261142499\n",
      "[LightGBM] [Warning] lambda_l2 is set=0.00012214715565358187, reg_lambda=0.0 will be ignored. Current value: lambda_l2=0.00012214715565358187\n",
      "[LightGBM] [Warning] lambda_l1 is set=1.175127922234449, reg_alpha=0.0 will be ignored. Current value: lambda_l1=1.175127922234449\n",
      "[LightGBM] [Warning] bagging_freq is set=5, subsample_freq=0 will be ignored. Current value: bagging_freq=5\n",
      "[LightGBM] [Warning] feature_fraction is set=0.4154749792658486, colsample_bytree=1.0 will be ignored. Current value: feature_fraction=0.4154749792658486\n",
      "[LightGBM] [Warning] bagging_fraction is set=0.9676169344265397, subsample=1.0 will be ignored. Current value: bagging_fraction=0.9676169344265397\n",
      "[LightGBM] [Warning] lambda_l2 is set=0.00017418643900097663, reg_lambda=0.0 will be ignored. Current value: lambda_l2=0.00017418643900097663\n",
      "[LightGBM] [Warning] lambda_l1 is set=1.4125184586260386, reg_alpha=0.0 will be ignored. Current value: lambda_l1=1.4125184586260386\n"
     ]
    },
    {
     "name": "stderr",
     "output_type": "stream",
     "text": [
      "\u001b[32m[I 2021-08-31 13:07:22,580]\u001b[0m Trial 171 finished with value: 2.5345440571869045 and parameters: {'lambda_l1': 1.4125184586260386, 'lambda_l2': 0.00017418643900097663, 'num_leaves': 161, 'feature_fraction': 0.4154749792658486, 'bagging_fraction': 0.9676169344265397, 'bagging_freq': 5, 'min_child_samples': 5}. Best is trial 129 with value: 2.531933697822227.\u001b[0m\n",
      "\u001b[32m[I 2021-08-31 13:07:22,708]\u001b[0m Trial 172 finished with value: 2.5345518984801654 and parameters: {'lambda_l1': 1.1546016432133197, 'lambda_l2': 0.00011175072924262007, 'num_leaves': 169, 'feature_fraction': 0.4212405961362894, 'bagging_fraction': 0.9647603431108057, 'bagging_freq': 5, 'min_child_samples': 5}. Best is trial 129 with value: 2.531933697822227.\u001b[0m\n"
     ]
    },
    {
     "name": "stdout",
     "output_type": "stream",
     "text": [
      "[LightGBM] [Warning] bagging_freq is set=5, subsample_freq=0 will be ignored. Current value: bagging_freq=5\n",
      "[LightGBM] [Warning] feature_fraction is set=0.4212405961362894, colsample_bytree=1.0 will be ignored. Current value: feature_fraction=0.4212405961362894\n",
      "[LightGBM] [Warning] bagging_fraction is set=0.9647603431108057, subsample=1.0 will be ignored. Current value: bagging_fraction=0.9647603431108057\n",
      "[LightGBM] [Warning] lambda_l2 is set=0.00011175072924262007, reg_lambda=0.0 will be ignored. Current value: lambda_l2=0.00011175072924262007\n",
      "[LightGBM] [Warning] lambda_l1 is set=1.1546016432133197, reg_alpha=0.0 will be ignored. Current value: lambda_l1=1.1546016432133197\n",
      "[LightGBM] [Warning] bagging_freq is set=5, subsample_freq=0 will be ignored. Current value: bagging_freq=5\n",
      "[LightGBM] [Warning] feature_fraction is set=0.4193672113950144, colsample_bytree=1.0 will be ignored. Current value: feature_fraction=0.4193672113950144\n",
      "[LightGBM] [Warning] bagging_fraction is set=0.9638644755745807, subsample=1.0 will be ignored. Current value: bagging_fraction=0.9638644755745807\n",
      "[LightGBM] [Warning] lambda_l2 is set=0.00026246830979293465, reg_lambda=0.0 will be ignored. Current value: lambda_l2=0.00026246830979293465\n",
      "[LightGBM] [Warning] lambda_l1 is set=1.1119081346025232, reg_alpha=0.0 will be ignored. Current value: lambda_l1=1.1119081346025232\n"
     ]
    },
    {
     "name": "stderr",
     "output_type": "stream",
     "text": [
      "\u001b[32m[I 2021-08-31 13:07:22,839]\u001b[0m Trial 173 finished with value: 2.5396508167781446 and parameters: {'lambda_l1': 1.1119081346025232, 'lambda_l2': 0.00026246830979293465, 'num_leaves': 169, 'feature_fraction': 0.4193672113950144, 'bagging_fraction': 0.9638644755745807, 'bagging_freq': 5, 'min_child_samples': 5}. Best is trial 129 with value: 2.531933697822227.\u001b[0m\n",
      "\u001b[32m[I 2021-08-31 13:07:22,961]\u001b[0m Trial 174 finished with value: 2.5487426776796265 and parameters: {'lambda_l1': 1.596905395862497, 'lambda_l2': 0.00010730145862074932, 'num_leaves': 150, 'feature_fraction': 0.4209065053526289, 'bagging_fraction': 0.9910135333863277, 'bagging_freq': 5, 'min_child_samples': 9}. Best is trial 129 with value: 2.531933697822227.\u001b[0m\n"
     ]
    },
    {
     "name": "stdout",
     "output_type": "stream",
     "text": [
      "[LightGBM] [Warning] bagging_freq is set=5, subsample_freq=0 will be ignored. Current value: bagging_freq=5\n",
      "[LightGBM] [Warning] feature_fraction is set=0.4209065053526289, colsample_bytree=1.0 will be ignored. Current value: feature_fraction=0.4209065053526289\n",
      "[LightGBM] [Warning] bagging_fraction is set=0.9910135333863277, subsample=1.0 will be ignored. Current value: bagging_fraction=0.9910135333863277\n",
      "[LightGBM] [Warning] lambda_l2 is set=0.00010730145862074932, reg_lambda=0.0 will be ignored. Current value: lambda_l2=0.00010730145862074932\n",
      "[LightGBM] [Warning] lambda_l1 is set=1.596905395862497, reg_alpha=0.0 will be ignored. Current value: lambda_l1=1.596905395862497\n",
      "[LightGBM] [Warning] bagging_freq is set=5, subsample_freq=0 will be ignored. Current value: bagging_freq=5\n",
      "[LightGBM] [Warning] feature_fraction is set=0.41009203580979453, colsample_bytree=1.0 will be ignored. Current value: feature_fraction=0.41009203580979453\n",
      "[LightGBM] [Warning] bagging_fraction is set=0.9995079136414424, subsample=1.0 will be ignored. Current value: bagging_fraction=0.9995079136414424\n",
      "[LightGBM] [Warning] lambda_l2 is set=0.00022503540653853336, reg_lambda=0.0 will be ignored. Current value: lambda_l2=0.00022503540653853336\n",
      "[LightGBM] [Warning] lambda_l1 is set=1.3850273746713317, reg_alpha=0.0 will be ignored. Current value: lambda_l1=1.3850273746713317\n"
     ]
    },
    {
     "name": "stderr",
     "output_type": "stream",
     "text": [
      "\u001b[32m[I 2021-08-31 13:07:23,093]\u001b[0m Trial 175 finished with value: 2.536403184718855 and parameters: {'lambda_l1': 1.3850273746713317, 'lambda_l2': 0.00022503540653853336, 'num_leaves': 162, 'feature_fraction': 0.41009203580979453, 'bagging_fraction': 0.9995079136414424, 'bagging_freq': 5, 'min_child_samples': 5}. Best is trial 129 with value: 2.531933697822227.\u001b[0m\n",
      "\u001b[32m[I 2021-08-31 13:07:23,221]\u001b[0m Trial 176 finished with value: 2.5334580509551254 and parameters: {'lambda_l1': 1.0827076814563539, 'lambda_l2': 0.00012384885653566707, 'num_leaves': 162, 'feature_fraction': 0.4088065557544877, 'bagging_fraction': 0.976170305525446, 'bagging_freq': 5, 'min_child_samples': 7}. Best is trial 129 with value: 2.531933697822227.\u001b[0m\n"
     ]
    },
    {
     "name": "stdout",
     "output_type": "stream",
     "text": [
      "[LightGBM] [Warning] bagging_freq is set=5, subsample_freq=0 will be ignored. Current value: bagging_freq=5\n",
      "[LightGBM] [Warning] feature_fraction is set=0.4088065557544877, colsample_bytree=1.0 will be ignored. Current value: feature_fraction=0.4088065557544877\n",
      "[LightGBM] [Warning] bagging_fraction is set=0.976170305525446, subsample=1.0 will be ignored. Current value: bagging_fraction=0.976170305525446\n",
      "[LightGBM] [Warning] lambda_l2 is set=0.00012384885653566707, reg_lambda=0.0 will be ignored. Current value: lambda_l2=0.00012384885653566707\n",
      "[LightGBM] [Warning] lambda_l1 is set=1.0827076814563539, reg_alpha=0.0 will be ignored. Current value: lambda_l1=1.0827076814563539\n",
      "[LightGBM] [Warning] bagging_freq is set=5, subsample_freq=0 will be ignored. Current value: bagging_freq=5\n",
      "[LightGBM] [Warning] feature_fraction is set=0.40958529559222, colsample_bytree=1.0 will be ignored. Current value: feature_fraction=0.40958529559222\n",
      "[LightGBM] [Warning] bagging_fraction is set=0.9760984053272255, subsample=1.0 will be ignored. Current value: bagging_fraction=0.9760984053272255\n",
      "[LightGBM] [Warning] lambda_l2 is set=0.00012270316191430653, reg_lambda=0.0 will be ignored. Current value: lambda_l2=0.00012270316191430653\n",
      "[LightGBM] [Warning] lambda_l1 is set=0.9386395200233095, reg_alpha=0.0 will be ignored. Current value: lambda_l1=0.9386395200233095\n"
     ]
    },
    {
     "name": "stderr",
     "output_type": "stream",
     "text": [
      "\u001b[32m[I 2021-08-31 13:07:23,357]\u001b[0m Trial 177 finished with value: 2.5341861770928253 and parameters: {'lambda_l1': 0.9386395200233095, 'lambda_l2': 0.00012270316191430653, 'num_leaves': 161, 'feature_fraction': 0.40958529559222, 'bagging_fraction': 0.9760984053272255, 'bagging_freq': 5, 'min_child_samples': 7}. Best is trial 129 with value: 2.531933697822227.\u001b[0m\n",
      "\u001b[32m[I 2021-08-31 13:07:23,484]\u001b[0m Trial 178 finished with value: 2.5469942470111055 and parameters: {'lambda_l1': 1.7536935016646915, 'lambda_l2': 0.00012447449645394877, 'num_leaves': 160, 'feature_fraction': 0.41132891285595613, 'bagging_fraction': 0.9945748279360376, 'bagging_freq': 5, 'min_child_samples': 8}. Best is trial 129 with value: 2.531933697822227.\u001b[0m\n"
     ]
    },
    {
     "name": "stdout",
     "output_type": "stream",
     "text": [
      "[LightGBM] [Warning] bagging_freq is set=5, subsample_freq=0 will be ignored. Current value: bagging_freq=5\n",
      "[LightGBM] [Warning] feature_fraction is set=0.41132891285595613, colsample_bytree=1.0 will be ignored. Current value: feature_fraction=0.41132891285595613\n",
      "[LightGBM] [Warning] bagging_fraction is set=0.9945748279360376, subsample=1.0 will be ignored. Current value: bagging_fraction=0.9945748279360376\n",
      "[LightGBM] [Warning] lambda_l2 is set=0.00012447449645394877, reg_lambda=0.0 will be ignored. Current value: lambda_l2=0.00012447449645394877\n",
      "[LightGBM] [Warning] lambda_l1 is set=1.7536935016646915, reg_alpha=0.0 will be ignored. Current value: lambda_l1=1.7536935016646915\n",
      "[LightGBM] [Warning] bagging_freq is set=5, subsample_freq=0 will be ignored. Current value: bagging_freq=5\n",
      "[LightGBM] [Warning] feature_fraction is set=0.40007022633115075, colsample_bytree=1.0 will be ignored. Current value: feature_fraction=0.40007022633115075\n",
      "[LightGBM] [Warning] bagging_fraction is set=0.9788712924666642, subsample=1.0 will be ignored. Current value: bagging_fraction=0.9788712924666642\n",
      "[LightGBM] [Warning] lambda_l2 is set=0.00043223223527221236, reg_lambda=0.0 will be ignored. Current value: lambda_l2=0.00043223223527221236\n",
      "[LightGBM] [Warning] lambda_l1 is set=0.8577821843319856, reg_alpha=0.0 will be ignored. Current value: lambda_l1=0.8577821843319856\n"
     ]
    },
    {
     "name": "stderr",
     "output_type": "stream",
     "text": [
      "\u001b[32m[I 2021-08-31 13:07:23,628]\u001b[0m Trial 179 finished with value: 2.546902492061059 and parameters: {'lambda_l1': 0.8577821843319856, 'lambda_l2': 0.00043223223527221236, 'num_leaves': 161, 'feature_fraction': 0.40007022633115075, 'bagging_fraction': 0.9788712924666642, 'bagging_freq': 5, 'min_child_samples': 10}. Best is trial 129 with value: 2.531933697822227.\u001b[0m\n",
      "\u001b[32m[I 2021-08-31 13:07:23,744]\u001b[0m Trial 180 finished with value: 2.547199767115539 and parameters: {'lambda_l1': 5.37624250852157, 'lambda_l2': 0.0002360663364364984, 'num_leaves': 150, 'feature_fraction': 0.4000547143936297, 'bagging_fraction': 0.999755719099774, 'bagging_freq': 5, 'min_child_samples': 7}. Best is trial 129 with value: 2.531933697822227.\u001b[0m\n"
     ]
    },
    {
     "name": "stdout",
     "output_type": "stream",
     "text": [
      "[LightGBM] [Warning] bagging_freq is set=5, subsample_freq=0 will be ignored. Current value: bagging_freq=5\n",
      "[LightGBM] [Warning] feature_fraction is set=0.4000547143936297, colsample_bytree=1.0 will be ignored. Current value: feature_fraction=0.4000547143936297\n",
      "[LightGBM] [Warning] bagging_fraction is set=0.999755719099774, subsample=1.0 will be ignored. Current value: bagging_fraction=0.999755719099774\n",
      "[LightGBM] [Warning] lambda_l2 is set=0.0002360663364364984, reg_lambda=0.0 will be ignored. Current value: lambda_l2=0.0002360663364364984\n",
      "[LightGBM] [Warning] lambda_l1 is set=5.37624250852157, reg_alpha=0.0 will be ignored. Current value: lambda_l1=5.37624250852157\n",
      "[LightGBM] [Warning] bagging_freq is set=5, subsample_freq=0 will be ignored. Current value: bagging_freq=5\n",
      "[LightGBM] [Warning] feature_fraction is set=0.4133185272111099, colsample_bytree=1.0 will be ignored. Current value: feature_fraction=0.4133185272111099\n",
      "[LightGBM] [Warning] bagging_fraction is set=0.9737397481502738, subsample=1.0 will be ignored. Current value: bagging_fraction=0.9737397481502738\n",
      "[LightGBM] [Warning] lambda_l2 is set=0.00010014499493931736, reg_lambda=0.0 will be ignored. Current value: lambda_l2=0.00010014499493931736\n",
      "[LightGBM] [Warning] lambda_l1 is set=1.0133775244756211, reg_alpha=0.0 will be ignored. Current value: lambda_l1=1.0133775244756211\n"
     ]
    },
    {
     "name": "stderr",
     "output_type": "stream",
     "text": [
      "\u001b[32m[I 2021-08-31 13:07:23,880]\u001b[0m Trial 181 finished with value: 2.541462894509871 and parameters: {'lambda_l1': 1.0133775244756211, 'lambda_l2': 0.00010014499493931736, 'num_leaves': 165, 'feature_fraction': 0.4133185272111099, 'bagging_fraction': 0.9737397481502738, 'bagging_freq': 5, 'min_child_samples': 6}. Best is trial 129 with value: 2.531933697822227.\u001b[0m\n",
      "\u001b[32m[I 2021-08-31 13:07:24,012]\u001b[0m Trial 182 finished with value: 2.534920366086932 and parameters: {'lambda_l1': 1.1792311092424173, 'lambda_l2': 0.00032539993100086465, 'num_leaves': 170, 'feature_fraction': 0.4210504283214989, 'bagging_fraction': 0.999876508296501, 'bagging_freq': 5, 'min_child_samples': 5}. Best is trial 129 with value: 2.531933697822227.\u001b[0m\n"
     ]
    },
    {
     "name": "stdout",
     "output_type": "stream",
     "text": [
      "[LightGBM] [Warning] bagging_freq is set=5, subsample_freq=0 will be ignored. Current value: bagging_freq=5\n",
      "[LightGBM] [Warning] feature_fraction is set=0.4210504283214989, colsample_bytree=1.0 will be ignored. Current value: feature_fraction=0.4210504283214989\n",
      "[LightGBM] [Warning] bagging_fraction is set=0.999876508296501, subsample=1.0 will be ignored. Current value: bagging_fraction=0.999876508296501\n",
      "[LightGBM] [Warning] lambda_l2 is set=0.00032539993100086465, reg_lambda=0.0 will be ignored. Current value: lambda_l2=0.00032539993100086465\n",
      "[LightGBM] [Warning] lambda_l1 is set=1.1792311092424173, reg_alpha=0.0 will be ignored. Current value: lambda_l1=1.1792311092424173\n",
      "[LightGBM] [Warning] bagging_freq is set=5, subsample_freq=0 will be ignored. Current value: bagging_freq=5\n",
      "[LightGBM] [Warning] feature_fraction is set=0.41112681756902614, colsample_bytree=1.0 will be ignored. Current value: feature_fraction=0.41112681756902614\n",
      "[LightGBM] [Warning] bagging_fraction is set=0.9993789847883254, subsample=1.0 will be ignored. Current value: bagging_fraction=0.9993789847883254\n",
      "[LightGBM] [Warning] lambda_l2 is set=0.0001694992739182912, reg_lambda=0.0 will be ignored. Current value: lambda_l2=0.0001694992739182912\n",
      "[LightGBM] [Warning] lambda_l1 is set=1.975517499078009, reg_alpha=0.0 will be ignored. Current value: lambda_l1=1.975517499078009\n"
     ]
    },
    {
     "name": "stderr",
     "output_type": "stream",
     "text": [
      "\u001b[32m[I 2021-08-31 13:07:24,140]\u001b[0m Trial 183 finished with value: 2.5380573253048277 and parameters: {'lambda_l1': 1.975517499078009, 'lambda_l2': 0.0001694992739182912, 'num_leaves': 171, 'feature_fraction': 0.41112681756902614, 'bagging_fraction': 0.9993789847883254, 'bagging_freq': 5, 'min_child_samples': 7}. Best is trial 129 with value: 2.531933697822227.\u001b[0m\n",
      "\u001b[32m[I 2021-08-31 13:07:24,270]\u001b[0m Trial 184 finished with value: 2.5815942058119012 and parameters: {'lambda_l1': 3.727211791740296, 'lambda_l2': 8.501079002126629e-05, 'num_leaves': 158, 'feature_fraction': 0.4426132442755561, 'bagging_fraction': 0.9845041036878224, 'bagging_freq': 5, 'min_child_samples': 8}. Best is trial 129 with value: 2.531933697822227.\u001b[0m\n"
     ]
    },
    {
     "name": "stdout",
     "output_type": "stream",
     "text": [
      "[LightGBM] [Warning] bagging_freq is set=5, subsample_freq=0 will be ignored. Current value: bagging_freq=5\n",
      "[LightGBM] [Warning] feature_fraction is set=0.4426132442755561, colsample_bytree=1.0 will be ignored. Current value: feature_fraction=0.4426132442755561\n",
      "[LightGBM] [Warning] bagging_fraction is set=0.9845041036878224, subsample=1.0 will be ignored. Current value: bagging_fraction=0.9845041036878224\n",
      "[LightGBM] [Warning] lambda_l2 is set=8.501079002126629e-05, reg_lambda=0.0 will be ignored. Current value: lambda_l2=8.501079002126629e-05\n",
      "[LightGBM] [Warning] lambda_l1 is set=3.727211791740296, reg_alpha=0.0 will be ignored. Current value: lambda_l1=3.727211791740296\n",
      "[LightGBM] [Warning] bagging_freq is set=5, subsample_freq=0 will be ignored. Current value: bagging_freq=5\n",
      "[LightGBM] [Warning] feature_fraction is set=0.42388794652888934, colsample_bytree=1.0 will be ignored. Current value: feature_fraction=0.42388794652888934\n",
      "[LightGBM] [Warning] bagging_fraction is set=0.9892462636493679, subsample=1.0 will be ignored. Current value: bagging_fraction=0.9892462636493679\n",
      "[LightGBM] [Warning] lambda_l2 is set=4.890847477298348e-05, reg_lambda=0.0 will be ignored. Current value: lambda_l2=4.890847477298348e-05\n",
      "[LightGBM] [Warning] lambda_l1 is set=0.5804335980538224, reg_alpha=0.0 will be ignored. Current value: lambda_l1=0.5804335980538224\n"
     ]
    },
    {
     "name": "stderr",
     "output_type": "stream",
     "text": [
      "\u001b[32m[I 2021-08-31 13:07:24,408]\u001b[0m Trial 185 finished with value: 2.5650625687376043 and parameters: {'lambda_l1': 0.5804335980538224, 'lambda_l2': 4.890847477298348e-05, 'num_leaves': 142, 'feature_fraction': 0.42388794652888934, 'bagging_fraction': 0.9892462636493679, 'bagging_freq': 5, 'min_child_samples': 11}. Best is trial 129 with value: 2.531933697822227.\u001b[0m\n",
      "\u001b[32m[I 2021-08-31 13:07:24,620]\u001b[0m Trial 186 finished with value: 2.6524288533858384 and parameters: {'lambda_l1': 0.3497576313132148, 'lambda_l2': 0.00036681305856515046, 'num_leaves': 169, 'feature_fraction': 0.9556314282211646, 'bagging_fraction': 0.9780234272490882, 'bagging_freq': 5, 'min_child_samples': 5}. Best is trial 129 with value: 2.531933697822227.\u001b[0m\n"
     ]
    },
    {
     "name": "stdout",
     "output_type": "stream",
     "text": [
      "[LightGBM] [Warning] bagging_freq is set=5, subsample_freq=0 will be ignored. Current value: bagging_freq=5\n",
      "[LightGBM] [Warning] feature_fraction is set=0.9556314282211646, colsample_bytree=1.0 will be ignored. Current value: feature_fraction=0.9556314282211646\n",
      "[LightGBM] [Warning] bagging_fraction is set=0.9780234272490882, subsample=1.0 will be ignored. Current value: bagging_fraction=0.9780234272490882\n",
      "[LightGBM] [Warning] lambda_l2 is set=0.00036681305856515046, reg_lambda=0.0 will be ignored. Current value: lambda_l2=0.00036681305856515046\n",
      "[LightGBM] [Warning] lambda_l1 is set=0.3497576313132148, reg_alpha=0.0 will be ignored. Current value: lambda_l1=0.3497576313132148\n"
     ]
    },
    {
     "name": "stderr",
     "output_type": "stream",
     "text": [
      "\u001b[32m[I 2021-08-31 13:07:24,750]\u001b[0m Trial 187 finished with value: 2.542020126379138 and parameters: {'lambda_l1': 1.4977020785004096, 'lambda_l2': 0.00017942049427575627, 'num_leaves': 173, 'feature_fraction': 0.4360683832117251, 'bagging_fraction': 0.9706715631137968, 'bagging_freq': 5, 'min_child_samples': 9}. Best is trial 129 with value: 2.531933697822227.\u001b[0m\n"
     ]
    },
    {
     "name": "stdout",
     "output_type": "stream",
     "text": [
      "[LightGBM] [Warning] bagging_freq is set=5, subsample_freq=0 will be ignored. Current value: bagging_freq=5\n",
      "[LightGBM] [Warning] feature_fraction is set=0.4360683832117251, colsample_bytree=1.0 will be ignored. Current value: feature_fraction=0.4360683832117251\n",
      "[LightGBM] [Warning] bagging_fraction is set=0.9706715631137968, subsample=1.0 will be ignored. Current value: bagging_fraction=0.9706715631137968\n",
      "[LightGBM] [Warning] lambda_l2 is set=0.00017942049427575627, reg_lambda=0.0 will be ignored. Current value: lambda_l2=0.00017942049427575627\n",
      "[LightGBM] [Warning] lambda_l1 is set=1.4977020785004096, reg_alpha=0.0 will be ignored. Current value: lambda_l1=1.4977020785004096\n",
      "[LightGBM] [Warning] bagging_freq is set=5, subsample_freq=0 will be ignored. Current value: bagging_freq=5\n",
      "[LightGBM] [Warning] feature_fraction is set=0.4515854980822504, colsample_bytree=1.0 will be ignored. Current value: feature_fraction=0.4515854980822504\n",
      "[LightGBM] [Warning] bagging_fraction is set=0.9977855111816112, subsample=1.0 will be ignored. Current value: bagging_fraction=0.9977855111816112\n",
      "[LightGBM] [Warning] lambda_l2 is set=1.4832210186718888e-05, reg_lambda=0.0 will be ignored. Current value: lambda_l2=1.4832210186718888e-05\n",
      "[LightGBM] [Warning] lambda_l1 is set=0.927450752449307, reg_alpha=0.0 will be ignored. Current value: lambda_l1=0.927450752449307\n"
     ]
    },
    {
     "name": "stderr",
     "output_type": "stream",
     "text": [
      "\u001b[32m[I 2021-08-31 13:07:24,915]\u001b[0m Trial 188 finished with value: 2.575849735944021 and parameters: {'lambda_l1': 0.927450752449307, 'lambda_l2': 1.4832210186718888e-05, 'num_leaves': 154, 'feature_fraction': 0.4515854980822504, 'bagging_fraction': 0.9977855111816112, 'bagging_freq': 5, 'min_child_samples': 5}. Best is trial 129 with value: 2.531933697822227.\u001b[0m\n",
      "\u001b[32m[I 2021-08-31 13:07:25,044]\u001b[0m Trial 189 finished with value: 2.539819169692126 and parameters: {'lambda_l1': 2.2606937487187153, 'lambda_l2': 6.95384189972234e-05, 'num_leaves': 165, 'feature_fraction': 0.40956392588020635, 'bagging_fraction': 0.9864523747789202, 'bagging_freq': 5, 'min_child_samples': 7}. Best is trial 129 with value: 2.531933697822227.\u001b[0m\n"
     ]
    },
    {
     "name": "stdout",
     "output_type": "stream",
     "text": [
      "[LightGBM] [Warning] bagging_freq is set=5, subsample_freq=0 will be ignored. Current value: bagging_freq=5\n",
      "[LightGBM] [Warning] feature_fraction is set=0.40956392588020635, colsample_bytree=1.0 will be ignored. Current value: feature_fraction=0.40956392588020635\n",
      "[LightGBM] [Warning] bagging_fraction is set=0.9864523747789202, subsample=1.0 will be ignored. Current value: bagging_fraction=0.9864523747789202\n",
      "[LightGBM] [Warning] lambda_l2 is set=6.95384189972234e-05, reg_lambda=0.0 will be ignored. Current value: lambda_l2=6.95384189972234e-05\n",
      "[LightGBM] [Warning] lambda_l1 is set=2.2606937487187153, reg_alpha=0.0 will be ignored. Current value: lambda_l1=2.2606937487187153\n",
      "[LightGBM] [Warning] bagging_freq is set=5, subsample_freq=0 will be ignored. Current value: bagging_freq=5\n",
      "[LightGBM] [Warning] feature_fraction is set=0.4001710560782054, colsample_bytree=1.0 will be ignored. Current value: feature_fraction=0.4001710560782054\n",
      "[LightGBM] [Warning] bagging_fraction is set=0.9482511906651239, subsample=1.0 will be ignored. Current value: bagging_fraction=0.9482511906651239\n",
      "[LightGBM] [Warning] lambda_l2 is set=4.7372781508895186e-07, reg_lambda=0.0 will be ignored. Current value: lambda_l2=4.7372781508895186e-07\n",
      "[LightGBM] [Warning] lambda_l1 is set=0.6762445596620077, reg_alpha=0.0 will be ignored. Current value: lambda_l1=0.6762445596620077\n"
     ]
    },
    {
     "name": "stderr",
     "output_type": "stream",
     "text": [
      "\u001b[32m[I 2021-08-31 13:07:25,179]\u001b[0m Trial 190 finished with value: 2.5509539826485033 and parameters: {'lambda_l1': 0.6762445596620077, 'lambda_l2': 4.7372781508895186e-07, 'num_leaves': 162, 'feature_fraction': 0.4001710560782054, 'bagging_fraction': 0.9482511906651239, 'bagging_freq': 5, 'min_child_samples': 9}. Best is trial 129 with value: 2.531933697822227.\u001b[0m\n",
      "\u001b[32m[I 2021-08-31 13:07:25,311]\u001b[0m Trial 191 finished with value: 2.5367364540870767 and parameters: {'lambda_l1': 1.149470612174785, 'lambda_l2': 1.5194894788393372e-06, 'num_leaves': 166, 'feature_fraction': 0.42130450931718944, 'bagging_fraction': 0.9664039205456355, 'bagging_freq': 5, 'min_child_samples': 5}. Best is trial 129 with value: 2.531933697822227.\u001b[0m\n"
     ]
    },
    {
     "name": "stdout",
     "output_type": "stream",
     "text": [
      "[LightGBM] [Warning] bagging_freq is set=5, subsample_freq=0 will be ignored. Current value: bagging_freq=5\n",
      "[LightGBM] [Warning] feature_fraction is set=0.42130450931718944, colsample_bytree=1.0 will be ignored. Current value: feature_fraction=0.42130450931718944\n",
      "[LightGBM] [Warning] bagging_fraction is set=0.9664039205456355, subsample=1.0 will be ignored. Current value: bagging_fraction=0.9664039205456355\n",
      "[LightGBM] [Warning] lambda_l2 is set=1.5194894788393372e-06, reg_lambda=0.0 will be ignored. Current value: lambda_l2=1.5194894788393372e-06\n",
      "[LightGBM] [Warning] lambda_l1 is set=1.149470612174785, reg_alpha=0.0 will be ignored. Current value: lambda_l1=1.149470612174785\n",
      "[LightGBM] [Warning] bagging_freq is set=5, subsample_freq=0 will be ignored. Current value: bagging_freq=5\n",
      "[LightGBM] [Warning] feature_fraction is set=0.4254719974093804, colsample_bytree=1.0 will be ignored. Current value: feature_fraction=0.4254719974093804\n",
      "[LightGBM] [Warning] bagging_fraction is set=0.9630333003043324, subsample=1.0 will be ignored. Current value: bagging_fraction=0.9630333003043324\n",
      "[LightGBM] [Warning] lambda_l2 is set=1.6059047851258592e-06, reg_lambda=0.0 will be ignored. Current value: lambda_l2=1.6059047851258592e-06\n",
      "[LightGBM] [Warning] lambda_l1 is set=1.370811454032715, reg_alpha=0.0 will be ignored. Current value: lambda_l1=1.370811454032715\n"
     ]
    },
    {
     "name": "stderr",
     "output_type": "stream",
     "text": [
      "\u001b[32m[I 2021-08-31 13:07:25,449]\u001b[0m Trial 192 finished with value: 2.540716868856968 and parameters: {'lambda_l1': 1.370811454032715, 'lambda_l2': 1.6059047851258592e-06, 'num_leaves': 172, 'feature_fraction': 0.4254719974093804, 'bagging_fraction': 0.9630333003043324, 'bagging_freq': 5, 'min_child_samples': 6}. Best is trial 129 with value: 2.531933697822227.\u001b[0m\n",
      "\u001b[32m[I 2021-08-31 13:07:25,570]\u001b[0m Trial 193 finished with value: 2.538389958844359 and parameters: {'lambda_l1': 3.103768205008279, 'lambda_l2': 0.0005781528575220609, 'num_leaves': 179, 'feature_fraction': 0.41835737242248217, 'bagging_fraction': 0.9999900993371036, 'bagging_freq': 5, 'min_child_samples': 5}. Best is trial 129 with value: 2.531933697822227.\u001b[0m\n"
     ]
    },
    {
     "name": "stdout",
     "output_type": "stream",
     "text": [
      "[LightGBM] [Warning] bagging_freq is set=5, subsample_freq=0 will be ignored. Current value: bagging_freq=5\n",
      "[LightGBM] [Warning] feature_fraction is set=0.41835737242248217, colsample_bytree=1.0 will be ignored. Current value: feature_fraction=0.41835737242248217\n",
      "[LightGBM] [Warning] bagging_fraction is set=0.9999900993371036, subsample=1.0 will be ignored. Current value: bagging_fraction=0.9999900993371036\n",
      "[LightGBM] [Warning] lambda_l2 is set=0.0005781528575220609, reg_lambda=0.0 will be ignored. Current value: lambda_l2=0.0005781528575220609\n",
      "[LightGBM] [Warning] lambda_l1 is set=3.103768205008279, reg_alpha=0.0 will be ignored. Current value: lambda_l1=3.103768205008279\n",
      "[LightGBM] [Warning] bagging_freq is set=5, subsample_freq=0 will be ignored. Current value: bagging_freq=5\n",
      "[LightGBM] [Warning] feature_fraction is set=0.4355090956568196, colsample_bytree=1.0 will be ignored. Current value: feature_fraction=0.4355090956568196\n",
      "[LightGBM] [Warning] bagging_fraction is set=0.9776574122455125, subsample=1.0 will be ignored. Current value: bagging_fraction=0.9776574122455125\n",
      "[LightGBM] [Warning] lambda_l2 is set=0.0001369068509268357, reg_lambda=0.0 will be ignored. Current value: lambda_l2=0.0001369068509268357\n",
      "[LightGBM] [Warning] lambda_l1 is set=1.033757324652144, reg_alpha=0.0 will be ignored. Current value: lambda_l1=1.033757324652144\n"
     ]
    },
    {
     "name": "stderr",
     "output_type": "stream",
     "text": [
      "\u001b[32m[I 2021-08-31 13:07:25,703]\u001b[0m Trial 194 finished with value: 2.533573274826227 and parameters: {'lambda_l1': 1.033757324652144, 'lambda_l2': 0.0001369068509268357, 'num_leaves': 146, 'feature_fraction': 0.4355090956568196, 'bagging_fraction': 0.9776574122455125, 'bagging_freq': 5, 'min_child_samples': 7}. Best is trial 129 with value: 2.531933697822227.\u001b[0m\n",
      "\u001b[32m[I 2021-08-31 13:07:25,854]\u001b[0m Trial 195 finished with value: 2.578171634690646 and parameters: {'lambda_l1': 1.0194487157622283, 'lambda_l2': 0.00011469311507503528, 'num_leaves': 146, 'feature_fraction': 0.4383942351879003, 'bagging_fraction': 0.9777184194627394, 'bagging_freq': 5, 'min_child_samples': 7}. Best is trial 129 with value: 2.531933697822227.\u001b[0m\n"
     ]
    },
    {
     "name": "stdout",
     "output_type": "stream",
     "text": [
      "[LightGBM] [Warning] bagging_freq is set=5, subsample_freq=0 will be ignored. Current value: bagging_freq=5\n",
      "[LightGBM] [Warning] feature_fraction is set=0.4383942351879003, colsample_bytree=1.0 will be ignored. Current value: feature_fraction=0.4383942351879003\n",
      "[LightGBM] [Warning] bagging_fraction is set=0.9777184194627394, subsample=1.0 will be ignored. Current value: bagging_fraction=0.9777184194627394\n",
      "[LightGBM] [Warning] lambda_l2 is set=0.00011469311507503528, reg_lambda=0.0 will be ignored. Current value: lambda_l2=0.00011469311507503528\n",
      "[LightGBM] [Warning] lambda_l1 is set=1.0194487157622283, reg_alpha=0.0 will be ignored. Current value: lambda_l1=1.0194487157622283\n",
      "[LightGBM] [Warning] bagging_freq is set=5, subsample_freq=0 will be ignored. Current value: bagging_freq=5\n",
      "[LightGBM] [Warning] feature_fraction is set=0.40856619956401385, colsample_bytree=1.0 will be ignored. Current value: feature_fraction=0.40856619956401385\n",
      "[LightGBM] [Warning] bagging_fraction is set=0.9997431009669151, subsample=1.0 will be ignored. Current value: bagging_fraction=0.9997431009669151\n",
      "[LightGBM] [Warning] lambda_l2 is set=4.183540493107634e-05, reg_lambda=0.0 will be ignored. Current value: lambda_l2=4.183540493107634e-05\n",
      "[LightGBM] [Warning] lambda_l1 is set=1.4411060633094086, reg_alpha=0.0 will be ignored. Current value: lambda_l1=1.4411060633094086\n"
     ]
    },
    {
     "name": "stderr",
     "output_type": "stream",
     "text": [
      "\u001b[32m[I 2021-08-31 13:07:25,991]\u001b[0m Trial 196 finished with value: 2.5707288346005637 and parameters: {'lambda_l1': 1.4411060633094086, 'lambda_l2': 4.183540493107634e-05, 'num_leaves': 158, 'feature_fraction': 0.40856619956401385, 'bagging_fraction': 0.9997431009669151, 'bagging_freq': 5, 'min_child_samples': 11}. Best is trial 129 with value: 2.531933697822227.\u001b[0m\n",
      "\u001b[32m[I 2021-08-31 13:07:26,143]\u001b[0m Trial 197 finished with value: 2.6069739467521087 and parameters: {'lambda_l1': 0.6382808006375383, 'lambda_l2': 0.00030087938527746894, 'num_leaves': 138, 'feature_fraction': 0.45327526655975114, 'bagging_fraction': 0.9886411474955034, 'bagging_freq': 5, 'min_child_samples': 9}. Best is trial 129 with value: 2.531933697822227.\u001b[0m\n"
     ]
    },
    {
     "name": "stdout",
     "output_type": "stream",
     "text": [
      "[LightGBM] [Warning] bagging_freq is set=5, subsample_freq=0 will be ignored. Current value: bagging_freq=5\n",
      "[LightGBM] [Warning] feature_fraction is set=0.45327526655975114, colsample_bytree=1.0 will be ignored. Current value: feature_fraction=0.45327526655975114\n",
      "[LightGBM] [Warning] bagging_fraction is set=0.9886411474955034, subsample=1.0 will be ignored. Current value: bagging_fraction=0.9886411474955034\n",
      "[LightGBM] [Warning] lambda_l2 is set=0.00030087938527746894, reg_lambda=0.0 will be ignored. Current value: lambda_l2=0.00030087938527746894\n",
      "[LightGBM] [Warning] lambda_l1 is set=0.6382808006375383, reg_alpha=0.0 will be ignored. Current value: lambda_l1=0.6382808006375383\n",
      "[LightGBM] [Warning] bagging_freq is set=5, subsample_freq=0 will be ignored. Current value: bagging_freq=5\n",
      "[LightGBM] [Warning] feature_fraction is set=0.43516216847145367, colsample_bytree=1.0 will be ignored. Current value: feature_fraction=0.43516216847145367\n",
      "[LightGBM] [Warning] bagging_fraction is set=0.956572175862579, subsample=1.0 will be ignored. Current value: bagging_fraction=0.956572175862579\n",
      "[LightGBM] [Warning] lambda_l2 is set=0.00016365603658042609, reg_lambda=0.0 will be ignored. Current value: lambda_l2=0.00016365603658042609\n",
      "[LightGBM] [Warning] lambda_l1 is set=0.3219087448765091, reg_alpha=0.0 will be ignored. Current value: lambda_l1=0.3219087448765091\n"
     ]
    },
    {
     "name": "stderr",
     "output_type": "stream",
     "text": [
      "\u001b[32m[I 2021-08-31 13:07:26,285]\u001b[0m Trial 198 finished with value: 2.547136890595558 and parameters: {'lambda_l1': 0.3219087448765091, 'lambda_l2': 0.00016365603658042609, 'num_leaves': 150, 'feature_fraction': 0.43516216847145367, 'bagging_fraction': 0.956572175862579, 'bagging_freq': 5, 'min_child_samples': 7}. Best is trial 129 with value: 2.531933697822227.\u001b[0m\n",
      "\u001b[32m[I 2021-08-31 13:07:26,423]\u001b[0m Trial 199 finished with value: 2.532167917942557 and parameters: {'lambda_l1': 0.8384571815144879, 'lambda_l2': 0.00025029694554027244, 'num_leaves': 169, 'feature_fraction': 0.419097261868845, 'bagging_fraction': 0.974744879804673, 'bagging_freq': 5, 'min_child_samples': 5}. Best is trial 129 with value: 2.531933697822227.\u001b[0m\n"
     ]
    },
    {
     "name": "stdout",
     "output_type": "stream",
     "text": [
      "[LightGBM] [Warning] bagging_freq is set=5, subsample_freq=0 will be ignored. Current value: bagging_freq=5\n",
      "[LightGBM] [Warning] feature_fraction is set=0.419097261868845, colsample_bytree=1.0 will be ignored. Current value: feature_fraction=0.419097261868845\n",
      "[LightGBM] [Warning] bagging_fraction is set=0.974744879804673, subsample=1.0 will be ignored. Current value: bagging_fraction=0.974744879804673\n",
      "[LightGBM] [Warning] lambda_l2 is set=0.00025029694554027244, reg_lambda=0.0 will be ignored. Current value: lambda_l2=0.00025029694554027244\n",
      "[LightGBM] [Warning] lambda_l1 is set=0.8384571815144879, reg_alpha=0.0 will be ignored. Current value: lambda_l1=0.8384571815144879\n",
      "Number of finished trials: 200\n",
      "Best trial: {'lambda_l1': 1.6221791729724848, 'lambda_l2': 1.30720522088146e-06, 'num_leaves': 182, 'feature_fraction': 0.43283266317298674, 'bagging_fraction': 0.9795305379659173, 'bagging_freq': 5, 'min_child_samples': 5}\n"
     ]
    }
   ],
   "source": [
    "study = optuna.create_study(direction='minimize')\n",
    "study.optimize(lgbm_objective, n_trials=200)\n",
    "print('Number of finished trials:', len(study.trials))\n",
    "print('Best trial:', study.best_trial.params)"
   ]
  },
  {
   "cell_type": "code",
   "execution_count": 17,
   "id": "0a7d7e67",
   "metadata": {
    "execution": {
     "iopub.execute_input": "2021-08-31T13:07:26.805097Z",
     "iopub.status.busy": "2021-08-31T13:07:26.804518Z",
     "iopub.status.idle": "2021-08-31T13:07:28.707977Z",
     "shell.execute_reply": "2021-08-31T13:07:28.708968Z",
     "shell.execute_reply.started": "2021-08-30T14:18:51.70153Z"
    },
    "papermill": {
     "duration": 2.074006,
     "end_time": "2021-08-31T13:07:28.709143",
     "exception": false,
     "start_time": "2021-08-31T13:07:26.635137",
     "status": "completed"
    },
    "tags": []
   },
   "outputs": [
    {
     "name": "stdout",
     "output_type": "stream",
     "text": [
      "2.6143834242346693\n"
     ]
    }
   ],
   "source": [
    "best_params = {'lambda': 0.005741219280777098, \n",
    "               'alpha': 2.1759591892131596, \n",
    "               'colsample_bytree': 0.7, \n",
    "               'subsample': 0.7, \n",
    "               'learning_rate': 0.02, \n",
    "               'n_estimators': 3000, \n",
    "               'max_depth': 17, \n",
    "               'min_child_weight': 49}\n",
    "model = XGBRegressor(**best_params)  \n",
    "    \n",
    "model.fit(X_train,y_train,eval_set=[(X_val,y_val)],early_stopping_rounds=100,verbose=False)\n",
    "\n",
    "preds = model.predict(X_val)\n",
    "\n",
    "mae = mean_absolute_error(y_val, preds)\n",
    "\n",
    "print(mae)"
   ]
  },
  {
   "cell_type": "code",
   "execution_count": 18,
   "id": "1a08ef2a",
   "metadata": {
    "execution": {
     "iopub.execute_input": "2021-08-31T13:07:29.033110Z",
     "iopub.status.busy": "2021-08-31T13:07:29.032238Z",
     "iopub.status.idle": "2021-08-31T13:07:29.153527Z",
     "shell.execute_reply": "2021-08-31T13:07:29.154449Z",
     "shell.execute_reply.started": "2021-08-31T12:36:48.439646Z"
    },
    "papermill": {
     "duration": 0.284637,
     "end_time": "2021-08-31T13:07:29.154633",
     "exception": false,
     "start_time": "2021-08-31T13:07:28.869996",
     "status": "completed"
    },
    "tags": []
   },
   "outputs": [
    {
     "name": "stdout",
     "output_type": "stream",
     "text": [
      "[LightGBM] [Warning] feature_fraction is set=0.42972618195865353, colsample_bytree=1.0 will be ignored. Current value: feature_fraction=0.42972618195865353\n",
      "[LightGBM] [Warning] lambda_l2 is set=2.0633166117061854e-06, reg_lambda=0.0 will be ignored. Current value: lambda_l2=2.0633166117061854e-06\n",
      "[LightGBM] [Warning] lambda_l1 is set=0.031412754431276696, reg_alpha=0.0 will be ignored. Current value: lambda_l1=0.031412754431276696\n",
      "[LightGBM] [Warning] bagging_fraction is set=0.7334168518029209, subsample=1.0 will be ignored. Current value: bagging_fraction=0.7334168518029209\n",
      "[LightGBM] [Warning] bagging_freq is set=3, subsample_freq=0 will be ignored. Current value: bagging_freq=3\n",
      "2.5257972584550665\n"
     ]
    }
   ],
   "source": [
    "lgbm_params = {'lambda_l1': 0.031412754431276696, \n",
    "               'lambda_l2': 2.0633166117061854e-06, \n",
    "               'num_leaves': 163, \n",
    "               'feature_fraction': 0.42972618195865353, \n",
    "               'bagging_fraction': 0.7334168518029209, \n",
    "               'bagging_freq': 3, \n",
    "               'min_child_samples': 5}\n",
    "\n",
    "model = LGBMRegressor(**lgbm_params)  \n",
    "    \n",
    "model.fit(X_train,y_train,eval_set=[(X_val,y_val)],early_stopping_rounds=100,verbose=False)\n",
    "\n",
    "preds = model.predict(X_val)\n",
    "\n",
    "mae = mean_absolute_error(y_val, preds)\n",
    "\n",
    "print(mae)"
   ]
  },
  {
   "cell_type": "markdown",
   "id": "95ebf5a8",
   "metadata": {
    "papermill": {
     "duration": 0.155432,
     "end_time": "2021-08-31T13:07:29.472194",
     "exception": false,
     "start_time": "2021-08-31T13:07:29.316762",
     "status": "completed"
    },
    "tags": []
   },
   "source": [
    "### Model predict & submission"
   ]
  },
  {
   "cell_type": "code",
   "execution_count": 19,
   "id": "1bdda9b2",
   "metadata": {
    "execution": {
     "iopub.execute_input": "2021-08-31T13:07:29.797506Z",
     "iopub.status.busy": "2021-08-31T13:07:29.796761Z",
     "iopub.status.idle": "2021-08-31T13:07:29.801449Z",
     "shell.execute_reply": "2021-08-31T13:07:29.801846Z",
     "shell.execute_reply.started": "2021-08-31T12:36:58.759857Z"
    },
    "papermill": {
     "duration": 0.174494,
     "end_time": "2021-08-31T13:07:29.802016",
     "exception": false,
     "start_time": "2021-08-31T13:07:29.627522",
     "status": "completed"
    },
    "tags": []
   },
   "outputs": [],
   "source": [
    "result = model.predict(label_test)"
   ]
  },
  {
   "cell_type": "code",
   "execution_count": 20,
   "id": "536d29a1",
   "metadata": {
    "execution": {
     "iopub.execute_input": "2021-08-31T13:07:30.127528Z",
     "iopub.status.busy": "2021-08-31T13:07:30.126458Z",
     "iopub.status.idle": "2021-08-31T13:07:30.129404Z",
     "shell.execute_reply": "2021-08-31T13:07:30.128946Z",
     "shell.execute_reply.started": "2021-08-31T12:36:59.194067Z"
    },
    "papermill": {
     "duration": 0.168264,
     "end_time": "2021-08-31T13:07:30.129519",
     "exception": false,
     "start_time": "2021-08-31T13:07:29.961255",
     "status": "completed"
    },
    "tags": []
   },
   "outputs": [],
   "source": [
    "submission = pd.DataFrame(result,columns=[\"pretest\"], index=label_test.index)"
   ]
  },
  {
   "cell_type": "code",
   "execution_count": 21,
   "id": "03ad1b7b",
   "metadata": {
    "execution": {
     "iopub.execute_input": "2021-08-31T13:07:30.456602Z",
     "iopub.status.busy": "2021-08-31T13:07:30.455713Z",
     "iopub.status.idle": "2021-08-31T13:07:30.462694Z",
     "shell.execute_reply": "2021-08-31T13:07:30.462246Z",
     "shell.execute_reply.started": "2021-08-31T12:37:03.274973Z"
    },
    "papermill": {
     "duration": 0.168788,
     "end_time": "2021-08-31T13:07:30.462841",
     "exception": false,
     "start_time": "2021-08-31T13:07:30.294053",
     "status": "completed"
    },
    "tags": []
   },
   "outputs": [],
   "source": [
    "submission.to_csv(\"submission_optuna_lgbm.csv\")"
   ]
  }
 ],
 "metadata": {
  "kernelspec": {
   "display_name": "Python 3",
   "language": "python",
   "name": "python3"
  },
  "language_info": {
   "codemirror_mode": {
    "name": "ipython",
    "version": 3
   },
   "file_extension": ".py",
   "mimetype": "text/x-python",
   "name": "python",
   "nbconvert_exporter": "python",
   "pygments_lexer": "ipython3",
   "version": "3.7.10"
  },
  "papermill": {
   "default_parameters": {},
   "duration": 922.870832,
   "end_time": "2021-08-31T13:07:32.261863",
   "environment_variables": {},
   "exception": null,
   "input_path": "__notebook__.ipynb",
   "output_path": "__notebook__.ipynb",
   "parameters": {},
   "start_time": "2021-08-31T12:52:09.391031",
   "version": "2.3.3"
  }
 },
 "nbformat": 4,
 "nbformat_minor": 5
}
