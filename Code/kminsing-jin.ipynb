{
 "cells": [
  {
   "cell_type": "markdown",
   "id": "06195faf",
   "metadata": {
    "papermill": {
     "duration": 0.048261,
     "end_time": "2021-09-07T11:41:22.943841",
     "exception": false,
     "start_time": "2021-09-07T11:41:22.895580",
     "status": "completed"
    },
    "tags": []
   },
   "source": [
    "안녕하세요! 이번 대회 Host 김동규입니다. 이번 대회는 8월에 있었던 AI 집중 교육의 연장선상으로 classical ML 데이터를 이용한 대회입니다. 집중교육 때는 숫자로 이루어진 데이터만 사용했다면, 이번 대회는 대부분 문자로 된 데이터가 중심이 됩니다. categorical variable을 어떻게 잘 변형하고 새로운 feature로 만들어내는지가 중요한 대회입니다.\n",
    "\n",
    "아래는 간단한 베이스라인입니다. 대회에 submission 할 수 있는 최소한의 코드로 구성되어 있습니다. 아래 코드를 기반으로 하여 점수를 향상하고 리더보드의 상단에 위치하여 보세요!"
   ]
  },
  {
   "cell_type": "code",
   "execution_count": 1,
   "id": "91b11658",
   "metadata": {
    "_cell_guid": "b1076dfc-b9ad-4769-8c92-a6c4dae69d19",
    "_uuid": "8f2839f25d086af736a60e9eeb907d3b93b6e0e5",
    "execution": {
     "iopub.execute_input": "2021-09-07T11:41:23.050961Z",
     "iopub.status.busy": "2021-09-07T11:41:23.049697Z",
     "iopub.status.idle": "2021-09-07T11:41:23.056054Z",
     "shell.execute_reply": "2021-09-07T11:41:23.054770Z",
     "shell.execute_reply.started": "2021-09-07T11:38:41.102080Z"
    },
    "papermill": {
     "duration": 0.065011,
     "end_time": "2021-09-07T11:41:23.056232",
     "exception": false,
     "start_time": "2021-09-07T11:41:22.991221",
     "status": "completed"
    },
    "tags": []
   },
   "outputs": [
    {
     "name": "stdout",
     "output_type": "stream",
     "text": [
      "/kaggle/input/pceo-ai-club1/sample_submission.csv\n",
      "/kaggle/input/pceo-ai-club1/train.csv\n",
      "/kaggle/input/pceo-ai-club1/test.csv\n"
     ]
    }
   ],
   "source": [
    "# This Python 3 environment comes with many helpful analytics libraries installed\n",
    "# It is defined by the kaggle/python Docker image: https://github.com/kaggle/docker-python\n",
    "# For example, here's several helpful packages to load\n",
    "\n",
    "import numpy as np # linear algebra\n",
    "import pandas as pd # data processing, CSV file I/O (e.g. pd.read_csv)\n",
    "\n",
    "# Input data files are available in the read-only \"../input/\" directory\n",
    "# For example, running this (by clicking run or pressing Shift+Enter) will list all files under the input directory\n",
    "\n",
    "import os\n",
    "for dirname, _, filenames in os.walk('/kaggle/input'):\n",
    "    for filename in filenames:\n",
    "        print(os.path.join(dirname, filename))\n",
    "\n",
    "# You can write up to 20GB to the current directory (/kaggle/working/) that gets preserved as output when you create a version using \"Save & Run All\" \n",
    "# You can also write temporary files to /kaggle/temp/, but they won't be saved outside of the current session"
   ]
  },
  {
   "cell_type": "code",
   "execution_count": 2,
   "id": "9abc0595",
   "metadata": {
    "execution": {
     "iopub.execute_input": "2021-09-07T11:41:23.154506Z",
     "iopub.status.busy": "2021-09-07T11:41:23.153935Z",
     "iopub.status.idle": "2021-09-07T11:41:23.157408Z",
     "shell.execute_reply": "2021-09-07T11:41:23.157797Z",
     "shell.execute_reply.started": "2021-09-07T11:38:41.114086Z"
    },
    "papermill": {
     "duration": 0.053199,
     "end_time": "2021-09-07T11:41:23.157919",
     "exception": false,
     "start_time": "2021-09-07T11:41:23.104720",
     "status": "completed"
    },
    "tags": []
   },
   "outputs": [],
   "source": [
    "# 파이프라인 어떻게 쓸지"
   ]
  },
  {
   "cell_type": "code",
   "execution_count": 3,
   "id": "d6694e07",
   "metadata": {
    "execution": {
     "iopub.execute_input": "2021-09-07T11:41:23.255690Z",
     "iopub.status.busy": "2021-09-07T11:41:23.254182Z",
     "iopub.status.idle": "2021-09-07T11:41:23.256356Z",
     "shell.execute_reply": "2021-09-07T11:41:23.256761Z",
     "shell.execute_reply.started": "2021-09-07T11:38:41.121465Z"
    },
    "papermill": {
     "duration": 0.052392,
     "end_time": "2021-09-07T11:41:23.256874",
     "exception": false,
     "start_time": "2021-09-07T11:41:23.204482",
     "status": "completed"
    },
    "tags": []
   },
   "outputs": [],
   "source": [
    "# unique확인"
   ]
  },
  {
   "cell_type": "code",
   "execution_count": 4,
   "id": "feec5f1f",
   "metadata": {
    "execution": {
     "iopub.execute_input": "2021-09-07T11:41:23.356575Z",
     "iopub.status.busy": "2021-09-07T11:41:23.355987Z",
     "iopub.status.idle": "2021-09-07T11:41:26.859842Z",
     "shell.execute_reply": "2021-09-07T11:41:26.860976Z",
     "shell.execute_reply.started": "2021-09-07T11:38:41.129668Z"
    },
    "papermill": {
     "duration": 3.55809,
     "end_time": "2021-09-07T11:41:26.861203",
     "exception": false,
     "start_time": "2021-09-07T11:41:23.303113",
     "status": "completed"
    },
    "tags": []
   },
   "outputs": [
    {
     "data": {
      "text/html": [
       "<style type='text/css'>\n",
       ".datatable table.frame { margin-bottom: 0; }\n",
       ".datatable table.frame thead { border-bottom: none; }\n",
       ".datatable table.frame tr.coltypes td {  color: #FFFFFF;  line-height: 6px;  padding: 0 0.5em;}\n",
       ".datatable .bool    { background: #DDDD99; }\n",
       ".datatable .object  { background: #565656; }\n",
       ".datatable .int     { background: #5D9E5D; }\n",
       ".datatable .float   { background: #4040CC; }\n",
       ".datatable .str     { background: #CC4040; }\n",
       ".datatable .time    { background: #40CC40; }\n",
       ".datatable .row_index {  background: var(--jp-border-color3);  border-right: 1px solid var(--jp-border-color0);  color: var(--jp-ui-font-color3);  font-size: 9px;}\n",
       ".datatable .frame tbody td { text-align: left; }\n",
       ".datatable .frame tr.coltypes .row_index {  background: var(--jp-border-color0);}\n",
       ".datatable th:nth-child(2) { padding-left: 12px; }\n",
       ".datatable .hellipsis {  color: var(--jp-cell-editor-border-color);}\n",
       ".datatable .vellipsis {  background: var(--jp-layout-color0);  color: var(--jp-cell-editor-border-color);}\n",
       ".datatable .na {  color: var(--jp-cell-editor-border-color);  font-size: 80%;}\n",
       ".datatable .sp {  opacity: 0.25;}\n",
       ".datatable .footer { font-size: 9px; }\n",
       ".datatable .frame_dimensions {  background: var(--jp-border-color3);  border-top: 1px solid var(--jp-border-color0);  color: var(--jp-ui-font-color3);  display: inline-block;  opacity: 0.6;  padding: 1px 10px 1px 5px;}\n",
       "</style>\n"
      ],
      "text/plain": [
       "<IPython.core.display.HTML object>"
      ]
     },
     "metadata": {},
     "output_type": "display_data"
    }
   ],
   "source": [
    "import numpy as np # linear algebra\n",
    "import pandas as pd # data processing, CSV file I/O (e.g. pd.read_csv)\n",
    "import os\n",
    "from sklearn.model_selection import train_test_split\n",
    "from sklearn.ensemble import RandomForestRegressor\n",
    "from sklearn.preprocessing import OrdinalEncoder\n",
    "from sklearn.metrics import mean_absolute_error\n",
    "import xgboost\n",
    "\n",
    "import pandas as pd\n",
    "import numpy as np\n",
    "from sklearn.model_selection import cross_val_score, train_test_split, KFold\n",
    "from sklearn.preprocessing import StandardScaler, RobustScaler\n",
    "from sklearn.linear_model import LinearRegression, RidgeCV, LassoCV, ElasticNetCV\n",
    "from sklearn.metrics import mean_squared_error, make_scorer\n",
    "from IPython.display import display\n",
    "import matplotlib.pyplot as plt\n",
    "\n",
    "import warnings\n",
    "\n",
    "from sklearn.ensemble import RandomForestRegressor, GradientBoostingRegressor\n",
    "import xgboost as xgb\n",
    "import lightgbm as lgb\n",
    "from xgboost import XGBRegressor\n",
    "from lightgbm import LGBMRegressor\n",
    "from catboost import CatBoostRegressor\n",
    "\n",
    "import optuna\n",
    "from optuna import Trial\n",
    "\n",
    "import matplotlib.pyplot as plt\n",
    "import pandas as pd\n",
    "import seaborn as sns\n",
    "from sklearn.cluster import KMeans"
   ]
  },
  {
   "cell_type": "code",
   "execution_count": 5,
   "id": "bc38c4e0",
   "metadata": {
    "execution": {
     "iopub.execute_input": "2021-09-07T11:41:27.053118Z",
     "iopub.status.busy": "2021-09-07T11:41:27.052317Z",
     "iopub.status.idle": "2021-09-07T11:41:27.106771Z",
     "shell.execute_reply": "2021-09-07T11:41:27.106332Z",
     "shell.execute_reply.started": "2021-09-07T11:38:41.140014Z"
    },
    "papermill": {
     "duration": 0.145611,
     "end_time": "2021-09-07T11:41:27.106879",
     "exception": false,
     "start_time": "2021-09-07T11:41:26.961268",
     "status": "completed"
    },
    "tags": []
   },
   "outputs": [],
   "source": [
    "train = pd.read_csv('../input/pceo-ai-club1/train.csv', index_col=\"student_id\") #반드시 index_col을 student_id로 설정해주세요\n",
    "test = pd.read_csv('../input/pceo-ai-club1/test.csv', index_col=\"student_id\")\n",
    "sample_submission = pd.read_csv('../input/pceo-ai-club1/sample_submission.csv', index_col=\"student_id\")"
   ]
  },
  {
   "cell_type": "markdown",
   "id": "fef1778a",
   "metadata": {
    "papermill": {
     "duration": 0.076551,
     "end_time": "2021-09-07T11:41:27.260022",
     "exception": false,
     "start_time": "2021-09-07T11:41:27.183471",
     "status": "completed"
    },
    "tags": []
   },
   "source": [
    "# Super Simple EDA"
   ]
  },
  {
   "cell_type": "code",
   "execution_count": 6,
   "id": "32ea1bb5",
   "metadata": {
    "execution": {
     "iopub.execute_input": "2021-09-07T11:41:27.358302Z",
     "iopub.status.busy": "2021-09-07T11:41:27.357556Z",
     "iopub.status.idle": "2021-09-07T11:41:27.376593Z",
     "shell.execute_reply": "2021-09-07T11:41:27.376139Z",
     "shell.execute_reply.started": "2021-09-07T11:38:41.164794Z"
    },
    "papermill": {
     "duration": 0.070062,
     "end_time": "2021-09-07T11:41:27.376705",
     "exception": false,
     "start_time": "2021-09-07T11:41:27.306643",
     "status": "completed"
    },
    "tags": []
   },
   "outputs": [
    {
     "data": {
      "text/html": [
       "<div>\n",
       "<style scoped>\n",
       "    .dataframe tbody tr th:only-of-type {\n",
       "        vertical-align: middle;\n",
       "    }\n",
       "\n",
       "    .dataframe tbody tr th {\n",
       "        vertical-align: top;\n",
       "    }\n",
       "\n",
       "    .dataframe thead th {\n",
       "        text-align: right;\n",
       "    }\n",
       "</style>\n",
       "<table border=\"1\" class=\"dataframe\">\n",
       "  <thead>\n",
       "    <tr style=\"text-align: right;\">\n",
       "      <th></th>\n",
       "      <th>school</th>\n",
       "      <th>school_setting</th>\n",
       "      <th>school_type</th>\n",
       "      <th>classroom</th>\n",
       "      <th>teaching_method</th>\n",
       "      <th>n_student</th>\n",
       "      <th>gender</th>\n",
       "      <th>lunch</th>\n",
       "      <th>pretest</th>\n",
       "    </tr>\n",
       "    <tr>\n",
       "      <th>student_id</th>\n",
       "      <th></th>\n",
       "      <th></th>\n",
       "      <th></th>\n",
       "      <th></th>\n",
       "      <th></th>\n",
       "      <th></th>\n",
       "      <th></th>\n",
       "      <th></th>\n",
       "      <th></th>\n",
       "    </tr>\n",
       "  </thead>\n",
       "  <tbody>\n",
       "    <tr>\n",
       "      <th>W20C6</th>\n",
       "      <td>GOOBU</td>\n",
       "      <td>Urban</td>\n",
       "      <td>Public</td>\n",
       "      <td>HKF</td>\n",
       "      <td>Standard</td>\n",
       "      <td>28.0</td>\n",
       "      <td>Female</td>\n",
       "      <td>Qualifies for reduced/free lunch</td>\n",
       "      <td>34.0</td>\n",
       "    </tr>\n",
       "    <tr>\n",
       "      <th>A3JJP</th>\n",
       "      <td>GOOBU</td>\n",
       "      <td>Urban</td>\n",
       "      <td>Public</td>\n",
       "      <td>W8A</td>\n",
       "      <td>Experimental</td>\n",
       "      <td>26.0</td>\n",
       "      <td>Female</td>\n",
       "      <td>Qualifies for reduced/free lunch</td>\n",
       "      <td>36.0</td>\n",
       "    </tr>\n",
       "    <tr>\n",
       "      <th>UBDCF</th>\n",
       "      <td>DNQDD</td>\n",
       "      <td>Suburban</td>\n",
       "      <td>Public</td>\n",
       "      <td>PW5</td>\n",
       "      <td>Experimental</td>\n",
       "      <td>20.0</td>\n",
       "      <td>Male</td>\n",
       "      <td>Qualifies for reduced/free lunch</td>\n",
       "      <td>42.0</td>\n",
       "    </tr>\n",
       "    <tr>\n",
       "      <th>QQJEC</th>\n",
       "      <td>GOOBU</td>\n",
       "      <td>Urban</td>\n",
       "      <td>Public</td>\n",
       "      <td>W8A</td>\n",
       "      <td>Experimental</td>\n",
       "      <td>26.0</td>\n",
       "      <td>Female</td>\n",
       "      <td>Qualifies for reduced/free lunch</td>\n",
       "      <td>36.0</td>\n",
       "    </tr>\n",
       "    <tr>\n",
       "      <th>3SWL5</th>\n",
       "      <td>UUUQX</td>\n",
       "      <td>Suburban</td>\n",
       "      <td>Non-public</td>\n",
       "      <td>SSP</td>\n",
       "      <td>Standard</td>\n",
       "      <td>15.0</td>\n",
       "      <td>Female</td>\n",
       "      <td>Does not qualify</td>\n",
       "      <td>66.0</td>\n",
       "    </tr>\n",
       "  </tbody>\n",
       "</table>\n",
       "</div>"
      ],
      "text/plain": [
       "           school school_setting school_type classroom teaching_method  \\\n",
       "student_id                                                               \n",
       "W20C6       GOOBU          Urban      Public       HKF        Standard   \n",
       "A3JJP       GOOBU          Urban      Public       W8A    Experimental   \n",
       "UBDCF       DNQDD       Suburban      Public       PW5    Experimental   \n",
       "QQJEC       GOOBU          Urban      Public       W8A    Experimental   \n",
       "3SWL5       UUUQX       Suburban  Non-public       SSP        Standard   \n",
       "\n",
       "            n_student  gender                             lunch  pretest  \n",
       "student_id                                                                \n",
       "W20C6            28.0  Female  Qualifies for reduced/free lunch     34.0  \n",
       "A3JJP            26.0  Female  Qualifies for reduced/free lunch     36.0  \n",
       "UBDCF            20.0    Male  Qualifies for reduced/free lunch     42.0  \n",
       "QQJEC            26.0  Female  Qualifies for reduced/free lunch     36.0  \n",
       "3SWL5            15.0  Female                  Does not qualify     66.0  "
      ]
     },
     "execution_count": 6,
     "metadata": {},
     "output_type": "execute_result"
    }
   ],
   "source": [
    "train.head()"
   ]
  },
  {
   "cell_type": "code",
   "execution_count": 7,
   "id": "7823fff2",
   "metadata": {
    "execution": {
     "iopub.execute_input": "2021-09-07T11:41:27.485749Z",
     "iopub.status.busy": "2021-09-07T11:41:27.484911Z",
     "iopub.status.idle": "2021-09-07T11:41:27.489432Z",
     "shell.execute_reply": "2021-09-07T11:41:27.489833Z",
     "shell.execute_reply.started": "2021-09-07T11:38:41.191732Z"
    },
    "papermill": {
     "duration": 0.065075,
     "end_time": "2021-09-07T11:41:27.489969",
     "exception": false,
     "start_time": "2021-09-07T11:41:27.424894",
     "status": "completed"
    },
    "tags": []
   },
   "outputs": [
    {
     "data": {
      "text/html": [
       "<div>\n",
       "<style scoped>\n",
       "    .dataframe tbody tr th:only-of-type {\n",
       "        vertical-align: middle;\n",
       "    }\n",
       "\n",
       "    .dataframe tbody tr th {\n",
       "        vertical-align: top;\n",
       "    }\n",
       "\n",
       "    .dataframe thead th {\n",
       "        text-align: right;\n",
       "    }\n",
       "</style>\n",
       "<table border=\"1\" class=\"dataframe\">\n",
       "  <thead>\n",
       "    <tr style=\"text-align: right;\">\n",
       "      <th></th>\n",
       "      <th>school</th>\n",
       "      <th>school_setting</th>\n",
       "      <th>school_type</th>\n",
       "      <th>classroom</th>\n",
       "      <th>teaching_method</th>\n",
       "      <th>n_student</th>\n",
       "      <th>gender</th>\n",
       "      <th>lunch</th>\n",
       "    </tr>\n",
       "    <tr>\n",
       "      <th>student_id</th>\n",
       "      <th></th>\n",
       "      <th></th>\n",
       "      <th></th>\n",
       "      <th></th>\n",
       "      <th></th>\n",
       "      <th></th>\n",
       "      <th></th>\n",
       "      <th></th>\n",
       "    </tr>\n",
       "  </thead>\n",
       "  <tbody>\n",
       "    <tr>\n",
       "      <th>MNVG5</th>\n",
       "      <td>VHDHF</td>\n",
       "      <td>Rural</td>\n",
       "      <td>Non-public</td>\n",
       "      <td>KR1</td>\n",
       "      <td>Experimental</td>\n",
       "      <td>15.0</td>\n",
       "      <td>Female</td>\n",
       "      <td>Qualifies for reduced/free lunch</td>\n",
       "    </tr>\n",
       "    <tr>\n",
       "      <th>LB2TH</th>\n",
       "      <td>GJJHK</td>\n",
       "      <td>Suburban</td>\n",
       "      <td>Public</td>\n",
       "      <td>ZDT</td>\n",
       "      <td>Standard</td>\n",
       "      <td>27.0</td>\n",
       "      <td>Male</td>\n",
       "      <td>Qualifies for reduced/free lunch</td>\n",
       "    </tr>\n",
       "    <tr>\n",
       "      <th>ETDRG</th>\n",
       "      <td>CIMBB</td>\n",
       "      <td>Urban</td>\n",
       "      <td>Non-public</td>\n",
       "      <td>PC6</td>\n",
       "      <td>Standard</td>\n",
       "      <td>17.0</td>\n",
       "      <td>Female</td>\n",
       "      <td>Does not qualify</td>\n",
       "    </tr>\n",
       "    <tr>\n",
       "      <th>TME5H</th>\n",
       "      <td>GOKXL</td>\n",
       "      <td>Rural</td>\n",
       "      <td>Public</td>\n",
       "      <td>VA6</td>\n",
       "      <td>Standard</td>\n",
       "      <td>19.0</td>\n",
       "      <td>Female</td>\n",
       "      <td>Qualifies for reduced/free lunch</td>\n",
       "    </tr>\n",
       "    <tr>\n",
       "      <th>G8C0U</th>\n",
       "      <td>QOQTS</td>\n",
       "      <td>Urban</td>\n",
       "      <td>Public</td>\n",
       "      <td>3XJ</td>\n",
       "      <td>Standard</td>\n",
       "      <td>24.0</td>\n",
       "      <td>Female</td>\n",
       "      <td>Does not qualify</td>\n",
       "    </tr>\n",
       "  </tbody>\n",
       "</table>\n",
       "</div>"
      ],
      "text/plain": [
       "           school school_setting school_type classroom teaching_method  \\\n",
       "student_id                                                               \n",
       "MNVG5       VHDHF          Rural  Non-public       KR1    Experimental   \n",
       "LB2TH       GJJHK       Suburban      Public       ZDT        Standard   \n",
       "ETDRG       CIMBB          Urban  Non-public       PC6        Standard   \n",
       "TME5H       GOKXL          Rural      Public       VA6        Standard   \n",
       "G8C0U       QOQTS          Urban      Public       3XJ        Standard   \n",
       "\n",
       "            n_student  gender                             lunch  \n",
       "student_id                                                       \n",
       "MNVG5            15.0  Female  Qualifies for reduced/free lunch  \n",
       "LB2TH            27.0    Male  Qualifies for reduced/free lunch  \n",
       "ETDRG            17.0  Female                  Does not qualify  \n",
       "TME5H            19.0  Female  Qualifies for reduced/free lunch  \n",
       "G8C0U            24.0  Female                  Does not qualify  "
      ]
     },
     "execution_count": 7,
     "metadata": {},
     "output_type": "execute_result"
    }
   ],
   "source": [
    "test.head()"
   ]
  },
  {
   "cell_type": "code",
   "execution_count": 8,
   "id": "f3735c46",
   "metadata": {
    "execution": {
     "iopub.execute_input": "2021-09-07T11:41:27.593918Z",
     "iopub.status.busy": "2021-09-07T11:41:27.593437Z",
     "iopub.status.idle": "2021-09-07T11:41:27.597755Z",
     "shell.execute_reply": "2021-09-07T11:41:27.598142Z",
     "shell.execute_reply.started": "2021-09-07T11:38:41.208876Z"
    },
    "papermill": {
     "duration": 0.058781,
     "end_time": "2021-09-07T11:41:27.598268",
     "exception": false,
     "start_time": "2021-09-07T11:41:27.539487",
     "status": "completed"
    },
    "tags": []
   },
   "outputs": [
    {
     "data": {
      "text/plain": [
       "school             False\n",
       "school_setting     False\n",
       "school_type        False\n",
       "classroom          False\n",
       "teaching_method    False\n",
       "n_student          False\n",
       "gender             False\n",
       "lunch              False\n",
       "pretest            False\n",
       "dtype: bool"
      ]
     },
     "execution_count": 8,
     "metadata": {},
     "output_type": "execute_result"
    }
   ],
   "source": [
    "train.isnull().any()"
   ]
  },
  {
   "cell_type": "markdown",
   "id": "71369107",
   "metadata": {
    "execution": {
     "iopub.execute_input": "2021-08-24T12:52:34.821943Z",
     "iopub.status.busy": "2021-08-24T12:52:34.821128Z",
     "iopub.status.idle": "2021-08-24T12:52:34.836004Z",
     "shell.execute_reply": "2021-08-24T12:52:34.834404Z",
     "shell.execute_reply.started": "2021-08-24T12:52:34.821788Z"
    },
    "papermill": {
     "duration": 0.04795,
     "end_time": "2021-09-07T11:41:27.694382",
     "exception": false,
     "start_time": "2021-09-07T11:41:27.646432",
     "status": "completed"
    },
    "tags": []
   },
   "source": [
    "위에서 보다시피 데이터에 null 값은 없습니다."
   ]
  },
  {
   "cell_type": "markdown",
   "id": "3d03147d",
   "metadata": {
    "papermill": {
     "duration": 0.04825,
     "end_time": "2021-09-07T11:41:27.790969",
     "exception": false,
     "start_time": "2021-09-07T11:41:27.742719",
     "status": "completed"
    },
    "tags": []
   },
   "source": [
    "# Data Preprocessing"
   ]
  },
  {
   "cell_type": "code",
   "execution_count": 9,
   "id": "a23da7ab",
   "metadata": {
    "execution": {
     "iopub.execute_input": "2021-09-07T11:41:27.897741Z",
     "iopub.status.busy": "2021-09-07T11:41:27.893479Z",
     "iopub.status.idle": "2021-09-07T11:41:27.899826Z",
     "shell.execute_reply": "2021-09-07T11:41:27.900246Z",
     "shell.execute_reply.started": "2021-09-07T11:38:41.289873Z"
    },
    "papermill": {
     "duration": 0.061031,
     "end_time": "2021-09-07T11:41:27.900380",
     "exception": false,
     "start_time": "2021-09-07T11:41:27.839349",
     "status": "completed"
    },
    "tags": []
   },
   "outputs": [],
   "source": [
    "y = train.pretest\n",
    "X_no_school = train.drop([\"school_setting\",\"pretest\"], axis=1)\n",
    "X_yes_school = train[[\"school_setting\"]]\n",
    "\n",
    "test_no_school = test.drop([\"school_setting\"], axis=1)\n",
    "test_yes_school = test[[\"school_setting\"]]"
   ]
  },
  {
   "cell_type": "markdown",
   "id": "a7b618f4",
   "metadata": {
    "papermill": {
     "duration": 0.050256,
     "end_time": "2021-09-07T11:41:27.999565",
     "exception": false,
     "start_time": "2021-09-07T11:41:27.949309",
     "status": "completed"
    },
    "tags": []
   },
   "source": [
    "# **One-hotencoding**"
   ]
  },
  {
   "cell_type": "code",
   "execution_count": 10,
   "id": "f158effd",
   "metadata": {
    "execution": {
     "iopub.execute_input": "2021-09-07T11:41:28.107094Z",
     "iopub.status.busy": "2021-09-07T11:41:28.106556Z",
     "iopub.status.idle": "2021-09-07T11:41:28.112280Z",
     "shell.execute_reply": "2021-09-07T11:41:28.112746Z",
     "shell.execute_reply.started": "2021-09-07T11:38:41.302243Z"
    },
    "papermill": {
     "duration": 0.06462,
     "end_time": "2021-09-07T11:41:28.112889",
     "exception": false,
     "start_time": "2021-09-07T11:41:28.048269",
     "status": "completed"
    },
    "tags": []
   },
   "outputs": [
    {
     "data": {
      "text/html": [
       "<div>\n",
       "<style scoped>\n",
       "    .dataframe tbody tr th:only-of-type {\n",
       "        vertical-align: middle;\n",
       "    }\n",
       "\n",
       "    .dataframe tbody tr th {\n",
       "        vertical-align: top;\n",
       "    }\n",
       "\n",
       "    .dataframe thead th {\n",
       "        text-align: right;\n",
       "    }\n",
       "</style>\n",
       "<table border=\"1\" class=\"dataframe\">\n",
       "  <thead>\n",
       "    <tr style=\"text-align: right;\">\n",
       "      <th></th>\n",
       "      <th>school_setting</th>\n",
       "    </tr>\n",
       "    <tr>\n",
       "      <th>student_id</th>\n",
       "      <th></th>\n",
       "    </tr>\n",
       "  </thead>\n",
       "  <tbody>\n",
       "    <tr>\n",
       "      <th>W20C6</th>\n",
       "      <td>Urban</td>\n",
       "    </tr>\n",
       "    <tr>\n",
       "      <th>A3JJP</th>\n",
       "      <td>Urban</td>\n",
       "    </tr>\n",
       "    <tr>\n",
       "      <th>UBDCF</th>\n",
       "      <td>Suburban</td>\n",
       "    </tr>\n",
       "    <tr>\n",
       "      <th>QQJEC</th>\n",
       "      <td>Urban</td>\n",
       "    </tr>\n",
       "    <tr>\n",
       "      <th>3SWL5</th>\n",
       "      <td>Suburban</td>\n",
       "    </tr>\n",
       "    <tr>\n",
       "      <th>...</th>\n",
       "      <td>...</td>\n",
       "    </tr>\n",
       "    <tr>\n",
       "      <th>XL3MD</th>\n",
       "      <td>Rural</td>\n",
       "    </tr>\n",
       "    <tr>\n",
       "      <th>7T7C2</th>\n",
       "      <td>Urban</td>\n",
       "    </tr>\n",
       "    <tr>\n",
       "      <th>XDNY7</th>\n",
       "      <td>Rural</td>\n",
       "    </tr>\n",
       "    <tr>\n",
       "      <th>AKDEM</th>\n",
       "      <td>Urban</td>\n",
       "    </tr>\n",
       "    <tr>\n",
       "      <th>UIM0F</th>\n",
       "      <td>Suburban</td>\n",
       "    </tr>\n",
       "  </tbody>\n",
       "</table>\n",
       "<p>1706 rows × 1 columns</p>\n",
       "</div>"
      ],
      "text/plain": [
       "           school_setting\n",
       "student_id               \n",
       "W20C6               Urban\n",
       "A3JJP               Urban\n",
       "UBDCF            Suburban\n",
       "QQJEC               Urban\n",
       "3SWL5            Suburban\n",
       "...                   ...\n",
       "XL3MD               Rural\n",
       "7T7C2               Urban\n",
       "XDNY7               Rural\n",
       "AKDEM               Urban\n",
       "UIM0F            Suburban\n",
       "\n",
       "[1706 rows x 1 columns]"
      ]
     },
     "execution_count": 10,
     "metadata": {},
     "output_type": "execute_result"
    }
   ],
   "source": [
    "X_yes_school"
   ]
  },
  {
   "cell_type": "code",
   "execution_count": 11,
   "id": "d0a67363",
   "metadata": {
    "execution": {
     "iopub.execute_input": "2021-09-07T11:41:28.218900Z",
     "iopub.status.busy": "2021-09-07T11:41:28.218381Z",
     "iopub.status.idle": "2021-09-07T11:41:28.221518Z",
     "shell.execute_reply": "2021-09-07T11:41:28.221903Z",
     "shell.execute_reply.started": "2021-09-07T11:38:41.315526Z"
    },
    "papermill": {
     "duration": 0.06064,
     "end_time": "2021-09-07T11:41:28.222026",
     "exception": false,
     "start_time": "2021-09-07T11:41:28.161386",
     "status": "completed"
    },
    "tags": []
   },
   "outputs": [
    {
     "data": {
      "text/html": [
       "<div>\n",
       "<style scoped>\n",
       "    .dataframe tbody tr th:only-of-type {\n",
       "        vertical-align: middle;\n",
       "    }\n",
       "\n",
       "    .dataframe tbody tr th {\n",
       "        vertical-align: top;\n",
       "    }\n",
       "\n",
       "    .dataframe thead th {\n",
       "        text-align: right;\n",
       "    }\n",
       "</style>\n",
       "<table border=\"1\" class=\"dataframe\">\n",
       "  <thead>\n",
       "    <tr style=\"text-align: right;\">\n",
       "      <th></th>\n",
       "      <th>school_setting</th>\n",
       "    </tr>\n",
       "    <tr>\n",
       "      <th>student_id</th>\n",
       "      <th></th>\n",
       "    </tr>\n",
       "  </thead>\n",
       "  <tbody>\n",
       "    <tr>\n",
       "      <th>MNVG5</th>\n",
       "      <td>Rural</td>\n",
       "    </tr>\n",
       "    <tr>\n",
       "      <th>LB2TH</th>\n",
       "      <td>Suburban</td>\n",
       "    </tr>\n",
       "    <tr>\n",
       "      <th>ETDRG</th>\n",
       "      <td>Urban</td>\n",
       "    </tr>\n",
       "    <tr>\n",
       "      <th>TME5H</th>\n",
       "      <td>Rural</td>\n",
       "    </tr>\n",
       "    <tr>\n",
       "      <th>G8C0U</th>\n",
       "      <td>Urban</td>\n",
       "    </tr>\n",
       "    <tr>\n",
       "      <th>...</th>\n",
       "      <td>...</td>\n",
       "    </tr>\n",
       "    <tr>\n",
       "      <th>583ZR</th>\n",
       "      <td>Rural</td>\n",
       "    </tr>\n",
       "    <tr>\n",
       "      <th>GGT4A</th>\n",
       "      <td>Urban</td>\n",
       "    </tr>\n",
       "    <tr>\n",
       "      <th>3S4PV</th>\n",
       "      <td>Suburban</td>\n",
       "    </tr>\n",
       "    <tr>\n",
       "      <th>FDPKM</th>\n",
       "      <td>Urban</td>\n",
       "    </tr>\n",
       "    <tr>\n",
       "      <th>W4M1T</th>\n",
       "      <td>Urban</td>\n",
       "    </tr>\n",
       "  </tbody>\n",
       "</table>\n",
       "<p>427 rows × 1 columns</p>\n",
       "</div>"
      ],
      "text/plain": [
       "           school_setting\n",
       "student_id               \n",
       "MNVG5               Rural\n",
       "LB2TH            Suburban\n",
       "ETDRG               Urban\n",
       "TME5H               Rural\n",
       "G8C0U               Urban\n",
       "...                   ...\n",
       "583ZR               Rural\n",
       "GGT4A               Urban\n",
       "3S4PV            Suburban\n",
       "FDPKM               Urban\n",
       "W4M1T               Urban\n",
       "\n",
       "[427 rows x 1 columns]"
      ]
     },
     "execution_count": 11,
     "metadata": {},
     "output_type": "execute_result"
    }
   ],
   "source": [
    "test_yes_school"
   ]
  },
  {
   "cell_type": "code",
   "execution_count": 12,
   "id": "0335205c",
   "metadata": {
    "execution": {
     "iopub.execute_input": "2021-09-07T11:41:28.338078Z",
     "iopub.status.busy": "2021-09-07T11:41:28.327626Z",
     "iopub.status.idle": "2021-09-07T11:41:28.342624Z",
     "shell.execute_reply": "2021-09-07T11:41:28.342181Z",
     "shell.execute_reply.started": "2021-09-07T11:38:41.329236Z"
    },
    "papermill": {
     "duration": 0.071851,
     "end_time": "2021-09-07T11:41:28.342738",
     "exception": false,
     "start_time": "2021-09-07T11:41:28.270887",
     "status": "completed"
    },
    "tags": []
   },
   "outputs": [
    {
     "name": "stdout",
     "output_type": "stream",
     "text": [
      "       Rural  Suburban  Urban\n",
      "W20C6    0.0       0.0    1.0\n",
      "A3JJP    0.0       0.0    1.0\n",
      "UBDCF    0.0       1.0    0.0\n",
      "QQJEC    0.0       0.0    1.0\n",
      "3SWL5    0.0       1.0    0.0\n",
      "...      ...       ...    ...\n",
      "XL3MD    1.0       0.0    0.0\n",
      "7T7C2    0.0       0.0    1.0\n",
      "XDNY7    1.0       0.0    0.0\n",
      "AKDEM    0.0       0.0    1.0\n",
      "UIM0F    0.0       1.0    0.0\n",
      "\n",
      "[1706 rows x 3 columns]\n",
      "       Rural  Suburban  Urban\n",
      "MNVG5    1.0       0.0    0.0\n",
      "LB2TH    0.0       1.0    0.0\n",
      "ETDRG    0.0       0.0    1.0\n",
      "TME5H    1.0       0.0    0.0\n",
      "G8C0U    0.0       0.0    1.0\n",
      "...      ...       ...    ...\n",
      "583ZR    1.0       0.0    0.0\n",
      "GGT4A    0.0       0.0    1.0\n",
      "3S4PV    0.0       1.0    0.0\n",
      "FDPKM    0.0       0.0    1.0\n",
      "W4M1T    0.0       0.0    1.0\n",
      "\n",
      "[427 rows x 3 columns]\n",
      "[array(['Rural', 'Suburban', 'Urban'], dtype=object)]\n"
     ]
    }
   ],
   "source": [
    "# one-hot-encoding\n",
    "from sklearn.preprocessing import OneHotEncoder\n",
    "onehot_encoder = OneHotEncoder()\n",
    "X_yes_school_onehot = onehot_encoder.fit_transform(X_yes_school[\"school_setting\"].values.reshape(-1,1))\n",
    "test_yes_school_onehot = onehot_encoder.transform(test_yes_school[\"school_setting\"].values.reshape(-1,1))\n",
    "\n",
    "X_yes_school_onehot = pd.DataFrame(X_yes_school_onehot.toarray(), columns = [\"Rural\", \"Suburban\", \"Urban\"], index=list(train.index.values))\n",
    "test_yes_school_onehot = pd.DataFrame(test_yes_school_onehot.toarray(), columns = [\"Rural\", \"Suburban\", \"Urban\"], index=list(test.index.values))\n",
    "\n",
    "print(X_yes_school_onehot)\n",
    "print(test_yes_school_onehot)\n",
    "print(onehot_encoder.categories_)\n",
    "# 판다스 넘파이 파이썬 기본리스트"
   ]
  },
  {
   "cell_type": "markdown",
   "id": "9a06ebb9",
   "metadata": {
    "papermill": {
     "duration": 0.04989,
     "end_time": "2021-09-07T11:41:28.447187",
     "exception": false,
     "start_time": "2021-09-07T11:41:28.397297",
     "status": "completed"
    },
    "tags": []
   },
   "source": [
    "# Ordinal-encoding"
   ]
  },
  {
   "cell_type": "code",
   "execution_count": 13,
   "id": "31d33648",
   "metadata": {
    "execution": {
     "iopub.execute_input": "2021-09-07T11:41:28.552908Z",
     "iopub.status.busy": "2021-09-07T11:41:28.552282Z",
     "iopub.status.idle": "2021-09-07T11:41:28.555329Z",
     "shell.execute_reply": "2021-09-07T11:41:28.555728Z",
     "shell.execute_reply.started": "2021-09-07T11:38:41.355669Z"
    },
    "papermill": {
     "duration": 0.059042,
     "end_time": "2021-09-07T11:41:28.555847",
     "exception": false,
     "start_time": "2021-09-07T11:41:28.496805",
     "status": "completed"
    },
    "tags": []
   },
   "outputs": [
    {
     "data": {
      "text/plain": [
       "['school', 'school_type', 'classroom', 'teaching_method', 'gender', 'lunch']"
      ]
     },
     "execution_count": 13,
     "metadata": {},
     "output_type": "execute_result"
    }
   ],
   "source": [
    "s = (X_no_school.dtypes == 'object')\n",
    "object_cols = list(s[s].index)\n",
    "object_cols"
   ]
  },
  {
   "cell_type": "markdown",
   "id": "7038f1dd",
   "metadata": {
    "papermill": {
     "duration": 0.049434,
     "end_time": "2021-09-07T11:41:28.654993",
     "exception": false,
     "start_time": "2021-09-07T11:41:28.605559",
     "status": "completed"
    },
    "tags": []
   },
   "source": [
    "n_students 이외의 feature들은 모두 categorical입니다. (cateogical => 문자 형태)"
   ]
  },
  {
   "cell_type": "code",
   "execution_count": 14,
   "id": "d140bbbe",
   "metadata": {
    "execution": {
     "iopub.execute_input": "2021-09-07T11:41:28.760369Z",
     "iopub.status.busy": "2021-09-07T11:41:28.759484Z",
     "iopub.status.idle": "2021-09-07T11:41:28.778467Z",
     "shell.execute_reply": "2021-09-07T11:41:28.778012Z",
     "shell.execute_reply.started": "2021-09-07T11:38:41.365145Z"
    },
    "papermill": {
     "duration": 0.073894,
     "end_time": "2021-09-07T11:41:28.778578",
     "exception": false,
     "start_time": "2021-09-07T11:41:28.704684",
     "status": "completed"
    },
    "tags": []
   },
   "outputs": [],
   "source": [
    "label_X = X_no_school.copy()\n",
    "label_test = test_no_school.copy()\n",
    "\n",
    "ordinal_encoder = OrdinalEncoder()\n",
    "label_X[object_cols] = ordinal_encoder.fit_transform(X_no_school[object_cols])\n",
    "label_test[object_cols] = ordinal_encoder.transform(test_no_school[object_cols])\n",
    "\n",
    "label_X = pd.DataFrame(label_X)\n",
    "label_test = pd.DataFrame(label_test)"
   ]
  },
  {
   "cell_type": "code",
   "execution_count": 15,
   "id": "0611f60b",
   "metadata": {
    "execution": {
     "iopub.execute_input": "2021-09-07T11:41:28.892758Z",
     "iopub.status.busy": "2021-09-07T11:41:28.891859Z",
     "iopub.status.idle": "2021-09-07T11:41:28.895441Z",
     "shell.execute_reply": "2021-09-07T11:41:28.895885Z",
     "shell.execute_reply.started": "2021-09-07T11:38:41.397585Z"
    },
    "papermill": {
     "duration": 0.06806,
     "end_time": "2021-09-07T11:41:28.896022",
     "exception": false,
     "start_time": "2021-09-07T11:41:28.827962",
     "status": "completed"
    },
    "tags": []
   },
   "outputs": [
    {
     "data": {
      "text/html": [
       "<div>\n",
       "<style scoped>\n",
       "    .dataframe tbody tr th:only-of-type {\n",
       "        vertical-align: middle;\n",
       "    }\n",
       "\n",
       "    .dataframe tbody tr th {\n",
       "        vertical-align: top;\n",
       "    }\n",
       "\n",
       "    .dataframe thead th {\n",
       "        text-align: right;\n",
       "    }\n",
       "</style>\n",
       "<table border=\"1\" class=\"dataframe\">\n",
       "  <thead>\n",
       "    <tr style=\"text-align: right;\">\n",
       "      <th></th>\n",
       "      <th>school</th>\n",
       "      <th>school_type</th>\n",
       "      <th>classroom</th>\n",
       "      <th>teaching_method</th>\n",
       "      <th>n_student</th>\n",
       "      <th>gender</th>\n",
       "      <th>lunch</th>\n",
       "    </tr>\n",
       "    <tr>\n",
       "      <th>student_id</th>\n",
       "      <th></th>\n",
       "      <th></th>\n",
       "      <th></th>\n",
       "      <th></th>\n",
       "      <th></th>\n",
       "      <th></th>\n",
       "      <th></th>\n",
       "    </tr>\n",
       "  </thead>\n",
       "  <tbody>\n",
       "    <tr>\n",
       "      <th>W20C6</th>\n",
       "      <td>8.0</td>\n",
       "      <td>1.0</td>\n",
       "      <td>45.0</td>\n",
       "      <td>1.0</td>\n",
       "      <td>28.0</td>\n",
       "      <td>0.0</td>\n",
       "      <td>1.0</td>\n",
       "    </tr>\n",
       "    <tr>\n",
       "      <th>A3JJP</th>\n",
       "      <td>8.0</td>\n",
       "      <td>1.0</td>\n",
       "      <td>83.0</td>\n",
       "      <td>0.0</td>\n",
       "      <td>26.0</td>\n",
       "      <td>0.0</td>\n",
       "      <td>1.0</td>\n",
       "    </tr>\n",
       "    <tr>\n",
       "      <th>UBDCF</th>\n",
       "      <td>4.0</td>\n",
       "      <td>1.0</td>\n",
       "      <td>65.0</td>\n",
       "      <td>0.0</td>\n",
       "      <td>20.0</td>\n",
       "      <td>1.0</td>\n",
       "      <td>1.0</td>\n",
       "    </tr>\n",
       "    <tr>\n",
       "      <th>QQJEC</th>\n",
       "      <td>8.0</td>\n",
       "      <td>1.0</td>\n",
       "      <td>83.0</td>\n",
       "      <td>0.0</td>\n",
       "      <td>26.0</td>\n",
       "      <td>0.0</td>\n",
       "      <td>1.0</td>\n",
       "    </tr>\n",
       "    <tr>\n",
       "      <th>3SWL5</th>\n",
       "      <td>17.0</td>\n",
       "      <td>0.0</td>\n",
       "      <td>73.0</td>\n",
       "      <td>1.0</td>\n",
       "      <td>15.0</td>\n",
       "      <td>0.0</td>\n",
       "      <td>0.0</td>\n",
       "    </tr>\n",
       "  </tbody>\n",
       "</table>\n",
       "</div>"
      ],
      "text/plain": [
       "            school  school_type  classroom  teaching_method  n_student  \\\n",
       "student_id                                                               \n",
       "W20C6          8.0          1.0       45.0              1.0       28.0   \n",
       "A3JJP          8.0          1.0       83.0              0.0       26.0   \n",
       "UBDCF          4.0          1.0       65.0              0.0       20.0   \n",
       "QQJEC          8.0          1.0       83.0              0.0       26.0   \n",
       "3SWL5         17.0          0.0       73.0              1.0       15.0   \n",
       "\n",
       "            gender  lunch  \n",
       "student_id                 \n",
       "W20C6          0.0    1.0  \n",
       "A3JJP          0.0    1.0  \n",
       "UBDCF          1.0    1.0  \n",
       "QQJEC          0.0    1.0  \n",
       "3SWL5          0.0    0.0  "
      ]
     },
     "execution_count": 15,
     "metadata": {},
     "output_type": "execute_result"
    }
   ],
   "source": [
    "label_X.head()"
   ]
  },
  {
   "cell_type": "code",
   "execution_count": 16,
   "id": "ed76bcc8",
   "metadata": {
    "execution": {
     "iopub.execute_input": "2021-09-07T11:41:29.013359Z",
     "iopub.status.busy": "2021-09-07T11:41:29.012781Z",
     "iopub.status.idle": "2021-09-07T11:41:29.015971Z",
     "shell.execute_reply": "2021-09-07T11:41:29.016375Z",
     "shell.execute_reply.started": "2021-09-07T11:38:41.417763Z"
    },
    "papermill": {
     "duration": 0.06775,
     "end_time": "2021-09-07T11:41:29.016505",
     "exception": false,
     "start_time": "2021-09-07T11:41:28.948755",
     "status": "completed"
    },
    "tags": []
   },
   "outputs": [
    {
     "data": {
      "text/html": [
       "<div>\n",
       "<style scoped>\n",
       "    .dataframe tbody tr th:only-of-type {\n",
       "        vertical-align: middle;\n",
       "    }\n",
       "\n",
       "    .dataframe tbody tr th {\n",
       "        vertical-align: top;\n",
       "    }\n",
       "\n",
       "    .dataframe thead th {\n",
       "        text-align: right;\n",
       "    }\n",
       "</style>\n",
       "<table border=\"1\" class=\"dataframe\">\n",
       "  <thead>\n",
       "    <tr style=\"text-align: right;\">\n",
       "      <th></th>\n",
       "      <th>school</th>\n",
       "      <th>school_type</th>\n",
       "      <th>classroom</th>\n",
       "      <th>teaching_method</th>\n",
       "      <th>n_student</th>\n",
       "      <th>gender</th>\n",
       "      <th>lunch</th>\n",
       "    </tr>\n",
       "    <tr>\n",
       "      <th>student_id</th>\n",
       "      <th></th>\n",
       "      <th></th>\n",
       "      <th></th>\n",
       "      <th></th>\n",
       "      <th></th>\n",
       "      <th></th>\n",
       "      <th></th>\n",
       "    </tr>\n",
       "  </thead>\n",
       "  <tbody>\n",
       "    <tr>\n",
       "      <th>MNVG5</th>\n",
       "      <td>18.0</td>\n",
       "      <td>0.0</td>\n",
       "      <td>53.0</td>\n",
       "      <td>0.0</td>\n",
       "      <td>15.0</td>\n",
       "      <td>0.0</td>\n",
       "      <td>1.0</td>\n",
       "    </tr>\n",
       "    <tr>\n",
       "      <th>LB2TH</th>\n",
       "      <td>6.0</td>\n",
       "      <td>1.0</td>\n",
       "      <td>95.0</td>\n",
       "      <td>1.0</td>\n",
       "      <td>27.0</td>\n",
       "      <td>1.0</td>\n",
       "      <td>1.0</td>\n",
       "    </tr>\n",
       "    <tr>\n",
       "      <th>ETDRG</th>\n",
       "      <td>2.0</td>\n",
       "      <td>0.0</td>\n",
       "      <td>62.0</td>\n",
       "      <td>1.0</td>\n",
       "      <td>17.0</td>\n",
       "      <td>0.0</td>\n",
       "      <td>0.0</td>\n",
       "    </tr>\n",
       "    <tr>\n",
       "      <th>TME5H</th>\n",
       "      <td>7.0</td>\n",
       "      <td>1.0</td>\n",
       "      <td>82.0</td>\n",
       "      <td>1.0</td>\n",
       "      <td>19.0</td>\n",
       "      <td>0.0</td>\n",
       "      <td>1.0</td>\n",
       "    </tr>\n",
       "    <tr>\n",
       "      <th>G8C0U</th>\n",
       "      <td>14.0</td>\n",
       "      <td>1.0</td>\n",
       "      <td>15.0</td>\n",
       "      <td>1.0</td>\n",
       "      <td>24.0</td>\n",
       "      <td>0.0</td>\n",
       "      <td>0.0</td>\n",
       "    </tr>\n",
       "  </tbody>\n",
       "</table>\n",
       "</div>"
      ],
      "text/plain": [
       "            school  school_type  classroom  teaching_method  n_student  \\\n",
       "student_id                                                               \n",
       "MNVG5         18.0          0.0       53.0              0.0       15.0   \n",
       "LB2TH          6.0          1.0       95.0              1.0       27.0   \n",
       "ETDRG          2.0          0.0       62.0              1.0       17.0   \n",
       "TME5H          7.0          1.0       82.0              1.0       19.0   \n",
       "G8C0U         14.0          1.0       15.0              1.0       24.0   \n",
       "\n",
       "            gender  lunch  \n",
       "student_id                 \n",
       "MNVG5          0.0    1.0  \n",
       "LB2TH          1.0    1.0  \n",
       "ETDRG          0.0    0.0  \n",
       "TME5H          0.0    1.0  \n",
       "G8C0U          0.0    0.0  "
      ]
     },
     "execution_count": 16,
     "metadata": {},
     "output_type": "execute_result"
    }
   ],
   "source": [
    "label_test.head()"
   ]
  },
  {
   "cell_type": "markdown",
   "id": "56093f0e",
   "metadata": {
    "papermill": {
     "duration": 0.049984,
     "end_time": "2021-09-07T11:41:29.117866",
     "exception": false,
     "start_time": "2021-09-07T11:41:29.067882",
     "status": "completed"
    },
    "tags": []
   },
   "source": [
    "# **이어붙여주기**"
   ]
  },
  {
   "cell_type": "code",
   "execution_count": 17,
   "id": "32a60e22",
   "metadata": {
    "execution": {
     "iopub.execute_input": "2021-09-07T11:41:29.226173Z",
     "iopub.status.busy": "2021-09-07T11:41:29.225347Z",
     "iopub.status.idle": "2021-09-07T11:41:29.249849Z",
     "shell.execute_reply": "2021-09-07T11:41:29.249459Z",
     "shell.execute_reply.started": "2021-09-07T11:38:41.438791Z"
    },
    "papermill": {
     "duration": 0.082096,
     "end_time": "2021-09-07T11:41:29.249982",
     "exception": false,
     "start_time": "2021-09-07T11:41:29.167886",
     "status": "completed"
    },
    "tags": []
   },
   "outputs": [
    {
     "data": {
      "text/html": [
       "<div>\n",
       "<style scoped>\n",
       "    .dataframe tbody tr th:only-of-type {\n",
       "        vertical-align: middle;\n",
       "    }\n",
       "\n",
       "    .dataframe tbody tr th {\n",
       "        vertical-align: top;\n",
       "    }\n",
       "\n",
       "    .dataframe thead th {\n",
       "        text-align: right;\n",
       "    }\n",
       "</style>\n",
       "<table border=\"1\" class=\"dataframe\">\n",
       "  <thead>\n",
       "    <tr style=\"text-align: right;\">\n",
       "      <th></th>\n",
       "      <th>school</th>\n",
       "      <th>school_type</th>\n",
       "      <th>classroom</th>\n",
       "      <th>teaching_method</th>\n",
       "      <th>n_student</th>\n",
       "      <th>gender</th>\n",
       "      <th>lunch</th>\n",
       "      <th>Rural</th>\n",
       "      <th>Suburban</th>\n",
       "      <th>Urban</th>\n",
       "    </tr>\n",
       "  </thead>\n",
       "  <tbody>\n",
       "    <tr>\n",
       "      <th>W20C6</th>\n",
       "      <td>8.0</td>\n",
       "      <td>1.0</td>\n",
       "      <td>45.0</td>\n",
       "      <td>1.0</td>\n",
       "      <td>28.0</td>\n",
       "      <td>0.0</td>\n",
       "      <td>1.0</td>\n",
       "      <td>0.0</td>\n",
       "      <td>0.0</td>\n",
       "      <td>1.0</td>\n",
       "    </tr>\n",
       "    <tr>\n",
       "      <th>A3JJP</th>\n",
       "      <td>8.0</td>\n",
       "      <td>1.0</td>\n",
       "      <td>83.0</td>\n",
       "      <td>0.0</td>\n",
       "      <td>26.0</td>\n",
       "      <td>0.0</td>\n",
       "      <td>1.0</td>\n",
       "      <td>0.0</td>\n",
       "      <td>0.0</td>\n",
       "      <td>1.0</td>\n",
       "    </tr>\n",
       "    <tr>\n",
       "      <th>UBDCF</th>\n",
       "      <td>4.0</td>\n",
       "      <td>1.0</td>\n",
       "      <td>65.0</td>\n",
       "      <td>0.0</td>\n",
       "      <td>20.0</td>\n",
       "      <td>1.0</td>\n",
       "      <td>1.0</td>\n",
       "      <td>0.0</td>\n",
       "      <td>1.0</td>\n",
       "      <td>0.0</td>\n",
       "    </tr>\n",
       "    <tr>\n",
       "      <th>QQJEC</th>\n",
       "      <td>8.0</td>\n",
       "      <td>1.0</td>\n",
       "      <td>83.0</td>\n",
       "      <td>0.0</td>\n",
       "      <td>26.0</td>\n",
       "      <td>0.0</td>\n",
       "      <td>1.0</td>\n",
       "      <td>0.0</td>\n",
       "      <td>0.0</td>\n",
       "      <td>1.0</td>\n",
       "    </tr>\n",
       "    <tr>\n",
       "      <th>3SWL5</th>\n",
       "      <td>17.0</td>\n",
       "      <td>0.0</td>\n",
       "      <td>73.0</td>\n",
       "      <td>1.0</td>\n",
       "      <td>15.0</td>\n",
       "      <td>0.0</td>\n",
       "      <td>0.0</td>\n",
       "      <td>0.0</td>\n",
       "      <td>1.0</td>\n",
       "      <td>0.0</td>\n",
       "    </tr>\n",
       "    <tr>\n",
       "      <th>...</th>\n",
       "      <td>...</td>\n",
       "      <td>...</td>\n",
       "      <td>...</td>\n",
       "      <td>...</td>\n",
       "      <td>...</td>\n",
       "      <td>...</td>\n",
       "      <td>...</td>\n",
       "      <td>...</td>\n",
       "      <td>...</td>\n",
       "      <td>...</td>\n",
       "    </tr>\n",
       "    <tr>\n",
       "      <th>XL3MD</th>\n",
       "      <td>19.0</td>\n",
       "      <td>1.0</td>\n",
       "      <td>35.0</td>\n",
       "      <td>1.0</td>\n",
       "      <td>21.0</td>\n",
       "      <td>1.0</td>\n",
       "      <td>0.0</td>\n",
       "      <td>1.0</td>\n",
       "      <td>0.0</td>\n",
       "      <td>0.0</td>\n",
       "    </tr>\n",
       "    <tr>\n",
       "      <th>7T7C2</th>\n",
       "      <td>2.0</td>\n",
       "      <td>0.0</td>\n",
       "      <td>37.0</td>\n",
       "      <td>1.0</td>\n",
       "      <td>21.0</td>\n",
       "      <td>1.0</td>\n",
       "      <td>0.0</td>\n",
       "      <td>0.0</td>\n",
       "      <td>0.0</td>\n",
       "      <td>1.0</td>\n",
       "    </tr>\n",
       "    <tr>\n",
       "      <th>XDNY7</th>\n",
       "      <td>11.0</td>\n",
       "      <td>1.0</td>\n",
       "      <td>17.0</td>\n",
       "      <td>1.0</td>\n",
       "      <td>24.0</td>\n",
       "      <td>0.0</td>\n",
       "      <td>1.0</td>\n",
       "      <td>1.0</td>\n",
       "      <td>0.0</td>\n",
       "      <td>0.0</td>\n",
       "    </tr>\n",
       "    <tr>\n",
       "      <th>AKDEM</th>\n",
       "      <td>14.0</td>\n",
       "      <td>1.0</td>\n",
       "      <td>84.0</td>\n",
       "      <td>0.0</td>\n",
       "      <td>25.0</td>\n",
       "      <td>0.0</td>\n",
       "      <td>0.0</td>\n",
       "      <td>0.0</td>\n",
       "      <td>0.0</td>\n",
       "      <td>1.0</td>\n",
       "    </tr>\n",
       "    <tr>\n",
       "      <th>UIM0F</th>\n",
       "      <td>4.0</td>\n",
       "      <td>1.0</td>\n",
       "      <td>10.0</td>\n",
       "      <td>1.0</td>\n",
       "      <td>27.0</td>\n",
       "      <td>1.0</td>\n",
       "      <td>1.0</td>\n",
       "      <td>0.0</td>\n",
       "      <td>1.0</td>\n",
       "      <td>0.0</td>\n",
       "    </tr>\n",
       "  </tbody>\n",
       "</table>\n",
       "<p>1706 rows × 10 columns</p>\n",
       "</div>"
      ],
      "text/plain": [
       "       school  school_type  classroom  teaching_method  n_student  gender  \\\n",
       "W20C6     8.0          1.0       45.0              1.0       28.0     0.0   \n",
       "A3JJP     8.0          1.0       83.0              0.0       26.0     0.0   \n",
       "UBDCF     4.0          1.0       65.0              0.0       20.0     1.0   \n",
       "QQJEC     8.0          1.0       83.0              0.0       26.0     0.0   \n",
       "3SWL5    17.0          0.0       73.0              1.0       15.0     0.0   \n",
       "...       ...          ...        ...              ...        ...     ...   \n",
       "XL3MD    19.0          1.0       35.0              1.0       21.0     1.0   \n",
       "7T7C2     2.0          0.0       37.0              1.0       21.0     1.0   \n",
       "XDNY7    11.0          1.0       17.0              1.0       24.0     0.0   \n",
       "AKDEM    14.0          1.0       84.0              0.0       25.0     0.0   \n",
       "UIM0F     4.0          1.0       10.0              1.0       27.0     1.0   \n",
       "\n",
       "       lunch  Rural  Suburban  Urban  \n",
       "W20C6    1.0    0.0       0.0    1.0  \n",
       "A3JJP    1.0    0.0       0.0    1.0  \n",
       "UBDCF    1.0    0.0       1.0    0.0  \n",
       "QQJEC    1.0    0.0       0.0    1.0  \n",
       "3SWL5    0.0    0.0       1.0    0.0  \n",
       "...      ...    ...       ...    ...  \n",
       "XL3MD    0.0    1.0       0.0    0.0  \n",
       "7T7C2    0.0    0.0       0.0    1.0  \n",
       "XDNY7    1.0    1.0       0.0    0.0  \n",
       "AKDEM    0.0    0.0       0.0    1.0  \n",
       "UIM0F    1.0    0.0       1.0    0.0  \n",
       "\n",
       "[1706 rows x 10 columns]"
      ]
     },
     "execution_count": 17,
     "metadata": {},
     "output_type": "execute_result"
    }
   ],
   "source": [
    "X = pd.concat([label_X, X_yes_school_onehot], axis=1)\n",
    "test_complete = pd.concat([label_test, test_yes_school_onehot], axis=1)\n",
    "# New_X = pd.concat(frames)\n",
    "# display(New_X)\n",
    "# print(frames)\n",
    "X\n",
    "\n",
    "# 왜 원핫한거 인덱스 주고, axis 1을 주니깐 해결이 되는거지??"
   ]
  },
  {
   "cell_type": "markdown",
   "id": "b2933dfa",
   "metadata": {
    "papermill": {
     "duration": 0.050444,
     "end_time": "2021-09-07T11:41:29.353543",
     "exception": false,
     "start_time": "2021-09-07T11:41:29.303099",
     "status": "completed"
    },
    "tags": []
   },
   "source": [
    "categorical variable을 숫자로 잘 바꾸어 주었습니다. Ordinal Encoder에 대해 잊어버린 분들은 kaggle course를 참고하세요.\n",
    "\n"
   ]
  },
  {
   "cell_type": "markdown",
   "id": "31c95dea",
   "metadata": {
    "papermill": {
     "duration": 0.051443,
     "end_time": "2021-09-07T11:41:29.455998",
     "exception": false,
     "start_time": "2021-09-07T11:41:29.404555",
     "status": "completed"
    },
    "tags": []
   },
   "source": [
    "random state는 같은 모델에 결과를 여러번 실행했을때 같게 만들어주기 위한 녀석임!"
   ]
  },
  {
   "cell_type": "markdown",
   "id": "957fe9ef",
   "metadata": {
    "papermill": {
     "duration": 0.051573,
     "end_time": "2021-09-07T11:41:29.558512",
     "exception": false,
     "start_time": "2021-09-07T11:41:29.506939",
     "status": "completed"
    },
    "tags": []
   },
   "source": [
    "# K-means"
   ]
  },
  {
   "cell_type": "code",
   "execution_count": 18,
   "id": "d3a9f060",
   "metadata": {
    "execution": {
     "iopub.execute_input": "2021-09-07T11:41:29.666754Z",
     "iopub.status.busy": "2021-09-07T11:41:29.665916Z",
     "iopub.status.idle": "2021-09-07T11:41:29.844874Z",
     "shell.execute_reply": "2021-09-07T11:41:29.845551Z",
     "shell.execute_reply.started": "2021-09-07T11:38:41.473208Z"
    },
    "papermill": {
     "duration": 0.236282,
     "end_time": "2021-09-07T11:41:29.845721",
     "exception": false,
     "start_time": "2021-09-07T11:41:29.609439",
     "status": "completed"
    },
    "tags": []
   },
   "outputs": [
    {
     "data": {
      "text/html": [
       "<div>\n",
       "<style scoped>\n",
       "    .dataframe tbody tr th:only-of-type {\n",
       "        vertical-align: middle;\n",
       "    }\n",
       "\n",
       "    .dataframe tbody tr th {\n",
       "        vertical-align: top;\n",
       "    }\n",
       "\n",
       "    .dataframe thead th {\n",
       "        text-align: right;\n",
       "    }\n",
       "</style>\n",
       "<table border=\"1\" class=\"dataframe\">\n",
       "  <thead>\n",
       "    <tr style=\"text-align: right;\">\n",
       "      <th></th>\n",
       "      <th>school</th>\n",
       "      <th>school_type</th>\n",
       "      <th>classroom</th>\n",
       "      <th>teaching_method</th>\n",
       "      <th>n_student</th>\n",
       "      <th>gender</th>\n",
       "      <th>lunch</th>\n",
       "      <th>Rural</th>\n",
       "      <th>Suburban</th>\n",
       "      <th>Urban</th>\n",
       "      <th>Cluster</th>\n",
       "    </tr>\n",
       "  </thead>\n",
       "  <tbody>\n",
       "    <tr>\n",
       "      <th>W20C6</th>\n",
       "      <td>8.0</td>\n",
       "      <td>1.0</td>\n",
       "      <td>45.0</td>\n",
       "      <td>1.0</td>\n",
       "      <td>28.0</td>\n",
       "      <td>0.0</td>\n",
       "      <td>1.0</td>\n",
       "      <td>0.0</td>\n",
       "      <td>0.0</td>\n",
       "      <td>1.0</td>\n",
       "      <td>0</td>\n",
       "    </tr>\n",
       "    <tr>\n",
       "      <th>A3JJP</th>\n",
       "      <td>8.0</td>\n",
       "      <td>1.0</td>\n",
       "      <td>83.0</td>\n",
       "      <td>0.0</td>\n",
       "      <td>26.0</td>\n",
       "      <td>0.0</td>\n",
       "      <td>1.0</td>\n",
       "      <td>0.0</td>\n",
       "      <td>0.0</td>\n",
       "      <td>1.0</td>\n",
       "      <td>2</td>\n",
       "    </tr>\n",
       "    <tr>\n",
       "      <th>UBDCF</th>\n",
       "      <td>4.0</td>\n",
       "      <td>1.0</td>\n",
       "      <td>65.0</td>\n",
       "      <td>0.0</td>\n",
       "      <td>20.0</td>\n",
       "      <td>1.0</td>\n",
       "      <td>1.0</td>\n",
       "      <td>0.0</td>\n",
       "      <td>1.0</td>\n",
       "      <td>0.0</td>\n",
       "      <td>0</td>\n",
       "    </tr>\n",
       "    <tr>\n",
       "      <th>QQJEC</th>\n",
       "      <td>8.0</td>\n",
       "      <td>1.0</td>\n",
       "      <td>83.0</td>\n",
       "      <td>0.0</td>\n",
       "      <td>26.0</td>\n",
       "      <td>0.0</td>\n",
       "      <td>1.0</td>\n",
       "      <td>0.0</td>\n",
       "      <td>0.0</td>\n",
       "      <td>1.0</td>\n",
       "      <td>2</td>\n",
       "    </tr>\n",
       "    <tr>\n",
       "      <th>3SWL5</th>\n",
       "      <td>17.0</td>\n",
       "      <td>0.0</td>\n",
       "      <td>73.0</td>\n",
       "      <td>1.0</td>\n",
       "      <td>15.0</td>\n",
       "      <td>0.0</td>\n",
       "      <td>0.0</td>\n",
       "      <td>0.0</td>\n",
       "      <td>1.0</td>\n",
       "      <td>0.0</td>\n",
       "      <td>2</td>\n",
       "    </tr>\n",
       "  </tbody>\n",
       "</table>\n",
       "</div>"
      ],
      "text/plain": [
       "       school  school_type  classroom  teaching_method  n_student  gender  \\\n",
       "W20C6     8.0          1.0       45.0              1.0       28.0     0.0   \n",
       "A3JJP     8.0          1.0       83.0              0.0       26.0     0.0   \n",
       "UBDCF     4.0          1.0       65.0              0.0       20.0     1.0   \n",
       "QQJEC     8.0          1.0       83.0              0.0       26.0     0.0   \n",
       "3SWL5    17.0          0.0       73.0              1.0       15.0     0.0   \n",
       "\n",
       "       lunch  Rural  Suburban  Urban Cluster  \n",
       "W20C6    1.0    0.0       0.0    1.0       0  \n",
       "A3JJP    1.0    0.0       0.0    1.0       2  \n",
       "UBDCF    1.0    0.0       1.0    0.0       0  \n",
       "QQJEC    1.0    0.0       0.0    1.0       2  \n",
       "3SWL5    0.0    0.0       1.0    0.0       2  "
      ]
     },
     "execution_count": 18,
     "metadata": {},
     "output_type": "execute_result"
    }
   ],
   "source": [
    "kmeans = KMeans(n_clusters=3)\n",
    "X[\"Cluster\"] = kmeans.fit_predict(X)\n",
    "X[\"Cluster\"] = X[\"Cluster\"].astype(\"category\")\n",
    "\n",
    "X.head()"
   ]
  },
  {
   "cell_type": "code",
   "execution_count": 19,
   "id": "2b5093cf",
   "metadata": {
    "execution": {
     "iopub.execute_input": "2021-09-07T11:41:29.993919Z",
     "iopub.status.busy": "2021-09-07T11:41:29.993286Z",
     "iopub.status.idle": "2021-09-07T11:41:29.994903Z",
     "shell.execute_reply": "2021-09-07T11:41:29.994446Z",
     "shell.execute_reply.started": "2021-09-07T11:38:41.602703Z"
    },
    "papermill": {
     "duration": 0.072736,
     "end_time": "2021-09-07T11:41:29.995018",
     "exception": false,
     "start_time": "2021-09-07T11:41:29.922282",
     "status": "completed"
    },
    "tags": []
   },
   "outputs": [],
   "source": [
    "X['Cluster'] = pd.to_numeric(X['Cluster'])"
   ]
  },
  {
   "cell_type": "code",
   "execution_count": 20,
   "id": "68699e07",
   "metadata": {
    "execution": {
     "iopub.execute_input": "2021-09-07T11:41:30.132269Z",
     "iopub.status.busy": "2021-09-07T11:41:30.131706Z",
     "iopub.status.idle": "2021-09-07T11:41:30.938728Z",
     "shell.execute_reply": "2021-09-07T11:41:30.937928Z",
     "shell.execute_reply.started": "2021-09-07T11:38:41.613409Z"
    },
    "papermill": {
     "duration": 0.881608,
     "end_time": "2021-09-07T11:41:30.938852",
     "exception": false,
     "start_time": "2021-09-07T11:41:30.057244",
     "status": "completed"
    },
    "tags": []
   },
   "outputs": [
    {
     "data": {
      "image/png": "[encoded data removed]",
      "text/plain": [
       "<Figure size 475.5x432 with 1 Axes>"
      ]
     },
     "metadata": {
      "needs_background": "light"
     },
     "output_type": "display_data"
    }
   ],
   "source": [
    "sns.relplot(\n",
    "    x=\"classroom\", y=\"n_student\", hue=\"Cluster\", data=X, height=6,\n",
    "); "
   ]
  },
  {
   "cell_type": "code",
   "execution_count": 21,
   "id": "df686824",
   "metadata": {
    "execution": {
     "iopub.execute_input": "2021-09-07T11:41:31.058422Z",
     "iopub.status.busy": "2021-09-07T11:41:31.057634Z",
     "iopub.status.idle": "2021-09-07T11:41:31.127406Z",
     "shell.execute_reply": "2021-09-07T11:41:31.127883Z",
     "shell.execute_reply.started": "2021-09-07T11:38:42.281433Z"
    },
    "papermill": {
     "duration": 0.131224,
     "end_time": "2021-09-07T11:41:31.128021",
     "exception": false,
     "start_time": "2021-09-07T11:41:30.996797",
     "status": "completed"
    },
    "tags": []
   },
   "outputs": [
    {
     "data": {
      "text/html": [
       "<div>\n",
       "<style scoped>\n",
       "    .dataframe tbody tr th:only-of-type {\n",
       "        vertical-align: middle;\n",
       "    }\n",
       "\n",
       "    .dataframe tbody tr th {\n",
       "        vertical-align: top;\n",
       "    }\n",
       "\n",
       "    .dataframe thead th {\n",
       "        text-align: right;\n",
       "    }\n",
       "</style>\n",
       "<table border=\"1\" class=\"dataframe\">\n",
       "  <thead>\n",
       "    <tr style=\"text-align: right;\">\n",
       "      <th></th>\n",
       "      <th>school</th>\n",
       "      <th>school_type</th>\n",
       "      <th>classroom</th>\n",
       "      <th>teaching_method</th>\n",
       "      <th>n_student</th>\n",
       "      <th>gender</th>\n",
       "      <th>lunch</th>\n",
       "      <th>Rural</th>\n",
       "      <th>Suburban</th>\n",
       "      <th>Urban</th>\n",
       "      <th>Cluster</th>\n",
       "    </tr>\n",
       "  </thead>\n",
       "  <tbody>\n",
       "    <tr>\n",
       "      <th>MNVG5</th>\n",
       "      <td>18.0</td>\n",
       "      <td>0.0</td>\n",
       "      <td>53.0</td>\n",
       "      <td>0.0</td>\n",
       "      <td>15.0</td>\n",
       "      <td>0.0</td>\n",
       "      <td>1.0</td>\n",
       "      <td>1.0</td>\n",
       "      <td>0.0</td>\n",
       "      <td>0.0</td>\n",
       "      <td>2</td>\n",
       "    </tr>\n",
       "    <tr>\n",
       "      <th>LB2TH</th>\n",
       "      <td>6.0</td>\n",
       "      <td>1.0</td>\n",
       "      <td>95.0</td>\n",
       "      <td>1.0</td>\n",
       "      <td>27.0</td>\n",
       "      <td>1.0</td>\n",
       "      <td>1.0</td>\n",
       "      <td>0.0</td>\n",
       "      <td>1.0</td>\n",
       "      <td>0.0</td>\n",
       "      <td>1</td>\n",
       "    </tr>\n",
       "    <tr>\n",
       "      <th>ETDRG</th>\n",
       "      <td>2.0</td>\n",
       "      <td>0.0</td>\n",
       "      <td>62.0</td>\n",
       "      <td>1.0</td>\n",
       "      <td>17.0</td>\n",
       "      <td>0.0</td>\n",
       "      <td>0.0</td>\n",
       "      <td>0.0</td>\n",
       "      <td>0.0</td>\n",
       "      <td>1.0</td>\n",
       "      <td>2</td>\n",
       "    </tr>\n",
       "    <tr>\n",
       "      <th>TME5H</th>\n",
       "      <td>7.0</td>\n",
       "      <td>1.0</td>\n",
       "      <td>82.0</td>\n",
       "      <td>1.0</td>\n",
       "      <td>19.0</td>\n",
       "      <td>0.0</td>\n",
       "      <td>1.0</td>\n",
       "      <td>1.0</td>\n",
       "      <td>0.0</td>\n",
       "      <td>0.0</td>\n",
       "      <td>1</td>\n",
       "    </tr>\n",
       "    <tr>\n",
       "      <th>G8C0U</th>\n",
       "      <td>14.0</td>\n",
       "      <td>1.0</td>\n",
       "      <td>15.0</td>\n",
       "      <td>1.0</td>\n",
       "      <td>24.0</td>\n",
       "      <td>0.0</td>\n",
       "      <td>0.0</td>\n",
       "      <td>0.0</td>\n",
       "      <td>0.0</td>\n",
       "      <td>1.0</td>\n",
       "      <td>0</td>\n",
       "    </tr>\n",
       "  </tbody>\n",
       "</table>\n",
       "</div>"
      ],
      "text/plain": [
       "       school  school_type  classroom  teaching_method  n_student  gender  \\\n",
       "MNVG5    18.0          0.0       53.0              0.0       15.0     0.0   \n",
       "LB2TH     6.0          1.0       95.0              1.0       27.0     1.0   \n",
       "ETDRG     2.0          0.0       62.0              1.0       17.0     0.0   \n",
       "TME5H     7.0          1.0       82.0              1.0       19.0     0.0   \n",
       "G8C0U    14.0          1.0       15.0              1.0       24.0     0.0   \n",
       "\n",
       "       lunch  Rural  Suburban  Urban Cluster  \n",
       "MNVG5    1.0    1.0       0.0    0.0       2  \n",
       "LB2TH    1.0    0.0       1.0    0.0       1  \n",
       "ETDRG    0.0    0.0       0.0    1.0       2  \n",
       "TME5H    1.0    1.0       0.0    0.0       1  \n",
       "G8C0U    0.0    0.0       0.0    1.0       0  "
      ]
     },
     "execution_count": 21,
     "metadata": {},
     "output_type": "execute_result"
    }
   ],
   "source": [
    "kmeans = KMeans(n_clusters=6)\n",
    "test_complete[\"Cluster\"] = kmeans.fit_predict(test_complete)\n",
    "test_complete[\"Cluster\"] = test_complete[\"Cluster\"].astype(\"category\")\n",
    "\n",
    "test_complete.head()"
   ]
  },
  {
   "cell_type": "code",
   "execution_count": 22,
   "id": "fd3f4c6f",
   "metadata": {
    "execution": {
     "iopub.execute_input": "2021-09-07T11:41:31.266241Z",
     "iopub.status.busy": "2021-09-07T11:41:31.265408Z",
     "iopub.status.idle": "2021-09-07T11:41:31.267657Z",
     "shell.execute_reply": "2021-09-07T11:41:31.268131Z",
     "shell.execute_reply.started": "2021-09-07T11:38:42.365618Z"
    },
    "papermill": {
     "duration": 0.073229,
     "end_time": "2021-09-07T11:41:31.268306",
     "exception": false,
     "start_time": "2021-09-07T11:41:31.195077",
     "status": "completed"
    },
    "tags": []
   },
   "outputs": [],
   "source": [
    "test_complete['Cluster'] = pd.to_numeric(test_complete['Cluster'])"
   ]
  },
  {
   "cell_type": "code",
   "execution_count": 23,
   "id": "662198c2",
   "metadata": {
    "execution": {
     "iopub.execute_input": "2021-09-07T11:41:31.402926Z",
     "iopub.status.busy": "2021-09-07T11:41:31.402295Z",
     "iopub.status.idle": "2021-09-07T11:41:31.404783Z",
     "shell.execute_reply": "2021-09-07T11:41:31.403438Z",
     "shell.execute_reply.started": "2021-09-07T11:38:42.378146Z"
    },
    "papermill": {
     "duration": 0.073217,
     "end_time": "2021-09-07T11:41:31.404899",
     "exception": false,
     "start_time": "2021-09-07T11:41:31.331682",
     "status": "completed"
    },
    "tags": []
   },
   "outputs": [
    {
     "data": {
      "text/plain": [
       "pandas.core.series.Series"
      ]
     },
     "execution_count": 23,
     "metadata": {},
     "output_type": "execute_result"
    }
   ],
   "source": [
    "type(test_complete['Cluster'])\n",
    "# 판다스 시리즈 구글링이나 기초"
   ]
  },
  {
   "cell_type": "code",
   "execution_count": 24,
   "id": "94bf982b",
   "metadata": {
    "execution": {
     "iopub.execute_input": "2021-09-07T11:41:31.541231Z",
     "iopub.status.busy": "2021-09-07T11:41:31.540657Z",
     "iopub.status.idle": "2021-09-07T11:41:31.543264Z",
     "shell.execute_reply": "2021-09-07T11:41:31.543665Z",
     "shell.execute_reply.started": "2021-09-07T11:38:42.392107Z"
    },
    "papermill": {
     "duration": 0.073826,
     "end_time": "2021-09-07T11:41:31.543801",
     "exception": false,
     "start_time": "2021-09-07T11:41:31.469975",
     "status": "completed"
    },
    "tags": []
   },
   "outputs": [],
   "source": [
    "X_train, X_val, y_train, y_val = train_test_split(X, y, test_size=0.001, random_state=3, shuffle=True)\n",
    "# # kfold cross validition 해보기"
   ]
  },
  {
   "cell_type": "markdown",
   "id": "d0972c19",
   "metadata": {
    "papermill": {
     "duration": 0.06429,
     "end_time": "2021-09-07T11:41:31.672445",
     "exception": false,
     "start_time": "2021-09-07T11:41:31.608155",
     "status": "completed"
    },
    "tags": []
   },
   "source": [
    "# Model train"
   ]
  },
  {
   "cell_type": "markdown",
   "id": "fdc85ec1",
   "metadata": {
    "papermill": {
     "duration": 0.063967,
     "end_time": "2021-09-07T11:41:31.800580",
     "exception": false,
     "start_time": "2021-09-07T11:41:31.736613",
     "status": "completed"
    },
    "tags": []
   },
   "source": [
    "# Optuna test"
   ]
  },
  {
   "cell_type": "code",
   "execution_count": 25,
   "id": "681e33a7",
   "metadata": {
    "execution": {
     "iopub.execute_input": "2021-09-07T11:41:31.936575Z",
     "iopub.status.busy": "2021-09-07T11:41:31.935874Z",
     "iopub.status.idle": "2021-09-07T11:41:31.937601Z",
     "shell.execute_reply": "2021-09-07T11:41:31.937114Z",
     "shell.execute_reply.started": "2021-09-07T11:38:42.404948Z"
    },
    "papermill": {
     "duration": 0.071706,
     "end_time": "2021-09-07T11:41:31.937719",
     "exception": false,
     "start_time": "2021-09-07T11:41:31.866013",
     "status": "completed"
    },
    "tags": []
   },
   "outputs": [],
   "source": [
    "# def lgbm_objective(trial):\n",
    "#     # To select which parameters to optimize, please look at the XGBoost documentation:\n",
    "#     # https://xgboost.readthedocs.io/en/latest/parameter.html\n",
    "#     param = {\n",
    "#         \"objective\": \"regression\",\n",
    "#         \"metric\": \"mae\",\n",
    "#         \"verbosity\": -1,\n",
    "#         \"boosting_type\": \"gbdt\",\n",
    "#         \"lambda_l1\": trial.suggest_float(\"lambda_l1\", 1e-8, 10.0, log=True),\n",
    "#         \"lambda_l2\": trial.suggest_float(\"lambda_l2\", 1e-8, 10.0, log=True),\n",
    "#         \"num_leaves\": trial.suggest_int(\"num_leaves\", 2, 256),\n",
    "#         \"feature_fraction\": trial.suggest_float(\"feature_fraction\", 0.4, 1.0),\n",
    "#         \"bagging_fraction\": trial.suggest_float(\"bagging_fraction\", 0.4, 1.0),\n",
    "#         \"bagging_freq\": trial.suggest_int(\"bagging_freq\", 1, 7),\n",
    "#         \"min_child_samples\": trial.suggest_int(\"min_child_samples\", 5, 100),\n",
    "#     }\n",
    "#     model = LGBMRegressor(**param)  \n",
    "    \n",
    "#     model.fit(X_train,y_train,eval_set=[(X_val,y_val)],early_stopping_rounds=100,verbose=False)\n",
    "    \n",
    "#     preds = model.predict(X_val)\n",
    "    \n",
    "#     mae = mean_absolute_error(y_val, preds)\n",
    "    \n",
    "#     return mae"
   ]
  },
  {
   "cell_type": "code",
   "execution_count": 26,
   "id": "c72e4356",
   "metadata": {
    "execution": {
     "iopub.execute_input": "2021-09-07T11:41:32.074850Z",
     "iopub.status.busy": "2021-09-07T11:41:32.074204Z",
     "iopub.status.idle": "2021-09-07T11:41:32.075957Z",
     "shell.execute_reply": "2021-09-07T11:41:32.075445Z",
     "shell.execute_reply.started": "2021-09-07T11:38:42.415719Z"
    },
    "papermill": {
     "duration": 0.071467,
     "end_time": "2021-09-07T11:41:32.076089",
     "exception": false,
     "start_time": "2021-09-07T11:41:32.004622",
     "status": "completed"
    },
    "tags": []
   },
   "outputs": [],
   "source": [
    "# study = optuna.create_study(direction='minimize')\n",
    "# study.optimize(lgbm_objective, n_trials=2)\n",
    "# print('Number of finished trials:', len(study.trials))\n",
    "# print('Best trial:', study.best_trial.params)"
   ]
  },
  {
   "cell_type": "code",
   "execution_count": 27,
   "id": "97e8f48b",
   "metadata": {
    "execution": {
     "iopub.execute_input": "2021-09-07T11:41:32.190905Z",
     "iopub.status.busy": "2021-09-07T11:41:32.189997Z",
     "iopub.status.idle": "2021-09-07T11:41:32.192082Z",
     "shell.execute_reply": "2021-09-07T11:41:32.192549Z",
     "shell.execute_reply.started": "2021-09-07T11:38:42.425985Z"
    },
    "papermill": {
     "duration": 0.058984,
     "end_time": "2021-09-07T11:41:32.192668",
     "exception": false,
     "start_time": "2021-09-07T11:41:32.133684",
     "status": "completed"
    },
    "tags": []
   },
   "outputs": [],
   "source": [
    "# lgbm_params = {'lambda_l1': 0.5200298693537239, \n",
    "#                'lambda_l2': 1.0774696077969569e-05, \n",
    "#                'num_leaves': 35, \n",
    "#                'feature_fraction': 0.46695498134027, \n",
    "#                'bagging_fraction': 0.807491141571741, \n",
    "#                'bagging_freq': 6, \n",
    "#                'min_child_samples': 79}\n",
    "# model = LGBMRegressor(**lgbm_params)  \n",
    "    \n",
    "# model.fit(X_train,y_train,eval_set=[(X_val,y_val)],early_stopping_rounds=100,verbose=False)\n",
    "\n",
    "# preds = model.predict(X_val)\n",
    "\n",
    "# mae = mean_absolute_error(y_val, preds)\n",
    "\n",
    "# print(mae)\n",
    "\n",
    "# # 7000번 돌려본 하이퍼 파라미터 mae -> 0.5090937419732455"
   ]
  },
  {
   "cell_type": "code",
   "execution_count": 28,
   "id": "7ddd24e1",
   "metadata": {
    "execution": {
     "iopub.execute_input": "2021-09-07T11:41:32.301118Z",
     "iopub.status.busy": "2021-09-07T11:41:32.300455Z",
     "iopub.status.idle": "2021-09-07T11:41:32.303174Z",
     "shell.execute_reply": "2021-09-07T11:41:32.302665Z",
     "shell.execute_reply.started": "2021-09-07T11:38:42.433966Z"
    },
    "papermill": {
     "duration": 0.057932,
     "end_time": "2021-09-07T11:41:32.303275",
     "exception": false,
     "start_time": "2021-09-07T11:41:32.245343",
     "status": "completed"
    },
    "tags": []
   },
   "outputs": [],
   "source": [
    "# # optuna lgbm predict\n",
    "# pred_lgb_optuna = model.predict(test_complete)"
   ]
  },
  {
   "cell_type": "markdown",
   "id": "9c34be7b",
   "metadata": {
    "papermill": {
     "duration": 0.052639,
     "end_time": "2021-09-07T11:41:32.408564",
     "exception": false,
     "start_time": "2021-09-07T11:41:32.355925",
     "status": "completed"
    },
    "tags": []
   },
   "source": [
    "그다지 성능이 좋진 않았다.........."
   ]
  },
  {
   "cell_type": "markdown",
   "id": "b244a0d5",
   "metadata": {
    "papermill": {
     "duration": 0.052547,
     "end_time": "2021-09-07T11:41:32.514157",
     "exception": false,
     "start_time": "2021-09-07T11:41:32.461610",
     "status": "completed"
    },
    "tags": []
   },
   "source": [
    "# Ensemble_build_Up"
   ]
  },
  {
   "cell_type": "code",
   "execution_count": 29,
   "id": "92353630",
   "metadata": {
    "execution": {
     "iopub.execute_input": "2021-09-07T11:41:32.624586Z",
     "iopub.status.busy": "2021-09-07T11:41:32.623834Z",
     "iopub.status.idle": "2021-09-07T11:41:32.626057Z",
     "shell.execute_reply": "2021-09-07T11:41:32.626488Z",
     "shell.execute_reply.started": "2021-09-07T11:38:42.441942Z"
    },
    "papermill": {
     "duration": 0.059752,
     "end_time": "2021-09-07T11:41:32.626618",
     "exception": false,
     "start_time": "2021-09-07T11:41:32.566866",
     "status": "completed"
    },
    "tags": []
   },
   "outputs": [],
   "source": [
    "#Validation function\n",
    "n_folds = 5\n",
    "\n",
    "def rmsle_cv(model):\n",
    "    kf = KFold(n_folds, shuffle=True, random_state=42).get_n_splits(X_train.values)\n",
    "    rmse= np.sqrt(-cross_val_score(model, X_train.values, y_train, scoring=\"neg_mean_squared_error\", cv = kf))\n",
    "    return(rmse)"
   ]
  },
  {
   "cell_type": "markdown",
   "id": "e5b20c10",
   "metadata": {
    "papermill": {
     "duration": 0.052674,
     "end_time": "2021-09-07T11:41:32.732160",
     "exception": false,
     "start_time": "2021-09-07T11:41:32.679486",
     "status": "completed"
    },
    "tags": []
   },
   "source": [
    "# xgboost"
   ]
  },
  {
   "cell_type": "code",
   "execution_count": 30,
   "id": "08befb94",
   "metadata": {
    "execution": {
     "iopub.execute_input": "2021-09-07T11:41:32.843372Z",
     "iopub.status.busy": "2021-09-07T11:41:32.842550Z",
     "iopub.status.idle": "2021-09-07T11:41:32.844655Z",
     "shell.execute_reply": "2021-09-07T11:41:32.845032Z",
     "shell.execute_reply.started": "2021-09-07T11:38:42.458417Z"
    },
    "papermill": {
     "duration": 0.060497,
     "end_time": "2021-09-07T11:41:32.845178",
     "exception": false,
     "start_time": "2021-09-07T11:41:32.784681",
     "status": "completed"
    },
    "tags": []
   },
   "outputs": [],
   "source": [
    "model_xgb = xgboost.XGBRegressor(colsample_bytree=0.4603, gamma=0.0468, \n",
    "                             learning_rate=0.08, max_depth=3, \n",
    "                             min_child_weight=1.7817, n_estimators=2200,\n",
    "                             reg_alpha=0.4640, reg_lambda=0.8571,\n",
    "                             subsample=0.5213, silent=1,\n",
    "                             random_state =7, nthread = -1)"
   ]
  },
  {
   "cell_type": "code",
   "execution_count": 31,
   "id": "d61bb000",
   "metadata": {
    "execution": {
     "iopub.execute_input": "2021-09-07T11:41:32.958183Z",
     "iopub.status.busy": "2021-09-07T11:41:32.957370Z",
     "iopub.status.idle": "2021-09-07T11:41:39.409256Z",
     "shell.execute_reply": "2021-09-07T11:41:39.409752Z",
     "shell.execute_reply.started": "2021-09-07T11:38:42.471181Z"
    },
    "papermill": {
     "duration": 6.511162,
     "end_time": "2021-09-07T11:41:39.409945",
     "exception": false,
     "start_time": "2021-09-07T11:41:32.898783",
     "status": "completed"
    },
    "tags": []
   },
   "outputs": [
    {
     "name": "stdout",
     "output_type": "stream",
     "text": [
      "[11:41:33] WARNING: ../src/learner.cc:573: \n",
      "Parameters: { \"silent\" } might not be used.\n",
      "\n",
      "  This may not be accurate due to some parameters are only used in language bindings but\n",
      "  passed down to XGBoost core.  Or some parameters are not used but slip through this\n",
      "  verification. Please open an issue if you find above cases.\n",
      "\n",
      "\n",
      "[11:41:34] WARNING: ../src/learner.cc:573: \n",
      "Parameters: { \"silent\" } might not be used.\n",
      "\n",
      "  This may not be accurate due to some parameters are only used in language bindings but\n",
      "  passed down to XGBoost core.  Or some parameters are not used but slip through this\n",
      "  verification. Please open an issue if you find above cases.\n",
      "\n",
      "\n",
      "[11:41:35] WARNING: ../src/learner.cc:573: \n",
      "Parameters: { \"silent\" } might not be used.\n",
      "\n",
      "  This may not be accurate due to some parameters are only used in language bindings but\n",
      "  passed down to XGBoost core.  Or some parameters are not used but slip through this\n",
      "  verification. Please open an issue if you find above cases.\n",
      "\n",
      "\n",
      "[11:41:36] WARNING: ../src/learner.cc:573: \n",
      "Parameters: { \"silent\" } might not be used.\n",
      "\n",
      "  This may not be accurate due to some parameters are only used in language bindings but\n",
      "  passed down to XGBoost core.  Or some parameters are not used but slip through this\n",
      "  verification. Please open an issue if you find above cases.\n",
      "\n",
      "\n",
      "[11:41:38] WARNING: ../src/learner.cc:573: \n",
      "Parameters: { \"silent\" } might not be used.\n",
      "\n",
      "  This may not be accurate due to some parameters are only used in language bindings but\n",
      "  passed down to XGBoost core.  Or some parameters are not used but slip through this\n",
      "  verification. Please open an issue if you find above cases.\n",
      "\n",
      "\n",
      "XGBRegressor score: 3.1945 (0.1834)\n"
     ]
    }
   ],
   "source": [
    "score = rmsle_cv(model_xgb)\n",
    "xgb_score = score.mean()\n",
    "print(\"XGBRegressor score: {:.4f} ({:.4f})\".format(score.mean(), score.std()))"
   ]
  },
  {
   "cell_type": "markdown",
   "id": "5fd539dc",
   "metadata": {
    "papermill": {
     "duration": 0.054953,
     "end_time": "2021-09-07T11:41:39.527672",
     "exception": false,
     "start_time": "2021-09-07T11:41:39.472719",
     "status": "completed"
    },
    "tags": []
   },
   "source": [
    "# lgbm"
   ]
  },
  {
   "cell_type": "code",
   "execution_count": 32,
   "id": "42c8f5e2",
   "metadata": {
    "execution": {
     "iopub.execute_input": "2021-09-07T11:41:39.642909Z",
     "iopub.status.busy": "2021-09-07T11:41:39.641986Z",
     "iopub.status.idle": "2021-09-07T11:41:39.644204Z",
     "shell.execute_reply": "2021-09-07T11:41:39.644577Z",
     "shell.execute_reply.started": "2021-09-07T11:38:49.712876Z"
    },
    "papermill": {
     "duration": 0.062048,
     "end_time": "2021-09-07T11:41:39.644707",
     "exception": false,
     "start_time": "2021-09-07T11:41:39.582659",
     "status": "completed"
    },
    "tags": []
   },
   "outputs": [],
   "source": [
    "model_lgb = lgb.LGBMRegressor(objective='regression',num_leaves=5,\n",
    "                              learning_rate=0.08, n_estimators=20000,\n",
    "                              max_bin = 55, bagging_fraction = 0.8,\n",
    "                              bagging_freq = 5, feature_fraction = 0.2319,\n",
    "                              feature_fraction_seed=9, bagging_seed=9,\n",
    "                              min_data_in_leaf =6, min_sum_hessian_in_leaf = 11\n",
    "                             )"
   ]
  },
  {
   "cell_type": "code",
   "execution_count": 33,
   "id": "d4f825a4",
   "metadata": {
    "execution": {
     "iopub.execute_input": "2021-09-07T11:41:39.759660Z",
     "iopub.status.busy": "2021-09-07T11:41:39.758886Z",
     "iopub.status.idle": "2021-09-07T11:42:00.700109Z",
     "shell.execute_reply": "2021-09-07T11:42:00.699627Z",
     "shell.execute_reply.started": "2021-09-07T11:38:49.732631Z"
    },
    "papermill": {
     "duration": 21.000626,
     "end_time": "2021-09-07T11:42:00.700263",
     "exception": false,
     "start_time": "2021-09-07T11:41:39.699637",
     "status": "completed"
    },
    "tags": []
   },
   "outputs": [
    {
     "name": "stdout",
     "output_type": "stream",
     "text": [
      "[LightGBM] [Warning] feature_fraction is set=0.2319, colsample_bytree=1.0 will be ignored. Current value: feature_fraction=0.2319\n",
      "[LightGBM] [Warning] min_sum_hessian_in_leaf is set=11, min_child_weight=0.001 will be ignored. Current value: min_sum_hessian_in_leaf=11\n",
      "[LightGBM] [Warning] min_data_in_leaf is set=6, min_child_samples=20 will be ignored. Current value: min_data_in_leaf=6\n",
      "[LightGBM] [Warning] bagging_freq is set=5, subsample_freq=0 will be ignored. Current value: bagging_freq=5\n",
      "[LightGBM] [Warning] bagging_fraction is set=0.8, subsample=1.0 will be ignored. Current value: bagging_fraction=0.8\n",
      "[LightGBM] [Warning] feature_fraction is set=0.2319, colsample_bytree=1.0 will be ignored. Current value: feature_fraction=0.2319\n",
      "[LightGBM] [Warning] min_sum_hessian_in_leaf is set=11, min_child_weight=0.001 will be ignored. Current value: min_sum_hessian_in_leaf=11\n",
      "[LightGBM] [Warning] min_data_in_leaf is set=6, min_child_samples=20 will be ignored. Current value: min_data_in_leaf=6\n",
      "[LightGBM] [Warning] bagging_freq is set=5, subsample_freq=0 will be ignored. Current value: bagging_freq=5\n",
      "[LightGBM] [Warning] bagging_fraction is set=0.8, subsample=1.0 will be ignored. Current value: bagging_fraction=0.8\n",
      "[LightGBM] [Warning] feature_fraction is set=0.2319, colsample_bytree=1.0 will be ignored. Current value: feature_fraction=0.2319\n",
      "[LightGBM] [Warning] min_sum_hessian_in_leaf is set=11, min_child_weight=0.001 will be ignored. Current value: min_sum_hessian_in_leaf=11\n",
      "[LightGBM] [Warning] min_data_in_leaf is set=6, min_child_samples=20 will be ignored. Current value: min_data_in_leaf=6\n",
      "[LightGBM] [Warning] bagging_freq is set=5, subsample_freq=0 will be ignored. Current value: bagging_freq=5\n",
      "[LightGBM] [Warning] bagging_fraction is set=0.8, subsample=1.0 will be ignored. Current value: bagging_fraction=0.8\n",
      "[LightGBM] [Warning] feature_fraction is set=0.2319, colsample_bytree=1.0 will be ignored. Current value: feature_fraction=0.2319\n",
      "[LightGBM] [Warning] min_sum_hessian_in_leaf is set=11, min_child_weight=0.001 will be ignored. Current value: min_sum_hessian_in_leaf=11\n",
      "[LightGBM] [Warning] min_data_in_leaf is set=6, min_child_samples=20 will be ignored. Current value: min_data_in_leaf=6\n",
      "[LightGBM] [Warning] bagging_freq is set=5, subsample_freq=0 will be ignored. Current value: bagging_freq=5\n",
      "[LightGBM] [Warning] bagging_fraction is set=0.8, subsample=1.0 will be ignored. Current value: bagging_fraction=0.8\n",
      "[LightGBM] [Warning] feature_fraction is set=0.2319, colsample_bytree=1.0 will be ignored. Current value: feature_fraction=0.2319\n",
      "[LightGBM] [Warning] min_sum_hessian_in_leaf is set=11, min_child_weight=0.001 will be ignored. Current value: min_sum_hessian_in_leaf=11\n",
      "[LightGBM] [Warning] min_data_in_leaf is set=6, min_child_samples=20 will be ignored. Current value: min_data_in_leaf=6\n",
      "[LightGBM] [Warning] bagging_freq is set=5, subsample_freq=0 will be ignored. Current value: bagging_freq=5\n",
      "[LightGBM] [Warning] bagging_fraction is set=0.8, subsample=1.0 will be ignored. Current value: bagging_fraction=0.8\n",
      "LGBMRegressor score: 3.2293 (0.1992)\n"
     ]
    }
   ],
   "source": [
    "score = rmsle_cv(model_lgb)\n",
    "lgb_score = score.mean()\n",
    "print(\"LGBMRegressor score: {:.4f} ({:.4f})\".format(score.mean(), score.std()))\n",
    "\n",
    "# 3.206 -> estimators = 1500\n",
    "# 3.306 -> estimaotrs = 1000\n",
    "# 3.1939 -> estimaotrs = 115000 "
   ]
  },
  {
   "cell_type": "markdown",
   "id": "f5a0e44b",
   "metadata": {
    "papermill": {
     "duration": 0.056175,
     "end_time": "2021-09-07T11:42:00.813595",
     "exception": false,
     "start_time": "2021-09-07T11:42:00.757420",
     "status": "completed"
    },
    "tags": []
   },
   "source": [
    "# Catboostregressor"
   ]
  },
  {
   "cell_type": "code",
   "execution_count": 34,
   "id": "24130ad4",
   "metadata": {
    "execution": {
     "iopub.execute_input": "2021-09-07T11:42:00.937888Z",
     "iopub.status.busy": "2021-09-07T11:42:00.937270Z",
     "iopub.status.idle": "2021-09-07T11:42:00.940718Z",
     "shell.execute_reply": "2021-09-07T11:42:00.940219Z",
     "shell.execute_reply.started": "2021-09-07T11:39:09.434166Z"
    },
    "papermill": {
     "duration": 0.068339,
     "end_time": "2021-09-07T11:42:00.940848",
     "exception": false,
     "start_time": "2021-09-07T11:42:00.872509",
     "status": "completed"
    },
    "tags": []
   },
   "outputs": [],
   "source": [
    "model_CBR = CatBoostRegressor(iterations=1900,\n",
    "                              learning_rate=0.08,\n",
    "                              depth=4,\n",
    "                              l2_leaf_reg=20,\n",
    "                              bootstrap_type='Bernoulli',\n",
    "                              subsample=0.6, eval_metric='RMSE',\n",
    "                              metric_period=50, od_type='Iter',\n",
    "                              od_wait=45, random_seed=17,\n",
    "                              allow_writing_files=False, verbose=False\n",
    "                                )"
   ]
  },
  {
   "cell_type": "code",
   "execution_count": 35,
   "id": "65e1c80a",
   "metadata": {
    "execution": {
     "iopub.execute_input": "2021-09-07T11:42:01.074281Z",
     "iopub.status.busy": "2021-09-07T11:42:01.073232Z",
     "iopub.status.idle": "2021-09-07T11:42:03.966403Z",
     "shell.execute_reply": "2021-09-07T11:42:03.967103Z",
     "shell.execute_reply.started": "2021-09-07T11:39:09.443413Z"
    },
    "papermill": {
     "duration": 2.961998,
     "end_time": "2021-09-07T11:42:03.967262",
     "exception": false,
     "start_time": "2021-09-07T11:42:01.005264",
     "status": "completed"
    },
    "tags": []
   },
   "outputs": [
    {
     "name": "stdout",
     "output_type": "stream",
     "text": [
      "CatBoostRegressor score: 3.2189 (0.1913)\n"
     ]
    }
   ],
   "source": [
    "score = rmsle_cv(model_CBR)\n",
    "CBR_score = score.mean()\n",
    "print(\"CatBoostRegressor score: {:.4f} ({:.4f})\".format(score.mean(), score.std()))\n",
    "\n",
    "# 3.22 -> 2000\n",
    "# 3.2255 -> iteration"
   ]
  },
  {
   "cell_type": "markdown",
   "id": "8eebe16f",
   "metadata": {
    "papermill": {
     "duration": 0.057619,
     "end_time": "2021-09-07T11:42:04.083499",
     "exception": false,
     "start_time": "2021-09-07T11:42:04.025880",
     "status": "completed"
    },
    "tags": []
   },
   "source": [
    "# Model fit & predict"
   ]
  },
  {
   "cell_type": "code",
   "execution_count": 36,
   "id": "be017402",
   "metadata": {
    "execution": {
     "iopub.execute_input": "2021-09-07T11:42:04.210137Z",
     "iopub.status.busy": "2021-09-07T11:42:04.202650Z",
     "iopub.status.idle": "2021-09-07T11:42:10.063261Z",
     "shell.execute_reply": "2021-09-07T11:42:10.062451Z",
     "shell.execute_reply.started": "2021-09-07T11:39:12.544435Z"
    },
    "papermill": {
     "duration": 5.92193,
     "end_time": "2021-09-07T11:42:10.063395",
     "exception": false,
     "start_time": "2021-09-07T11:42:04.141465",
     "status": "completed"
    },
    "tags": []
   },
   "outputs": [
    {
     "name": "stdout",
     "output_type": "stream",
     "text": [
      "[11:42:04] WARNING: ../src/learner.cc:573: \n",
      "Parameters: { \"silent\" } might not be used.\n",
      "\n",
      "  This may not be accurate due to some parameters are only used in language bindings but\n",
      "  passed down to XGBoost core.  Or some parameters are not used but slip through this\n",
      "  verification. Please open an issue if you find above cases.\n",
      "\n",
      "\n",
      "[LightGBM] [Warning] feature_fraction is set=0.2319, colsample_bytree=1.0 will be ignored. Current value: feature_fraction=0.2319\n",
      "[LightGBM] [Warning] min_sum_hessian_in_leaf is set=11, min_child_weight=0.001 will be ignored. Current value: min_sum_hessian_in_leaf=11\n",
      "[LightGBM] [Warning] min_data_in_leaf is set=6, min_child_samples=20 will be ignored. Current value: min_data_in_leaf=6\n",
      "[LightGBM] [Warning] bagging_freq is set=5, subsample_freq=0 will be ignored. Current value: bagging_freq=5\n",
      "[LightGBM] [Warning] bagging_fraction is set=0.8, subsample=1.0 will be ignored. Current value: bagging_fraction=0.8\n"
     ]
    },
    {
     "data": {
      "text/plain": [
       "<catboost.core.CatBoostRegressor at 0x7f476df8f090>"
      ]
     },
     "execution_count": 36,
     "metadata": {},
     "output_type": "execute_result"
    }
   ],
   "source": [
    "model_xgb.fit(X_train, y_train)\n",
    "model_lgb.fit(X_train, y_train)\n",
    "model_CBR.fit(X_train, y_train)"
   ]
  },
  {
   "cell_type": "code",
   "execution_count": 37,
   "id": "db818fb1",
   "metadata": {
    "execution": {
     "iopub.execute_input": "2021-09-07T11:42:10.184262Z",
     "iopub.status.busy": "2021-09-07T11:42:10.183576Z",
     "iopub.status.idle": "2021-09-07T11:42:10.186901Z",
     "shell.execute_reply": "2021-09-07T11:42:10.186396Z",
     "shell.execute_reply.started": "2021-09-07T11:39:19.248080Z"
    },
    "papermill": {
     "duration": 0.06497,
     "end_time": "2021-09-07T11:42:10.187006",
     "exception": false,
     "start_time": "2021-09-07T11:42:10.122036",
     "status": "completed"
    },
    "tags": []
   },
   "outputs": [
    {
     "data": {
      "text/plain": [
       "pandas.core.series.Series"
      ]
     },
     "execution_count": 37,
     "metadata": {},
     "output_type": "execute_result"
    }
   ],
   "source": [
    "type(X['Cluster'])"
   ]
  },
  {
   "cell_type": "code",
   "execution_count": 38,
   "id": "8ad1ee39",
   "metadata": {
    "execution": {
     "iopub.execute_input": "2021-09-07T11:42:10.319192Z",
     "iopub.status.busy": "2021-09-07T11:42:10.310308Z",
     "iopub.status.idle": "2021-09-07T11:42:10.630386Z",
     "shell.execute_reply": "2021-09-07T11:42:10.630797Z",
     "shell.execute_reply.started": "2021-09-07T11:39:19.255934Z"
    },
    "papermill": {
     "duration": 0.385259,
     "end_time": "2021-09-07T11:42:10.630967",
     "exception": false,
     "start_time": "2021-09-07T11:42:10.245708",
     "status": "completed"
    },
    "tags": []
   },
   "outputs": [],
   "source": [
    "pred_xgb = model_xgb.predict(test_complete)\n",
    "pred_lgb = model_lgb.predict(test_complete)\n",
    "pred_CBR = model_CBR.predict(test_complete)"
   ]
  },
  {
   "cell_type": "markdown",
   "id": "f1567cde",
   "metadata": {
    "papermill": {
     "duration": 0.077032,
     "end_time": "2021-09-07T11:42:10.766927",
     "exception": false,
     "start_time": "2021-09-07T11:42:10.689895",
     "status": "completed"
    },
    "tags": []
   },
   "source": [
    "# 결과값 ensemble"
   ]
  },
  {
   "cell_type": "code",
   "execution_count": 39,
   "id": "5b2d895c",
   "metadata": {
    "execution": {
     "iopub.execute_input": "2021-09-07T11:42:10.972912Z",
     "iopub.status.busy": "2021-09-07T11:42:10.972094Z",
     "iopub.status.idle": "2021-09-07T11:42:10.974632Z",
     "shell.execute_reply": "2021-09-07T11:42:10.975189Z",
     "shell.execute_reply.started": "2021-09-07T11:39:19.591007Z"
    },
    "papermill": {
     "duration": 0.102629,
     "end_time": "2021-09-07T11:42:10.975382",
     "exception": false,
     "start_time": "2021-09-07T11:42:10.872753",
     "status": "completed"
    },
    "tags": []
   },
   "outputs": [],
   "source": [
    "pred_ensemble = (pred_xgb + pred_lgb + pred_CBR)/3"
   ]
  },
  {
   "cell_type": "code",
   "execution_count": 40,
   "id": "a18d1de8",
   "metadata": {
    "execution": {
     "iopub.execute_input": "2021-09-07T11:42:11.171332Z",
     "iopub.status.busy": "2021-09-07T11:42:11.169528Z",
     "iopub.status.idle": "2021-09-07T11:42:11.172191Z",
     "shell.execute_reply": "2021-09-07T11:42:11.172955Z",
     "shell.execute_reply.started": "2021-09-07T11:39:19.596291Z"
    },
    "papermill": {
     "duration": 0.102298,
     "end_time": "2021-09-07T11:42:11.173154",
     "exception": false,
     "start_time": "2021-09-07T11:42:11.070856",
     "status": "completed"
    },
    "tags": []
   },
   "outputs": [],
   "source": [
    "# pred_ensemble = (pred_lgb_optuna + pred_xgb + pred_CBR)/3"
   ]
  },
  {
   "cell_type": "code",
   "execution_count": 41,
   "id": "3fa3cd3b",
   "metadata": {
    "execution": {
     "iopub.execute_input": "2021-09-07T11:42:11.372169Z",
     "iopub.status.busy": "2021-09-07T11:42:11.371338Z",
     "iopub.status.idle": "2021-09-07T11:42:11.373863Z",
     "shell.execute_reply": "2021-09-07T11:42:11.373327Z",
     "shell.execute_reply.started": "2021-09-07T11:39:19.609799Z"
    },
    "papermill": {
     "duration": 0.097395,
     "end_time": "2021-09-07T11:42:11.373979",
     "exception": false,
     "start_time": "2021-09-07T11:42:11.276584",
     "status": "completed"
    },
    "tags": []
   },
   "outputs": [],
   "source": [
    "# total_weight = (1. / gb_score) + (1. / xgb_score) + (1. / lgb_score)\n",
    "# pred = (pred_gb * (1. / gb_score) + pred_xgb * (1. / xgb_score) +  pred_lgb * (1. / lgb_score)) / total_weight\n",
    "# mean_absolute_error(pred, y_val)"
   ]
  },
  {
   "cell_type": "markdown",
   "id": "2898d35d",
   "metadata": {
    "papermill": {
     "duration": 0.063744,
     "end_time": "2021-09-07T11:42:11.501675",
     "exception": false,
     "start_time": "2021-09-07T11:42:11.437931",
     "status": "completed"
    },
    "tags": []
   },
   "source": [
    "# Submit"
   ]
  },
  {
   "cell_type": "code",
   "execution_count": 42,
   "id": "0fa2c49a",
   "metadata": {
    "execution": {
     "iopub.execute_input": "2021-09-07T11:42:11.633715Z",
     "iopub.status.busy": "2021-09-07T11:42:11.632960Z",
     "iopub.status.idle": "2021-09-07T11:42:11.639926Z",
     "shell.execute_reply": "2021-09-07T11:42:11.639513Z",
     "shell.execute_reply.started": "2021-09-07T11:39:53.675652Z"
    },
    "papermill": {
     "duration": 0.074829,
     "end_time": "2021-09-07T11:42:11.640037",
     "exception": false,
     "start_time": "2021-09-07T11:42:11.565208",
     "status": "completed"
    },
    "tags": []
   },
   "outputs": [],
   "source": [
    "pd_test_pred = pd.DataFrame(pred_ensemble,columns=[\"pretest\"], index=label_test.index)\n",
    "pd_test_pred.to_csv('kmeans1.csv')"
   ]
  },
  {
   "cell_type": "markdown",
   "id": "057dc018",
   "metadata": {
    "papermill": {
     "duration": 0.064205,
     "end_time": "2021-09-07T11:42:11.768652",
     "exception": false,
     "start_time": "2021-09-07T11:42:11.704447",
     "status": "completed"
    },
    "tags": []
   },
   "source": [
    "근데 이렇게 구글링해서 지리는 모델 참고해서 적용하면 실력이 과연 늘지 걱정됌"
   ]
  },
  {
   "cell_type": "markdown",
   "id": "10368ac1",
   "metadata": {
    "papermill": {
     "duration": 0.060254,
     "end_time": "2021-09-07T11:42:11.891967",
     "exception": false,
     "start_time": "2021-09-07T11:42:11.831713",
     "status": "completed"
    },
    "tags": []
   },
   "source": [
    "오버피팅 조절 = xgboost, k fold crossvalidation해보기, feature engineering 해볼것"
   ]
  },
  {
   "cell_type": "markdown",
   "id": "4a6d8dcf",
   "metadata": {
    "papermill": {
     "duration": 0.060356,
     "end_time": "2021-09-07T11:42:12.012356",
     "exception": false,
     "start_time": "2021-09-07T11:42:11.952000",
     "status": "completed"
    },
    "tags": []
   },
   "source": [
    "validaition도 앙상블하고 평가"
   ]
  },
  {
   "cell_type": "markdown",
   "id": "22cd09cd",
   "metadata": {
    "papermill": {
     "duration": 0.059434,
     "end_time": "2021-09-07T11:42:12.131782",
     "exception": false,
     "start_time": "2021-09-07T11:42:12.072348",
     "status": "completed"
    },
    "tags": []
   },
   "source": [
    "xgb, lgbm, catboost해보기, optuna, sudo labeling, validaiton해보기, accuracy, mae"
   ]
  },
  {
   "cell_type": "markdown",
   "id": "db4d0373",
   "metadata": {
    "papermill": {
     "duration": 0.059512,
     "end_time": "2021-09-07T11:42:12.250844",
     "exception": false,
     "start_time": "2021-09-07T11:42:12.191332",
     "status": "completed"
    },
    "tags": []
   },
   "source": [
    "규칙을 가지고 해보기, cross validation하고, feature engineering, lgbm이 쫌 좋음, 옵튜나 돌릴것, 뉴럴 네트워크 딥노이징, 간 알고리즘해보면 옵튜나 따라오길 쉽지 않다. kmeans나 pca  "
   ]
  },
  {
   "cell_type": "markdown",
   "id": "cdf6662b",
   "metadata": {
    "papermill": {
     "duration": 0.06228,
     "end_time": "2021-09-07T11:42:12.373247",
     "exception": false,
     "start_time": "2021-09-07T11:42:12.310967",
     "status": "completed"
    },
    "tags": []
   },
   "source": [
    "cross validation해보면 private 에 더 가까운 점수가능"
   ]
  },
  {
   "cell_type": "markdown",
   "id": "5f123f83",
   "metadata": {
    "papermill": {
     "duration": 0.059398,
     "end_time": "2021-09-07T11:42:12.493374",
     "exception": false,
     "start_time": "2021-09-07T11:42:12.433976",
     "status": "completed"
    },
    "tags": []
   },
   "source": [
    "수도 라벨링 앙상블 멀티모델은 나중에 많이 한다. 하나의 모델이 잘나올때좋음"
   ]
  },
  {
   "cell_type": "markdown",
   "id": "7face056",
   "metadata": {
    "papermill": {
     "duration": 0.05903,
     "end_time": "2021-09-07T11:42:12.611722",
     "exception": false,
     "start_time": "2021-09-07T11:42:12.552692",
     "status": "completed"
    },
    "tags": []
   },
   "source": []
  },
  {
   "cell_type": "markdown",
   "id": "d54c64f8",
   "metadata": {
    "papermill": {
     "duration": 0.059572,
     "end_time": "2021-09-07T11:42:12.730865",
     "exception": false,
     "start_time": "2021-09-07T11:42:12.671293",
     "status": "completed"
    },
    "tags": []
   },
   "source": [
    "쉬운거 먼저, 싱글모델링,"
   ]
  },
  {
   "cell_type": "markdown",
   "id": "ed5077a5",
   "metadata": {
    "papermill": {
     "duration": 0.060089,
     "end_time": "2021-09-07T11:42:12.850628",
     "exception": false,
     "start_time": "2021-09-07T11:42:12.790539",
     "status": "completed"
    },
    "tags": []
   },
   "source": [
    "2.68001 lgbm estimater랑 learning rate 조절"
   ]
  },
  {
   "cell_type": "markdown",
   "id": "ebd778ae",
   "metadata": {
    "papermill": {
     "duration": 0.059701,
     "end_time": "2021-09-07T11:42:12.970901",
     "exception": false,
     "start_time": "2021-09-07T11:42:12.911200",
     "status": "completed"
    },
    "tags": []
   },
   "source": [
    "lgbm 성능 개좋음"
   ]
  },
  {
   "cell_type": "markdown",
   "id": "ba69e9f2",
   "metadata": {
    "execution": {
     "iopub.execute_input": "2021-09-03T03:26:59.987739Z",
     "iopub.status.busy": "2021-09-03T03:26:59.987244Z",
     "iopub.status.idle": "2021-09-03T03:27:00.007131Z",
     "shell.execute_reply": "2021-09-03T03:27:00.005621Z",
     "shell.execute_reply.started": "2021-09-03T03:26:59.98768Z"
    },
    "papermill": {
     "duration": 0.06032,
     "end_time": "2021-09-07T11:42:13.090959",
     "exception": false,
     "start_time": "2021-09-07T11:42:13.030639",
     "status": "completed"
    },
    "tags": []
   },
   "source": [
    "cv = cross-validation"
   ]
  },
  {
   "cell_type": "markdown",
   "id": "3532cd02",
   "metadata": {
    "papermill": {
     "duration": 0.059819,
     "end_time": "2021-09-07T11:42:13.210682",
     "exception": false,
     "start_time": "2021-09-07T11:42:13.150863",
     "status": "completed"
    },
    "tags": []
   },
   "source": [
    "새로운 앙상블 기법 시도해보기"
   ]
  },
  {
   "cell_type": "markdown",
   "id": "cbdfd943",
   "metadata": {
    "papermill": {
     "duration": 0.058779,
     "end_time": "2021-09-07T11:42:13.328975",
     "exception": false,
     "start_time": "2021-09-07T11:42:13.270196",
     "status": "completed"
    },
    "tags": []
   },
   "source": [
    "원핫 없애버리기"
   ]
  },
  {
   "cell_type": "markdown",
   "id": "efcd247e",
   "metadata": {
    "papermill": {
     "duration": 0.059448,
     "end_time": "2021-09-07T11:42:13.448013",
     "exception": false,
     "start_time": "2021-09-07T11:42:13.388565",
     "status": "completed"
    },
    "tags": []
   },
   "source": [
    "rmse도 보기"
   ]
  },
  {
   "cell_type": "markdown",
   "id": "23f62cfa",
   "metadata": {
    "papermill": {
     "duration": 0.05964,
     "end_time": "2021-09-07T11:42:13.567747",
     "exception": false,
     "start_time": "2021-09-07T11:42:13.508107",
     "status": "completed"
    },
    "tags": []
   },
   "source": [
    "lgbm 하이퍼 파라미타 복원하기"
   ]
  },
  {
   "cell_type": "markdown",
   "id": "86584ad4",
   "metadata": {
    "papermill": {
     "duration": 0.059664,
     "end_time": "2021-09-07T11:42:13.687129",
     "exception": false,
     "start_time": "2021-09-07T11:42:13.627465",
     "status": "completed"
    },
    "tags": []
   },
   "source": [
    "k-means clusting\n",
    "\n",
    "1. 초반에 k개의 cluster를 모을지 정하기\n",
    "2. 무지성으로 centroid를 찍기\n",
    "3. centroid 주변의 데이터들을 감지하고 그녀석들의 평균 가운데의 거리를 구하고 그쪽으로 centroid를 이동\n",
    "4. 점점 다른데이터들도 centroid의 주변을감지하고 데이터간의 평균 가운데의 거리를 구한뒤 데이터들의 중간지점으로 계속해서 이동\n",
    "5. cluster형성"
   ]
  },
  {
   "cell_type": "code",
   "execution_count": 43,
   "id": "efe62251",
   "metadata": {
    "execution": {
     "iopub.execute_input": "2021-09-07T11:42:13.810126Z",
     "iopub.status.busy": "2021-09-07T11:42:13.809296Z",
     "iopub.status.idle": "2021-09-07T11:42:13.811844Z",
     "shell.execute_reply": "2021-09-07T11:42:13.811347Z",
     "shell.execute_reply.started": "2021-09-07T11:39:19.630691Z"
    },
    "papermill": {
     "duration": 0.065656,
     "end_time": "2021-09-07T11:42:13.811955",
     "exception": false,
     "start_time": "2021-09-07T11:42:13.746299",
     "status": "completed"
    },
    "tags": []
   },
   "outputs": [],
   "source": [
    "# 다른 모델 결과값 두개를 평균내는 앙상블"
   ]
  },
  {
   "cell_type": "code",
   "execution_count": 44,
   "id": "38847e08",
   "metadata": {
    "execution": {
     "iopub.execute_input": "2021-09-07T11:42:13.948430Z",
     "iopub.status.busy": "2021-09-07T11:42:13.946957Z",
     "iopub.status.idle": "2021-09-07T11:42:13.949177Z",
     "shell.execute_reply": "2021-09-07T11:42:13.949884Z",
     "shell.execute_reply.started": "2021-09-07T11:39:19.638494Z"
    },
    "papermill": {
     "duration": 0.073213,
     "end_time": "2021-09-07T11:42:13.950038",
     "exception": false,
     "start_time": "2021-09-07T11:42:13.876825",
     "status": "completed"
    },
    "tags": []
   },
   "outputs": [],
   "source": [
    "# 앙상블해보기"
   ]
  },
  {
   "cell_type": "code",
   "execution_count": 45,
   "id": "509997ac",
   "metadata": {
    "execution": {
     "iopub.execute_input": "2021-09-07T11:42:14.074991Z",
     "iopub.status.busy": "2021-09-07T11:42:14.073990Z",
     "iopub.status.idle": "2021-09-07T11:42:14.076880Z",
     "shell.execute_reply": "2021-09-07T11:42:14.076281Z",
     "shell.execute_reply.started": "2021-09-07T11:39:19.648593Z"
    },
    "papermill": {
     "duration": 0.067087,
     "end_time": "2021-09-07T11:42:14.076994",
     "exception": false,
     "start_time": "2021-09-07T11:42:14.009907",
     "status": "completed"
    },
    "tags": []
   },
   "outputs": [],
   "source": [
    "# 베이스라인코드"
   ]
  },
  {
   "cell_type": "code",
   "execution_count": 46,
   "id": "3df57c47",
   "metadata": {
    "execution": {
     "iopub.execute_input": "2021-09-07T11:42:14.209681Z",
     "iopub.status.busy": "2021-09-07T11:42:14.208365Z",
     "iopub.status.idle": "2021-09-07T11:42:14.210714Z",
     "shell.execute_reply": "2021-09-07T11:42:14.211199Z",
     "shell.execute_reply.started": "2021-09-07T11:39:19.657598Z"
    },
    "papermill": {
     "duration": 0.070446,
     "end_time": "2021-09-07T11:42:14.211316",
     "exception": false,
     "start_time": "2021-09-07T11:42:14.140870",
     "status": "completed"
    },
    "tags": []
   },
   "outputs": [],
   "source": [
    "# result = model_xgb.predict(test_complete)"
   ]
  },
  {
   "cell_type": "code",
   "execution_count": 47,
   "id": "3ec975c2",
   "metadata": {
    "execution": {
     "iopub.execute_input": "2021-09-07T11:42:14.334341Z",
     "iopub.status.busy": "2021-09-07T11:42:14.333587Z",
     "iopub.status.idle": "2021-09-07T11:42:14.335906Z",
     "shell.execute_reply": "2021-09-07T11:42:14.336308Z",
     "shell.execute_reply.started": "2021-09-07T11:39:19.665277Z"
    },
    "papermill": {
     "duration": 0.06565,
     "end_time": "2021-09-07T11:42:14.336550",
     "exception": false,
     "start_time": "2021-09-07T11:42:14.270900",
     "status": "completed"
    },
    "tags": []
   },
   "outputs": [],
   "source": [
    "# submission = pd.DataFrame(result,columns=[\"pretest\"], index=label_test.index)"
   ]
  },
  {
   "cell_type": "code",
   "execution_count": 48,
   "id": "86234c17",
   "metadata": {
    "execution": {
     "iopub.execute_input": "2021-09-07T11:42:14.501128Z",
     "iopub.status.busy": "2021-09-07T11:42:14.500254Z",
     "iopub.status.idle": "2021-09-07T11:42:14.503137Z",
     "shell.execute_reply": "2021-09-07T11:42:14.502666Z",
     "shell.execute_reply.started": "2021-09-07T11:39:19.674667Z"
    },
    "papermill": {
     "duration": 0.10274,
     "end_time": "2021-09-07T11:42:14.503243",
     "exception": false,
     "start_time": "2021-09-07T11:42:14.400503",
     "status": "completed"
    },
    "tags": []
   },
   "outputs": [],
   "source": [
    "# submission.to_csv(\"xgb1.csv\")"
   ]
  }
 ],
 "metadata": {
  "kernelspec": {
   "display_name": "Python 3",
   "language": "python",
   "name": "python3"
  },
  "language_info": {
   "codemirror_mode": {
    "name": "ipython",
    "version": 3
   },
   "file_extension": ".py",
   "mimetype": "text/x-python",
   "name": "python",
   "nbconvert_exporter": "python",
   "pygments_lexer": "ipython3",
   "version": "3.7.10"
  },
  "papermill": {
   "default_parameters": {},
   "duration": 59.754209,
   "end_time": "2021-09-07T11:42:15.899707",
   "environment_variables": {},
   "exception": null,
   "input_path": "__notebook__.ipynb",
   "output_path": "__notebook__.ipynb",
   "parameters": {},
   "start_time": "2021-09-07T11:41:16.145498",
   "version": "2.3.3"
  }
 },
 "nbformat": 4,
 "nbformat_minor": 5
}
