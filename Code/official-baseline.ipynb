{
 "cells": [
  {
   "cell_type": "markdown",
   "id": "fa0ea078",
   "metadata": {
    "papermill": {
     "duration": 0.020172,
     "end_time": "2021-08-23T09:27:12.333017",
     "exception": false,
     "start_time": "2021-08-23T09:27:12.312845",
     "status": "completed"
    },
    "tags": []
   },
   "source": [
    "# 1st PCEO AI CLUB competition - Official Baseline\n",
    "## 1회 PCEO AI CLUB 대회 - 공식 베이스라인\n",
    "\n",
    "안녕하세요! 이번 대회 Host 김동규입니다. 이번 대회는 8월에 있었던 AI 집중 교육의 연장선상으로 classical ML 데이터를 이용한 대회입니다. 집중교육 때는 숫자로 이루어진 데이터만 사용했다면, 이번 대회는 대부분 문자로 된 데이터가 중심이 됩니다. categorical variable을 어떻게 잘 변형하고 새로운 feature로 만들어내는지가 중요한 대회입니다.\n",
    "\n",
    "아래는 간단한 베이스라인입니다. 대회에 submission 할 수 있는 최소한의 코드로 구성되어 있습니다. 아래 코드를 기반으로 하여 점수를 향상하고 리더보드의 상단에 위치하여 보세요!\n",
    "\n",
    "**리더보드 1등에게 소정의 상품이 주어집니다**"
   ]
  },
  {
   "cell_type": "markdown",
   "id": "404646f4",
   "metadata": {
    "papermill": {
     "duration": 0.018554,
     "end_time": "2021-08-23T09:27:12.370939",
     "exception": false,
     "start_time": "2021-08-23T09:27:12.352385",
     "status": "completed"
    },
    "tags": []
   },
   "source": [
    "### 데이터 및 라이브러리 로드"
   ]
  },
  {
   "cell_type": "code",
   "execution_count": 1,
   "id": "d3c0d3a6",
   "metadata": {
    "_cell_guid": "b1076dfc-b9ad-4769-8c92-a6c4dae69d19",
    "_uuid": "8f2839f25d086af736a60e9eeb907d3b93b6e0e5",
    "execution": {
     "iopub.execute_input": "2021-08-23T09:27:12.433828Z",
     "iopub.status.busy": "2021-08-23T09:27:12.432728Z",
     "iopub.status.idle": "2021-08-23T09:27:13.806201Z",
     "shell.execute_reply": "2021-08-23T09:27:13.805384Z",
     "shell.execute_reply.started": "2021-08-22T05:30:07.492484Z"
    },
    "papermill": {
     "duration": 1.416019,
     "end_time": "2021-08-23T09:27:13.806385",
     "exception": false,
     "start_time": "2021-08-23T09:27:12.390366",
     "status": "completed"
    },
    "tags": []
   },
   "outputs": [],
   "source": [
    "import numpy as np # linear algebra\n",
    "import pandas as pd # data processing, CSV file I/O (e.g. pd.read_csv)\n",
    "import os\n",
    "from sklearn.model_selection import train_test_split\n",
    "from sklearn.ensemble import RandomForestRegressor\n",
    "from sklearn.preprocessing import OrdinalEncoder\n",
    "from sklearn.metrics import mean_absolute_error"
   ]
  },
  {
   "cell_type": "code",
   "execution_count": 2,
   "id": "5949615c",
   "metadata": {
    "execution": {
     "iopub.execute_input": "2021-08-23T09:27:13.854142Z",
     "iopub.status.busy": "2021-08-23T09:27:13.852892Z",
     "iopub.status.idle": "2021-08-23T09:27:13.899235Z",
     "shell.execute_reply": "2021-08-23T09:27:13.898530Z",
     "shell.execute_reply.started": "2021-08-22T05:18:50.342999Z"
    },
    "papermill": {
     "duration": 0.071966,
     "end_time": "2021-08-23T09:27:13.899375",
     "exception": false,
     "start_time": "2021-08-23T09:27:13.827409",
     "status": "completed"
    },
    "tags": []
   },
   "outputs": [],
   "source": [
    "train = pd.read_csv('../input/pceo-ai-club1/train.csv', index_col=\"student_id\") #반드시 index_col을 student_id로 설정해주세요\n",
    "test = pd.read_csv('../input/pceo-ai-club1/test.csv', index_col=\"student_id\")\n",
    "sample_submission = pd.read_csv('../input/pceo-ai-club1/sample_submission.csv', index_col=\"student_id\")"
   ]
  },
  {
   "cell_type": "markdown",
   "id": "1daee356",
   "metadata": {
    "papermill": {
     "duration": 0.018981,
     "end_time": "2021-08-23T09:27:13.937417",
     "exception": false,
     "start_time": "2021-08-23T09:27:13.918436",
     "status": "completed"
    },
    "tags": []
   },
   "source": [
    "### Super Simple EDA"
   ]
  },
  {
   "cell_type": "code",
   "execution_count": 3,
   "id": "b00c40d7",
   "metadata": {
    "execution": {
     "iopub.execute_input": "2021-08-23T09:27:13.984770Z",
     "iopub.status.busy": "2021-08-23T09:27:13.983858Z",
     "iopub.status.idle": "2021-08-23T09:27:14.010014Z",
     "shell.execute_reply": "2021-08-23T09:27:14.009458Z",
     "shell.execute_reply.started": "2021-08-22T05:18:51.92941Z"
    },
    "papermill": {
     "duration": 0.05328,
     "end_time": "2021-08-23T09:27:14.010161",
     "exception": false,
     "start_time": "2021-08-23T09:27:13.956881",
     "status": "completed"
    },
    "tags": []
   },
   "outputs": [
    {
     "data": {
      "text/html": [
       "<div>\n",
       "<style scoped>\n",
       "    .dataframe tbody tr th:only-of-type {\n",
       "        vertical-align: middle;\n",
       "    }\n",
       "\n",
       "    .dataframe tbody tr th {\n",
       "        vertical-align: top;\n",
       "    }\n",
       "\n",
       "    .dataframe thead th {\n",
       "        text-align: right;\n",
       "    }\n",
       "</style>\n",
       "<table border=\"1\" class=\"dataframe\">\n",
       "  <thead>\n",
       "    <tr style=\"text-align: right;\">\n",
       "      <th></th>\n",
       "      <th>school</th>\n",
       "      <th>school_setting</th>\n",
       "      <th>school_type</th>\n",
       "      <th>classroom</th>\n",
       "      <th>teaching_method</th>\n",
       "      <th>n_student</th>\n",
       "      <th>gender</th>\n",
       "      <th>lunch</th>\n",
       "      <th>pretest</th>\n",
       "    </tr>\n",
       "    <tr>\n",
       "      <th>student_id</th>\n",
       "      <th></th>\n",
       "      <th></th>\n",
       "      <th></th>\n",
       "      <th></th>\n",
       "      <th></th>\n",
       "      <th></th>\n",
       "      <th></th>\n",
       "      <th></th>\n",
       "      <th></th>\n",
       "    </tr>\n",
       "  </thead>\n",
       "  <tbody>\n",
       "    <tr>\n",
       "      <th>W20C6</th>\n",
       "      <td>GOOBU</td>\n",
       "      <td>Urban</td>\n",
       "      <td>Public</td>\n",
       "      <td>HKF</td>\n",
       "      <td>Standard</td>\n",
       "      <td>28.0</td>\n",
       "      <td>Female</td>\n",
       "      <td>Qualifies for reduced/free lunch</td>\n",
       "      <td>34.0</td>\n",
       "    </tr>\n",
       "    <tr>\n",
       "      <th>A3JJP</th>\n",
       "      <td>GOOBU</td>\n",
       "      <td>Urban</td>\n",
       "      <td>Public</td>\n",
       "      <td>W8A</td>\n",
       "      <td>Experimental</td>\n",
       "      <td>26.0</td>\n",
       "      <td>Female</td>\n",
       "      <td>Qualifies for reduced/free lunch</td>\n",
       "      <td>36.0</td>\n",
       "    </tr>\n",
       "    <tr>\n",
       "      <th>UBDCF</th>\n",
       "      <td>DNQDD</td>\n",
       "      <td>Suburban</td>\n",
       "      <td>Public</td>\n",
       "      <td>PW5</td>\n",
       "      <td>Experimental</td>\n",
       "      <td>20.0</td>\n",
       "      <td>Male</td>\n",
       "      <td>Qualifies for reduced/free lunch</td>\n",
       "      <td>42.0</td>\n",
       "    </tr>\n",
       "    <tr>\n",
       "      <th>QQJEC</th>\n",
       "      <td>GOOBU</td>\n",
       "      <td>Urban</td>\n",
       "      <td>Public</td>\n",
       "      <td>W8A</td>\n",
       "      <td>Experimental</td>\n",
       "      <td>26.0</td>\n",
       "      <td>Female</td>\n",
       "      <td>Qualifies for reduced/free lunch</td>\n",
       "      <td>36.0</td>\n",
       "    </tr>\n",
       "    <tr>\n",
       "      <th>3SWL5</th>\n",
       "      <td>UUUQX</td>\n",
       "      <td>Suburban</td>\n",
       "      <td>Non-public</td>\n",
       "      <td>SSP</td>\n",
       "      <td>Standard</td>\n",
       "      <td>15.0</td>\n",
       "      <td>Female</td>\n",
       "      <td>Does not qualify</td>\n",
       "      <td>66.0</td>\n",
       "    </tr>\n",
       "  </tbody>\n",
       "</table>\n",
       "</div>"
      ],
      "text/plain": [
       "           school school_setting school_type classroom teaching_method  \\\n",
       "student_id                                                               \n",
       "W20C6       GOOBU          Urban      Public       HKF        Standard   \n",
       "A3JJP       GOOBU          Urban      Public       W8A    Experimental   \n",
       "UBDCF       DNQDD       Suburban      Public       PW5    Experimental   \n",
       "QQJEC       GOOBU          Urban      Public       W8A    Experimental   \n",
       "3SWL5       UUUQX       Suburban  Non-public       SSP        Standard   \n",
       "\n",
       "            n_student  gender                             lunch  pretest  \n",
       "student_id                                                                \n",
       "W20C6            28.0  Female  Qualifies for reduced/free lunch     34.0  \n",
       "A3JJP            26.0  Female  Qualifies for reduced/free lunch     36.0  \n",
       "UBDCF            20.0    Male  Qualifies for reduced/free lunch     42.0  \n",
       "QQJEC            26.0  Female  Qualifies for reduced/free lunch     36.0  \n",
       "3SWL5            15.0  Female                  Does not qualify     66.0  "
      ]
     },
     "execution_count": 3,
     "metadata": {},
     "output_type": "execute_result"
    }
   ],
   "source": [
    "train.head()"
   ]
  },
  {
   "cell_type": "markdown",
   "id": "2774bd8f",
   "metadata": {
    "papermill": {
     "duration": 0.019241,
     "end_time": "2021-08-23T09:27:14.051233",
     "exception": false,
     "start_time": "2021-08-23T09:27:14.031992",
     "status": "completed"
    },
    "tags": []
   },
   "source": [
    "pretest 값이 우리가 예측해야 하는 시험 점수입니다."
   ]
  },
  {
   "cell_type": "code",
   "execution_count": 4,
   "id": "cf68cde9",
   "metadata": {
    "execution": {
     "iopub.execute_input": "2021-08-23T09:27:14.108682Z",
     "iopub.status.busy": "2021-08-23T09:27:14.107859Z",
     "iopub.status.idle": "2021-08-23T09:27:14.112801Z",
     "shell.execute_reply": "2021-08-23T09:27:14.112269Z",
     "shell.execute_reply.started": "2021-08-22T05:18:58.75924Z"
    },
    "papermill": {
     "duration": 0.041053,
     "end_time": "2021-08-23T09:27:14.112940",
     "exception": false,
     "start_time": "2021-08-23T09:27:14.071887",
     "status": "completed"
    },
    "tags": []
   },
   "outputs": [
    {
     "data": {
      "text/html": [
       "<div>\n",
       "<style scoped>\n",
       "    .dataframe tbody tr th:only-of-type {\n",
       "        vertical-align: middle;\n",
       "    }\n",
       "\n",
       "    .dataframe tbody tr th {\n",
       "        vertical-align: top;\n",
       "    }\n",
       "\n",
       "    .dataframe thead th {\n",
       "        text-align: right;\n",
       "    }\n",
       "</style>\n",
       "<table border=\"1\" class=\"dataframe\">\n",
       "  <thead>\n",
       "    <tr style=\"text-align: right;\">\n",
       "      <th></th>\n",
       "      <th>school</th>\n",
       "      <th>school_setting</th>\n",
       "      <th>school_type</th>\n",
       "      <th>classroom</th>\n",
       "      <th>teaching_method</th>\n",
       "      <th>n_student</th>\n",
       "      <th>gender</th>\n",
       "      <th>lunch</th>\n",
       "    </tr>\n",
       "    <tr>\n",
       "      <th>student_id</th>\n",
       "      <th></th>\n",
       "      <th></th>\n",
       "      <th></th>\n",
       "      <th></th>\n",
       "      <th></th>\n",
       "      <th></th>\n",
       "      <th></th>\n",
       "      <th></th>\n",
       "    </tr>\n",
       "  </thead>\n",
       "  <tbody>\n",
       "    <tr>\n",
       "      <th>MNVG5</th>\n",
       "      <td>VHDHF</td>\n",
       "      <td>Rural</td>\n",
       "      <td>Non-public</td>\n",
       "      <td>KR1</td>\n",
       "      <td>Experimental</td>\n",
       "      <td>15.0</td>\n",
       "      <td>Female</td>\n",
       "      <td>Qualifies for reduced/free lunch</td>\n",
       "    </tr>\n",
       "    <tr>\n",
       "      <th>LB2TH</th>\n",
       "      <td>GJJHK</td>\n",
       "      <td>Suburban</td>\n",
       "      <td>Public</td>\n",
       "      <td>ZDT</td>\n",
       "      <td>Standard</td>\n",
       "      <td>27.0</td>\n",
       "      <td>Male</td>\n",
       "      <td>Qualifies for reduced/free lunch</td>\n",
       "    </tr>\n",
       "    <tr>\n",
       "      <th>ETDRG</th>\n",
       "      <td>CIMBB</td>\n",
       "      <td>Urban</td>\n",
       "      <td>Non-public</td>\n",
       "      <td>PC6</td>\n",
       "      <td>Standard</td>\n",
       "      <td>17.0</td>\n",
       "      <td>Female</td>\n",
       "      <td>Does not qualify</td>\n",
       "    </tr>\n",
       "    <tr>\n",
       "      <th>TME5H</th>\n",
       "      <td>GOKXL</td>\n",
       "      <td>Rural</td>\n",
       "      <td>Public</td>\n",
       "      <td>VA6</td>\n",
       "      <td>Standard</td>\n",
       "      <td>19.0</td>\n",
       "      <td>Female</td>\n",
       "      <td>Qualifies for reduced/free lunch</td>\n",
       "    </tr>\n",
       "    <tr>\n",
       "      <th>G8C0U</th>\n",
       "      <td>QOQTS</td>\n",
       "      <td>Urban</td>\n",
       "      <td>Public</td>\n",
       "      <td>3XJ</td>\n",
       "      <td>Standard</td>\n",
       "      <td>24.0</td>\n",
       "      <td>Female</td>\n",
       "      <td>Does not qualify</td>\n",
       "    </tr>\n",
       "  </tbody>\n",
       "</table>\n",
       "</div>"
      ],
      "text/plain": [
       "           school school_setting school_type classroom teaching_method  \\\n",
       "student_id                                                               \n",
       "MNVG5       VHDHF          Rural  Non-public       KR1    Experimental   \n",
       "LB2TH       GJJHK       Suburban      Public       ZDT        Standard   \n",
       "ETDRG       CIMBB          Urban  Non-public       PC6        Standard   \n",
       "TME5H       GOKXL          Rural      Public       VA6        Standard   \n",
       "G8C0U       QOQTS          Urban      Public       3XJ        Standard   \n",
       "\n",
       "            n_student  gender                             lunch  \n",
       "student_id                                                       \n",
       "MNVG5            15.0  Female  Qualifies for reduced/free lunch  \n",
       "LB2TH            27.0    Male  Qualifies for reduced/free lunch  \n",
       "ETDRG            17.0  Female                  Does not qualify  \n",
       "TME5H            19.0  Female  Qualifies for reduced/free lunch  \n",
       "G8C0U            24.0  Female                  Does not qualify  "
      ]
     },
     "execution_count": 4,
     "metadata": {},
     "output_type": "execute_result"
    }
   ],
   "source": [
    "test.head()"
   ]
  },
  {
   "cell_type": "code",
   "execution_count": 5,
   "id": "0dde4432",
   "metadata": {
    "execution": {
     "iopub.execute_input": "2021-08-23T09:27:14.164039Z",
     "iopub.status.busy": "2021-08-23T09:27:14.163232Z",
     "iopub.status.idle": "2021-08-23T09:27:14.167258Z",
     "shell.execute_reply": "2021-08-23T09:27:14.167806Z",
     "shell.execute_reply.started": "2021-08-22T05:20:51.671739Z"
    },
    "papermill": {
     "duration": 0.035237,
     "end_time": "2021-08-23T09:27:14.167979",
     "exception": false,
     "start_time": "2021-08-23T09:27:14.132742",
     "status": "completed"
    },
    "tags": []
   },
   "outputs": [
    {
     "data": {
      "text/plain": [
       "school             False\n",
       "school_setting     False\n",
       "school_type        False\n",
       "classroom          False\n",
       "teaching_method    False\n",
       "n_student          False\n",
       "gender             False\n",
       "lunch              False\n",
       "pretest            False\n",
       "dtype: bool"
      ]
     },
     "execution_count": 5,
     "metadata": {},
     "output_type": "execute_result"
    }
   ],
   "source": [
    "train.isnull().any()"
   ]
  },
  {
   "cell_type": "markdown",
   "id": "94eef688",
   "metadata": {
    "papermill": {
     "duration": 0.021185,
     "end_time": "2021-08-23T09:27:14.209093",
     "exception": false,
     "start_time": "2021-08-23T09:27:14.187908",
     "status": "completed"
    },
    "tags": []
   },
   "source": [
    "위에서 보다시피 데이터에 null 값은 없습니다."
   ]
  },
  {
   "cell_type": "markdown",
   "id": "b6f9ea4b",
   "metadata": {
    "papermill": {
     "duration": 0.021374,
     "end_time": "2021-08-23T09:27:14.252077",
     "exception": false,
     "start_time": "2021-08-23T09:27:14.230703",
     "status": "completed"
    },
    "tags": []
   },
   "source": [
    "### Data Preprocessing"
   ]
  },
  {
   "cell_type": "code",
   "execution_count": 6,
   "id": "4c24bb8e",
   "metadata": {
    "execution": {
     "iopub.execute_input": "2021-08-23T09:27:14.301980Z",
     "iopub.status.busy": "2021-08-23T09:27:14.300816Z",
     "iopub.status.idle": "2021-08-23T09:27:14.304185Z",
     "shell.execute_reply": "2021-08-23T09:27:14.303481Z",
     "shell.execute_reply.started": "2021-08-22T05:20:24.256417Z"
    },
    "papermill": {
     "duration": 0.031059,
     "end_time": "2021-08-23T09:27:14.304329",
     "exception": false,
     "start_time": "2021-08-23T09:27:14.273270",
     "status": "completed"
    },
    "tags": []
   },
   "outputs": [],
   "source": [
    "y = train.pretest\n",
    "X = train.drop([\"pretest\"], axis=1)"
   ]
  },
  {
   "cell_type": "code",
   "execution_count": 7,
   "id": "8ffe1958",
   "metadata": {
    "execution": {
     "iopub.execute_input": "2021-08-23T09:27:14.356007Z",
     "iopub.status.busy": "2021-08-23T09:27:14.355056Z",
     "iopub.status.idle": "2021-08-23T09:27:14.359499Z",
     "shell.execute_reply": "2021-08-23T09:27:14.358881Z",
     "shell.execute_reply.started": "2021-08-22T05:24:48.795769Z"
    },
    "papermill": {
     "duration": 0.034206,
     "end_time": "2021-08-23T09:27:14.359680",
     "exception": false,
     "start_time": "2021-08-23T09:27:14.325474",
     "status": "completed"
    },
    "tags": []
   },
   "outputs": [
    {
     "data": {
      "text/plain": [
       "['school',\n",
       " 'school_setting',\n",
       " 'school_type',\n",
       " 'classroom',\n",
       " 'teaching_method',\n",
       " 'gender',\n",
       " 'lunch']"
      ]
     },
     "execution_count": 7,
     "metadata": {},
     "output_type": "execute_result"
    }
   ],
   "source": [
    "s = (X.dtypes == 'object')\n",
    "object_cols = list(s[s].index)\n",
    "object_cols"
   ]
  },
  {
   "cell_type": "markdown",
   "id": "01d32a08",
   "metadata": {
    "papermill": {
     "duration": 0.01958,
     "end_time": "2021-08-23T09:27:14.400305",
     "exception": false,
     "start_time": "2021-08-23T09:27:14.380725",
     "status": "completed"
    },
    "tags": []
   },
   "source": [
    "n_students 이외의 feature들은 모두 categorical입니다. (cateogical => 문자 형태)"
   ]
  },
  {
   "cell_type": "code",
   "execution_count": 8,
   "id": "17939a7a",
   "metadata": {
    "execution": {
     "iopub.execute_input": "2021-08-23T09:27:14.452740Z",
     "iopub.status.busy": "2021-08-23T09:27:14.447312Z",
     "iopub.status.idle": "2021-08-23T09:27:14.475901Z",
     "shell.execute_reply": "2021-08-23T09:27:14.475175Z",
     "shell.execute_reply.started": "2021-08-22T05:25:51.632883Z"
    },
    "papermill": {
     "duration": 0.055682,
     "end_time": "2021-08-23T09:27:14.476113",
     "exception": false,
     "start_time": "2021-08-23T09:27:14.420431",
     "status": "completed"
    },
    "tags": []
   },
   "outputs": [],
   "source": [
    "label_X = X.copy()\n",
    "label_test = test.copy()\n",
    "\n",
    "ordinal_encoder = OrdinalEncoder()\n",
    "label_X[object_cols] = ordinal_encoder.fit_transform(X[object_cols])\n",
    "label_test[object_cols] = ordinal_encoder.transform(test[object_cols])"
   ]
  },
  {
   "cell_type": "code",
   "execution_count": 9,
   "id": "4562c909",
   "metadata": {
    "execution": {
     "iopub.execute_input": "2021-08-23T09:27:14.538115Z",
     "iopub.status.busy": "2021-08-23T09:27:14.530914Z",
     "iopub.status.idle": "2021-08-23T09:27:14.545142Z",
     "shell.execute_reply": "2021-08-23T09:27:14.544433Z",
     "shell.execute_reply.started": "2021-08-22T05:25:57.820334Z"
    },
    "papermill": {
     "duration": 0.046813,
     "end_time": "2021-08-23T09:27:14.545284",
     "exception": false,
     "start_time": "2021-08-23T09:27:14.498471",
     "status": "completed"
    },
    "tags": []
   },
   "outputs": [
    {
     "data": {
      "text/html": [
       "<div>\n",
       "<style scoped>\n",
       "    .dataframe tbody tr th:only-of-type {\n",
       "        vertical-align: middle;\n",
       "    }\n",
       "\n",
       "    .dataframe tbody tr th {\n",
       "        vertical-align: top;\n",
       "    }\n",
       "\n",
       "    .dataframe thead th {\n",
       "        text-align: right;\n",
       "    }\n",
       "</style>\n",
       "<table border=\"1\" class=\"dataframe\">\n",
       "  <thead>\n",
       "    <tr style=\"text-align: right;\">\n",
       "      <th></th>\n",
       "      <th>school</th>\n",
       "      <th>school_setting</th>\n",
       "      <th>school_type</th>\n",
       "      <th>classroom</th>\n",
       "      <th>teaching_method</th>\n",
       "      <th>n_student</th>\n",
       "      <th>gender</th>\n",
       "      <th>lunch</th>\n",
       "    </tr>\n",
       "    <tr>\n",
       "      <th>student_id</th>\n",
       "      <th></th>\n",
       "      <th></th>\n",
       "      <th></th>\n",
       "      <th></th>\n",
       "      <th></th>\n",
       "      <th></th>\n",
       "      <th></th>\n",
       "      <th></th>\n",
       "    </tr>\n",
       "  </thead>\n",
       "  <tbody>\n",
       "    <tr>\n",
       "      <th>W20C6</th>\n",
       "      <td>8.0</td>\n",
       "      <td>2.0</td>\n",
       "      <td>1.0</td>\n",
       "      <td>45.0</td>\n",
       "      <td>1.0</td>\n",
       "      <td>28.0</td>\n",
       "      <td>0.0</td>\n",
       "      <td>1.0</td>\n",
       "    </tr>\n",
       "    <tr>\n",
       "      <th>A3JJP</th>\n",
       "      <td>8.0</td>\n",
       "      <td>2.0</td>\n",
       "      <td>1.0</td>\n",
       "      <td>83.0</td>\n",
       "      <td>0.0</td>\n",
       "      <td>26.0</td>\n",
       "      <td>0.0</td>\n",
       "      <td>1.0</td>\n",
       "    </tr>\n",
       "    <tr>\n",
       "      <th>UBDCF</th>\n",
       "      <td>4.0</td>\n",
       "      <td>1.0</td>\n",
       "      <td>1.0</td>\n",
       "      <td>65.0</td>\n",
       "      <td>0.0</td>\n",
       "      <td>20.0</td>\n",
       "      <td>1.0</td>\n",
       "      <td>1.0</td>\n",
       "    </tr>\n",
       "    <tr>\n",
       "      <th>QQJEC</th>\n",
       "      <td>8.0</td>\n",
       "      <td>2.0</td>\n",
       "      <td>1.0</td>\n",
       "      <td>83.0</td>\n",
       "      <td>0.0</td>\n",
       "      <td>26.0</td>\n",
       "      <td>0.0</td>\n",
       "      <td>1.0</td>\n",
       "    </tr>\n",
       "    <tr>\n",
       "      <th>3SWL5</th>\n",
       "      <td>17.0</td>\n",
       "      <td>1.0</td>\n",
       "      <td>0.0</td>\n",
       "      <td>73.0</td>\n",
       "      <td>1.0</td>\n",
       "      <td>15.0</td>\n",
       "      <td>0.0</td>\n",
       "      <td>0.0</td>\n",
       "    </tr>\n",
       "  </tbody>\n",
       "</table>\n",
       "</div>"
      ],
      "text/plain": [
       "            school  school_setting  school_type  classroom  teaching_method  \\\n",
       "student_id                                                                    \n",
       "W20C6          8.0             2.0          1.0       45.0              1.0   \n",
       "A3JJP          8.0             2.0          1.0       83.0              0.0   \n",
       "UBDCF          4.0             1.0          1.0       65.0              0.0   \n",
       "QQJEC          8.0             2.0          1.0       83.0              0.0   \n",
       "3SWL5         17.0             1.0          0.0       73.0              1.0   \n",
       "\n",
       "            n_student  gender  lunch  \n",
       "student_id                            \n",
       "W20C6            28.0     0.0    1.0  \n",
       "A3JJP            26.0     0.0    1.0  \n",
       "UBDCF            20.0     1.0    1.0  \n",
       "QQJEC            26.0     0.0    1.0  \n",
       "3SWL5            15.0     0.0    0.0  "
      ]
     },
     "execution_count": 9,
     "metadata": {},
     "output_type": "execute_result"
    }
   ],
   "source": [
    "label_X.head()"
   ]
  },
  {
   "cell_type": "code",
   "execution_count": 10,
   "id": "672aea88",
   "metadata": {
    "execution": {
     "iopub.execute_input": "2021-08-23T09:27:14.610862Z",
     "iopub.status.busy": "2021-08-23T09:27:14.609963Z",
     "iopub.status.idle": "2021-08-23T09:27:14.614723Z",
     "shell.execute_reply": "2021-08-23T09:27:14.613973Z",
     "shell.execute_reply.started": "2021-08-22T05:26:08.554911Z"
    },
    "papermill": {
     "duration": 0.04665,
     "end_time": "2021-08-23T09:27:14.614878",
     "exception": false,
     "start_time": "2021-08-23T09:27:14.568228",
     "status": "completed"
    },
    "tags": []
   },
   "outputs": [
    {
     "data": {
      "text/html": [
       "<div>\n",
       "<style scoped>\n",
       "    .dataframe tbody tr th:only-of-type {\n",
       "        vertical-align: middle;\n",
       "    }\n",
       "\n",
       "    .dataframe tbody tr th {\n",
       "        vertical-align: top;\n",
       "    }\n",
       "\n",
       "    .dataframe thead th {\n",
       "        text-align: right;\n",
       "    }\n",
       "</style>\n",
       "<table border=\"1\" class=\"dataframe\">\n",
       "  <thead>\n",
       "    <tr style=\"text-align: right;\">\n",
       "      <th></th>\n",
       "      <th>school</th>\n",
       "      <th>school_setting</th>\n",
       "      <th>school_type</th>\n",
       "      <th>classroom</th>\n",
       "      <th>teaching_method</th>\n",
       "      <th>n_student</th>\n",
       "      <th>gender</th>\n",
       "      <th>lunch</th>\n",
       "    </tr>\n",
       "    <tr>\n",
       "      <th>student_id</th>\n",
       "      <th></th>\n",
       "      <th></th>\n",
       "      <th></th>\n",
       "      <th></th>\n",
       "      <th></th>\n",
       "      <th></th>\n",
       "      <th></th>\n",
       "      <th></th>\n",
       "    </tr>\n",
       "  </thead>\n",
       "  <tbody>\n",
       "    <tr>\n",
       "      <th>MNVG5</th>\n",
       "      <td>18.0</td>\n",
       "      <td>0.0</td>\n",
       "      <td>0.0</td>\n",
       "      <td>53.0</td>\n",
       "      <td>0.0</td>\n",
       "      <td>15.0</td>\n",
       "      <td>0.0</td>\n",
       "      <td>1.0</td>\n",
       "    </tr>\n",
       "    <tr>\n",
       "      <th>LB2TH</th>\n",
       "      <td>6.0</td>\n",
       "      <td>1.0</td>\n",
       "      <td>1.0</td>\n",
       "      <td>95.0</td>\n",
       "      <td>1.0</td>\n",
       "      <td>27.0</td>\n",
       "      <td>1.0</td>\n",
       "      <td>1.0</td>\n",
       "    </tr>\n",
       "    <tr>\n",
       "      <th>ETDRG</th>\n",
       "      <td>2.0</td>\n",
       "      <td>2.0</td>\n",
       "      <td>0.0</td>\n",
       "      <td>62.0</td>\n",
       "      <td>1.0</td>\n",
       "      <td>17.0</td>\n",
       "      <td>0.0</td>\n",
       "      <td>0.0</td>\n",
       "    </tr>\n",
       "    <tr>\n",
       "      <th>TME5H</th>\n",
       "      <td>7.0</td>\n",
       "      <td>0.0</td>\n",
       "      <td>1.0</td>\n",
       "      <td>82.0</td>\n",
       "      <td>1.0</td>\n",
       "      <td>19.0</td>\n",
       "      <td>0.0</td>\n",
       "      <td>1.0</td>\n",
       "    </tr>\n",
       "    <tr>\n",
       "      <th>G8C0U</th>\n",
       "      <td>14.0</td>\n",
       "      <td>2.0</td>\n",
       "      <td>1.0</td>\n",
       "      <td>15.0</td>\n",
       "      <td>1.0</td>\n",
       "      <td>24.0</td>\n",
       "      <td>0.0</td>\n",
       "      <td>0.0</td>\n",
       "    </tr>\n",
       "  </tbody>\n",
       "</table>\n",
       "</div>"
      ],
      "text/plain": [
       "            school  school_setting  school_type  classroom  teaching_method  \\\n",
       "student_id                                                                    \n",
       "MNVG5         18.0             0.0          0.0       53.0              0.0   \n",
       "LB2TH          6.0             1.0          1.0       95.0              1.0   \n",
       "ETDRG          2.0             2.0          0.0       62.0              1.0   \n",
       "TME5H          7.0             0.0          1.0       82.0              1.0   \n",
       "G8C0U         14.0             2.0          1.0       15.0              1.0   \n",
       "\n",
       "            n_student  gender  lunch  \n",
       "student_id                            \n",
       "MNVG5            15.0     0.0    1.0  \n",
       "LB2TH            27.0     1.0    1.0  \n",
       "ETDRG            17.0     0.0    0.0  \n",
       "TME5H            19.0     0.0    1.0  \n",
       "G8C0U            24.0     0.0    0.0  "
      ]
     },
     "execution_count": 10,
     "metadata": {},
     "output_type": "execute_result"
    }
   ],
   "source": [
    "label_test.head()"
   ]
  },
  {
   "cell_type": "markdown",
   "id": "b1796e41",
   "metadata": {
    "papermill": {
     "duration": 0.021694,
     "end_time": "2021-08-23T09:27:14.659089",
     "exception": false,
     "start_time": "2021-08-23T09:27:14.637395",
     "status": "completed"
    },
    "tags": []
   },
   "source": [
    "categorical variable을 숫자로 잘 바꾸어 주었습니다. Ordinal Encoder에 대해 잊어버린 분들은 [kaggle course](https://www.kaggle.com/alexisbcook/categorical-variables)를 참고하세요."
   ]
  },
  {
   "cell_type": "code",
   "execution_count": 11,
   "id": "8ccddb0a",
   "metadata": {
    "execution": {
     "iopub.execute_input": "2021-08-23T09:27:14.712104Z",
     "iopub.status.busy": "2021-08-23T09:27:14.708882Z",
     "iopub.status.idle": "2021-08-23T09:27:14.714702Z",
     "shell.execute_reply": "2021-08-23T09:27:14.715147Z",
     "shell.execute_reply.started": "2021-08-22T05:29:13.163636Z"
    },
    "papermill": {
     "duration": 0.033859,
     "end_time": "2021-08-23T09:27:14.715319",
     "exception": false,
     "start_time": "2021-08-23T09:27:14.681460",
     "status": "completed"
    },
    "tags": []
   },
   "outputs": [],
   "source": [
    "X_train, X_val, y_train, y_val = train_test_split(label_X, y, test_size=0.2, random_state=3)"
   ]
  },
  {
   "cell_type": "markdown",
   "id": "e54aa8ef",
   "metadata": {
    "papermill": {
     "duration": 0.02233,
     "end_time": "2021-08-23T09:27:14.759712",
     "exception": false,
     "start_time": "2021-08-23T09:27:14.737382",
     "status": "completed"
    },
    "tags": []
   },
   "source": [
    "### Model train"
   ]
  },
  {
   "cell_type": "code",
   "execution_count": 12,
   "id": "8e78f4fc",
   "metadata": {
    "execution": {
     "iopub.execute_input": "2021-08-23T09:27:14.808475Z",
     "iopub.status.busy": "2021-08-23T09:27:14.807485Z",
     "iopub.status.idle": "2021-08-23T09:27:15.126705Z",
     "shell.execute_reply": "2021-08-23T09:27:15.127186Z",
     "shell.execute_reply.started": "2021-08-22T05:29:15.191739Z"
    },
    "papermill": {
     "duration": 0.345297,
     "end_time": "2021-08-23T09:27:15.127373",
     "exception": false,
     "start_time": "2021-08-23T09:27:14.782076",
     "status": "completed"
    },
    "tags": []
   },
   "outputs": [
    {
     "data": {
      "text/plain": [
       "RandomForestRegressor()"
      ]
     },
     "execution_count": 12,
     "metadata": {},
     "output_type": "execute_result"
    }
   ],
   "source": [
    "model = RandomForestRegressor()\n",
    "model.fit(X_train, y_train)"
   ]
  },
  {
   "cell_type": "code",
   "execution_count": 13,
   "id": "a5bba4c2",
   "metadata": {
    "execution": {
     "iopub.execute_input": "2021-08-23T09:27:15.179946Z",
     "iopub.status.busy": "2021-08-23T09:27:15.179256Z",
     "iopub.status.idle": "2021-08-23T09:27:15.198329Z",
     "shell.execute_reply": "2021-08-23T09:27:15.198832Z",
     "shell.execute_reply.started": "2021-08-22T05:30:49.722001Z"
    },
    "papermill": {
     "duration": 0.048282,
     "end_time": "2021-08-23T09:27:15.198999",
     "exception": false,
     "start_time": "2021-08-23T09:27:15.150717",
     "status": "completed"
    },
    "tags": []
   },
   "outputs": [
    {
     "data": {
      "text/plain": [
       "2.7187660008370487"
      ]
     },
     "execution_count": 13,
     "metadata": {},
     "output_type": "execute_result"
    }
   ],
   "source": [
    "pred = model.predict(X_val)\n",
    "mean_absolute_error(pred, y_val)"
   ]
  },
  {
   "cell_type": "markdown",
   "id": "1916e96e",
   "metadata": {
    "papermill": {
     "duration": 0.02306,
     "end_time": "2021-08-23T09:27:15.247011",
     "exception": false,
     "start_time": "2021-08-23T09:27:15.223951",
     "status": "completed"
    },
    "tags": []
   },
   "source": [
    "### Model predict & submission"
   ]
  },
  {
   "cell_type": "code",
   "execution_count": 14,
   "id": "83b149f6",
   "metadata": {
    "execution": {
     "iopub.execute_input": "2021-08-23T09:27:15.301966Z",
     "iopub.status.busy": "2021-08-23T09:27:15.300963Z",
     "iopub.status.idle": "2021-08-23T09:27:15.321006Z",
     "shell.execute_reply": "2021-08-23T09:27:15.320415Z",
     "shell.execute_reply.started": "2021-08-22T05:31:23.052598Z"
    },
    "papermill": {
     "duration": 0.050697,
     "end_time": "2021-08-23T09:27:15.321155",
     "exception": false,
     "start_time": "2021-08-23T09:27:15.270458",
     "status": "completed"
    },
    "tags": []
   },
   "outputs": [],
   "source": [
    "result = model.predict(label_test)"
   ]
  },
  {
   "cell_type": "code",
   "execution_count": 15,
   "id": "95cd9d43",
   "metadata": {
    "execution": {
     "iopub.execute_input": "2021-08-23T09:27:15.372197Z",
     "iopub.status.busy": "2021-08-23T09:27:15.371561Z",
     "iopub.status.idle": "2021-08-23T09:27:15.374927Z",
     "shell.execute_reply": "2021-08-23T09:27:15.374298Z",
     "shell.execute_reply.started": "2021-08-22T05:33:47.378562Z"
    },
    "papermill": {
     "duration": 0.030608,
     "end_time": "2021-08-23T09:27:15.375064",
     "exception": false,
     "start_time": "2021-08-23T09:27:15.344456",
     "status": "completed"
    },
    "tags": []
   },
   "outputs": [],
   "source": [
    "submission = pd.DataFrame(result,columns=[\"pretest\"], index=label_test.index)"
   ]
  },
  {
   "cell_type": "code",
   "execution_count": 16,
   "id": "9c97473f",
   "metadata": {
    "execution": {
     "iopub.execute_input": "2021-08-23T09:27:15.425341Z",
     "iopub.status.busy": "2021-08-23T09:27:15.424291Z",
     "iopub.status.idle": "2021-08-23T09:27:15.432067Z",
     "shell.execute_reply": "2021-08-23T09:27:15.431456Z",
     "shell.execute_reply.started": "2021-08-22T05:33:58.964584Z"
    },
    "papermill": {
     "duration": 0.034963,
     "end_time": "2021-08-23T09:27:15.432210",
     "exception": false,
     "start_time": "2021-08-23T09:27:15.397247",
     "status": "completed"
    },
    "tags": []
   },
   "outputs": [],
   "source": [
    "submission.to_csv(\"submission.csv\")"
   ]
  }
 ],
 "metadata": {
  "kernelspec": {
   "display_name": "Python 3",
   "language": "python",
   "name": "python3"
  },
  "language_info": {
   "codemirror_mode": {
    "name": "ipython",
    "version": 3
   },
   "file_extension": ".py",
   "mimetype": "text/x-python",
   "name": "python",
   "nbconvert_exporter": "python",
   "pygments_lexer": "ipython3",
   "version": "3.7.10"
  },
  "papermill": {
   "default_parameters": {},
   "duration": 13.908649,
   "end_time": "2021-08-23T09:27:17.220467",
   "environment_variables": {},
   "exception": null,
   "input_path": "__notebook__.ipynb",
   "output_path": "__notebook__.ipynb",
   "parameters": {},
   "start_time": "2021-08-23T09:27:03.311818",
   "version": "2.3.3"
  }
 },
 "nbformat": 4,
 "nbformat_minor": 5
}
