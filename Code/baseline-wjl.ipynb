{
 "cells": [
  {
   "cell_type": "markdown",
   "id": "c7b6202c",
   "metadata": {
    "papermill": {
     "duration": 0.016254,
     "end_time": "2021-08-24T13:08:24.956591",
     "exception": false,
     "start_time": "2021-08-24T13:08:24.940337",
     "status": "completed"
    },
    "tags": []
   },
   "source": [
    "# 1st PCEO AI CLUB competition - Official Baseline\n",
    "## 1회 PCEO AI CLUB 대회 - 공식 베이스라인\n",
    "\n",
    "안녕하세요! 이번 대회 Host 김동규입니다. 이번 대회는 8월에 있었던 AI 집중 교육의 연장선상으로 classical ML 데이터를 이용한 대회입니다. 집중교육 때는 숫자로 이루어진 데이터만 사용했다면, 이번 대회는 대부분 문자로 된 데이터가 중심이 됩니다. categorical variable을 어떻게 잘 변형하고 새로운 feature로 만들어내는지가 중요한 대회입니다.\n",
    "\n",
    "아래는 간단한 베이스라인입니다. 대회에 submission 할 수 있는 최소한의 코드로 구성되어 있습니다. 아래 코드를 기반으로 하여 점수를 향상하고 리더보드의 상단에 위치하여 보세요!\n",
    "\n",
    "**리더보드 1등에게 소정의 상품이 주어집니다**"
   ]
  },
  {
   "cell_type": "markdown",
   "id": "dd497e8c",
   "metadata": {
    "papermill": {
     "duration": 0.015016,
     "end_time": "2021-08-24T13:08:24.987037",
     "exception": false,
     "start_time": "2021-08-24T13:08:24.972021",
     "status": "completed"
    },
    "tags": []
   },
   "source": [
    "### 데이터 및 라이브러리 로드"
   ]
  },
  {
   "cell_type": "code",
   "execution_count": 1,
   "id": "3d736219",
   "metadata": {
    "_cell_guid": "b1076dfc-b9ad-4769-8c92-a6c4dae69d19",
    "_uuid": "8f2839f25d086af736a60e9eeb907d3b93b6e0e5",
    "execution": {
     "iopub.execute_input": "2021-08-24T13:08:25.022119Z",
     "iopub.status.busy": "2021-08-24T13:08:25.020641Z",
     "iopub.status.idle": "2021-08-24T13:08:28.112799Z",
     "shell.execute_reply": "2021-08-24T13:08:28.111639Z",
     "shell.execute_reply.started": "2021-08-24T12:51:58.445468Z"
    },
    "papermill": {
     "duration": 3.1109,
     "end_time": "2021-08-24T13:08:28.112985",
     "exception": false,
     "start_time": "2021-08-24T13:08:25.002085",
     "status": "completed"
    },
    "tags": []
   },
   "outputs": [
    {
     "data": {
      "text/html": [
       "<style type='text/css'>\n",
       ".datatable table.frame { margin-bottom: 0; }\n",
       ".datatable table.frame thead { border-bottom: none; }\n",
       ".datatable table.frame tr.coltypes td {  color: #FFFFFF;  line-height: 6px;  padding: 0 0.5em;}\n",
       ".datatable .bool    { background: #DDDD99; }\n",
       ".datatable .object  { background: #565656; }\n",
       ".datatable .int     { background: #5D9E5D; }\n",
       ".datatable .float   { background: #4040CC; }\n",
       ".datatable .str     { background: #CC4040; }\n",
       ".datatable .time    { background: #40CC40; }\n",
       ".datatable .row_index {  background: var(--jp-border-color3);  border-right: 1px solid var(--jp-border-color0);  color: var(--jp-ui-font-color3);  font-size: 9px;}\n",
       ".datatable .frame tbody td { text-align: left; }\n",
       ".datatable .frame tr.coltypes .row_index {  background: var(--jp-border-color0);}\n",
       ".datatable th:nth-child(2) { padding-left: 12px; }\n",
       ".datatable .hellipsis {  color: var(--jp-cell-editor-border-color);}\n",
       ".datatable .vellipsis {  background: var(--jp-layout-color0);  color: var(--jp-cell-editor-border-color);}\n",
       ".datatable .na {  color: var(--jp-cell-editor-border-color);  font-size: 80%;}\n",
       ".datatable .sp {  opacity: 0.25;}\n",
       ".datatable .footer { font-size: 9px; }\n",
       ".datatable .frame_dimensions {  background: var(--jp-border-color3);  border-top: 1px solid var(--jp-border-color0);  color: var(--jp-ui-font-color3);  display: inline-block;  opacity: 0.6;  padding: 1px 10px 1px 5px;}\n",
       "</style>\n"
      ],
      "text/plain": [
       "<IPython.core.display.HTML object>"
      ]
     },
     "metadata": {},
     "output_type": "display_data"
    }
   ],
   "source": [
    "import numpy as np # linear algebra\n",
    "import pandas as pd # data processing, CSV file I/O (e.g. pd.read_csv)\n",
    "import os\n",
    "from sklearn.model_selection import train_test_split\n",
    "from sklearn.ensemble import RandomForestRegressor\n",
    "from sklearn.preprocessing import OrdinalEncoder\n",
    "from sklearn.metrics import mean_absolute_error\n",
    "from lightgbm import LGBMRegressor"
   ]
  },
  {
   "cell_type": "code",
   "execution_count": 2,
   "id": "06033af8",
   "metadata": {
    "execution": {
     "iopub.execute_input": "2021-08-24T13:08:28.150307Z",
     "iopub.status.busy": "2021-08-24T13:08:28.149501Z",
     "iopub.status.idle": "2021-08-24T13:08:28.201866Z",
     "shell.execute_reply": "2021-08-24T13:08:28.201374Z",
     "shell.execute_reply.started": "2021-08-24T12:52:00.583316Z"
    },
    "papermill": {
     "duration": 0.072296,
     "end_time": "2021-08-24T13:08:28.201989",
     "exception": false,
     "start_time": "2021-08-24T13:08:28.129693",
     "status": "completed"
    },
    "tags": []
   },
   "outputs": [],
   "source": [
    "train = pd.read_csv('../input/pceo-ai-club1/train.csv', index_col=\"student_id\") #반드시 index_col을 student_id로 설정해주세요\n",
    "# 학생마다 고유한 아이디 컬럼을 가져오는 것!\n",
    "\n",
    "\n",
    "test = pd.read_csv('../input/pceo-ai-club1/test.csv', index_col=\"student_id\")\n",
    "sample_submission = pd.read_csv('../input/pceo-ai-club1/sample_submission.csv', index_col=\"student_id\")"
   ]
  },
  {
   "cell_type": "markdown",
   "id": "4221ab9d",
   "metadata": {
    "papermill": {
     "duration": 0.015765,
     "end_time": "2021-08-24T13:08:28.234216",
     "exception": false,
     "start_time": "2021-08-24T13:08:28.218451",
     "status": "completed"
    },
    "tags": []
   },
   "source": [
    "### Super Simple EDA"
   ]
  },
  {
   "cell_type": "code",
   "execution_count": 3,
   "id": "fb1c04b3",
   "metadata": {
    "execution": {
     "iopub.execute_input": "2021-08-24T13:08:28.272028Z",
     "iopub.status.busy": "2021-08-24T13:08:28.271487Z",
     "iopub.status.idle": "2021-08-24T13:08:28.292834Z",
     "shell.execute_reply": "2021-08-24T13:08:28.292356Z",
     "shell.execute_reply.started": "2021-08-24T12:52:02.215283Z"
    },
    "papermill": {
     "duration": 0.042314,
     "end_time": "2021-08-24T13:08:28.292955",
     "exception": false,
     "start_time": "2021-08-24T13:08:28.250641",
     "status": "completed"
    },
    "tags": []
   },
   "outputs": [
    {
     "data": {
      "text/html": [
       "<div>\n",
       "<style scoped>\n",
       "    .dataframe tbody tr th:only-of-type {\n",
       "        vertical-align: middle;\n",
       "    }\n",
       "\n",
       "    .dataframe tbody tr th {\n",
       "        vertical-align: top;\n",
       "    }\n",
       "\n",
       "    .dataframe thead th {\n",
       "        text-align: right;\n",
       "    }\n",
       "</style>\n",
       "<table border=\"1\" class=\"dataframe\">\n",
       "  <thead>\n",
       "    <tr style=\"text-align: right;\">\n",
       "      <th></th>\n",
       "      <th>school</th>\n",
       "      <th>school_setting</th>\n",
       "      <th>school_type</th>\n",
       "      <th>classroom</th>\n",
       "      <th>teaching_method</th>\n",
       "      <th>n_student</th>\n",
       "      <th>gender</th>\n",
       "      <th>lunch</th>\n",
       "      <th>pretest</th>\n",
       "    </tr>\n",
       "    <tr>\n",
       "      <th>student_id</th>\n",
       "      <th></th>\n",
       "      <th></th>\n",
       "      <th></th>\n",
       "      <th></th>\n",
       "      <th></th>\n",
       "      <th></th>\n",
       "      <th></th>\n",
       "      <th></th>\n",
       "      <th></th>\n",
       "    </tr>\n",
       "  </thead>\n",
       "  <tbody>\n",
       "    <tr>\n",
       "      <th>W20C6</th>\n",
       "      <td>GOOBU</td>\n",
       "      <td>Urban</td>\n",
       "      <td>Public</td>\n",
       "      <td>HKF</td>\n",
       "      <td>Standard</td>\n",
       "      <td>28.0</td>\n",
       "      <td>Female</td>\n",
       "      <td>Qualifies for reduced/free lunch</td>\n",
       "      <td>34.0</td>\n",
       "    </tr>\n",
       "    <tr>\n",
       "      <th>A3JJP</th>\n",
       "      <td>GOOBU</td>\n",
       "      <td>Urban</td>\n",
       "      <td>Public</td>\n",
       "      <td>W8A</td>\n",
       "      <td>Experimental</td>\n",
       "      <td>26.0</td>\n",
       "      <td>Female</td>\n",
       "      <td>Qualifies for reduced/free lunch</td>\n",
       "      <td>36.0</td>\n",
       "    </tr>\n",
       "    <tr>\n",
       "      <th>UBDCF</th>\n",
       "      <td>DNQDD</td>\n",
       "      <td>Suburban</td>\n",
       "      <td>Public</td>\n",
       "      <td>PW5</td>\n",
       "      <td>Experimental</td>\n",
       "      <td>20.0</td>\n",
       "      <td>Male</td>\n",
       "      <td>Qualifies for reduced/free lunch</td>\n",
       "      <td>42.0</td>\n",
       "    </tr>\n",
       "    <tr>\n",
       "      <th>QQJEC</th>\n",
       "      <td>GOOBU</td>\n",
       "      <td>Urban</td>\n",
       "      <td>Public</td>\n",
       "      <td>W8A</td>\n",
       "      <td>Experimental</td>\n",
       "      <td>26.0</td>\n",
       "      <td>Female</td>\n",
       "      <td>Qualifies for reduced/free lunch</td>\n",
       "      <td>36.0</td>\n",
       "    </tr>\n",
       "    <tr>\n",
       "      <th>3SWL5</th>\n",
       "      <td>UUUQX</td>\n",
       "      <td>Suburban</td>\n",
       "      <td>Non-public</td>\n",
       "      <td>SSP</td>\n",
       "      <td>Standard</td>\n",
       "      <td>15.0</td>\n",
       "      <td>Female</td>\n",
       "      <td>Does not qualify</td>\n",
       "      <td>66.0</td>\n",
       "    </tr>\n",
       "  </tbody>\n",
       "</table>\n",
       "</div>"
      ],
      "text/plain": [
       "           school school_setting school_type classroom teaching_method  \\\n",
       "student_id                                                               \n",
       "W20C6       GOOBU          Urban      Public       HKF        Standard   \n",
       "A3JJP       GOOBU          Urban      Public       W8A    Experimental   \n",
       "UBDCF       DNQDD       Suburban      Public       PW5    Experimental   \n",
       "QQJEC       GOOBU          Urban      Public       W8A    Experimental   \n",
       "3SWL5       UUUQX       Suburban  Non-public       SSP        Standard   \n",
       "\n",
       "            n_student  gender                             lunch  pretest  \n",
       "student_id                                                                \n",
       "W20C6            28.0  Female  Qualifies for reduced/free lunch     34.0  \n",
       "A3JJP            26.0  Female  Qualifies for reduced/free lunch     36.0  \n",
       "UBDCF            20.0    Male  Qualifies for reduced/free lunch     42.0  \n",
       "QQJEC            26.0  Female  Qualifies for reduced/free lunch     36.0  \n",
       "3SWL5            15.0  Female                  Does not qualify     66.0  "
      ]
     },
     "execution_count": 3,
     "metadata": {},
     "output_type": "execute_result"
    }
   ],
   "source": [
    "train.head()"
   ]
  },
  {
   "cell_type": "markdown",
   "id": "a9733259",
   "metadata": {
    "papermill": {
     "duration": 0.015832,
     "end_time": "2021-08-24T13:08:28.325727",
     "exception": false,
     "start_time": "2021-08-24T13:08:28.309895",
     "status": "completed"
    },
    "tags": []
   },
   "source": [
    "pretest 값이 우리가 예측해야 하는 시험 점수입니다."
   ]
  },
  {
   "cell_type": "code",
   "execution_count": 4,
   "id": "2a1cae8b",
   "metadata": {
    "execution": {
     "iopub.execute_input": "2021-08-24T13:08:28.371500Z",
     "iopub.status.busy": "2021-08-24T13:08:28.370830Z",
     "iopub.status.idle": "2021-08-24T13:08:28.374489Z",
     "shell.execute_reply": "2021-08-24T13:08:28.374914Z",
     "shell.execute_reply.started": "2021-08-24T12:52:06.756562Z"
    },
    "papermill": {
     "duration": 0.033459,
     "end_time": "2021-08-24T13:08:28.375036",
     "exception": false,
     "start_time": "2021-08-24T13:08:28.341577",
     "status": "completed"
    },
    "tags": []
   },
   "outputs": [
    {
     "data": {
      "text/html": [
       "<div>\n",
       "<style scoped>\n",
       "    .dataframe tbody tr th:only-of-type {\n",
       "        vertical-align: middle;\n",
       "    }\n",
       "\n",
       "    .dataframe tbody tr th {\n",
       "        vertical-align: top;\n",
       "    }\n",
       "\n",
       "    .dataframe thead th {\n",
       "        text-align: right;\n",
       "    }\n",
       "</style>\n",
       "<table border=\"1\" class=\"dataframe\">\n",
       "  <thead>\n",
       "    <tr style=\"text-align: right;\">\n",
       "      <th></th>\n",
       "      <th>school</th>\n",
       "      <th>school_setting</th>\n",
       "      <th>school_type</th>\n",
       "      <th>classroom</th>\n",
       "      <th>teaching_method</th>\n",
       "      <th>n_student</th>\n",
       "      <th>gender</th>\n",
       "      <th>lunch</th>\n",
       "    </tr>\n",
       "    <tr>\n",
       "      <th>student_id</th>\n",
       "      <th></th>\n",
       "      <th></th>\n",
       "      <th></th>\n",
       "      <th></th>\n",
       "      <th></th>\n",
       "      <th></th>\n",
       "      <th></th>\n",
       "      <th></th>\n",
       "    </tr>\n",
       "  </thead>\n",
       "  <tbody>\n",
       "    <tr>\n",
       "      <th>MNVG5</th>\n",
       "      <td>VHDHF</td>\n",
       "      <td>Rural</td>\n",
       "      <td>Non-public</td>\n",
       "      <td>KR1</td>\n",
       "      <td>Experimental</td>\n",
       "      <td>15.0</td>\n",
       "      <td>Female</td>\n",
       "      <td>Qualifies for reduced/free lunch</td>\n",
       "    </tr>\n",
       "    <tr>\n",
       "      <th>LB2TH</th>\n",
       "      <td>GJJHK</td>\n",
       "      <td>Suburban</td>\n",
       "      <td>Public</td>\n",
       "      <td>ZDT</td>\n",
       "      <td>Standard</td>\n",
       "      <td>27.0</td>\n",
       "      <td>Male</td>\n",
       "      <td>Qualifies for reduced/free lunch</td>\n",
       "    </tr>\n",
       "    <tr>\n",
       "      <th>ETDRG</th>\n",
       "      <td>CIMBB</td>\n",
       "      <td>Urban</td>\n",
       "      <td>Non-public</td>\n",
       "      <td>PC6</td>\n",
       "      <td>Standard</td>\n",
       "      <td>17.0</td>\n",
       "      <td>Female</td>\n",
       "      <td>Does not qualify</td>\n",
       "    </tr>\n",
       "    <tr>\n",
       "      <th>TME5H</th>\n",
       "      <td>GOKXL</td>\n",
       "      <td>Rural</td>\n",
       "      <td>Public</td>\n",
       "      <td>VA6</td>\n",
       "      <td>Standard</td>\n",
       "      <td>19.0</td>\n",
       "      <td>Female</td>\n",
       "      <td>Qualifies for reduced/free lunch</td>\n",
       "    </tr>\n",
       "    <tr>\n",
       "      <th>G8C0U</th>\n",
       "      <td>QOQTS</td>\n",
       "      <td>Urban</td>\n",
       "      <td>Public</td>\n",
       "      <td>3XJ</td>\n",
       "      <td>Standard</td>\n",
       "      <td>24.0</td>\n",
       "      <td>Female</td>\n",
       "      <td>Does not qualify</td>\n",
       "    </tr>\n",
       "  </tbody>\n",
       "</table>\n",
       "</div>"
      ],
      "text/plain": [
       "           school school_setting school_type classroom teaching_method  \\\n",
       "student_id                                                               \n",
       "MNVG5       VHDHF          Rural  Non-public       KR1    Experimental   \n",
       "LB2TH       GJJHK       Suburban      Public       ZDT        Standard   \n",
       "ETDRG       CIMBB          Urban  Non-public       PC6        Standard   \n",
       "TME5H       GOKXL          Rural      Public       VA6        Standard   \n",
       "G8C0U       QOQTS          Urban      Public       3XJ        Standard   \n",
       "\n",
       "            n_student  gender                             lunch  \n",
       "student_id                                                       \n",
       "MNVG5            15.0  Female  Qualifies for reduced/free lunch  \n",
       "LB2TH            27.0    Male  Qualifies for reduced/free lunch  \n",
       "ETDRG            17.0  Female                  Does not qualify  \n",
       "TME5H            19.0  Female  Qualifies for reduced/free lunch  \n",
       "G8C0U            24.0  Female                  Does not qualify  "
      ]
     },
     "execution_count": 4,
     "metadata": {},
     "output_type": "execute_result"
    }
   ],
   "source": [
    "test.head()"
   ]
  },
  {
   "cell_type": "code",
   "execution_count": 5,
   "id": "7b5f54e0",
   "metadata": {
    "execution": {
     "iopub.execute_input": "2021-08-24T13:08:28.420571Z",
     "iopub.status.busy": "2021-08-24T13:08:28.419990Z",
     "iopub.status.idle": "2021-08-24T13:08:28.425038Z",
     "shell.execute_reply": "2021-08-24T13:08:28.424458Z",
     "shell.execute_reply.started": "2021-08-24T12:52:10.317652Z"
    },
    "papermill": {
     "duration": 0.031084,
     "end_time": "2021-08-24T13:08:28.425146",
     "exception": false,
     "start_time": "2021-08-24T13:08:28.394062",
     "status": "completed"
    },
    "tags": []
   },
   "outputs": [
    {
     "data": {
      "text/plain": [
       "school             False\n",
       "school_setting     False\n",
       "school_type        False\n",
       "classroom          False\n",
       "teaching_method    False\n",
       "n_student          False\n",
       "gender             False\n",
       "lunch              False\n",
       "pretest            False\n",
       "dtype: bool"
      ]
     },
     "execution_count": 5,
     "metadata": {},
     "output_type": "execute_result"
    }
   ],
   "source": [
    "train.isnull().any()"
   ]
  },
  {
   "cell_type": "markdown",
   "id": "7bf4f30a",
   "metadata": {
    "papermill": {
     "duration": 0.017203,
     "end_time": "2021-08-24T13:08:28.460070",
     "exception": false,
     "start_time": "2021-08-24T13:08:28.442867",
     "status": "completed"
    },
    "tags": []
   },
   "source": [
    "위에서 보다시피 데이터에 null 값은 없습니다."
   ]
  },
  {
   "cell_type": "markdown",
   "id": "93ccb952",
   "metadata": {
    "papermill": {
     "duration": 0.017203,
     "end_time": "2021-08-24T13:08:28.494688",
     "exception": false,
     "start_time": "2021-08-24T13:08:28.477485",
     "status": "completed"
    },
    "tags": []
   },
   "source": [
    "### Data Preprocessing"
   ]
  },
  {
   "cell_type": "code",
   "execution_count": 6,
   "id": "87efb49a",
   "metadata": {
    "execution": {
     "iopub.execute_input": "2021-08-24T13:08:28.534356Z",
     "iopub.status.busy": "2021-08-24T13:08:28.533838Z",
     "iopub.status.idle": "2021-08-24T13:08:28.537635Z",
     "shell.execute_reply": "2021-08-24T13:08:28.537218Z",
     "shell.execute_reply.started": "2021-08-24T12:52:11.479718Z"
    },
    "papermill": {
     "duration": 0.025735,
     "end_time": "2021-08-24T13:08:28.537737",
     "exception": false,
     "start_time": "2021-08-24T13:08:28.512002",
     "status": "completed"
    },
    "tags": []
   },
   "outputs": [],
   "source": [
    "y = train.pretest\n",
    "X = train.drop([\"pretest\"], axis=1)"
   ]
  },
  {
   "cell_type": "code",
   "execution_count": 7,
   "id": "407759b7",
   "metadata": {
    "execution": {
     "iopub.execute_input": "2021-08-24T13:08:28.578490Z",
     "iopub.status.busy": "2021-08-24T13:08:28.577543Z",
     "iopub.status.idle": "2021-08-24T13:08:28.583263Z",
     "shell.execute_reply": "2021-08-24T13:08:28.583870Z",
     "shell.execute_reply.started": "2021-08-24T12:52:12.705537Z"
    },
    "papermill": {
     "duration": 0.029256,
     "end_time": "2021-08-24T13:08:28.584041",
     "exception": false,
     "start_time": "2021-08-24T13:08:28.554785",
     "status": "completed"
    },
    "tags": []
   },
   "outputs": [
    {
     "data": {
      "text/plain": [
       "['school',\n",
       " 'school_setting',\n",
       " 'school_type',\n",
       " 'classroom',\n",
       " 'teaching_method',\n",
       " 'gender',\n",
       " 'lunch']"
      ]
     },
     "execution_count": 7,
     "metadata": {},
     "output_type": "execute_result"
    }
   ],
   "source": [
    "s = (X.dtypes == 'object')\n",
    "object_cols = list(s[s].index)\n",
    "object_cols"
   ]
  },
  {
   "cell_type": "markdown",
   "id": "a8edccaf",
   "metadata": {
    "papermill": {
     "duration": 0.030392,
     "end_time": "2021-08-24T13:08:28.643281",
     "exception": false,
     "start_time": "2021-08-24T13:08:28.612889",
     "status": "completed"
    },
    "tags": []
   },
   "source": [
    "n_students 이외의 feature들은 모두 categorical입니다. (cateogical => 문자 형태)"
   ]
  },
  {
   "cell_type": "code",
   "execution_count": 8,
   "id": "5fb13e01",
   "metadata": {
    "execution": {
     "iopub.execute_input": "2021-08-24T13:08:28.726489Z",
     "iopub.status.busy": "2021-08-24T13:08:28.724562Z",
     "iopub.status.idle": "2021-08-24T13:08:28.748974Z",
     "shell.execute_reply": "2021-08-24T13:08:28.749884Z",
     "shell.execute_reply.started": "2021-08-24T12:52:14.345715Z"
    },
    "papermill": {
     "duration": 0.077044,
     "end_time": "2021-08-24T13:08:28.750072",
     "exception": false,
     "start_time": "2021-08-24T13:08:28.673028",
     "status": "completed"
    },
    "tags": []
   },
   "outputs": [],
   "source": [
    "label_X = X.copy()\n",
    "label_test = test.copy()\n",
    "\n",
    "ordinal_encoder = OrdinalEncoder()\n",
    "label_X[object_cols] = ordinal_encoder.fit_transform(X[object_cols])\n",
    "label_test[object_cols] = ordinal_encoder.transform(test[object_cols])"
   ]
  },
  {
   "cell_type": "code",
   "execution_count": 9,
   "id": "a781e4c2",
   "metadata": {
    "execution": {
     "iopub.execute_input": "2021-08-24T13:08:28.818414Z",
     "iopub.status.busy": "2021-08-24T13:08:28.817561Z",
     "iopub.status.idle": "2021-08-24T13:08:28.835345Z",
     "shell.execute_reply": "2021-08-24T13:08:28.836480Z",
     "shell.execute_reply.started": "2021-08-24T12:52:16.031569Z"
    },
    "papermill": {
     "duration": 0.058544,
     "end_time": "2021-08-24T13:08:28.836696",
     "exception": false,
     "start_time": "2021-08-24T13:08:28.778152",
     "status": "completed"
    },
    "tags": []
   },
   "outputs": [
    {
     "data": {
      "text/html": [
       "<div>\n",
       "<style scoped>\n",
       "    .dataframe tbody tr th:only-of-type {\n",
       "        vertical-align: middle;\n",
       "    }\n",
       "\n",
       "    .dataframe tbody tr th {\n",
       "        vertical-align: top;\n",
       "    }\n",
       "\n",
       "    .dataframe thead th {\n",
       "        text-align: right;\n",
       "    }\n",
       "</style>\n",
       "<table border=\"1\" class=\"dataframe\">\n",
       "  <thead>\n",
       "    <tr style=\"text-align: right;\">\n",
       "      <th></th>\n",
       "      <th>school</th>\n",
       "      <th>school_setting</th>\n",
       "      <th>school_type</th>\n",
       "      <th>classroom</th>\n",
       "      <th>teaching_method</th>\n",
       "      <th>n_student</th>\n",
       "      <th>gender</th>\n",
       "      <th>lunch</th>\n",
       "    </tr>\n",
       "    <tr>\n",
       "      <th>student_id</th>\n",
       "      <th></th>\n",
       "      <th></th>\n",
       "      <th></th>\n",
       "      <th></th>\n",
       "      <th></th>\n",
       "      <th></th>\n",
       "      <th></th>\n",
       "      <th></th>\n",
       "    </tr>\n",
       "  </thead>\n",
       "  <tbody>\n",
       "    <tr>\n",
       "      <th>W20C6</th>\n",
       "      <td>8.0</td>\n",
       "      <td>2.0</td>\n",
       "      <td>1.0</td>\n",
       "      <td>45.0</td>\n",
       "      <td>1.0</td>\n",
       "      <td>28.0</td>\n",
       "      <td>0.0</td>\n",
       "      <td>1.0</td>\n",
       "    </tr>\n",
       "    <tr>\n",
       "      <th>A3JJP</th>\n",
       "      <td>8.0</td>\n",
       "      <td>2.0</td>\n",
       "      <td>1.0</td>\n",
       "      <td>83.0</td>\n",
       "      <td>0.0</td>\n",
       "      <td>26.0</td>\n",
       "      <td>0.0</td>\n",
       "      <td>1.0</td>\n",
       "    </tr>\n",
       "    <tr>\n",
       "      <th>UBDCF</th>\n",
       "      <td>4.0</td>\n",
       "      <td>1.0</td>\n",
       "      <td>1.0</td>\n",
       "      <td>65.0</td>\n",
       "      <td>0.0</td>\n",
       "      <td>20.0</td>\n",
       "      <td>1.0</td>\n",
       "      <td>1.0</td>\n",
       "    </tr>\n",
       "    <tr>\n",
       "      <th>QQJEC</th>\n",
       "      <td>8.0</td>\n",
       "      <td>2.0</td>\n",
       "      <td>1.0</td>\n",
       "      <td>83.0</td>\n",
       "      <td>0.0</td>\n",
       "      <td>26.0</td>\n",
       "      <td>0.0</td>\n",
       "      <td>1.0</td>\n",
       "    </tr>\n",
       "    <tr>\n",
       "      <th>3SWL5</th>\n",
       "      <td>17.0</td>\n",
       "      <td>1.0</td>\n",
       "      <td>0.0</td>\n",
       "      <td>73.0</td>\n",
       "      <td>1.0</td>\n",
       "      <td>15.0</td>\n",
       "      <td>0.0</td>\n",
       "      <td>0.0</td>\n",
       "    </tr>\n",
       "  </tbody>\n",
       "</table>\n",
       "</div>"
      ],
      "text/plain": [
       "            school  school_setting  school_type  classroom  teaching_method  \\\n",
       "student_id                                                                    \n",
       "W20C6          8.0             2.0          1.0       45.0              1.0   \n",
       "A3JJP          8.0             2.0          1.0       83.0              0.0   \n",
       "UBDCF          4.0             1.0          1.0       65.0              0.0   \n",
       "QQJEC          8.0             2.0          1.0       83.0              0.0   \n",
       "3SWL5         17.0             1.0          0.0       73.0              1.0   \n",
       "\n",
       "            n_student  gender  lunch  \n",
       "student_id                            \n",
       "W20C6            28.0     0.0    1.0  \n",
       "A3JJP            26.0     0.0    1.0  \n",
       "UBDCF            20.0     1.0    1.0  \n",
       "QQJEC            26.0     0.0    1.0  \n",
       "3SWL5            15.0     0.0    0.0  "
      ]
     },
     "execution_count": 9,
     "metadata": {},
     "output_type": "execute_result"
    }
   ],
   "source": [
    "label_X.head()"
   ]
  },
  {
   "cell_type": "code",
   "execution_count": 10,
   "id": "b55988fa",
   "metadata": {
    "execution": {
     "iopub.execute_input": "2021-08-24T13:08:28.909842Z",
     "iopub.status.busy": "2021-08-24T13:08:28.908946Z",
     "iopub.status.idle": "2021-08-24T13:08:28.927968Z",
     "shell.execute_reply": "2021-08-24T13:08:28.928969Z",
     "shell.execute_reply.started": "2021-08-24T12:52:18.016013Z"
    },
    "papermill": {
     "duration": 0.059754,
     "end_time": "2021-08-24T13:08:28.929156",
     "exception": false,
     "start_time": "2021-08-24T13:08:28.869402",
     "status": "completed"
    },
    "tags": []
   },
   "outputs": [
    {
     "data": {
      "text/html": [
       "<div>\n",
       "<style scoped>\n",
       "    .dataframe tbody tr th:only-of-type {\n",
       "        vertical-align: middle;\n",
       "    }\n",
       "\n",
       "    .dataframe tbody tr th {\n",
       "        vertical-align: top;\n",
       "    }\n",
       "\n",
       "    .dataframe thead th {\n",
       "        text-align: right;\n",
       "    }\n",
       "</style>\n",
       "<table border=\"1\" class=\"dataframe\">\n",
       "  <thead>\n",
       "    <tr style=\"text-align: right;\">\n",
       "      <th></th>\n",
       "      <th>school</th>\n",
       "      <th>school_setting</th>\n",
       "      <th>school_type</th>\n",
       "      <th>classroom</th>\n",
       "      <th>teaching_method</th>\n",
       "      <th>n_student</th>\n",
       "      <th>gender</th>\n",
       "      <th>lunch</th>\n",
       "    </tr>\n",
       "    <tr>\n",
       "      <th>student_id</th>\n",
       "      <th></th>\n",
       "      <th></th>\n",
       "      <th></th>\n",
       "      <th></th>\n",
       "      <th></th>\n",
       "      <th></th>\n",
       "      <th></th>\n",
       "      <th></th>\n",
       "    </tr>\n",
       "  </thead>\n",
       "  <tbody>\n",
       "    <tr>\n",
       "      <th>MNVG5</th>\n",
       "      <td>18.0</td>\n",
       "      <td>0.0</td>\n",
       "      <td>0.0</td>\n",
       "      <td>53.0</td>\n",
       "      <td>0.0</td>\n",
       "      <td>15.0</td>\n",
       "      <td>0.0</td>\n",
       "      <td>1.0</td>\n",
       "    </tr>\n",
       "    <tr>\n",
       "      <th>LB2TH</th>\n",
       "      <td>6.0</td>\n",
       "      <td>1.0</td>\n",
       "      <td>1.0</td>\n",
       "      <td>95.0</td>\n",
       "      <td>1.0</td>\n",
       "      <td>27.0</td>\n",
       "      <td>1.0</td>\n",
       "      <td>1.0</td>\n",
       "    </tr>\n",
       "    <tr>\n",
       "      <th>ETDRG</th>\n",
       "      <td>2.0</td>\n",
       "      <td>2.0</td>\n",
       "      <td>0.0</td>\n",
       "      <td>62.0</td>\n",
       "      <td>1.0</td>\n",
       "      <td>17.0</td>\n",
       "      <td>0.0</td>\n",
       "      <td>0.0</td>\n",
       "    </tr>\n",
       "    <tr>\n",
       "      <th>TME5H</th>\n",
       "      <td>7.0</td>\n",
       "      <td>0.0</td>\n",
       "      <td>1.0</td>\n",
       "      <td>82.0</td>\n",
       "      <td>1.0</td>\n",
       "      <td>19.0</td>\n",
       "      <td>0.0</td>\n",
       "      <td>1.0</td>\n",
       "    </tr>\n",
       "    <tr>\n",
       "      <th>G8C0U</th>\n",
       "      <td>14.0</td>\n",
       "      <td>2.0</td>\n",
       "      <td>1.0</td>\n",
       "      <td>15.0</td>\n",
       "      <td>1.0</td>\n",
       "      <td>24.0</td>\n",
       "      <td>0.0</td>\n",
       "      <td>0.0</td>\n",
       "    </tr>\n",
       "  </tbody>\n",
       "</table>\n",
       "</div>"
      ],
      "text/plain": [
       "            school  school_setting  school_type  classroom  teaching_method  \\\n",
       "student_id                                                                    \n",
       "MNVG5         18.0             0.0          0.0       53.0              0.0   \n",
       "LB2TH          6.0             1.0          1.0       95.0              1.0   \n",
       "ETDRG          2.0             2.0          0.0       62.0              1.0   \n",
       "TME5H          7.0             0.0          1.0       82.0              1.0   \n",
       "G8C0U         14.0             2.0          1.0       15.0              1.0   \n",
       "\n",
       "            n_student  gender  lunch  \n",
       "student_id                            \n",
       "MNVG5            15.0     0.0    1.0  \n",
       "LB2TH            27.0     1.0    1.0  \n",
       "ETDRG            17.0     0.0    0.0  \n",
       "TME5H            19.0     0.0    1.0  \n",
       "G8C0U            24.0     0.0    0.0  "
      ]
     },
     "execution_count": 10,
     "metadata": {},
     "output_type": "execute_result"
    }
   ],
   "source": [
    "label_test.head()"
   ]
  },
  {
   "cell_type": "markdown",
   "id": "b6e42616",
   "metadata": {
    "papermill": {
     "duration": 0.029594,
     "end_time": "2021-08-24T13:08:28.990901",
     "exception": false,
     "start_time": "2021-08-24T13:08:28.961307",
     "status": "completed"
    },
    "tags": []
   },
   "source": [
    "categorical variable을 숫자로 잘 바꾸어 주었습니다. Ordinal Encoder에 대해 잊어버린 분들은 [kaggle course](https://www.kaggle.com/alexisbcook/categorical-variables)를 참고하세요."
   ]
  },
  {
   "cell_type": "code",
   "execution_count": 11,
   "id": "b62be94d",
   "metadata": {
    "execution": {
     "iopub.execute_input": "2021-08-24T13:08:29.058770Z",
     "iopub.status.busy": "2021-08-24T13:08:29.057954Z",
     "iopub.status.idle": "2021-08-24T13:08:29.063547Z",
     "shell.execute_reply": "2021-08-24T13:08:29.064142Z",
     "shell.execute_reply.started": "2021-08-24T12:52:19.694655Z"
    },
    "papermill": {
     "duration": 0.044316,
     "end_time": "2021-08-24T13:08:29.064323",
     "exception": false,
     "start_time": "2021-08-24T13:08:29.020007",
     "status": "completed"
    },
    "tags": []
   },
   "outputs": [],
   "source": [
    "X_train, X_val, y_train, y_val = train_test_split(label_X, y, test_size=0.2, random_state=3)"
   ]
  },
  {
   "cell_type": "markdown",
   "id": "d1bd3a94",
   "metadata": {
    "papermill": {
     "duration": 0.029509,
     "end_time": "2021-08-24T13:08:29.123665",
     "exception": false,
     "start_time": "2021-08-24T13:08:29.094156",
     "status": "completed"
    },
    "tags": []
   },
   "source": [
    "### Model train"
   ]
  },
  {
   "cell_type": "code",
   "execution_count": 12,
   "id": "013455c2",
   "metadata": {
    "execution": {
     "iopub.execute_input": "2021-08-24T13:08:29.212755Z",
     "iopub.status.busy": "2021-08-24T13:08:29.207628Z",
     "iopub.status.idle": "2021-08-24T13:08:29.536572Z",
     "shell.execute_reply": "2021-08-24T13:08:29.537342Z",
     "shell.execute_reply.started": "2021-08-24T12:53:36.249558Z"
    },
    "papermill": {
     "duration": 0.384999,
     "end_time": "2021-08-24T13:08:29.537533",
     "exception": false,
     "start_time": "2021-08-24T13:08:29.152534",
     "status": "completed"
    },
    "tags": []
   },
   "outputs": [
    {
     "data": {
      "text/plain": [
       "LGBMRegressor()"
      ]
     },
     "execution_count": 12,
     "metadata": {},
     "output_type": "execute_result"
    }
   ],
   "source": [
    "# RandomForestRegressor\n",
    "RFG_model = RandomForestRegressor()\n",
    "RFG_model.fit(X_train, y_train)\n",
    "\n",
    "#LightBGM\n",
    "LGBM_model = LGBMRegressor()\n",
    "LGBM_model.fit(X_train, y_train)"
   ]
  },
  {
   "cell_type": "code",
   "execution_count": 13,
   "id": "b936928a",
   "metadata": {
    "execution": {
     "iopub.execute_input": "2021-08-24T13:08:29.582316Z",
     "iopub.status.busy": "2021-08-24T13:08:29.581396Z",
     "iopub.status.idle": "2021-08-24T13:08:29.603909Z",
     "shell.execute_reply": "2021-08-24T13:08:29.604793Z",
     "shell.execute_reply.started": "2021-08-24T12:58:09.770708Z"
    },
    "papermill": {
     "duration": 0.047932,
     "end_time": "2021-08-24T13:08:29.604967",
     "exception": false,
     "start_time": "2021-08-24T13:08:29.557035",
     "status": "completed"
    },
    "tags": []
   },
   "outputs": [
    {
     "name": "stdout",
     "output_type": "stream",
     "text": [
      "2.7164724595843515\n",
      "2.7360391804497777\n"
     ]
    }
   ],
   "source": [
    "RFG_pred = RFG_model.predict(X_val)\n",
    "print(mean_absolute_error(RFG_pred, y_val))\n",
    "\n",
    "LGBM_pred = LGBM_model.predict(X_val)\n",
    "print(mean_absolute_error(LGBM_pred, y_val))"
   ]
  },
  {
   "cell_type": "markdown",
   "id": "9cea2697",
   "metadata": {
    "papermill": {
     "duration": 0.018837,
     "end_time": "2021-08-24T13:08:29.646665",
     "exception": false,
     "start_time": "2021-08-24T13:08:29.627828",
     "status": "completed"
    },
    "tags": []
   },
   "source": [
    "### Model predict & submission"
   ]
  },
  {
   "cell_type": "code",
   "execution_count": 14,
   "id": "3a8d0630",
   "metadata": {
    "execution": {
     "iopub.execute_input": "2021-08-24T13:08:29.692477Z",
     "iopub.status.busy": "2021-08-24T13:08:29.691604Z",
     "iopub.status.idle": "2021-08-24T13:08:29.709097Z",
     "shell.execute_reply": "2021-08-24T13:08:29.709486Z",
     "shell.execute_reply.started": "2021-08-24T13:07:58.663015Z"
    },
    "papermill": {
     "duration": 0.044298,
     "end_time": "2021-08-24T13:08:29.709622",
     "exception": false,
     "start_time": "2021-08-24T13:08:29.665324",
     "status": "completed"
    },
    "tags": []
   },
   "outputs": [],
   "source": [
    "RFG_result = RFG_model.predict(label_test)\n",
    "\n",
    "\n",
    "\n",
    "LGBM_result = LGBM_model.predict(label_test)"
   ]
  },
  {
   "cell_type": "code",
   "execution_count": 15,
   "id": "95589a01",
   "metadata": {
    "execution": {
     "iopub.execute_input": "2021-08-24T13:08:29.753777Z",
     "iopub.status.busy": "2021-08-24T13:08:29.753091Z",
     "iopub.status.idle": "2021-08-24T13:08:29.755882Z",
     "shell.execute_reply": "2021-08-24T13:08:29.755488Z",
     "shell.execute_reply.started": "2021-08-24T13:07:59.609134Z"
    },
    "papermill": {
     "duration": 0.024732,
     "end_time": "2021-08-24T13:08:29.755989",
     "exception": false,
     "start_time": "2021-08-24T13:08:29.731257",
     "status": "completed"
    },
    "tags": []
   },
   "outputs": [],
   "source": [
    "submission = pd.DataFrame(LGBM_result,columns=[\"pretest\"], index=label_test.index)"
   ]
  },
  {
   "cell_type": "code",
   "execution_count": 16,
   "id": "aba9a49c",
   "metadata": {
    "execution": {
     "iopub.execute_input": "2021-08-24T13:08:29.797985Z",
     "iopub.status.busy": "2021-08-24T13:08:29.797459Z",
     "iopub.status.idle": "2021-08-24T13:08:29.803889Z",
     "shell.execute_reply": "2021-08-24T13:08:29.803480Z",
     "shell.execute_reply.started": "2021-08-24T13:08:00.696404Z"
    },
    "papermill": {
     "duration": 0.029083,
     "end_time": "2021-08-24T13:08:29.803998",
     "exception": false,
     "start_time": "2021-08-24T13:08:29.774915",
     "status": "completed"
    },
    "tags": []
   },
   "outputs": [],
   "source": [
    "submission.to_csv(\"submission.csv\")"
   ]
  }
 ],
 "metadata": {
  "kernelspec": {
   "display_name": "Python 3",
   "language": "python",
   "name": "python3"
  },
  "language_info": {
   "codemirror_mode": {
    "name": "ipython",
    "version": 3
   },
   "file_extension": ".py",
   "mimetype": "text/x-python",
   "name": "python",
   "nbconvert_exporter": "python",
   "pygments_lexer": "ipython3",
   "version": "3.7.10"
  },
  "papermill": {
   "default_parameters": {},
   "duration": 13.64337,
   "end_time": "2021-08-24T13:08:31.634373",
   "environment_variables": {},
   "exception": null,
   "input_path": "__notebook__.ipynb",
   "output_path": "__notebook__.ipynb",
   "parameters": {},
   "start_time": "2021-08-24T13:08:17.991003",
   "version": "2.3.3"
  }
 },
 "nbformat": 4,
 "nbformat_minor": 5
}
